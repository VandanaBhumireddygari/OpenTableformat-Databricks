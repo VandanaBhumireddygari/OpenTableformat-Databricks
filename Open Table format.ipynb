{
 "cells": [
  {
   "cell_type": "code",
   "execution_count": 0,
   "metadata": {
    "application/vnd.databricks.v1+cell": {
     "cellMetadata": {
      "byteLimit": 2048000,
      "implicitDf": true,
      "rowLimit": 10000
     },
     "inputWidgets": {},
     "nuid": "ad891ebc-adde-4c61-8ed7-9c45485dcfc2",
     "showTitle": false,
     "tableResultSettingsMap": {},
     "title": ""
    }
   },
   "outputs": [
    {
     "output_type": "display_data",
     "data": {
      "text/html": [
       "<style scoped>\n",
       "  .table-result-container {\n",
       "    max-height: 300px;\n",
       "    overflow: auto;\n",
       "  }\n",
       "  table, th, td {\n",
       "    border: 1px solid black;\n",
       "    border-collapse: collapse;\n",
       "  }\n",
       "  th, td {\n",
       "    padding: 5px;\n",
       "  }\n",
       "  th {\n",
       "    text-align: left;\n",
       "  }\n",
       "</style><div class='table-result-container'><table class='table-result'><thead style='background-color: white'><tr><th>_c0</th><th>_c1</th><th>_c2</th><th>_c3</th><th>_c4</th><th>_c5</th><th>_c6</th><th>_c7</th><th>_c8</th><th>_c9</th><th>_c10</th><th>_c11</th></tr></thead><tbody><tr><td>Branch_ID</td><td>Dealer_ID</td><td>Model_ID</td><td>Revenue</td><td>Units_Sold</td><td>Date_ID</td><td>Month</td><td>Year</td><td>BranchName</td><td>DealerName</td><td>Product_Name</td><td>Date</td></tr><tr><td>BR0006</td><td>DLR0168</td><td>Ren-M128</td><td>12971088</td><td>3</td><td>DT01236</td><td>5</td><td>2020</td><td>AC Cars Motors</td><td>Saab Motors</td><td>Renault</td><td>5/20/2020 0:00</td></tr><tr><td>BR0011</td><td>DLR0069</td><td>Vol-M256</td><td>14181510</td><td>3</td><td>DT01225</td><td>5</td><td>2020</td><td>Acura Motors</td><td>Geo Motors</td><td>Volkswagen</td><td>5/9/2020 0:00</td></tr><tr><td>BR0021</td><td>DLR0070</td><td>Vol-M257</td><td>7738896</td><td>1</td><td>DT01226</td><td>5</td><td>2020</td><td>Aixam-Mega (including Arola) Motors</td><td>Gilbern Motors</td><td>Volkswagen</td><td>5/10/2020 0:00</td></tr><tr><td>BR0031</td><td>DLR0071</td><td>Vol-M258</td><td>10067596</td><td>2</td><td>DT01227</td><td>5</td><td>2020</td><td>Alfa Romeo Motors</td><td>Ginetta Motors</td><td>Volkswagen</td><td>5/11/2020 0:00</td></tr><tr><td>BR0041</td><td>DLR0072</td><td>Vol-M259</td><td>13055810</td><td>2</td><td>DT01228</td><td>5</td><td>2020</td><td>Alpine Motors</td><td>Glas Motors</td><td>Volkswagen</td><td>5/12/2020 0:00</td></tr><tr><td>BR0051</td><td>DLR0073</td><td>Vol-M260</td><td>2224368</td><td>1</td><td>DT01229</td><td>5</td><td>2020</td><td>Alvis Motors</td><td>GMC Motors</td><td>Volkswagen</td><td>5/13/2020 0:00</td></tr><tr><td>BR0061</td><td>DLR0074</td><td>Nis-M261</td><td>11270580</td><td>3</td><td>DT01230</td><td>5</td><td>2020</td><td>AMC, Eagle Motors</td><td>GTA Spano Motors</td><td>Nissan</td><td>5/14/2020 0:00</td></tr><tr><td>BR0066</td><td>DLR0169</td><td>Ren-M129</td><td>693559</td><td>1</td><td>DT01237</td><td>5</td><td>2020</td><td>Acura Motors</td><td>SAIC Motor Motors</td><td>Renault</td><td>5/21/2020 0:00</td></tr><tr><td>BR0071</td><td>DLR0075</td><td>Nis-M262</td><td>18784710</td><td>3</td><td>DT01231</td><td>5</td><td>2020</td><td>Anadol Motors</td><td>Gumpert Motors</td><td>Nissan</td><td>5/15/2020 0:00</td></tr><tr><td>BR0081</td><td>DLR0076</td><td>Nis-M263</td><td>2354637</td><td>3</td><td>DT01232</td><td>5</td><td>2020</td><td>Ariel Motors</td><td>Healey Motors</td><td>Nissan</td><td>5/16/2020 0:00</td></tr><tr><td>BR0121</td><td>DLR0080</td><td>Nis-M267</td><td>5421046</td><td>2</td><td>DT01236</td><td>5</td><td>2020</td><td>Aston Martin Motors</td><td>Hindustan Motors</td><td>Nissan</td><td>5/20/2020 0:00</td></tr><tr><td>BR0126</td><td>DLR0170</td><td>Ren-M130</td><td>8445560</td><td>2</td><td>DT01238</td><td>5</td><td>2020</td><td>Aixam-Mega (including Arola) Motors</td><td>Saleen Motors</td><td>Renault</td><td>5/22/2020 0:00</td></tr><tr><td>BR0131</td><td>DLR0081</td><td>Nis-M268</td><td>28034733</td><td>3</td><td>DT01237</td><td>5</td><td>2020</td><td>Audi Motors</td><td>Holden Motors</td><td>Nissan</td><td>5/21/2020 0:00</td></tr><tr><td>BR0141</td><td>DLR0082</td><td>Nis-M269</td><td>17522592</td><td>2</td><td>DT01238</td><td>5</td><td>2020</td><td>Autobianchi Motors</td><td>Honda Motors</td><td>Nissan</td><td>5/22/2020 0:00</td></tr><tr><td>BR0151</td><td>DLR0083</td><td>Nis-M270</td><td>25901364</td><td>3</td><td>DT01239</td><td>5</td><td>2020</td><td>Auto-Union Motors</td><td>Honda India Motors</td><td>Nissan</td><td>5/23/2020 0:00</td></tr><tr><td>BR0181</td><td>DLR0086</td><td>Sko-M273</td><td>7915343</td><td>1</td><td>DT01242</td><td>5</td><td>2020</td><td>Bitter Motors</td><td>Hummer Motors</td><td>Skoda</td><td>5/26/2020 0:00</td></tr><tr><td>BR0186</td><td>DLR0171</td><td>Ren-M131</td><td>7078128</td><td>1</td><td>DT01239</td><td>5</td><td>2020</td><td>Alfa Romeo Motors</td><td>Samsung Motors</td><td>Renault</td><td>5/23/2020 0:00</td></tr><tr><td>BR0191</td><td>DLR0087</td><td>Sko-M274</td><td>24183663</td><td>3</td><td>DT01243</td><td>5</td><td>2020</td><td>BMW Motors</td><td>Hyundai Motors</td><td>Skoda</td><td>5/27/2020 0:00</td></tr><tr><td>BR0201</td><td>DLR0088</td><td>Mit-M275</td><td>847952</td><td>2</td><td>DT01244</td><td>5</td><td>2020</td><td>Bond Motors</td><td>IFA (including Trabant, Wartburg, Barkas) Motors</td><td>Mitsubishi</td><td>5/28/2020 0:00</td></tr><tr><td>BR0211</td><td>DLR0089</td><td>Mit-M276</td><td>2887860</td><td>1</td><td>DT01245</td><td>5</td><td>2020</td><td>Borgward (including Goliath and Lloyd) Motors</td><td>Infiniti Motors</td><td>Mitsubishi</td><td>5/29/2020 0:00</td></tr><tr><td>BR0221</td><td>DLR0090</td><td>Mit-M277</td><td>24243636</td><td>3</td><td>DT01246</td><td>5</td><td>2020</td><td>Bristol Motors</td><td>null</td><td>Mitsubishi</td><td>5/30/2020 0:00</td></tr><tr><td>BR0306</td><td>DLR0173</td><td>Toy-M133</td><td>12612492</td><td>3</td><td>DT01241</td><td>5</td><td>2020</td><td>Alvis Motors</td><td>Santa Matilde Motors</td><td>Toyota</td><td>5/25/2020 0:00</td></tr><tr><td>BR0426</td><td>DLR0175</td><td>Vol-M135</td><td>7718804</td><td>1</td><td>DT01243</td><td>5</td><td>2020</td><td>Anadol Motors</td><td>Saturn Motors</td><td>Volkswagen</td><td>5/27/2020 0:00</td></tr><tr><td>BR0486</td><td>DLR0176</td><td>Vol-M136</td><td>9950264</td><td>1</td><td>DT01244</td><td>5</td><td>2020</td><td>Ariel Motors</td><td>Scion Motors</td><td>Volkswagen</td><td>5/28/2020 0:00</td></tr><tr><td>BR0546</td><td>DLR0177</td><td>Mar-M137</td><td>11543998</td><td>2</td><td>DT01245</td><td>5</td><td>2020</td><td>ARO Motors</td><td>Seat Motors</td><td>Maruti Suzuki</td><td>5/29/2020 0:00</td></tr><tr><td>BR0606</td><td>DLR0178</td><td>Mar-M138</td><td>14029425</td><td>3</td><td>DT01246</td><td>5</td><td>2020</td><td>Artega Motors</td><td>Shelby SuperCars Motors</td><td>Maruti Suzuki</td><td>5/30/2020 0:00</td></tr><tr><td>BR0666</td><td>DLR0179</td><td>Mar-M139</td><td>16170344</td><td>2</td><td>DT01247</td><td>5</td><td>2020</td><td>Asia Motors Motors</td><td>Simca Motors</td><td>Maruti Suzuki</td><td>5/31/2020 0:00</td></tr><tr><td>BR1075</td><td>DLR0028</td><td>Nis-M265</td><td>946626</td><td>1</td><td>DT01096</td><td>1</td><td>2020</td><td>Lexus Motors</td><td>Buick Motors</td><td>Nissan</td><td>1/1/2020 0:00</td></tr><tr><td>BR1105</td><td>DLR0031</td><td>Nis-M268</td><td>2349414</td><td>3</td><td>DT01099</td><td>1</td><td>2020</td><td>Lotus Motors</td><td>Caterham Motors</td><td>Nissan</td><td>1/4/2020 0:00</td></tr><tr><td>BR1125</td><td>DLR0033</td><td>Nis-M270</td><td>5501066</td><td>2</td><td>DT01101</td><td>1</td><td>2020</td><td>LuAZ Motors</td><td>Chevrolet Motors</td><td>Nissan</td><td>1/6/2020 0:00</td></tr><tr><td>BR1135</td><td>DLR0034</td><td>Sko-M271</td><td>15299630</td><td>2</td><td>DT01102</td><td>1</td><td>2020</td><td>Lynx Motors</td><td>Chevrolet India Motors</td><td>Skoda</td><td>1/7/2020 0:00</td></tr><tr><td>BR1145</td><td>DLR0035</td><td>Sko-M272</td><td>573260</td><td>1</td><td>DT01103</td><td>1</td><td>2020</td><td>Mahindra Motors</td><td>Chrysler Motors</td><td>Skoda</td><td>1/8/2020 0:00</td></tr><tr><td>BR1155</td><td>DLR0036</td><td>Sko-M273</td><td>6991308</td><td>2</td><td>DT01104</td><td>1</td><td>2020</td><td>Marcos Motors</td><td>Chrysler Europe Motors</td><td>Skoda</td><td>1/9/2020 0:00</td></tr><tr><td>BR1165</td><td>DLR0037</td><td>Sko-M274</td><td>4594208</td><td>1</td><td>DT01105</td><td>1</td><td>2020</td><td>Marlin Motors</td><td>Citroën Motors</td><td>Skoda</td><td>1/10/2020 0:00</td></tr><tr><td>BR1175</td><td>DLR0038</td><td>Mit-M275</td><td>6379479</td><td>3</td><td>DT01106</td><td>1</td><td>2020</td><td>Maruti Motors</td><td>Cizeta-Moroder Motors</td><td>Mitsubishi</td><td>1/11/2020 0:00</td></tr><tr><td>BR1195</td><td>DLR0040</td><td>Mit-M277</td><td>12731434</td><td>2</td><td>DT01108</td><td>1</td><td>2020</td><td>Mastretta Motors</td><td>Daewoo, Saehan, Chevrolet Korea Motors</td><td>Mitsubishi</td><td>1/13/2020 0:00</td></tr><tr><td>BR1200</td><td>DLR0207</td><td>Ren-M127</td><td>5217794</td><td>1</td><td>DT01096</td><td>1</td><td>2020</td><td>Mastretta Motors</td><td>Westfield Motors</td><td>Renault</td><td>1/1/2020 0:00</td></tr><tr><td>BR1205</td><td>DLR0041</td><td>BMW-M1</td><td>20119176</td><td>3</td><td>DT01109</td><td>1</td><td>2020</td><td>Matra (including Deutsch-Bonnet, René Bonnet) Motors</td><td>DAF Motors</td><td>BMW</td><td>1/14/2020 0:00</td></tr><tr><td>BR1210</td><td>DLR0208</td><td>Ren-M128</td><td>9250976</td><td>2</td><td>DT01097</td><td>1</td><td>2020</td><td>Matra (including Deutsch-Bonnet, René Bonnet) Motors</td><td>Wiesmann Motors</td><td>Renault</td><td>1/2/2020 0:00</td></tr><tr><td>BR1215</td><td>DLR0042</td><td>BMW-M2</td><td>12564672</td><td>3</td><td>DT01110</td><td>1</td><td>2020</td><td>Mazda Motors</td><td>Daihatsu Motors</td><td>BMW</td><td>1/15/2020 0:00</td></tr><tr><td>BR1220</td><td>DLR0209</td><td>Ren-M129</td><td>3678913</td><td>1</td><td>DT01098</td><td>1</td><td>2020</td><td>Mazda Motors</td><td>Zastava Motors</td><td>Renault</td><td>1/3/2020 0:00</td></tr><tr><td>BR1230</td><td>DLR0210</td><td>Ren-M130</td><td>16850778</td><td>2</td><td>DT01099</td><td>1</td><td>2020</td><td>Mazzanti Motors</td><td>ZAZ Motors</td><td>Renault</td><td>1/4/2020 0:00</td></tr><tr><td>BR1235</td><td>DLR0044</td><td>BMW-M4</td><td>7034814</td><td>2</td><td>DT01112</td><td>1</td><td>2020</td><td>McLaren Motors</td><td>null</td><td>BMW</td><td>1/17/2020 0:00</td></tr><tr><td>BR1240</td><td>DLR0211</td><td>Ren-M131</td><td>2717264</td><td>1</td><td>DT01100</td><td>1</td><td>2020</td><td>McLaren Motors</td><td>ZIL Motors</td><td>Renault</td><td>1/5/2020 0:00</td></tr><tr><td>BR1245</td><td>DLR0045</td><td>BMW-M5</td><td>3141089</td><td>1</td><td>DT01113</td><td>1</td><td>2020</td><td>Mercedes-Benz (including Maybach) Motors</td><td>Delahaye Motors</td><td>BMW</td><td>1/18/2020 0:00</td></tr><tr><td>BR1255</td><td>DLR0046</td><td>Mer-M6</td><td>4815214</td><td>2</td><td>DT01114</td><td>1</td><td>2020</td><td>Mercury Motors</td><td>DeLorean Motors</td><td>Mercedes-Benz</td><td>1/19/2020 0:00</td></tr><tr><td>BR1270</td><td>DLR0214</td><td>Toy-M134</td><td>22982112</td><td>3</td><td>DT01103</td><td>1</td><td>2020</td><td>Merkur Motors</td><td>Horch Motors</td><td>Toyota</td><td>1/8/2020 0:00</td></tr><tr><td>BR1275</td><td>DLR0048</td><td>Mer-M8</td><td>1681622</td><td>1</td><td>DT01116</td><td>1</td><td>2020</td><td>Messerschmitt Motors</td><td>De Tomaso Motors</td><td>Mercedes-Benz</td><td>1/21/2020 0:00</td></tr><tr><td>BR1290</td><td>DLR0216</td><td>Vol-M136</td><td>19641387</td><td>3</td><td>DT01105</td><td>1</td><td>2020</td><td>Mia Motors</td><td>Maybach  Motors</td><td>Volkswagen</td><td>1/10/2020 0:00</td></tr><tr><td>BR1295</td><td>DLR0050</td><td>Jee-M10</td><td>14558850</td><td>2</td><td>DT01118</td><td>1</td><td>2020</td><td>Micro Motors</td><td>Donkervoort Motors</td><td>Jeep</td><td>1/23/2020 0:00</td></tr><tr><td>BR1300</td><td>DLR0217</td><td>Mar-M137</td><td>8749140</td><td>3</td><td>DT01106</td><td>1</td><td>2020</td><td>Micro Motors</td><td>Izh  Motors</td><td>Maruti Suzuki</td><td>1/11/2020 0:00</td></tr><tr><td>BR1305</td><td>DLR0051</td><td>Jee-M11</td><td>4375707</td><td>3</td><td>DT01119</td><td>1</td><td>2020</td><td>Mini Motors</td><td>Edsel Motors</td><td>Jeep</td><td>1/24/2020 0:00</td></tr><tr><td>BR1310</td><td>DLR0218</td><td>Mar-M138</td><td>1791030</td><td>1</td><td>DT01107</td><td>1</td><td>2020</td><td>Mini Motors</td><td>Lagonda  Motors</td><td>Maruti Suzuki</td><td>1/12/2020 0:00</td></tr><tr><td>BR1315</td><td>DLR0052</td><td>Jee-M12</td><td>6981696</td><td>3</td><td>DT01120</td><td>1</td><td>2020</td><td>Mitsubishi Motors</td><td>e.GO Mobile Motors</td><td>Jeep</td><td>1/25/2020 0:00</td></tr><tr><td>BR1320</td><td>DLR0219</td><td>Mar-M139</td><td>15720604</td><td>2</td><td>DT01108</td><td>1</td><td>2020</td><td>Mitsubishi Motors</td><td>MG  Motors</td><td>Maruti Suzuki</td><td>1/13/2020 0:00</td></tr><tr><td>BR1325</td><td>DLR0053</td><td>Jee-M13</td><td>11820578</td><td>2</td><td>DT01121</td><td>1</td><td>2020</td><td>Monica Motors</td><td>Eicher Polaris Motors</td><td>Jeep</td><td>1/26/2020 0:00</td></tr><tr><td>BR1330</td><td>DLR0220</td><td>Mar-M140</td><td>4505054</td><td>2</td><td>DT01109</td><td>1</td><td>2020</td><td>Monica Motors</td><td>Morris  Motors</td><td>Maruti Suzuki</td><td>1/14/2020 0:00</td></tr><tr><td>BR1340</td><td>DLR0221</td><td>Mar-M141</td><td>7636791</td><td>1</td><td>DT01110</td><td>1</td><td>2020</td><td>Monteverdi Motors</td><td>Austin  Motors</td><td>Maruti Suzuki</td><td>1/15/2020 0:00</td></tr><tr><td>BR1360</td><td>DLR0223</td><td>Mar-M143</td><td>10719476</td><td>2</td><td>DT01112</td><td>1</td><td>2020</td><td>Moskwitch Motors</td><td>Wolseley  Motors</td><td>Maruti Suzuki</td><td>1/17/2020 0:00</td></tr><tr><td>BR1365</td><td>DLR0057</td><td>For-M17</td><td>1729269</td><td>1</td><td>DT01125</td><td>1</td><td>2020</td><td>Nash Motors</td><td>Fiat Motors</td><td>Ford</td><td>1/30/2020 0:00</td></tr><tr><td>BR1370</td><td>DLR0224</td><td>Mar-M144</td><td>22596384</td><td>3</td><td>DT01113</td><td>1</td><td>2020</td><td>Nash Motors</td><td>Standard  Motors</td><td>Maruti Suzuki</td><td>1/18/2020 0:00</td></tr><tr><td>BR1380</td><td>DLR0225</td><td>Mar-M145</td><td>5143059</td><td>3</td><td>DT01114</td><td>1</td><td>2020</td><td>Naza Motors</td><td>Talbot  Motors</td><td>Maruti Suzuki</td><td>1/19/2020 0:00</td></tr><tr><td>BR1390</td><td>DLR0226</td><td>Mar-M146</td><td>18375622</td><td>2</td><td>DT01115</td><td>1</td><td>2020</td><td>Nissan Motors</td><td>Das Motors</td><td>Maruti Suzuki</td><td>1/20/2020 0:00</td></tr><tr><td>BR1395</td><td>DLR0060</td><td>For-M20</td><td>3826662</td><td>2</td><td>DT01128</td><td>2</td><td>2020</td><td>Nissan India Motors</td><td>Fisker, Karma Motors</td><td>Ford</td><td>2/2/2020 0:00</td></tr><tr><td>BR1405</td><td>DLR0061</td><td>For-M21</td><td>8119439</td><td>1</td><td>DT01129</td><td>2</td><td>2020</td><td>Noble Motors</td><td>Ford America Motors</td><td>Ford</td><td>2/3/2020 0:00</td></tr><tr><td>BR1410</td><td>DLR0228</td><td>Mar-M148</td><td>22715907</td><td>3</td><td>DT01117</td><td>1</td><td>2020</td><td>Noble Motors</td><td>Deccan Motors</td><td>Maruti Suzuki</td><td>1/22/2020 0:00</td></tr><tr><td>BR1420</td><td>DLR0229</td><td>Mar-M149</td><td>3362029</td><td>1</td><td>DT01118</td><td>1</td><td>2020</td><td>NSU Motors</td><td>Herald Motors</td><td>Maruti Suzuki</td><td>1/23/2020 0:00</td></tr><tr><td>BR1425</td><td>DLR0063</td><td>For-M23</td><td>19571838</td><td>3</td><td>DT01131</td><td>2</td><td>2020</td><td>Oldsmobile Motors</td><td>Ford do Brasil Motors</td><td>Ford</td><td>2/5/2020 0:00</td></tr><tr><td>BR1435</td><td>DLR0064</td><td>For-M24</td><td>8184657</td><td>1</td><td>DT01132</td><td>2</td><td>2020</td><td>Oltcit Motors</td><td>Ford Europe Motors</td><td>Ford</td><td>2/6/2020 0:00</td></tr><tr><td>BR1440</td><td>DLR0231</td><td>Mar-M151</td><td>12650379</td><td>3</td><td>DT01120</td><td>1</td><td>2020</td><td>Oltcit Motors</td><td>Atlantic Motor Company</td><td>Maruti Suzuki</td><td>1/25/2020 0:00</td></tr><tr><td>BR1445</td><td>DLR0065</td><td>For-M25</td><td>17788070</td><td>2</td><td>DT01133</td><td>2</td><td>2020</td><td>Opel Motors</td><td>Ford India Motors</td><td>Ford</td><td>2/7/2020 0:00</td></tr><tr><td>BR1450</td><td>DLR0232</td><td>Mar-M152</td><td>19474533</td><td>3</td><td>DT01121</td><td>1</td><td>2020</td><td>Opel Motors</td><td>2008 NRHP-listed</td><td>Maruti Suzuki</td><td>1/26/2020 0:00</td></tr><tr><td>BR1455</td><td>DLR0066</td><td>For-M26</td><td>5109932</td><td>2</td><td>DT01134</td><td>2</td><td>2020</td><td>Packard Motors</td><td>Freightliner Motors</td><td>Ford</td><td>2/8/2020 0:00</td></tr><tr><td>BR1460</td><td>DLR0233</td><td>Hyu-M153</td><td>5377184</td><td>2</td><td>DT01122</td><td>1</td><td>2020</td><td>Packard Motors</td><td>Blankinship Motor Company Building</td><td>Hyundai</td><td>1/27/2020 0:00</td></tr><tr><td>BR1465</td><td>DLR0067</td><td>Lin-M27</td><td>756130</td><td>2</td><td>DT01135</td><td>2</td><td>2020</td><td>Pagani Motors</td><td>FSO Motors</td><td>Lincoln</td><td>2/9/2020 0:00</td></tr><tr><td>BR1475</td><td>DLR0068</td><td>Lin-M28</td><td>14722240</td><td>2</td><td>DT01136</td><td>2</td><td>2020</td><td>Panhard Motors</td><td>GAZ Motors</td><td>Lincoln</td><td>2/10/2020 0:00</td></tr><tr><td>BR1480</td><td>DLR0235</td><td>Hyu-M155</td><td>16603584</td><td>2</td><td>DT01124</td><td>1</td><td>2020</td><td>Panhard Motors</td><td>Buick Automobile Company Building</td><td>Hyundai</td><td>1/29/2020 0:00</td></tr><tr><td>BR1485</td><td>DLR0069</td><td>Lin-M29</td><td>6430716</td><td>1</td><td>DT01137</td><td>2</td><td>2020</td><td>Panoz Motors</td><td>Geo Motors</td><td>Lincoln</td><td>2/11/2020 0:00</td></tr><tr><td>BR1495</td><td>DLR0070</td><td>Lin-M30</td><td>3396415</td><td>1</td><td>DT01138</td><td>2</td><td>2020</td><td>Panther Motors</td><td>Gilbern Motors</td><td>Lincoln</td><td>2/12/2020 0:00</td></tr><tr><td>BR1510</td><td>DLR0238</td><td>Hyu-M158</td><td>21888990</td><td>3</td><td>DT01127</td><td>2</td><td>2020</td><td>Peel Motors</td><td>Cass Motor Sales</td><td>Hyundai</td><td>2/1/2020 0:00</td></tr><tr><td>BR1515</td><td>DLR0072</td><td>Cad-M32</td><td>14614923</td><td>3</td><td>DT01140</td><td>2</td><td>2020</td><td>Perodua Motors</td><td>Glas Motors</td><td>Cadillac</td><td>2/14/2020 0:00</td></tr><tr><td>BR1520</td><td>DLR0239</td><td>Hyu-M159</td><td>28839432</td><td>3</td><td>DT01128</td><td>2</td><td>2020</td><td>Perodua Motors</td><td>Claremore Auto Dealership</td><td>Hyundai</td><td>2/2/2020 0:00</td></tr><tr><td>BR1525</td><td>DLR0073</td><td>Cad-M33</td><td>5345219</td><td>1</td><td>DT01141</td><td>2</td><td>2020</td><td>Peugeot Motors</td><td>GMC Motors</td><td>Cadillac</td><td>2/15/2020 0:00</td></tr><tr><td>BR1530</td><td>DLR0240</td><td>Hyu-M160</td><td>4257825</td><td>3</td><td>DT01129</td><td>2</td><td>2020</td><td>Peugeot Motors</td><td>Clemens Automobile Company Building</td><td>Hyundai</td><td>2/3/2020 0:00</td></tr><tr><td>BR1540</td><td>DLR0241</td><td>Hyu-M161</td><td>19956204</td><td>3</td><td>DT01130</td><td>2</td><td>2020</td><td>PGO Motors</td><td>Colman Automotive Building</td><td>Hyundai</td><td>2/4/2020 0:00</td></tr><tr><td>BR1545</td><td>DLR0075</td><td>Cad-M35</td><td>11312878</td><td>2</td><td>DT01143</td><td>2</td><td>2020</td><td>Piaggio Motors</td><td>Gumpert Motors</td><td>Cadillac</td><td>2/17/2020 0:00</td></tr><tr><td>BR1555</td><td>DLR0076</td><td>Cad-M36</td><td>20868240</td><td>3</td><td>DT01144</td><td>2</td><td>2020</td><td>Plymouth Motors</td><td>Healey Motors</td><td>Cadillac</td><td>2/18/2020 0:00</td></tr><tr><td>BR1560</td><td>DLR0243</td><td>Hyu-M163</td><td>9443751</td><td>3</td><td>DT01132</td><td>2</td><td>2020</td><td>Plymouth Motors</td><td>Howard Motor Company Building</td><td>Hyundai</td><td>2/6/2020 0:00</td></tr><tr><td>BR1565</td><td>DLR0077</td><td>Cad-M37</td><td>14383581</td><td>3</td><td>DT01145</td><td>2</td><td>2020</td><td>Polestar Motors</td><td>Heinkel Motors</td><td>Cadillac</td><td>2/19/2020 0:00</td></tr><tr><td>BR1570</td><td>DLR0244</td><td>Hyu-M164</td><td>12224948</td><td>2</td><td>DT01133</td><td>2</td><td>2020</td><td>Polestar Motors</td><td>Hupmobile Building</td><td>Hyundai</td><td>2/7/2020 0:00</td></tr><tr><td>BR1575</td><td>DLR0078</td><td>Cad-M38</td><td>8234393</td><td>1</td><td>DT01146</td><td>2</td><td>2020</td><td>Pontiac, Asüna Motors</td><td>Hennessey Motors</td><td>Cadillac</td><td>2/20/2020 0:00</td></tr><tr><td>BR1585</td><td>DLR0079</td><td>Cad-M39</td><td>2785750</td><td>1</td><td>DT01147</td><td>2</td><td>2020</td><td>Porsche Motors</td><td>Hillman Motors</td><td>Cadillac</td><td>2/21/2020 0:00</td></tr><tr><td>BR1590</td><td>DLR0246</td><td>Mah-M166</td><td>4431368</td><td>1</td><td>DT01135</td><td>2</td><td>2020</td><td>Porsche Motors</td><td>Jones Motor Company</td><td>Mahindra</td><td>2/9/2020 0:00</td></tr><tr><td>BR1595</td><td>DLR0080</td><td>Che-M40</td><td>7968813</td><td>1</td><td>DT01148</td><td>2</td><td>2020</td><td>Premier Motors</td><td>Hindustan Motors</td><td>Chevrolet</td><td>2/22/2020 0:00</td></tr><tr><td>BR1600</td><td>DLR0247</td><td>Mah-M167</td><td>112246</td><td>1</td><td>DT01136</td><td>2</td><td>2020</td><td>Premier Motors</td><td>Kindel Building</td><td>Mahindra</td><td>2/10/2020 0:00</td></tr></tbody></table></div>"
      ]
     },
     "metadata": {
      "application/vnd.databricks.v1+output": {
       "addedWidgets": {},
       "aggData": [],
       "aggError": "",
       "aggOverflow": false,
       "aggSchema": [],
       "aggSeriesLimitReached": false,
       "aggType": "",
       "arguments": {},
       "columnCustomDisplayInfos": {},
       "data": [
        [
         "Branch_ID",
         "Dealer_ID",
         "Model_ID",
         "Revenue",
         "Units_Sold",
         "Date_ID",
         "Month",
         "Year",
         "BranchName",
         "DealerName",
         "Product_Name",
         "Date"
        ],
        [
         "BR0006",
         "DLR0168",
         "Ren-M128",
         "12971088",
         "3",
         "DT01236",
         "5",
         "2020",
         "AC Cars Motors",
         "Saab Motors",
         "Renault",
         "5/20/2020 0:00"
        ],
        [
         "BR0011",
         "DLR0069",
         "Vol-M256",
         "14181510",
         "3",
         "DT01225",
         "5",
         "2020",
         "Acura Motors",
         "Geo Motors",
         "Volkswagen",
         "5/9/2020 0:00"
        ],
        [
         "BR0021",
         "DLR0070",
         "Vol-M257",
         "7738896",
         "1",
         "DT01226",
         "5",
         "2020",
         "Aixam-Mega (including Arola) Motors",
         "Gilbern Motors",
         "Volkswagen",
         "5/10/2020 0:00"
        ],
        [
         "BR0031",
         "DLR0071",
         "Vol-M258",
         "10067596",
         "2",
         "DT01227",
         "5",
         "2020",
         "Alfa Romeo Motors",
         "Ginetta Motors",
         "Volkswagen",
         "5/11/2020 0:00"
        ],
        [
         "BR0041",
         "DLR0072",
         "Vol-M259",
         "13055810",
         "2",
         "DT01228",
         "5",
         "2020",
         "Alpine Motors",
         "Glas Motors",
         "Volkswagen",
         "5/12/2020 0:00"
        ],
        [
         "BR0051",
         "DLR0073",
         "Vol-M260",
         "2224368",
         "1",
         "DT01229",
         "5",
         "2020",
         "Alvis Motors",
         "GMC Motors",
         "Volkswagen",
         "5/13/2020 0:00"
        ],
        [
         "BR0061",
         "DLR0074",
         "Nis-M261",
         "11270580",
         "3",
         "DT01230",
         "5",
         "2020",
         "AMC, Eagle Motors",
         "GTA Spano Motors",
         "Nissan",
         "5/14/2020 0:00"
        ],
        [
         "BR0066",
         "DLR0169",
         "Ren-M129",
         "693559",
         "1",
         "DT01237",
         "5",
         "2020",
         "Acura Motors",
         "SAIC Motor Motors",
         "Renault",
         "5/21/2020 0:00"
        ],
        [
         "BR0071",
         "DLR0075",
         "Nis-M262",
         "18784710",
         "3",
         "DT01231",
         "5",
         "2020",
         "Anadol Motors",
         "Gumpert Motors",
         "Nissan",
         "5/15/2020 0:00"
        ],
        [
         "BR0081",
         "DLR0076",
         "Nis-M263",
         "2354637",
         "3",
         "DT01232",
         "5",
         "2020",
         "Ariel Motors",
         "Healey Motors",
         "Nissan",
         "5/16/2020 0:00"
        ],
        [
         "BR0121",
         "DLR0080",
         "Nis-M267",
         "5421046",
         "2",
         "DT01236",
         "5",
         "2020",
         "Aston Martin Motors",
         "Hindustan Motors",
         "Nissan",
         "5/20/2020 0:00"
        ],
        [
         "BR0126",
         "DLR0170",
         "Ren-M130",
         "8445560",
         "2",
         "DT01238",
         "5",
         "2020",
         "Aixam-Mega (including Arola) Motors",
         "Saleen Motors",
         "Renault",
         "5/22/2020 0:00"
        ],
        [
         "BR0131",
         "DLR0081",
         "Nis-M268",
         "28034733",
         "3",
         "DT01237",
         "5",
         "2020",
         "Audi Motors",
         "Holden Motors",
         "Nissan",
         "5/21/2020 0:00"
        ],
        [
         "BR0141",
         "DLR0082",
         "Nis-M269",
         "17522592",
         "2",
         "DT01238",
         "5",
         "2020",
         "Autobianchi Motors",
         "Honda Motors",
         "Nissan",
         "5/22/2020 0:00"
        ],
        [
         "BR0151",
         "DLR0083",
         "Nis-M270",
         "25901364",
         "3",
         "DT01239",
         "5",
         "2020",
         "Auto-Union Motors",
         "Honda India Motors",
         "Nissan",
         "5/23/2020 0:00"
        ],
        [
         "BR0181",
         "DLR0086",
         "Sko-M273",
         "7915343",
         "1",
         "DT01242",
         "5",
         "2020",
         "Bitter Motors",
         "Hummer Motors",
         "Skoda",
         "5/26/2020 0:00"
        ],
        [
         "BR0186",
         "DLR0171",
         "Ren-M131",
         "7078128",
         "1",
         "DT01239",
         "5",
         "2020",
         "Alfa Romeo Motors",
         "Samsung Motors",
         "Renault",
         "5/23/2020 0:00"
        ],
        [
         "BR0191",
         "DLR0087",
         "Sko-M274",
         "24183663",
         "3",
         "DT01243",
         "5",
         "2020",
         "BMW Motors",
         "Hyundai Motors",
         "Skoda",
         "5/27/2020 0:00"
        ],
        [
         "BR0201",
         "DLR0088",
         "Mit-M275",
         "847952",
         "2",
         "DT01244",
         "5",
         "2020",
         "Bond Motors",
         "IFA (including Trabant, Wartburg, Barkas) Motors",
         "Mitsubishi",
         "5/28/2020 0:00"
        ],
        [
         "BR0211",
         "DLR0089",
         "Mit-M276",
         "2887860",
         "1",
         "DT01245",
         "5",
         "2020",
         "Borgward (including Goliath and Lloyd) Motors",
         "Infiniti Motors",
         "Mitsubishi",
         "5/29/2020 0:00"
        ],
        [
         "BR0221",
         "DLR0090",
         "Mit-M277",
         "24243636",
         "3",
         "DT01246",
         "5",
         "2020",
         "Bristol Motors",
         null,
         "Mitsubishi",
         "5/30/2020 0:00"
        ],
        [
         "BR0306",
         "DLR0173",
         "Toy-M133",
         "12612492",
         "3",
         "DT01241",
         "5",
         "2020",
         "Alvis Motors",
         "Santa Matilde Motors",
         "Toyota",
         "5/25/2020 0:00"
        ],
        [
         "BR0426",
         "DLR0175",
         "Vol-M135",
         "7718804",
         "1",
         "DT01243",
         "5",
         "2020",
         "Anadol Motors",
         "Saturn Motors",
         "Volkswagen",
         "5/27/2020 0:00"
        ],
        [
         "BR0486",
         "DLR0176",
         "Vol-M136",
         "9950264",
         "1",
         "DT01244",
         "5",
         "2020",
         "Ariel Motors",
         "Scion Motors",
         "Volkswagen",
         "5/28/2020 0:00"
        ],
        [
         "BR0546",
         "DLR0177",
         "Mar-M137",
         "11543998",
         "2",
         "DT01245",
         "5",
         "2020",
         "ARO Motors",
         "Seat Motors",
         "Maruti Suzuki",
         "5/29/2020 0:00"
        ],
        [
         "BR0606",
         "DLR0178",
         "Mar-M138",
         "14029425",
         "3",
         "DT01246",
         "5",
         "2020",
         "Artega Motors",
         "Shelby SuperCars Motors",
         "Maruti Suzuki",
         "5/30/2020 0:00"
        ],
        [
         "BR0666",
         "DLR0179",
         "Mar-M139",
         "16170344",
         "2",
         "DT01247",
         "5",
         "2020",
         "Asia Motors Motors",
         "Simca Motors",
         "Maruti Suzuki",
         "5/31/2020 0:00"
        ],
        [
         "BR1075",
         "DLR0028",
         "Nis-M265",
         "946626",
         "1",
         "DT01096",
         "1",
         "2020",
         "Lexus Motors",
         "Buick Motors",
         "Nissan",
         "1/1/2020 0:00"
        ],
        [
         "BR1105",
         "DLR0031",
         "Nis-M268",
         "2349414",
         "3",
         "DT01099",
         "1",
         "2020",
         "Lotus Motors",
         "Caterham Motors",
         "Nissan",
         "1/4/2020 0:00"
        ],
        [
         "BR1125",
         "DLR0033",
         "Nis-M270",
         "5501066",
         "2",
         "DT01101",
         "1",
         "2020",
         "LuAZ Motors",
         "Chevrolet Motors",
         "Nissan",
         "1/6/2020 0:00"
        ],
        [
         "BR1135",
         "DLR0034",
         "Sko-M271",
         "15299630",
         "2",
         "DT01102",
         "1",
         "2020",
         "Lynx Motors",
         "Chevrolet India Motors",
         "Skoda",
         "1/7/2020 0:00"
        ],
        [
         "BR1145",
         "DLR0035",
         "Sko-M272",
         "573260",
         "1",
         "DT01103",
         "1",
         "2020",
         "Mahindra Motors",
         "Chrysler Motors",
         "Skoda",
         "1/8/2020 0:00"
        ],
        [
         "BR1155",
         "DLR0036",
         "Sko-M273",
         "6991308",
         "2",
         "DT01104",
         "1",
         "2020",
         "Marcos Motors",
         "Chrysler Europe Motors",
         "Skoda",
         "1/9/2020 0:00"
        ],
        [
         "BR1165",
         "DLR0037",
         "Sko-M274",
         "4594208",
         "1",
         "DT01105",
         "1",
         "2020",
         "Marlin Motors",
         "Citroën Motors",
         "Skoda",
         "1/10/2020 0:00"
        ],
        [
         "BR1175",
         "DLR0038",
         "Mit-M275",
         "6379479",
         "3",
         "DT01106",
         "1",
         "2020",
         "Maruti Motors",
         "Cizeta-Moroder Motors",
         "Mitsubishi",
         "1/11/2020 0:00"
        ],
        [
         "BR1195",
         "DLR0040",
         "Mit-M277",
         "12731434",
         "2",
         "DT01108",
         "1",
         "2020",
         "Mastretta Motors",
         "Daewoo, Saehan, Chevrolet Korea Motors",
         "Mitsubishi",
         "1/13/2020 0:00"
        ],
        [
         "BR1200",
         "DLR0207",
         "Ren-M127",
         "5217794",
         "1",
         "DT01096",
         "1",
         "2020",
         "Mastretta Motors",
         "Westfield Motors",
         "Renault",
         "1/1/2020 0:00"
        ],
        [
         "BR1205",
         "DLR0041",
         "BMW-M1",
         "20119176",
         "3",
         "DT01109",
         "1",
         "2020",
         "Matra (including Deutsch-Bonnet, René Bonnet) Motors",
         "DAF Motors",
         "BMW",
         "1/14/2020 0:00"
        ],
        [
         "BR1210",
         "DLR0208",
         "Ren-M128",
         "9250976",
         "2",
         "DT01097",
         "1",
         "2020",
         "Matra (including Deutsch-Bonnet, René Bonnet) Motors",
         "Wiesmann Motors",
         "Renault",
         "1/2/2020 0:00"
        ],
        [
         "BR1215",
         "DLR0042",
         "BMW-M2",
         "12564672",
         "3",
         "DT01110",
         "1",
         "2020",
         "Mazda Motors",
         "Daihatsu Motors",
         "BMW",
         "1/15/2020 0:00"
        ],
        [
         "BR1220",
         "DLR0209",
         "Ren-M129",
         "3678913",
         "1",
         "DT01098",
         "1",
         "2020",
         "Mazda Motors",
         "Zastava Motors",
         "Renault",
         "1/3/2020 0:00"
        ],
        [
         "BR1230",
         "DLR0210",
         "Ren-M130",
         "16850778",
         "2",
         "DT01099",
         "1",
         "2020",
         "Mazzanti Motors",
         "ZAZ Motors",
         "Renault",
         "1/4/2020 0:00"
        ],
        [
         "BR1235",
         "DLR0044",
         "BMW-M4",
         "7034814",
         "2",
         "DT01112",
         "1",
         "2020",
         "McLaren Motors",
         null,
         "BMW",
         "1/17/2020 0:00"
        ],
        [
         "BR1240",
         "DLR0211",
         "Ren-M131",
         "2717264",
         "1",
         "DT01100",
         "1",
         "2020",
         "McLaren Motors",
         "ZIL Motors",
         "Renault",
         "1/5/2020 0:00"
        ],
        [
         "BR1245",
         "DLR0045",
         "BMW-M5",
         "3141089",
         "1",
         "DT01113",
         "1",
         "2020",
         "Mercedes-Benz (including Maybach) Motors",
         "Delahaye Motors",
         "BMW",
         "1/18/2020 0:00"
        ],
        [
         "BR1255",
         "DLR0046",
         "Mer-M6",
         "4815214",
         "2",
         "DT01114",
         "1",
         "2020",
         "Mercury Motors",
         "DeLorean Motors",
         "Mercedes-Benz",
         "1/19/2020 0:00"
        ],
        [
         "BR1270",
         "DLR0214",
         "Toy-M134",
         "22982112",
         "3",
         "DT01103",
         "1",
         "2020",
         "Merkur Motors",
         "Horch Motors",
         "Toyota",
         "1/8/2020 0:00"
        ],
        [
         "BR1275",
         "DLR0048",
         "Mer-M8",
         "1681622",
         "1",
         "DT01116",
         "1",
         "2020",
         "Messerschmitt Motors",
         "De Tomaso Motors",
         "Mercedes-Benz",
         "1/21/2020 0:00"
        ],
        [
         "BR1290",
         "DLR0216",
         "Vol-M136",
         "19641387",
         "3",
         "DT01105",
         "1",
         "2020",
         "Mia Motors",
         "Maybach  Motors",
         "Volkswagen",
         "1/10/2020 0:00"
        ],
        [
         "BR1295",
         "DLR0050",
         "Jee-M10",
         "14558850",
         "2",
         "DT01118",
         "1",
         "2020",
         "Micro Motors",
         "Donkervoort Motors",
         "Jeep",
         "1/23/2020 0:00"
        ],
        [
         "BR1300",
         "DLR0217",
         "Mar-M137",
         "8749140",
         "3",
         "DT01106",
         "1",
         "2020",
         "Micro Motors",
         "Izh  Motors",
         "Maruti Suzuki",
         "1/11/2020 0:00"
        ],
        [
         "BR1305",
         "DLR0051",
         "Jee-M11",
         "4375707",
         "3",
         "DT01119",
         "1",
         "2020",
         "Mini Motors",
         "Edsel Motors",
         "Jeep",
         "1/24/2020 0:00"
        ],
        [
         "BR1310",
         "DLR0218",
         "Mar-M138",
         "1791030",
         "1",
         "DT01107",
         "1",
         "2020",
         "Mini Motors",
         "Lagonda  Motors",
         "Maruti Suzuki",
         "1/12/2020 0:00"
        ],
        [
         "BR1315",
         "DLR0052",
         "Jee-M12",
         "6981696",
         "3",
         "DT01120",
         "1",
         "2020",
         "Mitsubishi Motors",
         "e.GO Mobile Motors",
         "Jeep",
         "1/25/2020 0:00"
        ],
        [
         "BR1320",
         "DLR0219",
         "Mar-M139",
         "15720604",
         "2",
         "DT01108",
         "1",
         "2020",
         "Mitsubishi Motors",
         "MG  Motors",
         "Maruti Suzuki",
         "1/13/2020 0:00"
        ],
        [
         "BR1325",
         "DLR0053",
         "Jee-M13",
         "11820578",
         "2",
         "DT01121",
         "1",
         "2020",
         "Monica Motors",
         "Eicher Polaris Motors",
         "Jeep",
         "1/26/2020 0:00"
        ],
        [
         "BR1330",
         "DLR0220",
         "Mar-M140",
         "4505054",
         "2",
         "DT01109",
         "1",
         "2020",
         "Monica Motors",
         "Morris  Motors",
         "Maruti Suzuki",
         "1/14/2020 0:00"
        ],
        [
         "BR1340",
         "DLR0221",
         "Mar-M141",
         "7636791",
         "1",
         "DT01110",
         "1",
         "2020",
         "Monteverdi Motors",
         "Austin  Motors",
         "Maruti Suzuki",
         "1/15/2020 0:00"
        ],
        [
         "BR1360",
         "DLR0223",
         "Mar-M143",
         "10719476",
         "2",
         "DT01112",
         "1",
         "2020",
         "Moskwitch Motors",
         "Wolseley  Motors",
         "Maruti Suzuki",
         "1/17/2020 0:00"
        ],
        [
         "BR1365",
         "DLR0057",
         "For-M17",
         "1729269",
         "1",
         "DT01125",
         "1",
         "2020",
         "Nash Motors",
         "Fiat Motors",
         "Ford",
         "1/30/2020 0:00"
        ],
        [
         "BR1370",
         "DLR0224",
         "Mar-M144",
         "22596384",
         "3",
         "DT01113",
         "1",
         "2020",
         "Nash Motors",
         "Standard  Motors",
         "Maruti Suzuki",
         "1/18/2020 0:00"
        ],
        [
         "BR1380",
         "DLR0225",
         "Mar-M145",
         "5143059",
         "3",
         "DT01114",
         "1",
         "2020",
         "Naza Motors",
         "Talbot  Motors",
         "Maruti Suzuki",
         "1/19/2020 0:00"
        ],
        [
         "BR1390",
         "DLR0226",
         "Mar-M146",
         "18375622",
         "2",
         "DT01115",
         "1",
         "2020",
         "Nissan Motors",
         "Das Motors",
         "Maruti Suzuki",
         "1/20/2020 0:00"
        ],
        [
         "BR1395",
         "DLR0060",
         "For-M20",
         "3826662",
         "2",
         "DT01128",
         "2",
         "2020",
         "Nissan India Motors",
         "Fisker, Karma Motors",
         "Ford",
         "2/2/2020 0:00"
        ],
        [
         "BR1405",
         "DLR0061",
         "For-M21",
         "8119439",
         "1",
         "DT01129",
         "2",
         "2020",
         "Noble Motors",
         "Ford America Motors",
         "Ford",
         "2/3/2020 0:00"
        ],
        [
         "BR1410",
         "DLR0228",
         "Mar-M148",
         "22715907",
         "3",
         "DT01117",
         "1",
         "2020",
         "Noble Motors",
         "Deccan Motors",
         "Maruti Suzuki",
         "1/22/2020 0:00"
        ],
        [
         "BR1420",
         "DLR0229",
         "Mar-M149",
         "3362029",
         "1",
         "DT01118",
         "1",
         "2020",
         "NSU Motors",
         "Herald Motors",
         "Maruti Suzuki",
         "1/23/2020 0:00"
        ],
        [
         "BR1425",
         "DLR0063",
         "For-M23",
         "19571838",
         "3",
         "DT01131",
         "2",
         "2020",
         "Oldsmobile Motors",
         "Ford do Brasil Motors",
         "Ford",
         "2/5/2020 0:00"
        ],
        [
         "BR1435",
         "DLR0064",
         "For-M24",
         "8184657",
         "1",
         "DT01132",
         "2",
         "2020",
         "Oltcit Motors",
         "Ford Europe Motors",
         "Ford",
         "2/6/2020 0:00"
        ],
        [
         "BR1440",
         "DLR0231",
         "Mar-M151",
         "12650379",
         "3",
         "DT01120",
         "1",
         "2020",
         "Oltcit Motors",
         "Atlantic Motor Company",
         "Maruti Suzuki",
         "1/25/2020 0:00"
        ],
        [
         "BR1445",
         "DLR0065",
         "For-M25",
         "17788070",
         "2",
         "DT01133",
         "2",
         "2020",
         "Opel Motors",
         "Ford India Motors",
         "Ford",
         "2/7/2020 0:00"
        ],
        [
         "BR1450",
         "DLR0232",
         "Mar-M152",
         "19474533",
         "3",
         "DT01121",
         "1",
         "2020",
         "Opel Motors",
         "2008 NRHP-listed",
         "Maruti Suzuki",
         "1/26/2020 0:00"
        ],
        [
         "BR1455",
         "DLR0066",
         "For-M26",
         "5109932",
         "2",
         "DT01134",
         "2",
         "2020",
         "Packard Motors",
         "Freightliner Motors",
         "Ford",
         "2/8/2020 0:00"
        ],
        [
         "BR1460",
         "DLR0233",
         "Hyu-M153",
         "5377184",
         "2",
         "DT01122",
         "1",
         "2020",
         "Packard Motors",
         "Blankinship Motor Company Building",
         "Hyundai",
         "1/27/2020 0:00"
        ],
        [
         "BR1465",
         "DLR0067",
         "Lin-M27",
         "756130",
         "2",
         "DT01135",
         "2",
         "2020",
         "Pagani Motors",
         "FSO Motors",
         "Lincoln",
         "2/9/2020 0:00"
        ],
        [
         "BR1475",
         "DLR0068",
         "Lin-M28",
         "14722240",
         "2",
         "DT01136",
         "2",
         "2020",
         "Panhard Motors",
         "GAZ Motors",
         "Lincoln",
         "2/10/2020 0:00"
        ],
        [
         "BR1480",
         "DLR0235",
         "Hyu-M155",
         "16603584",
         "2",
         "DT01124",
         "1",
         "2020",
         "Panhard Motors",
         "Buick Automobile Company Building",
         "Hyundai",
         "1/29/2020 0:00"
        ],
        [
         "BR1485",
         "DLR0069",
         "Lin-M29",
         "6430716",
         "1",
         "DT01137",
         "2",
         "2020",
         "Panoz Motors",
         "Geo Motors",
         "Lincoln",
         "2/11/2020 0:00"
        ],
        [
         "BR1495",
         "DLR0070",
         "Lin-M30",
         "3396415",
         "1",
         "DT01138",
         "2",
         "2020",
         "Panther Motors",
         "Gilbern Motors",
         "Lincoln",
         "2/12/2020 0:00"
        ],
        [
         "BR1510",
         "DLR0238",
         "Hyu-M158",
         "21888990",
         "3",
         "DT01127",
         "2",
         "2020",
         "Peel Motors",
         "Cass Motor Sales",
         "Hyundai",
         "2/1/2020 0:00"
        ],
        [
         "BR1515",
         "DLR0072",
         "Cad-M32",
         "14614923",
         "3",
         "DT01140",
         "2",
         "2020",
         "Perodua Motors",
         "Glas Motors",
         "Cadillac",
         "2/14/2020 0:00"
        ],
        [
         "BR1520",
         "DLR0239",
         "Hyu-M159",
         "28839432",
         "3",
         "DT01128",
         "2",
         "2020",
         "Perodua Motors",
         "Claremore Auto Dealership",
         "Hyundai",
         "2/2/2020 0:00"
        ],
        [
         "BR1525",
         "DLR0073",
         "Cad-M33",
         "5345219",
         "1",
         "DT01141",
         "2",
         "2020",
         "Peugeot Motors",
         "GMC Motors",
         "Cadillac",
         "2/15/2020 0:00"
        ],
        [
         "BR1530",
         "DLR0240",
         "Hyu-M160",
         "4257825",
         "3",
         "DT01129",
         "2",
         "2020",
         "Peugeot Motors",
         "Clemens Automobile Company Building",
         "Hyundai",
         "2/3/2020 0:00"
        ],
        [
         "BR1540",
         "DLR0241",
         "Hyu-M161",
         "19956204",
         "3",
         "DT01130",
         "2",
         "2020",
         "PGO Motors",
         "Colman Automotive Building",
         "Hyundai",
         "2/4/2020 0:00"
        ],
        [
         "BR1545",
         "DLR0075",
         "Cad-M35",
         "11312878",
         "2",
         "DT01143",
         "2",
         "2020",
         "Piaggio Motors",
         "Gumpert Motors",
         "Cadillac",
         "2/17/2020 0:00"
        ],
        [
         "BR1555",
         "DLR0076",
         "Cad-M36",
         "20868240",
         "3",
         "DT01144",
         "2",
         "2020",
         "Plymouth Motors",
         "Healey Motors",
         "Cadillac",
         "2/18/2020 0:00"
        ],
        [
         "BR1560",
         "DLR0243",
         "Hyu-M163",
         "9443751",
         "3",
         "DT01132",
         "2",
         "2020",
         "Plymouth Motors",
         "Howard Motor Company Building",
         "Hyundai",
         "2/6/2020 0:00"
        ],
        [
         "BR1565",
         "DLR0077",
         "Cad-M37",
         "14383581",
         "3",
         "DT01145",
         "2",
         "2020",
         "Polestar Motors",
         "Heinkel Motors",
         "Cadillac",
         "2/19/2020 0:00"
        ],
        [
         "BR1570",
         "DLR0244",
         "Hyu-M164",
         "12224948",
         "2",
         "DT01133",
         "2",
         "2020",
         "Polestar Motors",
         "Hupmobile Building",
         "Hyundai",
         "2/7/2020 0:00"
        ],
        [
         "BR1575",
         "DLR0078",
         "Cad-M38",
         "8234393",
         "1",
         "DT01146",
         "2",
         "2020",
         "Pontiac, Asüna Motors",
         "Hennessey Motors",
         "Cadillac",
         "2/20/2020 0:00"
        ],
        [
         "BR1585",
         "DLR0079",
         "Cad-M39",
         "2785750",
         "1",
         "DT01147",
         "2",
         "2020",
         "Porsche Motors",
         "Hillman Motors",
         "Cadillac",
         "2/21/2020 0:00"
        ],
        [
         "BR1590",
         "DLR0246",
         "Mah-M166",
         "4431368",
         "1",
         "DT01135",
         "2",
         "2020",
         "Porsche Motors",
         "Jones Motor Company",
         "Mahindra",
         "2/9/2020 0:00"
        ],
        [
         "BR1595",
         "DLR0080",
         "Che-M40",
         "7968813",
         "1",
         "DT01148",
         "2",
         "2020",
         "Premier Motors",
         "Hindustan Motors",
         "Chevrolet",
         "2/22/2020 0:00"
        ],
        [
         "BR1600",
         "DLR0247",
         "Mah-M167",
         "112246",
         "1",
         "DT01136",
         "2",
         "2020",
         "Premier Motors",
         "Kindel Building",
         "Mahindra",
         "2/10/2020 0:00"
        ]
       ],
       "datasetInfos": [],
       "dbfsResultPath": null,
       "isJsonSchema": true,
       "metadata": {},
       "overflow": false,
       "plotOptions": {
        "customPlotOptions": {},
        "displayType": "table",
        "pivotAggregation": null,
        "pivotColumns": null,
        "xColumns": null,
        "yColumns": null
       },
       "removedWidgets": [],
       "schema": [
        {
         "metadata": "{}",
         "name": "_c0",
         "type": "\"string\""
        },
        {
         "metadata": "{}",
         "name": "_c1",
         "type": "\"string\""
        },
        {
         "metadata": "{}",
         "name": "_c2",
         "type": "\"string\""
        },
        {
         "metadata": "{}",
         "name": "_c3",
         "type": "\"string\""
        },
        {
         "metadata": "{}",
         "name": "_c4",
         "type": "\"string\""
        },
        {
         "metadata": "{}",
         "name": "_c5",
         "type": "\"string\""
        },
        {
         "metadata": "{}",
         "name": "_c6",
         "type": "\"string\""
        },
        {
         "metadata": "{}",
         "name": "_c7",
         "type": "\"string\""
        },
        {
         "metadata": "{}",
         "name": "_c8",
         "type": "\"string\""
        },
        {
         "metadata": "{}",
         "name": "_c9",
         "type": "\"string\""
        },
        {
         "metadata": "{}",
         "name": "_c10",
         "type": "\"string\""
        },
        {
         "metadata": "{}",
         "name": "_c11",
         "type": "\"string\""
        }
       ],
       "type": "table"
      }
     },
     "output_type": "display_data"
    }
   ],
   "source": [
    "%sql\n",
    "\n",
    "/* Query the created temp table in a SQL cell */\n",
    "\n",
    "select * from `sales_data_first_csv`\n",
    "\n"
   ]
  },
  {
   "cell_type": "code",
   "execution_count": 0,
   "metadata": {
    "application/vnd.databricks.v1+cell": {
     "cellMetadata": {
      "byteLimit": 2048000,
      "rowLimit": 10000
     },
     "inputWidgets": {},
     "nuid": "207d8e40-9dea-400a-84b5-510c55df6318",
     "showTitle": false,
     "tableResultSettingsMap": {},
     "title": ""
    }
   },
   "outputs": [
    {
     "output_type": "stream",
     "name": "stdout",
     "output_type": "stream",
     "text": [
      "+---------+---------+--------+--------+----------+-------+-----+----+--------------------+--------------------+------------+--------------+\n|      _c0|      _c1|     _c2|     _c3|       _c4|    _c5|  _c6| _c7|                 _c8|                 _c9|        _c10|          _c11|\n+---------+---------+--------+--------+----------+-------+-----+----+--------------------+--------------------+------------+--------------+\n|Branch_ID|Dealer_ID|Model_ID| Revenue|Units_Sold|Date_ID|Month|Year|          BranchName|          DealerName|Product_Name|          Date|\n|   BR0006|  DLR0168|Ren-M128|12971088|         3|DT01236|    5|2020|      AC Cars Motors|         Saab Motors|     Renault|5/20/2020 0:00|\n|   BR0011|  DLR0069|Vol-M256|14181510|         3|DT01225|    5|2020|        Acura Motors|          Geo Motors|  Volkswagen| 5/9/2020 0:00|\n|   BR0021|  DLR0070|Vol-M257| 7738896|         1|DT01226|    5|2020|Aixam-Mega (inclu...|      Gilbern Motors|  Volkswagen|5/10/2020 0:00|\n|   BR0031|  DLR0071|Vol-M258|10067596|         2|DT01227|    5|2020|   Alfa Romeo Motors|      Ginetta Motors|  Volkswagen|5/11/2020 0:00|\n|   BR0041|  DLR0072|Vol-M259|13055810|         2|DT01228|    5|2020|       Alpine Motors|         Glas Motors|  Volkswagen|5/12/2020 0:00|\n|   BR0051|  DLR0073|Vol-M260| 2224368|         1|DT01229|    5|2020|        Alvis Motors|          GMC Motors|  Volkswagen|5/13/2020 0:00|\n|   BR0061|  DLR0074|Nis-M261|11270580|         3|DT01230|    5|2020|   AMC, Eagle Motors|    GTA Spano Motors|      Nissan|5/14/2020 0:00|\n|   BR0066|  DLR0169|Ren-M129|  693559|         1|DT01237|    5|2020|        Acura Motors|   SAIC Motor Motors|     Renault|5/21/2020 0:00|\n|   BR0071|  DLR0075|Nis-M262|18784710|         3|DT01231|    5|2020|       Anadol Motors|      Gumpert Motors|      Nissan|5/15/2020 0:00|\n|   BR0081|  DLR0076|Nis-M263| 2354637|         3|DT01232|    5|2020|        Ariel Motors|       Healey Motors|      Nissan|5/16/2020 0:00|\n|   BR0121|  DLR0080|Nis-M267| 5421046|         2|DT01236|    5|2020| Aston Martin Motors|    Hindustan Motors|      Nissan|5/20/2020 0:00|\n|   BR0126|  DLR0170|Ren-M130| 8445560|         2|DT01238|    5|2020|Aixam-Mega (inclu...|       Saleen Motors|     Renault|5/22/2020 0:00|\n|   BR0131|  DLR0081|Nis-M268|28034733|         3|DT01237|    5|2020|         Audi Motors|       Holden Motors|      Nissan|5/21/2020 0:00|\n|   BR0141|  DLR0082|Nis-M269|17522592|         2|DT01238|    5|2020|  Autobianchi Motors|        Honda Motors|      Nissan|5/22/2020 0:00|\n|   BR0151|  DLR0083|Nis-M270|25901364|         3|DT01239|    5|2020|   Auto-Union Motors|  Honda India Motors|      Nissan|5/23/2020 0:00|\n|   BR0181|  DLR0086|Sko-M273| 7915343|         1|DT01242|    5|2020|       Bitter Motors|       Hummer Motors|       Skoda|5/26/2020 0:00|\n|   BR0186|  DLR0171|Ren-M131| 7078128|         1|DT01239|    5|2020|   Alfa Romeo Motors|      Samsung Motors|     Renault|5/23/2020 0:00|\n|   BR0191|  DLR0087|Sko-M274|24183663|         3|DT01243|    5|2020|          BMW Motors|      Hyundai Motors|       Skoda|5/27/2020 0:00|\n|   BR0201|  DLR0088|Mit-M275|  847952|         2|DT01244|    5|2020|         Bond Motors|IFA (including Tr...|  Mitsubishi|5/28/2020 0:00|\n+---------+---------+--------+--------+----------+-------+-----+----+--------------------+--------------------+------------+--------------+\nonly showing top 20 rows\n\n"
     ]
    }
   ],
   "source": [
    "%python\n",
    "df=spark.sql(\"SELECT * FROM sales_data_first_csv\").show()\n"
   ]
  },
  {
   "cell_type": "code",
   "execution_count": 0,
   "metadata": {
    "application/vnd.databricks.v1+cell": {
     "cellMetadata": {
      "byteLimit": 2048000,
      "rowLimit": 10000
     },
     "inputWidgets": {},
     "nuid": "6c6862d9-f3d5-402e-b6ba-874fe11ed252",
     "showTitle": false,
     "tableResultSettingsMap": {},
     "title": ""
    }
   },
   "outputs": [
    {
     "output_type": "stream",
     "name": "stdout",
     "output_type": "stream",
     "text": [
      "+---------+---------+--------+--------+----------+-------+-----+----+--------------------+--------------------+------------+--------------+\n|Branch_ID|Dealer_ID|Model_ID| Revenue|Units_Sold|Date_ID|Month|Year|          BranchName|          DealerName|Product_Name|          Date|\n+---------+---------+--------+--------+----------+-------+-----+----+--------------------+--------------------+------------+--------------+\n|   BR0006|  DLR0168|Ren-M128|12971088|         3|DT01236|    5|2020|      AC Cars Motors|         Saab Motors|     Renault|5/20/2020 0:00|\n|   BR0011|  DLR0069|Vol-M256|14181510|         3|DT01225|    5|2020|        Acura Motors|          Geo Motors|  Volkswagen| 5/9/2020 0:00|\n|   BR0021|  DLR0070|Vol-M257| 7738896|         1|DT01226|    5|2020|Aixam-Mega (inclu...|      Gilbern Motors|  Volkswagen|5/10/2020 0:00|\n|   BR0031|  DLR0071|Vol-M258|10067596|         2|DT01227|    5|2020|   Alfa Romeo Motors|      Ginetta Motors|  Volkswagen|5/11/2020 0:00|\n|   BR0041|  DLR0072|Vol-M259|13055810|         2|DT01228|    5|2020|       Alpine Motors|         Glas Motors|  Volkswagen|5/12/2020 0:00|\n|   BR0051|  DLR0073|Vol-M260| 2224368|         1|DT01229|    5|2020|        Alvis Motors|          GMC Motors|  Volkswagen|5/13/2020 0:00|\n|   BR0061|  DLR0074|Nis-M261|11270580|         3|DT01230|    5|2020|   AMC, Eagle Motors|    GTA Spano Motors|      Nissan|5/14/2020 0:00|\n|   BR0066|  DLR0169|Ren-M129|  693559|         1|DT01237|    5|2020|        Acura Motors|   SAIC Motor Motors|     Renault|5/21/2020 0:00|\n|   BR0071|  DLR0075|Nis-M262|18784710|         3|DT01231|    5|2020|       Anadol Motors|      Gumpert Motors|      Nissan|5/15/2020 0:00|\n|   BR0081|  DLR0076|Nis-M263| 2354637|         3|DT01232|    5|2020|        Ariel Motors|       Healey Motors|      Nissan|5/16/2020 0:00|\n|   BR0121|  DLR0080|Nis-M267| 5421046|         2|DT01236|    5|2020| Aston Martin Motors|    Hindustan Motors|      Nissan|5/20/2020 0:00|\n|   BR0126|  DLR0170|Ren-M130| 8445560|         2|DT01238|    5|2020|Aixam-Mega (inclu...|       Saleen Motors|     Renault|5/22/2020 0:00|\n|   BR0131|  DLR0081|Nis-M268|28034733|         3|DT01237|    5|2020|         Audi Motors|       Holden Motors|      Nissan|5/21/2020 0:00|\n|   BR0141|  DLR0082|Nis-M269|17522592|         2|DT01238|    5|2020|  Autobianchi Motors|        Honda Motors|      Nissan|5/22/2020 0:00|\n|   BR0151|  DLR0083|Nis-M270|25901364|         3|DT01239|    5|2020|   Auto-Union Motors|  Honda India Motors|      Nissan|5/23/2020 0:00|\n|   BR0181|  DLR0086|Sko-M273| 7915343|         1|DT01242|    5|2020|       Bitter Motors|       Hummer Motors|       Skoda|5/26/2020 0:00|\n|   BR0186|  DLR0171|Ren-M131| 7078128|         1|DT01239|    5|2020|   Alfa Romeo Motors|      Samsung Motors|     Renault|5/23/2020 0:00|\n|   BR0191|  DLR0087|Sko-M274|24183663|         3|DT01243|    5|2020|          BMW Motors|      Hyundai Motors|       Skoda|5/27/2020 0:00|\n|   BR0201|  DLR0088|Mit-M275|  847952|         2|DT01244|    5|2020|         Bond Motors|IFA (including Tr...|  Mitsubishi|5/28/2020 0:00|\n|   BR0211|  DLR0089|Mit-M276| 2887860|         1|DT01245|    5|2020|Borgward (includi...|     Infiniti Motors|  Mitsubishi|5/29/2020 0:00|\n+---------+---------+--------+--------+----------+-------+-----+----+--------------------+--------------------+------------+--------------+\nonly showing top 20 rows\n\n"
     ]
    }
   ],
   "source": [
    "%python\n",
    "# Load the CSV file correctly\n",
    "df = spark.read.format(\"csv\") \\\n",
    "    .option(\"header\", True) \\\n",
    "    .option(\"inferSchema\", True) \\\n",
    "    .load(\"/FileStore/tables/sales_data_first.csv\")\n",
    "\n",
    "# Check the DataFrame to ensure it loaded properly\n",
    "df.show()\n",
    "\n",
    "# Write the DataFrame to Delta format (note: avoid using .csv extension in the path for Delta)\n",
    "df.write.format(\"delta\") \\\n",
    "    .mode(\"overwrite\") \\\n",
    "    .option(\"path\", \"/FileStore/tables/sinkdata/sales_data_first_delta\") \\\n",
    "    .save()\n"
   ]
  },
  {
   "cell_type": "code",
   "execution_count": 0,
   "metadata": {
    "application/vnd.databricks.v1+cell": {
     "cellMetadata": {
      "byteLimit": 2048000,
      "implicitDf": true,
      "rowLimit": 10000
     },
     "inputWidgets": {},
     "nuid": "3445ce20-83eb-4ee9-bf10-4cd7e120b544",
     "showTitle": false,
     "tableResultSettingsMap": {},
     "title": ""
    }
   },
   "outputs": [
    {
     "output_type": "display_data",
     "data": {
      "text/html": [
       "<style scoped>\n",
       "  .table-result-container {\n",
       "    max-height: 300px;\n",
       "    overflow: auto;\n",
       "  }\n",
       "  table, th, td {\n",
       "    border: 1px solid black;\n",
       "    border-collapse: collapse;\n",
       "  }\n",
       "  th, td {\n",
       "    padding: 5px;\n",
       "  }\n",
       "  th {\n",
       "    text-align: left;\n",
       "  }\n",
       "</style><div class='table-result-container'><table class='table-result'><thead style='background-color: white'><tr><th>Branch_ID</th><th>Dealer_ID</th><th>Model_ID</th><th>Revenue</th><th>Units_Sold</th><th>Date_ID</th><th>Month</th><th>Year</th><th>BranchName</th><th>DealerName</th><th>Product_Name</th><th>Date</th></tr></thead><tbody><tr><td>BR0006</td><td>DLR0168</td><td>Ren-M128</td><td>12971088</td><td>3</td><td>DT01236</td><td>5</td><td>2020</td><td>AC Cars Motors</td><td>Saab Motors</td><td>Renault</td><td>5/20/2020 0:00</td></tr><tr><td>BR0011</td><td>DLR0069</td><td>Vol-M256</td><td>14181510</td><td>3</td><td>DT01225</td><td>5</td><td>2020</td><td>Acura Motors</td><td>Geo Motors</td><td>Volkswagen</td><td>5/9/2020 0:00</td></tr><tr><td>BR0021</td><td>DLR0070</td><td>Vol-M257</td><td>7738896</td><td>1</td><td>DT01226</td><td>5</td><td>2020</td><td>Aixam-Mega (including Arola) Motors</td><td>Gilbern Motors</td><td>Volkswagen</td><td>5/10/2020 0:00</td></tr><tr><td>BR0031</td><td>DLR0071</td><td>Vol-M258</td><td>10067596</td><td>2</td><td>DT01227</td><td>5</td><td>2020</td><td>Alfa Romeo Motors</td><td>Ginetta Motors</td><td>Volkswagen</td><td>5/11/2020 0:00</td></tr><tr><td>BR0041</td><td>DLR0072</td><td>Vol-M259</td><td>13055810</td><td>2</td><td>DT01228</td><td>5</td><td>2020</td><td>Alpine Motors</td><td>Glas Motors</td><td>Volkswagen</td><td>5/12/2020 0:00</td></tr><tr><td>BR0051</td><td>DLR0073</td><td>Vol-M260</td><td>2224368</td><td>1</td><td>DT01229</td><td>5</td><td>2020</td><td>Alvis Motors</td><td>GMC Motors</td><td>Volkswagen</td><td>5/13/2020 0:00</td></tr><tr><td>BR0061</td><td>DLR0074</td><td>Nis-M261</td><td>11270580</td><td>3</td><td>DT01230</td><td>5</td><td>2020</td><td>AMC, Eagle Motors</td><td>GTA Spano Motors</td><td>Nissan</td><td>5/14/2020 0:00</td></tr><tr><td>BR0066</td><td>DLR0169</td><td>Ren-M129</td><td>693559</td><td>1</td><td>DT01237</td><td>5</td><td>2020</td><td>Acura Motors</td><td>SAIC Motor Motors</td><td>Renault</td><td>5/21/2020 0:00</td></tr><tr><td>BR0071</td><td>DLR0075</td><td>Nis-M262</td><td>18784710</td><td>3</td><td>DT01231</td><td>5</td><td>2020</td><td>Anadol Motors</td><td>Gumpert Motors</td><td>Nissan</td><td>5/15/2020 0:00</td></tr><tr><td>BR0081</td><td>DLR0076</td><td>Nis-M263</td><td>2354637</td><td>3</td><td>DT01232</td><td>5</td><td>2020</td><td>Ariel Motors</td><td>Healey Motors</td><td>Nissan</td><td>5/16/2020 0:00</td></tr><tr><td>BR0121</td><td>DLR0080</td><td>Nis-M267</td><td>5421046</td><td>2</td><td>DT01236</td><td>5</td><td>2020</td><td>Aston Martin Motors</td><td>Hindustan Motors</td><td>Nissan</td><td>5/20/2020 0:00</td></tr><tr><td>BR0126</td><td>DLR0170</td><td>Ren-M130</td><td>8445560</td><td>2</td><td>DT01238</td><td>5</td><td>2020</td><td>Aixam-Mega (including Arola) Motors</td><td>Saleen Motors</td><td>Renault</td><td>5/22/2020 0:00</td></tr><tr><td>BR0131</td><td>DLR0081</td><td>Nis-M268</td><td>28034733</td><td>3</td><td>DT01237</td><td>5</td><td>2020</td><td>Audi Motors</td><td>Holden Motors</td><td>Nissan</td><td>5/21/2020 0:00</td></tr><tr><td>BR0141</td><td>DLR0082</td><td>Nis-M269</td><td>17522592</td><td>2</td><td>DT01238</td><td>5</td><td>2020</td><td>Autobianchi Motors</td><td>Honda Motors</td><td>Nissan</td><td>5/22/2020 0:00</td></tr><tr><td>BR0151</td><td>DLR0083</td><td>Nis-M270</td><td>25901364</td><td>3</td><td>DT01239</td><td>5</td><td>2020</td><td>Auto-Union Motors</td><td>Honda India Motors</td><td>Nissan</td><td>5/23/2020 0:00</td></tr><tr><td>BR0181</td><td>DLR0086</td><td>Sko-M273</td><td>7915343</td><td>1</td><td>DT01242</td><td>5</td><td>2020</td><td>Bitter Motors</td><td>Hummer Motors</td><td>Skoda</td><td>5/26/2020 0:00</td></tr><tr><td>BR0186</td><td>DLR0171</td><td>Ren-M131</td><td>7078128</td><td>1</td><td>DT01239</td><td>5</td><td>2020</td><td>Alfa Romeo Motors</td><td>Samsung Motors</td><td>Renault</td><td>5/23/2020 0:00</td></tr><tr><td>BR0191</td><td>DLR0087</td><td>Sko-M274</td><td>24183663</td><td>3</td><td>DT01243</td><td>5</td><td>2020</td><td>BMW Motors</td><td>Hyundai Motors</td><td>Skoda</td><td>5/27/2020 0:00</td></tr><tr><td>BR0201</td><td>DLR0088</td><td>Mit-M275</td><td>847952</td><td>2</td><td>DT01244</td><td>5</td><td>2020</td><td>Bond Motors</td><td>IFA (including Trabant, Wartburg, Barkas) Motors</td><td>Mitsubishi</td><td>5/28/2020 0:00</td></tr><tr><td>BR0211</td><td>DLR0089</td><td>Mit-M276</td><td>2887860</td><td>1</td><td>DT01245</td><td>5</td><td>2020</td><td>Borgward (including Goliath and Lloyd) Motors</td><td>Infiniti Motors</td><td>Mitsubishi</td><td>5/29/2020 0:00</td></tr><tr><td>BR0221</td><td>DLR0090</td><td>Mit-M277</td><td>24243636</td><td>3</td><td>DT01246</td><td>5</td><td>2020</td><td>Bristol Motors</td><td>null</td><td>Mitsubishi</td><td>5/30/2020 0:00</td></tr><tr><td>BR0306</td><td>DLR0173</td><td>Toy-M133</td><td>12612492</td><td>3</td><td>DT01241</td><td>5</td><td>2020</td><td>Alvis Motors</td><td>Santa Matilde Motors</td><td>Toyota</td><td>5/25/2020 0:00</td></tr><tr><td>BR0426</td><td>DLR0175</td><td>Vol-M135</td><td>7718804</td><td>1</td><td>DT01243</td><td>5</td><td>2020</td><td>Anadol Motors</td><td>Saturn Motors</td><td>Volkswagen</td><td>5/27/2020 0:00</td></tr><tr><td>BR0486</td><td>DLR0176</td><td>Vol-M136</td><td>9950264</td><td>1</td><td>DT01244</td><td>5</td><td>2020</td><td>Ariel Motors</td><td>Scion Motors</td><td>Volkswagen</td><td>5/28/2020 0:00</td></tr><tr><td>BR0546</td><td>DLR0177</td><td>Mar-M137</td><td>11543998</td><td>2</td><td>DT01245</td><td>5</td><td>2020</td><td>ARO Motors</td><td>Seat Motors</td><td>Maruti Suzuki</td><td>5/29/2020 0:00</td></tr><tr><td>BR0606</td><td>DLR0178</td><td>Mar-M138</td><td>14029425</td><td>3</td><td>DT01246</td><td>5</td><td>2020</td><td>Artega Motors</td><td>Shelby SuperCars Motors</td><td>Maruti Suzuki</td><td>5/30/2020 0:00</td></tr><tr><td>BR0666</td><td>DLR0179</td><td>Mar-M139</td><td>16170344</td><td>2</td><td>DT01247</td><td>5</td><td>2020</td><td>Asia Motors Motors</td><td>Simca Motors</td><td>Maruti Suzuki</td><td>5/31/2020 0:00</td></tr><tr><td>BR1075</td><td>DLR0028</td><td>Nis-M265</td><td>946626</td><td>1</td><td>DT01096</td><td>1</td><td>2020</td><td>Lexus Motors</td><td>Buick Motors</td><td>Nissan</td><td>1/1/2020 0:00</td></tr><tr><td>BR1105</td><td>DLR0031</td><td>Nis-M268</td><td>2349414</td><td>3</td><td>DT01099</td><td>1</td><td>2020</td><td>Lotus Motors</td><td>Caterham Motors</td><td>Nissan</td><td>1/4/2020 0:00</td></tr><tr><td>BR1125</td><td>DLR0033</td><td>Nis-M270</td><td>5501066</td><td>2</td><td>DT01101</td><td>1</td><td>2020</td><td>LuAZ Motors</td><td>Chevrolet Motors</td><td>Nissan</td><td>1/6/2020 0:00</td></tr><tr><td>BR1135</td><td>DLR0034</td><td>Sko-M271</td><td>15299630</td><td>2</td><td>DT01102</td><td>1</td><td>2020</td><td>Lynx Motors</td><td>Chevrolet India Motors</td><td>Skoda</td><td>1/7/2020 0:00</td></tr><tr><td>BR1145</td><td>DLR0035</td><td>Sko-M272</td><td>573260</td><td>1</td><td>DT01103</td><td>1</td><td>2020</td><td>Mahindra Motors</td><td>Chrysler Motors</td><td>Skoda</td><td>1/8/2020 0:00</td></tr><tr><td>BR1155</td><td>DLR0036</td><td>Sko-M273</td><td>6991308</td><td>2</td><td>DT01104</td><td>1</td><td>2020</td><td>Marcos Motors</td><td>Chrysler Europe Motors</td><td>Skoda</td><td>1/9/2020 0:00</td></tr><tr><td>BR1165</td><td>DLR0037</td><td>Sko-M274</td><td>4594208</td><td>1</td><td>DT01105</td><td>1</td><td>2020</td><td>Marlin Motors</td><td>Citroën Motors</td><td>Skoda</td><td>1/10/2020 0:00</td></tr><tr><td>BR1175</td><td>DLR0038</td><td>Mit-M275</td><td>6379479</td><td>3</td><td>DT01106</td><td>1</td><td>2020</td><td>Maruti Motors</td><td>Cizeta-Moroder Motors</td><td>Mitsubishi</td><td>1/11/2020 0:00</td></tr><tr><td>BR1195</td><td>DLR0040</td><td>Mit-M277</td><td>12731434</td><td>2</td><td>DT01108</td><td>1</td><td>2020</td><td>Mastretta Motors</td><td>Daewoo, Saehan, Chevrolet Korea Motors</td><td>Mitsubishi</td><td>1/13/2020 0:00</td></tr><tr><td>BR1200</td><td>DLR0207</td><td>Ren-M127</td><td>5217794</td><td>1</td><td>DT01096</td><td>1</td><td>2020</td><td>Mastretta Motors</td><td>Westfield Motors</td><td>Renault</td><td>1/1/2020 0:00</td></tr><tr><td>BR1205</td><td>DLR0041</td><td>BMW-M1</td><td>20119176</td><td>3</td><td>DT01109</td><td>1</td><td>2020</td><td>Matra (including Deutsch-Bonnet, René Bonnet) Motors</td><td>DAF Motors</td><td>BMW</td><td>1/14/2020 0:00</td></tr><tr><td>BR1210</td><td>DLR0208</td><td>Ren-M128</td><td>9250976</td><td>2</td><td>DT01097</td><td>1</td><td>2020</td><td>Matra (including Deutsch-Bonnet, René Bonnet) Motors</td><td>Wiesmann Motors</td><td>Renault</td><td>1/2/2020 0:00</td></tr><tr><td>BR1215</td><td>DLR0042</td><td>BMW-M2</td><td>12564672</td><td>3</td><td>DT01110</td><td>1</td><td>2020</td><td>Mazda Motors</td><td>Daihatsu Motors</td><td>BMW</td><td>1/15/2020 0:00</td></tr><tr><td>BR1220</td><td>DLR0209</td><td>Ren-M129</td><td>3678913</td><td>1</td><td>DT01098</td><td>1</td><td>2020</td><td>Mazda Motors</td><td>Zastava Motors</td><td>Renault</td><td>1/3/2020 0:00</td></tr><tr><td>BR1230</td><td>DLR0210</td><td>Ren-M130</td><td>16850778</td><td>2</td><td>DT01099</td><td>1</td><td>2020</td><td>Mazzanti Motors</td><td>ZAZ Motors</td><td>Renault</td><td>1/4/2020 0:00</td></tr><tr><td>BR1235</td><td>DLR0044</td><td>BMW-M4</td><td>7034814</td><td>2</td><td>DT01112</td><td>1</td><td>2020</td><td>McLaren Motors</td><td>null</td><td>BMW</td><td>1/17/2020 0:00</td></tr><tr><td>BR1240</td><td>DLR0211</td><td>Ren-M131</td><td>2717264</td><td>1</td><td>DT01100</td><td>1</td><td>2020</td><td>McLaren Motors</td><td>ZIL Motors</td><td>Renault</td><td>1/5/2020 0:00</td></tr><tr><td>BR1245</td><td>DLR0045</td><td>BMW-M5</td><td>3141089</td><td>1</td><td>DT01113</td><td>1</td><td>2020</td><td>Mercedes-Benz (including Maybach) Motors</td><td>Delahaye Motors</td><td>BMW</td><td>1/18/2020 0:00</td></tr><tr><td>BR1255</td><td>DLR0046</td><td>Mer-M6</td><td>4815214</td><td>2</td><td>DT01114</td><td>1</td><td>2020</td><td>Mercury Motors</td><td>DeLorean Motors</td><td>Mercedes-Benz</td><td>1/19/2020 0:00</td></tr><tr><td>BR1270</td><td>DLR0214</td><td>Toy-M134</td><td>22982112</td><td>3</td><td>DT01103</td><td>1</td><td>2020</td><td>Merkur Motors</td><td>Horch Motors</td><td>Toyota</td><td>1/8/2020 0:00</td></tr><tr><td>BR1275</td><td>DLR0048</td><td>Mer-M8</td><td>1681622</td><td>1</td><td>DT01116</td><td>1</td><td>2020</td><td>Messerschmitt Motors</td><td>De Tomaso Motors</td><td>Mercedes-Benz</td><td>1/21/2020 0:00</td></tr><tr><td>BR1290</td><td>DLR0216</td><td>Vol-M136</td><td>19641387</td><td>3</td><td>DT01105</td><td>1</td><td>2020</td><td>Mia Motors</td><td>Maybach  Motors</td><td>Volkswagen</td><td>1/10/2020 0:00</td></tr><tr><td>BR1295</td><td>DLR0050</td><td>Jee-M10</td><td>14558850</td><td>2</td><td>DT01118</td><td>1</td><td>2020</td><td>Micro Motors</td><td>Donkervoort Motors</td><td>Jeep</td><td>1/23/2020 0:00</td></tr><tr><td>BR1300</td><td>DLR0217</td><td>Mar-M137</td><td>8749140</td><td>3</td><td>DT01106</td><td>1</td><td>2020</td><td>Micro Motors</td><td>Izh  Motors</td><td>Maruti Suzuki</td><td>1/11/2020 0:00</td></tr><tr><td>BR1305</td><td>DLR0051</td><td>Jee-M11</td><td>4375707</td><td>3</td><td>DT01119</td><td>1</td><td>2020</td><td>Mini Motors</td><td>Edsel Motors</td><td>Jeep</td><td>1/24/2020 0:00</td></tr><tr><td>BR1310</td><td>DLR0218</td><td>Mar-M138</td><td>1791030</td><td>1</td><td>DT01107</td><td>1</td><td>2020</td><td>Mini Motors</td><td>Lagonda  Motors</td><td>Maruti Suzuki</td><td>1/12/2020 0:00</td></tr><tr><td>BR1315</td><td>DLR0052</td><td>Jee-M12</td><td>6981696</td><td>3</td><td>DT01120</td><td>1</td><td>2020</td><td>Mitsubishi Motors</td><td>e.GO Mobile Motors</td><td>Jeep</td><td>1/25/2020 0:00</td></tr><tr><td>BR1320</td><td>DLR0219</td><td>Mar-M139</td><td>15720604</td><td>2</td><td>DT01108</td><td>1</td><td>2020</td><td>Mitsubishi Motors</td><td>MG  Motors</td><td>Maruti Suzuki</td><td>1/13/2020 0:00</td></tr><tr><td>BR1325</td><td>DLR0053</td><td>Jee-M13</td><td>11820578</td><td>2</td><td>DT01121</td><td>1</td><td>2020</td><td>Monica Motors</td><td>Eicher Polaris Motors</td><td>Jeep</td><td>1/26/2020 0:00</td></tr><tr><td>BR1330</td><td>DLR0220</td><td>Mar-M140</td><td>4505054</td><td>2</td><td>DT01109</td><td>1</td><td>2020</td><td>Monica Motors</td><td>Morris  Motors</td><td>Maruti Suzuki</td><td>1/14/2020 0:00</td></tr><tr><td>BR1340</td><td>DLR0221</td><td>Mar-M141</td><td>7636791</td><td>1</td><td>DT01110</td><td>1</td><td>2020</td><td>Monteverdi Motors</td><td>Austin  Motors</td><td>Maruti Suzuki</td><td>1/15/2020 0:00</td></tr><tr><td>BR1360</td><td>DLR0223</td><td>Mar-M143</td><td>10719476</td><td>2</td><td>DT01112</td><td>1</td><td>2020</td><td>Moskwitch Motors</td><td>Wolseley  Motors</td><td>Maruti Suzuki</td><td>1/17/2020 0:00</td></tr><tr><td>BR1365</td><td>DLR0057</td><td>For-M17</td><td>1729269</td><td>1</td><td>DT01125</td><td>1</td><td>2020</td><td>Nash Motors</td><td>Fiat Motors</td><td>Ford</td><td>1/30/2020 0:00</td></tr><tr><td>BR1370</td><td>DLR0224</td><td>Mar-M144</td><td>22596384</td><td>3</td><td>DT01113</td><td>1</td><td>2020</td><td>Nash Motors</td><td>Standard  Motors</td><td>Maruti Suzuki</td><td>1/18/2020 0:00</td></tr><tr><td>BR1380</td><td>DLR0225</td><td>Mar-M145</td><td>5143059</td><td>3</td><td>DT01114</td><td>1</td><td>2020</td><td>Naza Motors</td><td>Talbot  Motors</td><td>Maruti Suzuki</td><td>1/19/2020 0:00</td></tr><tr><td>BR1390</td><td>DLR0226</td><td>Mar-M146</td><td>18375622</td><td>2</td><td>DT01115</td><td>1</td><td>2020</td><td>Nissan Motors</td><td>Das Motors</td><td>Maruti Suzuki</td><td>1/20/2020 0:00</td></tr><tr><td>BR1395</td><td>DLR0060</td><td>For-M20</td><td>3826662</td><td>2</td><td>DT01128</td><td>2</td><td>2020</td><td>Nissan India Motors</td><td>Fisker, Karma Motors</td><td>Ford</td><td>2/2/2020 0:00</td></tr><tr><td>BR1405</td><td>DLR0061</td><td>For-M21</td><td>8119439</td><td>1</td><td>DT01129</td><td>2</td><td>2020</td><td>Noble Motors</td><td>Ford America Motors</td><td>Ford</td><td>2/3/2020 0:00</td></tr><tr><td>BR1410</td><td>DLR0228</td><td>Mar-M148</td><td>22715907</td><td>3</td><td>DT01117</td><td>1</td><td>2020</td><td>Noble Motors</td><td>Deccan Motors</td><td>Maruti Suzuki</td><td>1/22/2020 0:00</td></tr><tr><td>BR1420</td><td>DLR0229</td><td>Mar-M149</td><td>3362029</td><td>1</td><td>DT01118</td><td>1</td><td>2020</td><td>NSU Motors</td><td>Herald Motors</td><td>Maruti Suzuki</td><td>1/23/2020 0:00</td></tr><tr><td>BR1425</td><td>DLR0063</td><td>For-M23</td><td>19571838</td><td>3</td><td>DT01131</td><td>2</td><td>2020</td><td>Oldsmobile Motors</td><td>Ford do Brasil Motors</td><td>Ford</td><td>2/5/2020 0:00</td></tr><tr><td>BR1435</td><td>DLR0064</td><td>For-M24</td><td>8184657</td><td>1</td><td>DT01132</td><td>2</td><td>2020</td><td>Oltcit Motors</td><td>Ford Europe Motors</td><td>Ford</td><td>2/6/2020 0:00</td></tr><tr><td>BR1440</td><td>DLR0231</td><td>Mar-M151</td><td>12650379</td><td>3</td><td>DT01120</td><td>1</td><td>2020</td><td>Oltcit Motors</td><td>Atlantic Motor Company</td><td>Maruti Suzuki</td><td>1/25/2020 0:00</td></tr><tr><td>BR1445</td><td>DLR0065</td><td>For-M25</td><td>17788070</td><td>2</td><td>DT01133</td><td>2</td><td>2020</td><td>Opel Motors</td><td>Ford India Motors</td><td>Ford</td><td>2/7/2020 0:00</td></tr><tr><td>BR1450</td><td>DLR0232</td><td>Mar-M152</td><td>19474533</td><td>3</td><td>DT01121</td><td>1</td><td>2020</td><td>Opel Motors</td><td>2008 NRHP-listed</td><td>Maruti Suzuki</td><td>1/26/2020 0:00</td></tr><tr><td>BR1455</td><td>DLR0066</td><td>For-M26</td><td>5109932</td><td>2</td><td>DT01134</td><td>2</td><td>2020</td><td>Packard Motors</td><td>Freightliner Motors</td><td>Ford</td><td>2/8/2020 0:00</td></tr><tr><td>BR1460</td><td>DLR0233</td><td>Hyu-M153</td><td>5377184</td><td>2</td><td>DT01122</td><td>1</td><td>2020</td><td>Packard Motors</td><td>Blankinship Motor Company Building</td><td>Hyundai</td><td>1/27/2020 0:00</td></tr><tr><td>BR1465</td><td>DLR0067</td><td>Lin-M27</td><td>756130</td><td>2</td><td>DT01135</td><td>2</td><td>2020</td><td>Pagani Motors</td><td>FSO Motors</td><td>Lincoln</td><td>2/9/2020 0:00</td></tr><tr><td>BR1475</td><td>DLR0068</td><td>Lin-M28</td><td>14722240</td><td>2</td><td>DT01136</td><td>2</td><td>2020</td><td>Panhard Motors</td><td>GAZ Motors</td><td>Lincoln</td><td>2/10/2020 0:00</td></tr><tr><td>BR1480</td><td>DLR0235</td><td>Hyu-M155</td><td>16603584</td><td>2</td><td>DT01124</td><td>1</td><td>2020</td><td>Panhard Motors</td><td>Buick Automobile Company Building</td><td>Hyundai</td><td>1/29/2020 0:00</td></tr><tr><td>BR1485</td><td>DLR0069</td><td>Lin-M29</td><td>6430716</td><td>1</td><td>DT01137</td><td>2</td><td>2020</td><td>Panoz Motors</td><td>Geo Motors</td><td>Lincoln</td><td>2/11/2020 0:00</td></tr><tr><td>BR1495</td><td>DLR0070</td><td>Lin-M30</td><td>3396415</td><td>1</td><td>DT01138</td><td>2</td><td>2020</td><td>Panther Motors</td><td>Gilbern Motors</td><td>Lincoln</td><td>2/12/2020 0:00</td></tr><tr><td>BR1510</td><td>DLR0238</td><td>Hyu-M158</td><td>21888990</td><td>3</td><td>DT01127</td><td>2</td><td>2020</td><td>Peel Motors</td><td>Cass Motor Sales</td><td>Hyundai</td><td>2/1/2020 0:00</td></tr><tr><td>BR1515</td><td>DLR0072</td><td>Cad-M32</td><td>14614923</td><td>3</td><td>DT01140</td><td>2</td><td>2020</td><td>Perodua Motors</td><td>Glas Motors</td><td>Cadillac</td><td>2/14/2020 0:00</td></tr><tr><td>BR1520</td><td>DLR0239</td><td>Hyu-M159</td><td>28839432</td><td>3</td><td>DT01128</td><td>2</td><td>2020</td><td>Perodua Motors</td><td>Claremore Auto Dealership</td><td>Hyundai</td><td>2/2/2020 0:00</td></tr><tr><td>BR1525</td><td>DLR0073</td><td>Cad-M33</td><td>5345219</td><td>1</td><td>DT01141</td><td>2</td><td>2020</td><td>Peugeot Motors</td><td>GMC Motors</td><td>Cadillac</td><td>2/15/2020 0:00</td></tr><tr><td>BR1530</td><td>DLR0240</td><td>Hyu-M160</td><td>4257825</td><td>3</td><td>DT01129</td><td>2</td><td>2020</td><td>Peugeot Motors</td><td>Clemens Automobile Company Building</td><td>Hyundai</td><td>2/3/2020 0:00</td></tr><tr><td>BR1540</td><td>DLR0241</td><td>Hyu-M161</td><td>19956204</td><td>3</td><td>DT01130</td><td>2</td><td>2020</td><td>PGO Motors</td><td>Colman Automotive Building</td><td>Hyundai</td><td>2/4/2020 0:00</td></tr><tr><td>BR1545</td><td>DLR0075</td><td>Cad-M35</td><td>11312878</td><td>2</td><td>DT01143</td><td>2</td><td>2020</td><td>Piaggio Motors</td><td>Gumpert Motors</td><td>Cadillac</td><td>2/17/2020 0:00</td></tr><tr><td>BR1555</td><td>DLR0076</td><td>Cad-M36</td><td>20868240</td><td>3</td><td>DT01144</td><td>2</td><td>2020</td><td>Plymouth Motors</td><td>Healey Motors</td><td>Cadillac</td><td>2/18/2020 0:00</td></tr><tr><td>BR1560</td><td>DLR0243</td><td>Hyu-M163</td><td>9443751</td><td>3</td><td>DT01132</td><td>2</td><td>2020</td><td>Plymouth Motors</td><td>Howard Motor Company Building</td><td>Hyundai</td><td>2/6/2020 0:00</td></tr><tr><td>BR1565</td><td>DLR0077</td><td>Cad-M37</td><td>14383581</td><td>3</td><td>DT01145</td><td>2</td><td>2020</td><td>Polestar Motors</td><td>Heinkel Motors</td><td>Cadillac</td><td>2/19/2020 0:00</td></tr><tr><td>BR1570</td><td>DLR0244</td><td>Hyu-M164</td><td>12224948</td><td>2</td><td>DT01133</td><td>2</td><td>2020</td><td>Polestar Motors</td><td>Hupmobile Building</td><td>Hyundai</td><td>2/7/2020 0:00</td></tr><tr><td>BR1575</td><td>DLR0078</td><td>Cad-M38</td><td>8234393</td><td>1</td><td>DT01146</td><td>2</td><td>2020</td><td>Pontiac, Asüna Motors</td><td>Hennessey Motors</td><td>Cadillac</td><td>2/20/2020 0:00</td></tr><tr><td>BR1585</td><td>DLR0079</td><td>Cad-M39</td><td>2785750</td><td>1</td><td>DT01147</td><td>2</td><td>2020</td><td>Porsche Motors</td><td>Hillman Motors</td><td>Cadillac</td><td>2/21/2020 0:00</td></tr><tr><td>BR1590</td><td>DLR0246</td><td>Mah-M166</td><td>4431368</td><td>1</td><td>DT01135</td><td>2</td><td>2020</td><td>Porsche Motors</td><td>Jones Motor Company</td><td>Mahindra</td><td>2/9/2020 0:00</td></tr><tr><td>BR1595</td><td>DLR0080</td><td>Che-M40</td><td>7968813</td><td>1</td><td>DT01148</td><td>2</td><td>2020</td><td>Premier Motors</td><td>Hindustan Motors</td><td>Chevrolet</td><td>2/22/2020 0:00</td></tr><tr><td>BR1600</td><td>DLR0247</td><td>Mah-M167</td><td>112246</td><td>1</td><td>DT01136</td><td>2</td><td>2020</td><td>Premier Motors</td><td>Kindel Building</td><td>Mahindra</td><td>2/10/2020 0:00</td></tr></tbody></table></div>"
      ]
     },
     "metadata": {
      "application/vnd.databricks.v1+output": {
       "addedWidgets": {},
       "aggData": [],
       "aggError": "",
       "aggOverflow": false,
       "aggSchema": [],
       "aggSeriesLimitReached": false,
       "aggType": "",
       "arguments": {},
       "columnCustomDisplayInfos": {},
       "data": [
        [
         "BR0006",
         "DLR0168",
         "Ren-M128",
         12971088,
         3,
         "DT01236",
         5,
         2020,
         "AC Cars Motors",
         "Saab Motors",
         "Renault",
         "5/20/2020 0:00"
        ],
        [
         "BR0011",
         "DLR0069",
         "Vol-M256",
         14181510,
         3,
         "DT01225",
         5,
         2020,
         "Acura Motors",
         "Geo Motors",
         "Volkswagen",
         "5/9/2020 0:00"
        ],
        [
         "BR0021",
         "DLR0070",
         "Vol-M257",
         7738896,
         1,
         "DT01226",
         5,
         2020,
         "Aixam-Mega (including Arola) Motors",
         "Gilbern Motors",
         "Volkswagen",
         "5/10/2020 0:00"
        ],
        [
         "BR0031",
         "DLR0071",
         "Vol-M258",
         10067596,
         2,
         "DT01227",
         5,
         2020,
         "Alfa Romeo Motors",
         "Ginetta Motors",
         "Volkswagen",
         "5/11/2020 0:00"
        ],
        [
         "BR0041",
         "DLR0072",
         "Vol-M259",
         13055810,
         2,
         "DT01228",
         5,
         2020,
         "Alpine Motors",
         "Glas Motors",
         "Volkswagen",
         "5/12/2020 0:00"
        ],
        [
         "BR0051",
         "DLR0073",
         "Vol-M260",
         2224368,
         1,
         "DT01229",
         5,
         2020,
         "Alvis Motors",
         "GMC Motors",
         "Volkswagen",
         "5/13/2020 0:00"
        ],
        [
         "BR0061",
         "DLR0074",
         "Nis-M261",
         11270580,
         3,
         "DT01230",
         5,
         2020,
         "AMC, Eagle Motors",
         "GTA Spano Motors",
         "Nissan",
         "5/14/2020 0:00"
        ],
        [
         "BR0066",
         "DLR0169",
         "Ren-M129",
         693559,
         1,
         "DT01237",
         5,
         2020,
         "Acura Motors",
         "SAIC Motor Motors",
         "Renault",
         "5/21/2020 0:00"
        ],
        [
         "BR0071",
         "DLR0075",
         "Nis-M262",
         18784710,
         3,
         "DT01231",
         5,
         2020,
         "Anadol Motors",
         "Gumpert Motors",
         "Nissan",
         "5/15/2020 0:00"
        ],
        [
         "BR0081",
         "DLR0076",
         "Nis-M263",
         2354637,
         3,
         "DT01232",
         5,
         2020,
         "Ariel Motors",
         "Healey Motors",
         "Nissan",
         "5/16/2020 0:00"
        ],
        [
         "BR0121",
         "DLR0080",
         "Nis-M267",
         5421046,
         2,
         "DT01236",
         5,
         2020,
         "Aston Martin Motors",
         "Hindustan Motors",
         "Nissan",
         "5/20/2020 0:00"
        ],
        [
         "BR0126",
         "DLR0170",
         "Ren-M130",
         8445560,
         2,
         "DT01238",
         5,
         2020,
         "Aixam-Mega (including Arola) Motors",
         "Saleen Motors",
         "Renault",
         "5/22/2020 0:00"
        ],
        [
         "BR0131",
         "DLR0081",
         "Nis-M268",
         28034733,
         3,
         "DT01237",
         5,
         2020,
         "Audi Motors",
         "Holden Motors",
         "Nissan",
         "5/21/2020 0:00"
        ],
        [
         "BR0141",
         "DLR0082",
         "Nis-M269",
         17522592,
         2,
         "DT01238",
         5,
         2020,
         "Autobianchi Motors",
         "Honda Motors",
         "Nissan",
         "5/22/2020 0:00"
        ],
        [
         "BR0151",
         "DLR0083",
         "Nis-M270",
         25901364,
         3,
         "DT01239",
         5,
         2020,
         "Auto-Union Motors",
         "Honda India Motors",
         "Nissan",
         "5/23/2020 0:00"
        ],
        [
         "BR0181",
         "DLR0086",
         "Sko-M273",
         7915343,
         1,
         "DT01242",
         5,
         2020,
         "Bitter Motors",
         "Hummer Motors",
         "Skoda",
         "5/26/2020 0:00"
        ],
        [
         "BR0186",
         "DLR0171",
         "Ren-M131",
         7078128,
         1,
         "DT01239",
         5,
         2020,
         "Alfa Romeo Motors",
         "Samsung Motors",
         "Renault",
         "5/23/2020 0:00"
        ],
        [
         "BR0191",
         "DLR0087",
         "Sko-M274",
         24183663,
         3,
         "DT01243",
         5,
         2020,
         "BMW Motors",
         "Hyundai Motors",
         "Skoda",
         "5/27/2020 0:00"
        ],
        [
         "BR0201",
         "DLR0088",
         "Mit-M275",
         847952,
         2,
         "DT01244",
         5,
         2020,
         "Bond Motors",
         "IFA (including Trabant, Wartburg, Barkas) Motors",
         "Mitsubishi",
         "5/28/2020 0:00"
        ],
        [
         "BR0211",
         "DLR0089",
         "Mit-M276",
         2887860,
         1,
         "DT01245",
         5,
         2020,
         "Borgward (including Goliath and Lloyd) Motors",
         "Infiniti Motors",
         "Mitsubishi",
         "5/29/2020 0:00"
        ],
        [
         "BR0221",
         "DLR0090",
         "Mit-M277",
         24243636,
         3,
         "DT01246",
         5,
         2020,
         "Bristol Motors",
         null,
         "Mitsubishi",
         "5/30/2020 0:00"
        ],
        [
         "BR0306",
         "DLR0173",
         "Toy-M133",
         12612492,
         3,
         "DT01241",
         5,
         2020,
         "Alvis Motors",
         "Santa Matilde Motors",
         "Toyota",
         "5/25/2020 0:00"
        ],
        [
         "BR0426",
         "DLR0175",
         "Vol-M135",
         7718804,
         1,
         "DT01243",
         5,
         2020,
         "Anadol Motors",
         "Saturn Motors",
         "Volkswagen",
         "5/27/2020 0:00"
        ],
        [
         "BR0486",
         "DLR0176",
         "Vol-M136",
         9950264,
         1,
         "DT01244",
         5,
         2020,
         "Ariel Motors",
         "Scion Motors",
         "Volkswagen",
         "5/28/2020 0:00"
        ],
        [
         "BR0546",
         "DLR0177",
         "Mar-M137",
         11543998,
         2,
         "DT01245",
         5,
         2020,
         "ARO Motors",
         "Seat Motors",
         "Maruti Suzuki",
         "5/29/2020 0:00"
        ],
        [
         "BR0606",
         "DLR0178",
         "Mar-M138",
         14029425,
         3,
         "DT01246",
         5,
         2020,
         "Artega Motors",
         "Shelby SuperCars Motors",
         "Maruti Suzuki",
         "5/30/2020 0:00"
        ],
        [
         "BR0666",
         "DLR0179",
         "Mar-M139",
         16170344,
         2,
         "DT01247",
         5,
         2020,
         "Asia Motors Motors",
         "Simca Motors",
         "Maruti Suzuki",
         "5/31/2020 0:00"
        ],
        [
         "BR1075",
         "DLR0028",
         "Nis-M265",
         946626,
         1,
         "DT01096",
         1,
         2020,
         "Lexus Motors",
         "Buick Motors",
         "Nissan",
         "1/1/2020 0:00"
        ],
        [
         "BR1105",
         "DLR0031",
         "Nis-M268",
         2349414,
         3,
         "DT01099",
         1,
         2020,
         "Lotus Motors",
         "Caterham Motors",
         "Nissan",
         "1/4/2020 0:00"
        ],
        [
         "BR1125",
         "DLR0033",
         "Nis-M270",
         5501066,
         2,
         "DT01101",
         1,
         2020,
         "LuAZ Motors",
         "Chevrolet Motors",
         "Nissan",
         "1/6/2020 0:00"
        ],
        [
         "BR1135",
         "DLR0034",
         "Sko-M271",
         15299630,
         2,
         "DT01102",
         1,
         2020,
         "Lynx Motors",
         "Chevrolet India Motors",
         "Skoda",
         "1/7/2020 0:00"
        ],
        [
         "BR1145",
         "DLR0035",
         "Sko-M272",
         573260,
         1,
         "DT01103",
         1,
         2020,
         "Mahindra Motors",
         "Chrysler Motors",
         "Skoda",
         "1/8/2020 0:00"
        ],
        [
         "BR1155",
         "DLR0036",
         "Sko-M273",
         6991308,
         2,
         "DT01104",
         1,
         2020,
         "Marcos Motors",
         "Chrysler Europe Motors",
         "Skoda",
         "1/9/2020 0:00"
        ],
        [
         "BR1165",
         "DLR0037",
         "Sko-M274",
         4594208,
         1,
         "DT01105",
         1,
         2020,
         "Marlin Motors",
         "Citroën Motors",
         "Skoda",
         "1/10/2020 0:00"
        ],
        [
         "BR1175",
         "DLR0038",
         "Mit-M275",
         6379479,
         3,
         "DT01106",
         1,
         2020,
         "Maruti Motors",
         "Cizeta-Moroder Motors",
         "Mitsubishi",
         "1/11/2020 0:00"
        ],
        [
         "BR1195",
         "DLR0040",
         "Mit-M277",
         12731434,
         2,
         "DT01108",
         1,
         2020,
         "Mastretta Motors",
         "Daewoo, Saehan, Chevrolet Korea Motors",
         "Mitsubishi",
         "1/13/2020 0:00"
        ],
        [
         "BR1200",
         "DLR0207",
         "Ren-M127",
         5217794,
         1,
         "DT01096",
         1,
         2020,
         "Mastretta Motors",
         "Westfield Motors",
         "Renault",
         "1/1/2020 0:00"
        ],
        [
         "BR1205",
         "DLR0041",
         "BMW-M1",
         20119176,
         3,
         "DT01109",
         1,
         2020,
         "Matra (including Deutsch-Bonnet, René Bonnet) Motors",
         "DAF Motors",
         "BMW",
         "1/14/2020 0:00"
        ],
        [
         "BR1210",
         "DLR0208",
         "Ren-M128",
         9250976,
         2,
         "DT01097",
         1,
         2020,
         "Matra (including Deutsch-Bonnet, René Bonnet) Motors",
         "Wiesmann Motors",
         "Renault",
         "1/2/2020 0:00"
        ],
        [
         "BR1215",
         "DLR0042",
         "BMW-M2",
         12564672,
         3,
         "DT01110",
         1,
         2020,
         "Mazda Motors",
         "Daihatsu Motors",
         "BMW",
         "1/15/2020 0:00"
        ],
        [
         "BR1220",
         "DLR0209",
         "Ren-M129",
         3678913,
         1,
         "DT01098",
         1,
         2020,
         "Mazda Motors",
         "Zastava Motors",
         "Renault",
         "1/3/2020 0:00"
        ],
        [
         "BR1230",
         "DLR0210",
         "Ren-M130",
         16850778,
         2,
         "DT01099",
         1,
         2020,
         "Mazzanti Motors",
         "ZAZ Motors",
         "Renault",
         "1/4/2020 0:00"
        ],
        [
         "BR1235",
         "DLR0044",
         "BMW-M4",
         7034814,
         2,
         "DT01112",
         1,
         2020,
         "McLaren Motors",
         null,
         "BMW",
         "1/17/2020 0:00"
        ],
        [
         "BR1240",
         "DLR0211",
         "Ren-M131",
         2717264,
         1,
         "DT01100",
         1,
         2020,
         "McLaren Motors",
         "ZIL Motors",
         "Renault",
         "1/5/2020 0:00"
        ],
        [
         "BR1245",
         "DLR0045",
         "BMW-M5",
         3141089,
         1,
         "DT01113",
         1,
         2020,
         "Mercedes-Benz (including Maybach) Motors",
         "Delahaye Motors",
         "BMW",
         "1/18/2020 0:00"
        ],
        [
         "BR1255",
         "DLR0046",
         "Mer-M6",
         4815214,
         2,
         "DT01114",
         1,
         2020,
         "Mercury Motors",
         "DeLorean Motors",
         "Mercedes-Benz",
         "1/19/2020 0:00"
        ],
        [
         "BR1270",
         "DLR0214",
         "Toy-M134",
         22982112,
         3,
         "DT01103",
         1,
         2020,
         "Merkur Motors",
         "Horch Motors",
         "Toyota",
         "1/8/2020 0:00"
        ],
        [
         "BR1275",
         "DLR0048",
         "Mer-M8",
         1681622,
         1,
         "DT01116",
         1,
         2020,
         "Messerschmitt Motors",
         "De Tomaso Motors",
         "Mercedes-Benz",
         "1/21/2020 0:00"
        ],
        [
         "BR1290",
         "DLR0216",
         "Vol-M136",
         19641387,
         3,
         "DT01105",
         1,
         2020,
         "Mia Motors",
         "Maybach  Motors",
         "Volkswagen",
         "1/10/2020 0:00"
        ],
        [
         "BR1295",
         "DLR0050",
         "Jee-M10",
         14558850,
         2,
         "DT01118",
         1,
         2020,
         "Micro Motors",
         "Donkervoort Motors",
         "Jeep",
         "1/23/2020 0:00"
        ],
        [
         "BR1300",
         "DLR0217",
         "Mar-M137",
         8749140,
         3,
         "DT01106",
         1,
         2020,
         "Micro Motors",
         "Izh  Motors",
         "Maruti Suzuki",
         "1/11/2020 0:00"
        ],
        [
         "BR1305",
         "DLR0051",
         "Jee-M11",
         4375707,
         3,
         "DT01119",
         1,
         2020,
         "Mini Motors",
         "Edsel Motors",
         "Jeep",
         "1/24/2020 0:00"
        ],
        [
         "BR1310",
         "DLR0218",
         "Mar-M138",
         1791030,
         1,
         "DT01107",
         1,
         2020,
         "Mini Motors",
         "Lagonda  Motors",
         "Maruti Suzuki",
         "1/12/2020 0:00"
        ],
        [
         "BR1315",
         "DLR0052",
         "Jee-M12",
         6981696,
         3,
         "DT01120",
         1,
         2020,
         "Mitsubishi Motors",
         "e.GO Mobile Motors",
         "Jeep",
         "1/25/2020 0:00"
        ],
        [
         "BR1320",
         "DLR0219",
         "Mar-M139",
         15720604,
         2,
         "DT01108",
         1,
         2020,
         "Mitsubishi Motors",
         "MG  Motors",
         "Maruti Suzuki",
         "1/13/2020 0:00"
        ],
        [
         "BR1325",
         "DLR0053",
         "Jee-M13",
         11820578,
         2,
         "DT01121",
         1,
         2020,
         "Monica Motors",
         "Eicher Polaris Motors",
         "Jeep",
         "1/26/2020 0:00"
        ],
        [
         "BR1330",
         "DLR0220",
         "Mar-M140",
         4505054,
         2,
         "DT01109",
         1,
         2020,
         "Monica Motors",
         "Morris  Motors",
         "Maruti Suzuki",
         "1/14/2020 0:00"
        ],
        [
         "BR1340",
         "DLR0221",
         "Mar-M141",
         7636791,
         1,
         "DT01110",
         1,
         2020,
         "Monteverdi Motors",
         "Austin  Motors",
         "Maruti Suzuki",
         "1/15/2020 0:00"
        ],
        [
         "BR1360",
         "DLR0223",
         "Mar-M143",
         10719476,
         2,
         "DT01112",
         1,
         2020,
         "Moskwitch Motors",
         "Wolseley  Motors",
         "Maruti Suzuki",
         "1/17/2020 0:00"
        ],
        [
         "BR1365",
         "DLR0057",
         "For-M17",
         1729269,
         1,
         "DT01125",
         1,
         2020,
         "Nash Motors",
         "Fiat Motors",
         "Ford",
         "1/30/2020 0:00"
        ],
        [
         "BR1370",
         "DLR0224",
         "Mar-M144",
         22596384,
         3,
         "DT01113",
         1,
         2020,
         "Nash Motors",
         "Standard  Motors",
         "Maruti Suzuki",
         "1/18/2020 0:00"
        ],
        [
         "BR1380",
         "DLR0225",
         "Mar-M145",
         5143059,
         3,
         "DT01114",
         1,
         2020,
         "Naza Motors",
         "Talbot  Motors",
         "Maruti Suzuki",
         "1/19/2020 0:00"
        ],
        [
         "BR1390",
         "DLR0226",
         "Mar-M146",
         18375622,
         2,
         "DT01115",
         1,
         2020,
         "Nissan Motors",
         "Das Motors",
         "Maruti Suzuki",
         "1/20/2020 0:00"
        ],
        [
         "BR1395",
         "DLR0060",
         "For-M20",
         3826662,
         2,
         "DT01128",
         2,
         2020,
         "Nissan India Motors",
         "Fisker, Karma Motors",
         "Ford",
         "2/2/2020 0:00"
        ],
        [
         "BR1405",
         "DLR0061",
         "For-M21",
         8119439,
         1,
         "DT01129",
         2,
         2020,
         "Noble Motors",
         "Ford America Motors",
         "Ford",
         "2/3/2020 0:00"
        ],
        [
         "BR1410",
         "DLR0228",
         "Mar-M148",
         22715907,
         3,
         "DT01117",
         1,
         2020,
         "Noble Motors",
         "Deccan Motors",
         "Maruti Suzuki",
         "1/22/2020 0:00"
        ],
        [
         "BR1420",
         "DLR0229",
         "Mar-M149",
         3362029,
         1,
         "DT01118",
         1,
         2020,
         "NSU Motors",
         "Herald Motors",
         "Maruti Suzuki",
         "1/23/2020 0:00"
        ],
        [
         "BR1425",
         "DLR0063",
         "For-M23",
         19571838,
         3,
         "DT01131",
         2,
         2020,
         "Oldsmobile Motors",
         "Ford do Brasil Motors",
         "Ford",
         "2/5/2020 0:00"
        ],
        [
         "BR1435",
         "DLR0064",
         "For-M24",
         8184657,
         1,
         "DT01132",
         2,
         2020,
         "Oltcit Motors",
         "Ford Europe Motors",
         "Ford",
         "2/6/2020 0:00"
        ],
        [
         "BR1440",
         "DLR0231",
         "Mar-M151",
         12650379,
         3,
         "DT01120",
         1,
         2020,
         "Oltcit Motors",
         "Atlantic Motor Company",
         "Maruti Suzuki",
         "1/25/2020 0:00"
        ],
        [
         "BR1445",
         "DLR0065",
         "For-M25",
         17788070,
         2,
         "DT01133",
         2,
         2020,
         "Opel Motors",
         "Ford India Motors",
         "Ford",
         "2/7/2020 0:00"
        ],
        [
         "BR1450",
         "DLR0232",
         "Mar-M152",
         19474533,
         3,
         "DT01121",
         1,
         2020,
         "Opel Motors",
         "2008 NRHP-listed",
         "Maruti Suzuki",
         "1/26/2020 0:00"
        ],
        [
         "BR1455",
         "DLR0066",
         "For-M26",
         5109932,
         2,
         "DT01134",
         2,
         2020,
         "Packard Motors",
         "Freightliner Motors",
         "Ford",
         "2/8/2020 0:00"
        ],
        [
         "BR1460",
         "DLR0233",
         "Hyu-M153",
         5377184,
         2,
         "DT01122",
         1,
         2020,
         "Packard Motors",
         "Blankinship Motor Company Building",
         "Hyundai",
         "1/27/2020 0:00"
        ],
        [
         "BR1465",
         "DLR0067",
         "Lin-M27",
         756130,
         2,
         "DT01135",
         2,
         2020,
         "Pagani Motors",
         "FSO Motors",
         "Lincoln",
         "2/9/2020 0:00"
        ],
        [
         "BR1475",
         "DLR0068",
         "Lin-M28",
         14722240,
         2,
         "DT01136",
         2,
         2020,
         "Panhard Motors",
         "GAZ Motors",
         "Lincoln",
         "2/10/2020 0:00"
        ],
        [
         "BR1480",
         "DLR0235",
         "Hyu-M155",
         16603584,
         2,
         "DT01124",
         1,
         2020,
         "Panhard Motors",
         "Buick Automobile Company Building",
         "Hyundai",
         "1/29/2020 0:00"
        ],
        [
         "BR1485",
         "DLR0069",
         "Lin-M29",
         6430716,
         1,
         "DT01137",
         2,
         2020,
         "Panoz Motors",
         "Geo Motors",
         "Lincoln",
         "2/11/2020 0:00"
        ],
        [
         "BR1495",
         "DLR0070",
         "Lin-M30",
         3396415,
         1,
         "DT01138",
         2,
         2020,
         "Panther Motors",
         "Gilbern Motors",
         "Lincoln",
         "2/12/2020 0:00"
        ],
        [
         "BR1510",
         "DLR0238",
         "Hyu-M158",
         21888990,
         3,
         "DT01127",
         2,
         2020,
         "Peel Motors",
         "Cass Motor Sales",
         "Hyundai",
         "2/1/2020 0:00"
        ],
        [
         "BR1515",
         "DLR0072",
         "Cad-M32",
         14614923,
         3,
         "DT01140",
         2,
         2020,
         "Perodua Motors",
         "Glas Motors",
         "Cadillac",
         "2/14/2020 0:00"
        ],
        [
         "BR1520",
         "DLR0239",
         "Hyu-M159",
         28839432,
         3,
         "DT01128",
         2,
         2020,
         "Perodua Motors",
         "Claremore Auto Dealership",
         "Hyundai",
         "2/2/2020 0:00"
        ],
        [
         "BR1525",
         "DLR0073",
         "Cad-M33",
         5345219,
         1,
         "DT01141",
         2,
         2020,
         "Peugeot Motors",
         "GMC Motors",
         "Cadillac",
         "2/15/2020 0:00"
        ],
        [
         "BR1530",
         "DLR0240",
         "Hyu-M160",
         4257825,
         3,
         "DT01129",
         2,
         2020,
         "Peugeot Motors",
         "Clemens Automobile Company Building",
         "Hyundai",
         "2/3/2020 0:00"
        ],
        [
         "BR1540",
         "DLR0241",
         "Hyu-M161",
         19956204,
         3,
         "DT01130",
         2,
         2020,
         "PGO Motors",
         "Colman Automotive Building",
         "Hyundai",
         "2/4/2020 0:00"
        ],
        [
         "BR1545",
         "DLR0075",
         "Cad-M35",
         11312878,
         2,
         "DT01143",
         2,
         2020,
         "Piaggio Motors",
         "Gumpert Motors",
         "Cadillac",
         "2/17/2020 0:00"
        ],
        [
         "BR1555",
         "DLR0076",
         "Cad-M36",
         20868240,
         3,
         "DT01144",
         2,
         2020,
         "Plymouth Motors",
         "Healey Motors",
         "Cadillac",
         "2/18/2020 0:00"
        ],
        [
         "BR1560",
         "DLR0243",
         "Hyu-M163",
         9443751,
         3,
         "DT01132",
         2,
         2020,
         "Plymouth Motors",
         "Howard Motor Company Building",
         "Hyundai",
         "2/6/2020 0:00"
        ],
        [
         "BR1565",
         "DLR0077",
         "Cad-M37",
         14383581,
         3,
         "DT01145",
         2,
         2020,
         "Polestar Motors",
         "Heinkel Motors",
         "Cadillac",
         "2/19/2020 0:00"
        ],
        [
         "BR1570",
         "DLR0244",
         "Hyu-M164",
         12224948,
         2,
         "DT01133",
         2,
         2020,
         "Polestar Motors",
         "Hupmobile Building",
         "Hyundai",
         "2/7/2020 0:00"
        ],
        [
         "BR1575",
         "DLR0078",
         "Cad-M38",
         8234393,
         1,
         "DT01146",
         2,
         2020,
         "Pontiac, Asüna Motors",
         "Hennessey Motors",
         "Cadillac",
         "2/20/2020 0:00"
        ],
        [
         "BR1585",
         "DLR0079",
         "Cad-M39",
         2785750,
         1,
         "DT01147",
         2,
         2020,
         "Porsche Motors",
         "Hillman Motors",
         "Cadillac",
         "2/21/2020 0:00"
        ],
        [
         "BR1590",
         "DLR0246",
         "Mah-M166",
         4431368,
         1,
         "DT01135",
         2,
         2020,
         "Porsche Motors",
         "Jones Motor Company",
         "Mahindra",
         "2/9/2020 0:00"
        ],
        [
         "BR1595",
         "DLR0080",
         "Che-M40",
         7968813,
         1,
         "DT01148",
         2,
         2020,
         "Premier Motors",
         "Hindustan Motors",
         "Chevrolet",
         "2/22/2020 0:00"
        ],
        [
         "BR1600",
         "DLR0247",
         "Mah-M167",
         112246,
         1,
         "DT01136",
         2,
         2020,
         "Premier Motors",
         "Kindel Building",
         "Mahindra",
         "2/10/2020 0:00"
        ]
       ],
       "datasetInfos": [],
       "dbfsResultPath": null,
       "isJsonSchema": true,
       "metadata": {},
       "overflow": false,
       "plotOptions": {
        "customPlotOptions": {},
        "displayType": "table",
        "pivotAggregation": null,
        "pivotColumns": null,
        "xColumns": null,
        "yColumns": null
       },
       "removedWidgets": [],
       "schema": [
        {
         "metadata": "{}",
         "name": "Branch_ID",
         "type": "\"string\""
        },
        {
         "metadata": "{}",
         "name": "Dealer_ID",
         "type": "\"string\""
        },
        {
         "metadata": "{}",
         "name": "Model_ID",
         "type": "\"string\""
        },
        {
         "metadata": "{}",
         "name": "Revenue",
         "type": "\"integer\""
        },
        {
         "metadata": "{}",
         "name": "Units_Sold",
         "type": "\"integer\""
        },
        {
         "metadata": "{}",
         "name": "Date_ID",
         "type": "\"string\""
        },
        {
         "metadata": "{}",
         "name": "Month",
         "type": "\"integer\""
        },
        {
         "metadata": "{}",
         "name": "Year",
         "type": "\"integer\""
        },
        {
         "metadata": "{}",
         "name": "BranchName",
         "type": "\"string\""
        },
        {
         "metadata": "{}",
         "name": "DealerName",
         "type": "\"string\""
        },
        {
         "metadata": "{}",
         "name": "Product_Name",
         "type": "\"string\""
        },
        {
         "metadata": "{}",
         "name": "Date",
         "type": "\"string\""
        }
       ],
       "type": "table"
      }
     },
     "output_type": "display_data"
    }
   ],
   "source": [
    "%sql\n",
    "SELECT * FROM delta.`/FileStore/tables/sinkdata/sales_data_first_delta`"
   ]
  },
  {
   "cell_type": "code",
   "execution_count": 0,
   "metadata": {
    "application/vnd.databricks.v1+cell": {
     "cellMetadata": {
      "byteLimit": 2048000,
      "rowLimit": 10000
     },
     "inputWidgets": {},
     "nuid": "2c1b10f7-71f8-43cb-94ed-ce3527137ed1",
     "showTitle": false,
     "tableResultSettingsMap": {},
     "title": ""
    }
   },
   "outputs": [
    {
     "output_type": "display_data",
     "data": {
      "text/html": [
       "<style scoped>\n",
       "  .table-result-container {\n",
       "    max-height: 300px;\n",
       "    overflow: auto;\n",
       "  }\n",
       "  table, th, td {\n",
       "    border: 1px solid black;\n",
       "    border-collapse: collapse;\n",
       "  }\n",
       "  th, td {\n",
       "    padding: 5px;\n",
       "  }\n",
       "  th {\n",
       "    text-align: left;\n",
       "  }\n",
       "</style><div class='table-result-container'><table class='table-result'><thead style='background-color: white'><tr><th>path</th><th>name</th><th>size</th><th>modificationTime</th></tr></thead><tbody><tr><td>dbfs:/FileStore/tables/sinkdata/sales_data_first_delta/_delta_log/</td><td>_delta_log/</td><td>0</td><td>0</td></tr><tr><td>dbfs:/FileStore/tables/sinkdata/sales_data_first_delta/part-00000-58d47203-f6f3-4196-a899-b9fe8623f2dd-c000.snappy.parquet</td><td>part-00000-58d47203-f6f3-4196-a899-b9fe8623f2dd-c000.snappy.parquet</td><td>8580</td><td>1742775197000</td></tr></tbody></table></div>"
      ]
     },
     "metadata": {
      "application/vnd.databricks.v1+output": {
       "addedWidgets": {},
       "aggData": [],
       "aggError": "",
       "aggOverflow": false,
       "aggSchema": [],
       "aggSeriesLimitReached": false,
       "aggType": "",
       "arguments": {},
       "columnCustomDisplayInfos": {},
       "data": [
        [
         "dbfs:/FileStore/tables/sinkdata/sales_data_first_delta/_delta_log/",
         "_delta_log/",
         0,
         0
        ],
        [
         "dbfs:/FileStore/tables/sinkdata/sales_data_first_delta/part-00000-58d47203-f6f3-4196-a899-b9fe8623f2dd-c000.snappy.parquet",
         "part-00000-58d47203-f6f3-4196-a899-b9fe8623f2dd-c000.snappy.parquet",
         8580,
         1742775197000
        ]
       ],
       "datasetInfos": [],
       "dbfsResultPath": null,
       "isJsonSchema": true,
       "metadata": {},
       "overflow": false,
       "plotOptions": {
        "customPlotOptions": {},
        "displayType": "table",
        "pivotAggregation": null,
        "pivotColumns": null,
        "xColumns": null,
        "yColumns": null
       },
       "removedWidgets": [],
       "schema": [
        {
         "metadata": "{}",
         "name": "path",
         "type": "\"string\""
        },
        {
         "metadata": "{}",
         "name": "name",
         "type": "\"string\""
        },
        {
         "metadata": "{}",
         "name": "size",
         "type": "\"long\""
        },
        {
         "metadata": "{}",
         "name": "modificationTime",
         "type": "\"long\""
        }
       ],
       "type": "table"
      }
     },
     "output_type": "display_data"
    }
   ],
   "source": [
    "%python\n",
    "display(dbutils.fs.ls(\"/FileStore/tables/sinkdata/sales_data_first_delta\"))\n"
   ]
  },
  {
   "cell_type": "code",
   "execution_count": 0,
   "metadata": {
    "application/vnd.databricks.v1+cell": {
     "cellMetadata": {
      "byteLimit": 2048000,
      "rowLimit": 10000
     },
     "inputWidgets": {},
     "nuid": "9ab225b5-938d-4359-97dd-2a750fa43e81",
     "showTitle": false,
     "tableResultSettingsMap": {},
     "title": ""
    }
   },
   "outputs": [
    {
     "output_type": "display_data",
     "data": {
      "text/html": [
       "<style scoped>\n",
       "  .table-result-container {\n",
       "    max-height: 300px;\n",
       "    overflow: auto;\n",
       "  }\n",
       "  table, th, td {\n",
       "    border: 1px solid black;\n",
       "    border-collapse: collapse;\n",
       "  }\n",
       "  th, td {\n",
       "    padding: 5px;\n",
       "  }\n",
       "  th {\n",
       "    text-align: left;\n",
       "  }\n",
       "</style><div class='table-result-container'><table class='table-result'><thead style='background-color: white'><tr><th>path</th><th>name</th><th>size</th><th>modificationTime</th></tr></thead><tbody><tr><td>dbfs:/FileStore/tables/sinkdata/sales_data_first_delta/_delta_log/.s3-optimization-0</td><td>.s3-optimization-0</td><td>0</td><td>1742775199000</td></tr><tr><td>dbfs:/FileStore/tables/sinkdata/sales_data_first_delta/_delta_log/.s3-optimization-1</td><td>.s3-optimization-1</td><td>0</td><td>1742775200000</td></tr><tr><td>dbfs:/FileStore/tables/sinkdata/sales_data_first_delta/_delta_log/.s3-optimization-2</td><td>.s3-optimization-2</td><td>0</td><td>1742775200000</td></tr><tr><td>dbfs:/FileStore/tables/sinkdata/sales_data_first_delta/_delta_log/00000000000000000000.crc</td><td>00000000000000000000.crc</td><td>3909</td><td>1742775208000</td></tr><tr><td>dbfs:/FileStore/tables/sinkdata/sales_data_first_delta/_delta_log/00000000000000000000.json</td><td>00000000000000000000.json</td><td>2897</td><td>1742775200000</td></tr></tbody></table></div>"
      ]
     },
     "metadata": {
      "application/vnd.databricks.v1+output": {
       "addedWidgets": {},
       "aggData": [],
       "aggError": "",
       "aggOverflow": false,
       "aggSchema": [],
       "aggSeriesLimitReached": false,
       "aggType": "",
       "arguments": {},
       "columnCustomDisplayInfos": {},
       "data": [
        [
         "dbfs:/FileStore/tables/sinkdata/sales_data_first_delta/_delta_log/.s3-optimization-0",
         ".s3-optimization-0",
         0,
         1742775199000
        ],
        [
         "dbfs:/FileStore/tables/sinkdata/sales_data_first_delta/_delta_log/.s3-optimization-1",
         ".s3-optimization-1",
         0,
         1742775200000
        ],
        [
         "dbfs:/FileStore/tables/sinkdata/sales_data_first_delta/_delta_log/.s3-optimization-2",
         ".s3-optimization-2",
         0,
         1742775200000
        ],
        [
         "dbfs:/FileStore/tables/sinkdata/sales_data_first_delta/_delta_log/00000000000000000000.crc",
         "00000000000000000000.crc",
         3909,
         1742775208000
        ],
        [
         "dbfs:/FileStore/tables/sinkdata/sales_data_first_delta/_delta_log/00000000000000000000.json",
         "00000000000000000000.json",
         2897,
         1742775200000
        ]
       ],
       "datasetInfos": [],
       "dbfsResultPath": null,
       "isJsonSchema": true,
       "metadata": {},
       "overflow": false,
       "plotOptions": {
        "customPlotOptions": {},
        "displayType": "table",
        "pivotAggregation": null,
        "pivotColumns": null,
        "xColumns": null,
        "yColumns": null
       },
       "removedWidgets": [],
       "schema": [
        {
         "metadata": "{}",
         "name": "path",
         "type": "\"string\""
        },
        {
         "metadata": "{}",
         "name": "name",
         "type": "\"string\""
        },
        {
         "metadata": "{}",
         "name": "size",
         "type": "\"long\""
        },
        {
         "metadata": "{}",
         "name": "modificationTime",
         "type": "\"long\""
        }
       ],
       "type": "table"
      }
     },
     "output_type": "display_data"
    }
   ],
   "source": [
    "%python\n",
    "display(dbutils.fs.ls(\"/FileStore/tables/sinkdata/sales_data_first_delta/_delta_log/\"))"
   ]
  },
  {
   "cell_type": "code",
   "execution_count": 0,
   "metadata": {
    "application/vnd.databricks.v1+cell": {
     "cellMetadata": {
      "byteLimit": 2048000,
      "rowLimit": 10000
     },
     "inputWidgets": {},
     "nuid": "82475709-9b23-4ba9-b57e-dd05c32b2744",
     "showTitle": false,
     "tableResultSettingsMap": {},
     "title": ""
    }
   },
   "outputs": [
    {
     "output_type": "display_data",
     "data": {
      "text/html": [
       "<style scoped>\n",
       "  .table-result-container {\n",
       "    max-height: 300px;\n",
       "    overflow: auto;\n",
       "  }\n",
       "  table, th, td {\n",
       "    border: 1px solid black;\n",
       "    border-collapse: collapse;\n",
       "  }\n",
       "  th, td {\n",
       "    padding: 5px;\n",
       "  }\n",
       "  th {\n",
       "    text-align: left;\n",
       "  }\n",
       "</style><div class='table-result-container'><table class='table-result'><thead style='background-color: white'><tr><th>add</th><th>commitInfo</th><th>metaData</th><th>protocol</th></tr></thead><tbody><tr><td>null</td><td>List(0323-234530-3hiw1vs3, Databricks-Runtime/12.2.x-scala2.12, false, WriteSerializable, List(3081999854191859), WRITE, List(1, 8580, 95), List(Overwrite, []), 1742775199165, 368e86c3-8cc7-40c7-8460-97f5e93f59a4, 3992139588989231, bvandanareddy8@gmail.com)</td><td>null</td><td>null</td></tr><tr><td>null</td><td>null</td><td>null</td><td>List(1, 2)</td></tr><tr><td>null</td><td>null</td><td>List(1742775191895, List(parquet), abd1b896-3cb7-49c4-a321-1ac02c4f67f6, List(), {\"type\":\"struct\",\"fields\":[{\"name\":\"Branch_ID\",\"type\":\"string\",\"nullable\":true,\"metadata\":{}},{\"name\":\"Dealer_ID\",\"type\":\"string\",\"nullable\":true,\"metadata\":{}},{\"name\":\"Model_ID\",\"type\":\"string\",\"nullable\":true,\"metadata\":{}},{\"name\":\"Revenue\",\"type\":\"integer\",\"nullable\":true,\"metadata\":{}},{\"name\":\"Units_Sold\",\"type\":\"integer\",\"nullable\":true,\"metadata\":{}},{\"name\":\"Date_ID\",\"type\":\"string\",\"nullable\":true,\"metadata\":{}},{\"name\":\"Month\",\"type\":\"integer\",\"nullable\":true,\"metadata\":{}},{\"name\":\"Year\",\"type\":\"integer\",\"nullable\":true,\"metadata\":{}},{\"name\":\"BranchName\",\"type\":\"string\",\"nullable\":true,\"metadata\":{}},{\"name\":\"DealerName\",\"type\":\"string\",\"nullable\":true,\"metadata\":{}},{\"name\":\"Product_Name\",\"type\":\"string\",\"nullable\":true,\"metadata\":{}},{\"name\":\"Date\",\"type\":\"string\",\"nullable\":true,\"metadata\":{}}]})</td><td>null</td></tr><tr><td>List(true, 1742775197000, part-00000-58d47203-f6f3-4196-a899-b9fe8623f2dd-c000.snappy.parquet, 8580, {\"numRecords\":95,\"minValues\":{\"Branch_ID\":\"BR0006\",\"Dealer_ID\":\"DLR0028\",\"Model_ID\":\"BMW-M1\",\"Revenue\":112246,\"Units_Sold\":1,\"Date_ID\":\"DT01096\",\"Month\":1,\"Year\":2020,\"BranchName\":\"AC Cars Motors\",\"DealerName\":\"2008 NRHP-listed\",\"Product_Name\":\"BMW\",\"Date\":\"1/1/2020 0:00\"},\"maxValues\":{\"Branch_ID\":\"BR1600\",\"Dealer_ID\":\"DLR0247\",\"Model_ID\":\"Vol-M260\",\"Revenue\":28839432,\"Units_Sold\":3,\"Date_ID\":\"DT01247\",\"Month\":5,\"Year\":2020,\"BranchName\":\"Premier Motors\",\"DealerName\":\"e.GO Mobile Motors\",\"Product_Name\":\"Volkswagen\",\"Date\":\"5/9/2020 0:00\"},\"nullCount\":{\"Branch_ID\":0,\"Dealer_ID\":0,\"Model_ID\":0,\"Revenue\":0,\"Units_Sold\":0,\"Date_ID\":0,\"Month\":0,\"Year\":0,\"BranchName\":0,\"DealerName\":2,\"Product_Name\":0,\"Date\":0}}, List(1742775197000000, 1742775197000000, 1742775197000000, 268435456))</td><td>null</td><td>null</td><td>null</td></tr></tbody></table></div>"
      ]
     },
     "metadata": {
      "application/vnd.databricks.v1+output": {
       "addedWidgets": {},
       "aggData": [],
       "aggError": "",
       "aggOverflow": false,
       "aggSchema": [],
       "aggSeriesLimitReached": false,
       "aggType": "",
       "arguments": {},
       "columnCustomDisplayInfos": {},
       "data": [
        [
         null,
         [
          "0323-234530-3hiw1vs3",
          "Databricks-Runtime/12.2.x-scala2.12",
          false,
          "WriteSerializable",
          [
           "3081999854191859"
          ],
          "WRITE",
          [
           "1",
           "8580",
           "95"
          ],
          [
           "Overwrite",
           "[]"
          ],
          1742775199165,
          "368e86c3-8cc7-40c7-8460-97f5e93f59a4",
          "3992139588989231",
          "bvandanareddy8@gmail.com"
         ],
         null,
         null
        ],
        [
         null,
         null,
         null,
         [
          1,
          2
         ]
        ],
        [
         null,
         null,
         [
          1742775191895,
          [
           "parquet"
          ],
          "abd1b896-3cb7-49c4-a321-1ac02c4f67f6",
          [],
          "{\"type\":\"struct\",\"fields\":[{\"name\":\"Branch_ID\",\"type\":\"string\",\"nullable\":true,\"metadata\":{}},{\"name\":\"Dealer_ID\",\"type\":\"string\",\"nullable\":true,\"metadata\":{}},{\"name\":\"Model_ID\",\"type\":\"string\",\"nullable\":true,\"metadata\":{}},{\"name\":\"Revenue\",\"type\":\"integer\",\"nullable\":true,\"metadata\":{}},{\"name\":\"Units_Sold\",\"type\":\"integer\",\"nullable\":true,\"metadata\":{}},{\"name\":\"Date_ID\",\"type\":\"string\",\"nullable\":true,\"metadata\":{}},{\"name\":\"Month\",\"type\":\"integer\",\"nullable\":true,\"metadata\":{}},{\"name\":\"Year\",\"type\":\"integer\",\"nullable\":true,\"metadata\":{}},{\"name\":\"BranchName\",\"type\":\"string\",\"nullable\":true,\"metadata\":{}},{\"name\":\"DealerName\",\"type\":\"string\",\"nullable\":true,\"metadata\":{}},{\"name\":\"Product_Name\",\"type\":\"string\",\"nullable\":true,\"metadata\":{}},{\"name\":\"Date\",\"type\":\"string\",\"nullable\":true,\"metadata\":{}}]}"
         ],
         null
        ],
        [
         [
          true,
          1742775197000,
          "part-00000-58d47203-f6f3-4196-a899-b9fe8623f2dd-c000.snappy.parquet",
          8580,
          "{\"numRecords\":95,\"minValues\":{\"Branch_ID\":\"BR0006\",\"Dealer_ID\":\"DLR0028\",\"Model_ID\":\"BMW-M1\",\"Revenue\":112246,\"Units_Sold\":1,\"Date_ID\":\"DT01096\",\"Month\":1,\"Year\":2020,\"BranchName\":\"AC Cars Motors\",\"DealerName\":\"2008 NRHP-listed\",\"Product_Name\":\"BMW\",\"Date\":\"1/1/2020 0:00\"},\"maxValues\":{\"Branch_ID\":\"BR1600\",\"Dealer_ID\":\"DLR0247\",\"Model_ID\":\"Vol-M260\",\"Revenue\":28839432,\"Units_Sold\":3,\"Date_ID\":\"DT01247\",\"Month\":5,\"Year\":2020,\"BranchName\":\"Premier Motors\",\"DealerName\":\"e.GO Mobile Motors\",\"Product_Name\":\"Volkswagen\",\"Date\":\"5/9/2020 0:00\"},\"nullCount\":{\"Branch_ID\":0,\"Dealer_ID\":0,\"Model_ID\":0,\"Revenue\":0,\"Units_Sold\":0,\"Date_ID\":0,\"Month\":0,\"Year\":0,\"BranchName\":0,\"DealerName\":2,\"Product_Name\":0,\"Date\":0}}",
          [
           "1742775197000000",
           "1742775197000000",
           "1742775197000000",
           "268435456"
          ]
         ],
         null,
         null,
         null
        ]
       ],
       "datasetInfos": [],
       "dbfsResultPath": null,
       "isJsonSchema": true,
       "metadata": {},
       "overflow": false,
       "plotOptions": {
        "customPlotOptions": {},
        "displayType": "table",
        "pivotAggregation": null,
        "pivotColumns": null,
        "xColumns": null,
        "yColumns": null
       },
       "removedWidgets": [],
       "schema": [
        {
         "metadata": "{}",
         "name": "add",
         "type": "{\"type\":\"struct\",\"fields\":[{\"name\":\"dataChange\",\"type\":\"boolean\",\"nullable\":true,\"metadata\":{}},{\"name\":\"modificationTime\",\"type\":\"long\",\"nullable\":true,\"metadata\":{}},{\"name\":\"path\",\"type\":\"string\",\"nullable\":true,\"metadata\":{}},{\"name\":\"size\",\"type\":\"long\",\"nullable\":true,\"metadata\":{}},{\"name\":\"stats\",\"type\":\"string\",\"nullable\":true,\"metadata\":{}},{\"name\":\"tags\",\"type\":{\"type\":\"struct\",\"fields\":[{\"name\":\"INSERTION_TIME\",\"type\":\"string\",\"nullable\":true,\"metadata\":{}},{\"name\":\"MAX_INSERTION_TIME\",\"type\":\"string\",\"nullable\":true,\"metadata\":{}},{\"name\":\"MIN_INSERTION_TIME\",\"type\":\"string\",\"nullable\":true,\"metadata\":{}},{\"name\":\"OPTIMIZE_TARGET_SIZE\",\"type\":\"string\",\"nullable\":true,\"metadata\":{}}]},\"nullable\":true,\"metadata\":{}}]}"
        },
        {
         "metadata": "{}",
         "name": "commitInfo",
         "type": "{\"type\":\"struct\",\"fields\":[{\"name\":\"clusterId\",\"type\":\"string\",\"nullable\":true,\"metadata\":{}},{\"name\":\"engineInfo\",\"type\":\"string\",\"nullable\":true,\"metadata\":{}},{\"name\":\"isBlindAppend\",\"type\":\"boolean\",\"nullable\":true,\"metadata\":{}},{\"name\":\"isolationLevel\",\"type\":\"string\",\"nullable\":true,\"metadata\":{}},{\"name\":\"notebook\",\"type\":{\"type\":\"struct\",\"fields\":[{\"name\":\"notebookId\",\"type\":\"string\",\"nullable\":true,\"metadata\":{}}]},\"nullable\":true,\"metadata\":{}},{\"name\":\"operation\",\"type\":\"string\",\"nullable\":true,\"metadata\":{}},{\"name\":\"operationMetrics\",\"type\":{\"type\":\"struct\",\"fields\":[{\"name\":\"numFiles\",\"type\":\"string\",\"nullable\":true,\"metadata\":{}},{\"name\":\"numOutputBytes\",\"type\":\"string\",\"nullable\":true,\"metadata\":{}},{\"name\":\"numOutputRows\",\"type\":\"string\",\"nullable\":true,\"metadata\":{}}]},\"nullable\":true,\"metadata\":{}},{\"name\":\"operationParameters\",\"type\":{\"type\":\"struct\",\"fields\":[{\"name\":\"mode\",\"type\":\"string\",\"nullable\":true,\"metadata\":{}},{\"name\":\"partitionBy\",\"type\":\"string\",\"nullable\":true,\"metadata\":{}}]},\"nullable\":true,\"metadata\":{}},{\"name\":\"timestamp\",\"type\":\"long\",\"nullable\":true,\"metadata\":{}},{\"name\":\"txnId\",\"type\":\"string\",\"nullable\":true,\"metadata\":{}},{\"name\":\"userId\",\"type\":\"string\",\"nullable\":true,\"metadata\":{}},{\"name\":\"userName\",\"type\":\"string\",\"nullable\":true,\"metadata\":{}}]}"
        },
        {
         "metadata": "{}",
         "name": "metaData",
         "type": "{\"type\":\"struct\",\"fields\":[{\"name\":\"createdTime\",\"type\":\"long\",\"nullable\":true,\"metadata\":{}},{\"name\":\"format\",\"type\":{\"type\":\"struct\",\"fields\":[{\"name\":\"provider\",\"type\":\"string\",\"nullable\":true,\"metadata\":{}}]},\"nullable\":true,\"metadata\":{}},{\"name\":\"id\",\"type\":\"string\",\"nullable\":true,\"metadata\":{}},{\"name\":\"partitionColumns\",\"type\":{\"type\":\"array\",\"elementType\":\"string\",\"containsNull\":true},\"nullable\":true,\"metadata\":{}},{\"name\":\"schemaString\",\"type\":\"string\",\"nullable\":true,\"metadata\":{}}]}"
        },
        {
         "metadata": "{}",
         "name": "protocol",
         "type": "{\"type\":\"struct\",\"fields\":[{\"name\":\"minReaderVersion\",\"type\":\"long\",\"nullable\":true,\"metadata\":{}},{\"name\":\"minWriterVersion\",\"type\":\"long\",\"nullable\":true,\"metadata\":{}}]}"
        }
       ],
       "type": "table"
      }
     },
     "output_type": "display_data"
    }
   ],
   "source": [
    "%python\n",
    "df=spark.read.json(\"/FileStore/tables/sinkdata/sales_data_first_delta/_delta_log/00000000000000000000.json\")\n",
    "display(df)"
   ]
  },
  {
   "cell_type": "code",
   "execution_count": 0,
   "metadata": {
    "application/vnd.databricks.v1+cell": {
     "cellMetadata": {
      "byteLimit": 2048000,
      "implicitDf": true,
      "rowLimit": 10000
     },
     "inputWidgets": {},
     "nuid": "34d44055-b7b9-4a7a-bd46-992d92ea5b2e",
     "showTitle": false,
     "tableResultSettingsMap": {},
     "title": ""
    }
   },
   "outputs": [
    {
     "output_type": "display_data",
     "data": {
      "text/html": [
       "<style scoped>\n",
       "  .table-result-container {\n",
       "    max-height: 300px;\n",
       "    overflow: auto;\n",
       "  }\n",
       "  table, th, td {\n",
       "    border: 1px solid black;\n",
       "    border-collapse: collapse;\n",
       "  }\n",
       "  th, td {\n",
       "    padding: 5px;\n",
       "  }\n",
       "  th {\n",
       "    text-align: left;\n",
       "  }\n",
       "</style><div class='table-result-container'><table class='table-result'><thead style='background-color: white'><tr></tr></thead><tbody></tbody></table></div>"
      ]
     },
     "metadata": {
      "application/vnd.databricks.v1+output": {
       "addedWidgets": {},
       "aggData": [],
       "aggError": "",
       "aggOverflow": false,
       "aggSchema": [],
       "aggSeriesLimitReached": false,
       "aggType": "",
       "arguments": {},
       "columnCustomDisplayInfos": {},
       "data": [],
       "datasetInfos": [],
       "dbfsResultPath": null,
       "isJsonSchema": true,
       "metadata": {},
       "overflow": false,
       "plotOptions": {
        "customPlotOptions": {},
        "displayType": "table",
        "pivotAggregation": null,
        "pivotColumns": null,
        "xColumns": null,
        "yColumns": null
       },
       "removedWidgets": [],
       "schema": [],
       "type": "table"
      }
     },
     "output_type": "display_data"
    }
   ],
   "source": [
    "%sql\n",
    "CREATE TABLE my_delta_table\n",
    "(id INT,\n",
    "NAME STRING,\n",
    "salary DOUBLE)\n",
    "USING DELTA\n",
    "LOCATION '/FileStore/tables/sinkdata/first_delta_table'"
   ]
  },
  {
   "cell_type": "code",
   "execution_count": 0,
   "metadata": {
    "application/vnd.databricks.v1+cell": {
     "cellMetadata": {
      "byteLimit": 2048000,
      "implicitDf": true,
      "rowLimit": 10000
     },
     "inputWidgets": {},
     "nuid": "c0ec784d-4744-443a-8059-03a76f43085f",
     "showTitle": false,
     "tableResultSettingsMap": {},
     "title": ""
    }
   },
   "outputs": [
    {
     "output_type": "display_data",
     "data": {
      "text/html": [
       "<style scoped>\n",
       "  .table-result-container {\n",
       "    max-height: 300px;\n",
       "    overflow: auto;\n",
       "  }\n",
       "  table, th, td {\n",
       "    border: 1px solid black;\n",
       "    border-collapse: collapse;\n",
       "  }\n",
       "  th, td {\n",
       "    padding: 5px;\n",
       "  }\n",
       "  th {\n",
       "    text-align: left;\n",
       "  }\n",
       "</style><div class='table-result-container'><table class='table-result'><thead style='background-color: white'><tr></tr></thead><tbody></tbody></table></div>"
      ]
     },
     "metadata": {
      "application/vnd.databricks.v1+output": {
       "addedWidgets": {},
       "aggData": [],
       "aggError": "",
       "aggOverflow": false,
       "aggSchema": [],
       "aggSeriesLimitReached": false,
       "aggType": "",
       "arguments": {},
       "columnCustomDisplayInfos": {},
       "data": [],
       "datasetInfos": [],
       "dbfsResultPath": null,
       "isJsonSchema": true,
       "metadata": {},
       "overflow": false,
       "plotOptions": {
        "customPlotOptions": {},
        "displayType": "table",
        "pivotAggregation": null,
        "pivotColumns": null,
        "xColumns": null,
        "yColumns": null
       },
       "removedWidgets": [],
       "schema": [],
       "type": "table"
      }
     },
     "output_type": "display_data"
    }
   ],
   "source": [
    "%sql\n",
    "CREATE SCHEMA bronze"
   ]
  },
  {
   "cell_type": "code",
   "execution_count": 0,
   "metadata": {
    "application/vnd.databricks.v1+cell": {
     "cellMetadata": {
      "byteLimit": 2048000,
      "implicitDf": true,
      "rowLimit": 10000
     },
     "inputWidgets": {},
     "nuid": "0ff62a1c-c7bf-454a-b3b8-6f70190d9537",
     "showTitle": false,
     "tableResultSettingsMap": {},
     "title": ""
    }
   },
   "outputs": [
    {
     "output_type": "display_data",
     "data": {
      "text/html": [
       "<style scoped>\n",
       "  .table-result-container {\n",
       "    max-height: 300px;\n",
       "    overflow: auto;\n",
       "  }\n",
       "  table, th, td {\n",
       "    border: 1px solid black;\n",
       "    border-collapse: collapse;\n",
       "  }\n",
       "  th, td {\n",
       "    padding: 5px;\n",
       "  }\n",
       "  th {\n",
       "    text-align: left;\n",
       "  }\n",
       "</style><div class='table-result-container'><table class='table-result'><thead style='background-color: white'><tr></tr></thead><tbody></tbody></table></div>"
      ]
     },
     "metadata": {
      "application/vnd.databricks.v1+output": {
       "addedWidgets": {},
       "aggData": [],
       "aggError": "",
       "aggOverflow": false,
       "aggSchema": [],
       "aggSeriesLimitReached": false,
       "aggType": "",
       "arguments": {},
       "columnCustomDisplayInfos": {},
       "data": [],
       "datasetInfos": [],
       "dbfsResultPath": null,
       "isJsonSchema": true,
       "metadata": {},
       "overflow": false,
       "plotOptions": {
        "customPlotOptions": {},
        "displayType": "table",
        "pivotAggregation": null,
        "pivotColumns": null,
        "xColumns": null,
        "yColumns": null
       },
       "removedWidgets": [],
       "schema": [],
       "type": "table"
      }
     },
     "output_type": "display_data"
    }
   ],
   "source": [
    "%sql\n",
    "CREATE TABLE bronze.my_delta_table\n",
    "(id INT,\n",
    "NAME STRING,\n",
    "salary DOUBLE)\n",
    "USING DELTA\n",
    "LOCATION '/FileStore/tables/sinkdata/first_delta_table'"
   ]
  },
  {
   "cell_type": "code",
   "execution_count": 0,
   "metadata": {
    "application/vnd.databricks.v1+cell": {
     "cellMetadata": {
      "byteLimit": 2048000,
      "implicitDf": true,
      "rowLimit": 10000
     },
     "inputWidgets": {},
     "nuid": "7447372b-5a0d-4b5c-aea9-ec4a44994dc6",
     "showTitle": false,
     "tableResultSettingsMap": {},
     "title": ""
    }
   },
   "outputs": [
    {
     "output_type": "display_data",
     "data": {
      "text/html": [
       "<style scoped>\n",
       "  .table-result-container {\n",
       "    max-height: 300px;\n",
       "    overflow: auto;\n",
       "  }\n",
       "  table, th, td {\n",
       "    border: 1px solid black;\n",
       "    border-collapse: collapse;\n",
       "  }\n",
       "  th, td {\n",
       "    padding: 5px;\n",
       "  }\n",
       "  th {\n",
       "    text-align: left;\n",
       "  }\n",
       "</style><div class='table-result-container'><table class='table-result'><thead style='background-color: white'><tr><th>num_affected_rows</th><th>num_inserted_rows</th></tr></thead><tbody><tr><td>2</td><td>2</td></tr></tbody></table></div>"
      ]
     },
     "metadata": {
      "application/vnd.databricks.v1+output": {
       "addedWidgets": {},
       "aggData": [],
       "aggError": "",
       "aggOverflow": false,
       "aggSchema": [],
       "aggSeriesLimitReached": false,
       "aggType": "",
       "arguments": {},
       "columnCustomDisplayInfos": {},
       "data": [
        [
         2,
         2
        ]
       ],
       "datasetInfos": [],
       "dbfsResultPath": null,
       "isJsonSchema": true,
       "metadata": {},
       "overflow": false,
       "plotOptions": {
        "customPlotOptions": {},
        "displayType": "table",
        "pivotAggregation": null,
        "pivotColumns": null,
        "xColumns": null,
        "yColumns": null
       },
       "removedWidgets": [],
       "schema": [
        {
         "metadata": "{}",
         "name": "num_affected_rows",
         "type": "\"long\""
        },
        {
         "metadata": "{}",
         "name": "num_inserted_rows",
         "type": "\"long\""
        }
       ],
       "type": "table"
      }
     },
     "output_type": "display_data"
    }
   ],
   "source": [
    "%sql\n",
    "INSERT INTO bronze.my_delta_table\n",
    "VALUES (1,'AA',100),\n",
    "(2,'BB',200)"
   ]
  },
  {
   "cell_type": "code",
   "execution_count": 0,
   "metadata": {
    "application/vnd.databricks.v1+cell": {
     "cellMetadata": {
      "byteLimit": 2048000,
      "implicitDf": true,
      "rowLimit": 10000
     },
     "inputWidgets": {},
     "nuid": "8d971703-e535-41de-9fd2-d7d4b6f4c75e",
     "showTitle": false,
     "tableResultSettingsMap": {},
     "title": ""
    }
   },
   "outputs": [
    {
     "output_type": "display_data",
     "data": {
      "text/html": [
       "<style scoped>\n",
       "  .table-result-container {\n",
       "    max-height: 300px;\n",
       "    overflow: auto;\n",
       "  }\n",
       "  table, th, td {\n",
       "    border: 1px solid black;\n",
       "    border-collapse: collapse;\n",
       "  }\n",
       "  th, td {\n",
       "    padding: 5px;\n",
       "  }\n",
       "  th {\n",
       "    text-align: left;\n",
       "  }\n",
       "</style><div class='table-result-container'><table class='table-result'><thead style='background-color: white'><tr><th>id</th><th>NAME</th><th>salary</th></tr></thead><tbody><tr><td>1</td><td>AA</td><td>100.0</td></tr><tr><td>2</td><td>BB</td><td>200.0</td></tr><tr><td>1</td><td>AA</td><td>100.0</td></tr><tr><td>2</td><td>BB</td><td>200.0</td></tr></tbody></table></div>"
      ]
     },
     "metadata": {
      "application/vnd.databricks.v1+output": {
       "addedWidgets": {},
       "aggData": [],
       "aggError": "",
       "aggOverflow": false,
       "aggSchema": [],
       "aggSeriesLimitReached": false,
       "aggType": "",
       "arguments": {},
       "columnCustomDisplayInfos": {},
       "data": [
        [
         1,
         "AA",
         100.0
        ],
        [
         2,
         "BB",
         200.0
        ],
        [
         1,
         "AA",
         100.0
        ],
        [
         2,
         "BB",
         200.0
        ]
       ],
       "datasetInfos": [],
       "dbfsResultPath": null,
       "isJsonSchema": true,
       "metadata": {},
       "overflow": false,
       "plotOptions": {
        "customPlotOptions": {},
        "displayType": "table",
        "pivotAggregation": null,
        "pivotColumns": null,
        "xColumns": null,
        "yColumns": null
       },
       "removedWidgets": [],
       "schema": [
        {
         "metadata": "{}",
         "name": "id",
         "type": "\"integer\""
        },
        {
         "metadata": "{}",
         "name": "NAME",
         "type": "\"string\""
        },
        {
         "metadata": "{}",
         "name": "salary",
         "type": "\"double\""
        }
       ],
       "type": "table"
      }
     },
     "output_type": "display_data"
    }
   ],
   "source": [
    "%sql\n",
    "select * from bronze.my_delta_table"
   ]
  },
  {
   "cell_type": "code",
   "execution_count": 0,
   "metadata": {
    "application/vnd.databricks.v1+cell": {
     "cellMetadata": {
      "byteLimit": 2048000,
      "rowLimit": 10000
     },
     "inputWidgets": {},
     "nuid": "dcf68c33-4dfc-4daa-8f02-683f8e685da4",
     "showTitle": false,
     "tableResultSettingsMap": {},
     "title": ""
    }
   },
   "outputs": [
    {
     "output_type": "display_data",
     "data": {
      "text/html": [
       "<style scoped>\n",
       "  .table-result-container {\n",
       "    max-height: 300px;\n",
       "    overflow: auto;\n",
       "  }\n",
       "  table, th, td {\n",
       "    border: 1px solid black;\n",
       "    border-collapse: collapse;\n",
       "  }\n",
       "  th, td {\n",
       "    padding: 5px;\n",
       "  }\n",
       "  th {\n",
       "    text-align: left;\n",
       "  }\n",
       "</style><div class='table-result-container'><table class='table-result'><thead style='background-color: white'><tr><th>path</th><th>name</th><th>size</th><th>modificationTime</th></tr></thead><tbody><tr><td>dbfs:/FileStore/tables/sinkdata/first_delta_table/_delta_log/.s3-optimization-0</td><td>.s3-optimization-0</td><td>0</td><td>1742775994000</td></tr><tr><td>dbfs:/FileStore/tables/sinkdata/first_delta_table/_delta_log/.s3-optimization-1</td><td>.s3-optimization-1</td><td>0</td><td>1742775994000</td></tr><tr><td>dbfs:/FileStore/tables/sinkdata/first_delta_table/_delta_log/.s3-optimization-2</td><td>.s3-optimization-2</td><td>0</td><td>1742775994000</td></tr><tr><td>dbfs:/FileStore/tables/sinkdata/first_delta_table/_delta_log/00000000000000000000.crc</td><td>00000000000000000000.crc</td><td>2028</td><td>1742775998000</td></tr><tr><td>dbfs:/FileStore/tables/sinkdata/first_delta_table/_delta_log/00000000000000000000.json</td><td>00000000000000000000.json</td><td>999</td><td>1742775994000</td></tr><tr><td>dbfs:/FileStore/tables/sinkdata/first_delta_table/_delta_log/00000000000000000001.crc</td><td>00000000000000000001.crc</td><td>2551</td><td>1742776176000</td></tr><tr><td>dbfs:/FileStore/tables/sinkdata/first_delta_table/_delta_log/00000000000000000001.json</td><td>00000000000000000001.json</td><td>1045</td><td>1742776173000</td></tr><tr><td>dbfs:/FileStore/tables/sinkdata/first_delta_table/_delta_log/00000000000000000002.crc</td><td>00000000000000000002.crc</td><td>3069</td><td>1742776225000</td></tr><tr><td>dbfs:/FileStore/tables/sinkdata/first_delta_table/_delta_log/00000000000000000002.json</td><td>00000000000000000002.json</td><td>1045</td><td>1742776223000</td></tr></tbody></table></div>"
      ]
     },
     "metadata": {
      "application/vnd.databricks.v1+output": {
       "addedWidgets": {},
       "aggData": [],
       "aggError": "",
       "aggOverflow": false,
       "aggSchema": [],
       "aggSeriesLimitReached": false,
       "aggType": "",
       "arguments": {},
       "columnCustomDisplayInfos": {},
       "data": [
        [
         "dbfs:/FileStore/tables/sinkdata/first_delta_table/_delta_log/.s3-optimization-0",
         ".s3-optimization-0",
         0,
         1742775994000
        ],
        [
         "dbfs:/FileStore/tables/sinkdata/first_delta_table/_delta_log/.s3-optimization-1",
         ".s3-optimization-1",
         0,
         1742775994000
        ],
        [
         "dbfs:/FileStore/tables/sinkdata/first_delta_table/_delta_log/.s3-optimization-2",
         ".s3-optimization-2",
         0,
         1742775994000
        ],
        [
         "dbfs:/FileStore/tables/sinkdata/first_delta_table/_delta_log/00000000000000000000.crc",
         "00000000000000000000.crc",
         2028,
         1742775998000
        ],
        [
         "dbfs:/FileStore/tables/sinkdata/first_delta_table/_delta_log/00000000000000000000.json",
         "00000000000000000000.json",
         999,
         1742775994000
        ],
        [
         "dbfs:/FileStore/tables/sinkdata/first_delta_table/_delta_log/00000000000000000001.crc",
         "00000000000000000001.crc",
         2551,
         1742776176000
        ],
        [
         "dbfs:/FileStore/tables/sinkdata/first_delta_table/_delta_log/00000000000000000001.json",
         "00000000000000000001.json",
         1045,
         1742776173000
        ],
        [
         "dbfs:/FileStore/tables/sinkdata/first_delta_table/_delta_log/00000000000000000002.crc",
         "00000000000000000002.crc",
         3069,
         1742776225000
        ],
        [
         "dbfs:/FileStore/tables/sinkdata/first_delta_table/_delta_log/00000000000000000002.json",
         "00000000000000000002.json",
         1045,
         1742776223000
        ]
       ],
       "datasetInfos": [],
       "dbfsResultPath": null,
       "isJsonSchema": true,
       "metadata": {},
       "overflow": false,
       "plotOptions": {
        "customPlotOptions": {},
        "displayType": "table",
        "pivotAggregation": null,
        "pivotColumns": null,
        "xColumns": null,
        "yColumns": null
       },
       "removedWidgets": [],
       "schema": [
        {
         "metadata": "{}",
         "name": "path",
         "type": "\"string\""
        },
        {
         "metadata": "{}",
         "name": "name",
         "type": "\"string\""
        },
        {
         "metadata": "{}",
         "name": "size",
         "type": "\"long\""
        },
        {
         "metadata": "{}",
         "name": "modificationTime",
         "type": "\"long\""
        }
       ],
       "type": "table"
      }
     },
     "output_type": "display_data"
    }
   ],
   "source": [
    "%python\n",
    "display(dbutils.fs.ls(\"/FileStore/tables/sinkdata/first_delta_table/_delta_log\"))"
   ]
  },
  {
   "cell_type": "code",
   "execution_count": 0,
   "metadata": {
    "application/vnd.databricks.v1+cell": {
     "cellMetadata": {
      "byteLimit": 2048000,
      "implicitDf": true,
      "rowLimit": 10000
     },
     "inputWidgets": {},
     "nuid": "1f2458f6-3145-4035-a9e8-f88ba9d756f9",
     "showTitle": false,
     "tableResultSettingsMap": {},
     "title": ""
    }
   },
   "outputs": [
    {
     "output_type": "display_data",
     "data": {
      "text/html": [
       "<style scoped>\n",
       "  .table-result-container {\n",
       "    max-height: 300px;\n",
       "    overflow: auto;\n",
       "  }\n",
       "  table, th, td {\n",
       "    border: 1px solid black;\n",
       "    border-collapse: collapse;\n",
       "  }\n",
       "  th, td {\n",
       "    padding: 5px;\n",
       "  }\n",
       "  th {\n",
       "    text-align: left;\n",
       "  }\n",
       "</style><div class='table-result-container'><table class='table-result'><thead style='background-color: white'><tr></tr></thead><tbody></tbody></table></div>"
      ]
     },
     "metadata": {
      "application/vnd.databricks.v1+output": {
       "addedWidgets": {},
       "aggData": [],
       "aggError": "",
       "aggOverflow": false,
       "aggSchema": [],
       "aggSeriesLimitReached": false,
       "aggType": "",
       "arguments": {},
       "columnCustomDisplayInfos": {},
       "data": [],
       "datasetInfos": [],
       "dbfsResultPath": null,
       "isJsonSchema": true,
       "metadata": {},
       "overflow": false,
       "plotOptions": {
        "customPlotOptions": {},
        "displayType": "table",
        "pivotAggregation": null,
        "pivotColumns": null,
        "xColumns": null,
        "yColumns": null
       },
       "removedWidgets": [],
       "schema": [],
       "type": "table"
      }
     },
     "output_type": "display_data"
    }
   ],
   "source": [
    "%sql\n",
    "CREATE TABLE bronze.my_delta_table_2\n",
    "(id INT,\n",
    "NAME STRING,\n",
    "salary DOUBLE)\n",
    "USING DELTA\n",
    "LOCATION '/FileStore/tables/sinkdata/my_delta_table_2'"
   ]
  },
  {
   "cell_type": "code",
   "execution_count": 0,
   "metadata": {
    "application/vnd.databricks.v1+cell": {
     "cellMetadata": {
      "byteLimit": 2048000,
      "implicitDf": true,
      "rowLimit": 10000
     },
     "inputWidgets": {},
     "nuid": "fcf3f4e0-73b6-4251-b82a-a319d0d316ed",
     "showTitle": false,
     "tableResultSettingsMap": {},
     "title": ""
    }
   },
   "outputs": [
    {
     "output_type": "display_data",
     "data": {
      "text/html": [
       "<style scoped>\n",
       "  .table-result-container {\n",
       "    max-height: 300px;\n",
       "    overflow: auto;\n",
       "  }\n",
       "  table, th, td {\n",
       "    border: 1px solid black;\n",
       "    border-collapse: collapse;\n",
       "  }\n",
       "  th, td {\n",
       "    padding: 5px;\n",
       "  }\n",
       "  th {\n",
       "    text-align: left;\n",
       "  }\n",
       "</style><div class='table-result-container'><table class='table-result'><thead style='background-color: white'><tr></tr></thead><tbody></tbody></table></div>"
      ]
     },
     "metadata": {
      "application/vnd.databricks.v1+output": {
       "addedWidgets": {},
       "aggData": [],
       "aggError": "",
       "aggOverflow": false,
       "aggSchema": [],
       "aggSeriesLimitReached": false,
       "aggType": "",
       "arguments": {},
       "columnCustomDisplayInfos": {},
       "data": [],
       "datasetInfos": [],
       "dbfsResultPath": null,
       "isJsonSchema": true,
       "metadata": {},
       "overflow": false,
       "plotOptions": {
        "customPlotOptions": {},
        "displayType": "table",
        "pivotAggregation": null,
        "pivotColumns": null,
        "xColumns": null,
        "yColumns": null
       },
       "removedWidgets": [],
       "schema": [],
       "type": "table"
      }
     },
     "output_type": "display_data"
    }
   ],
   "source": [
    "%sql\n",
    "\n",
    "ALTER TABLE bronze.my_delta_table_2 \n",
    "SET TBLPROPERTIES ('delta.enableDeletionVectors' = false);"
   ]
  },
  {
   "cell_type": "code",
   "execution_count": 0,
   "metadata": {
    "application/vnd.databricks.v1+cell": {
     "cellMetadata": {
      "byteLimit": 2048000,
      "implicitDf": true,
      "rowLimit": 10000
     },
     "inputWidgets": {},
     "nuid": "b7e0aa23-be15-4be0-aec1-f0cfa6750198",
     "showTitle": false,
     "tableResultSettingsMap": {},
     "title": ""
    }
   },
   "outputs": [
    {
     "output_type": "display_data",
     "data": {
      "text/html": [
       "<style scoped>\n",
       "  .table-result-container {\n",
       "    max-height: 300px;\n",
       "    overflow: auto;\n",
       "  }\n",
       "  table, th, td {\n",
       "    border: 1px solid black;\n",
       "    border-collapse: collapse;\n",
       "  }\n",
       "  th, td {\n",
       "    padding: 5px;\n",
       "  }\n",
       "  th {\n",
       "    text-align: left;\n",
       "  }\n",
       "</style><div class='table-result-container'><table class='table-result'><thead style='background-color: white'><tr><th>num_affected_rows</th><th>num_inserted_rows</th></tr></thead><tbody><tr><td>2</td><td>2</td></tr></tbody></table></div>"
      ]
     },
     "metadata": {
      "application/vnd.databricks.v1+output": {
       "addedWidgets": {},
       "aggData": [],
       "aggError": "",
       "aggOverflow": false,
       "aggSchema": [],
       "aggSeriesLimitReached": false,
       "aggType": "",
       "arguments": {},
       "columnCustomDisplayInfos": {},
       "data": [
        [
         2,
         2
        ]
       ],
       "datasetInfos": [],
       "dbfsResultPath": null,
       "isJsonSchema": true,
       "metadata": {},
       "overflow": false,
       "plotOptions": {
        "customPlotOptions": {},
        "displayType": "table",
        "pivotAggregation": null,
        "pivotColumns": null,
        "xColumns": null,
        "yColumns": null
       },
       "removedWidgets": [],
       "schema": [
        {
         "metadata": "{}",
         "name": "num_affected_rows",
         "type": "\"long\""
        },
        {
         "metadata": "{}",
         "name": "num_inserted_rows",
         "type": "\"long\""
        }
       ],
       "type": "table"
      }
     },
     "output_type": "display_data"
    }
   ],
   "source": [
    "%sql\n",
    "INSERT INTO bronze.my_delta_table_2\n",
    "VALUES (1,'AA',100),\n",
    "(2,'BB',200)"
   ]
  },
  {
   "cell_type": "code",
   "execution_count": 0,
   "metadata": {
    "application/vnd.databricks.v1+cell": {
     "cellMetadata": {
      "byteLimit": 2048000,
      "implicitDf": true,
      "rowLimit": 10000
     },
     "inputWidgets": {},
     "nuid": "f96c3dd0-819d-4f42-91b3-b14e5390bee4",
     "showTitle": false,
     "tableResultSettingsMap": {},
     "title": ""
    }
   },
   "outputs": [
    {
     "output_type": "display_data",
     "data": {
      "text/html": [
       "<style scoped>\n",
       "  .table-result-container {\n",
       "    max-height: 300px;\n",
       "    overflow: auto;\n",
       "  }\n",
       "  table, th, td {\n",
       "    border: 1px solid black;\n",
       "    border-collapse: collapse;\n",
       "  }\n",
       "  th, td {\n",
       "    padding: 5px;\n",
       "  }\n",
       "  th {\n",
       "    text-align: left;\n",
       "  }\n",
       "</style><div class='table-result-container'><table class='table-result'><thead style='background-color: white'><tr><th>num_affected_rows</th><th>num_inserted_rows</th></tr></thead><tbody><tr><td>2</td><td>2</td></tr></tbody></table></div>"
      ]
     },
     "metadata": {
      "application/vnd.databricks.v1+output": {
       "addedWidgets": {},
       "aggData": [],
       "aggError": "",
       "aggOverflow": false,
       "aggSchema": [],
       "aggSeriesLimitReached": false,
       "aggType": "",
       "arguments": {},
       "columnCustomDisplayInfos": {},
       "data": [
        [
         2,
         2
        ]
       ],
       "datasetInfos": [],
       "dbfsResultPath": null,
       "isJsonSchema": true,
       "metadata": {},
       "overflow": false,
       "plotOptions": {
        "customPlotOptions": {},
        "displayType": "table",
        "pivotAggregation": null,
        "pivotColumns": null,
        "xColumns": null,
        "yColumns": null
       },
       "removedWidgets": [],
       "schema": [
        {
         "metadata": "{}",
         "name": "num_affected_rows",
         "type": "\"long\""
        },
        {
         "metadata": "{}",
         "name": "num_inserted_rows",
         "type": "\"long\""
        }
       ],
       "type": "table"
      }
     },
     "output_type": "display_data"
    }
   ],
   "source": [
    "%sql\n",
    "INSERT INTO bronze.my_delta_table_2\n",
    "VALUES (3,'XX',100),\n",
    "(4,'YY',200)"
   ]
  },
  {
   "cell_type": "code",
   "execution_count": 0,
   "metadata": {
    "application/vnd.databricks.v1+cell": {
     "cellMetadata": {
      "byteLimit": 2048000,
      "rowLimit": 10000
     },
     "inputWidgets": {},
     "nuid": "7352a26d-ca0d-4c09-bbdd-5e12eeb923bb",
     "showTitle": false,
     "tableResultSettingsMap": {},
     "title": ""
    }
   },
   "outputs": [
    {
     "output_type": "display_data",
     "data": {
      "text/html": [
       "<style scoped>\n",
       "  .table-result-container {\n",
       "    max-height: 300px;\n",
       "    overflow: auto;\n",
       "  }\n",
       "  table, th, td {\n",
       "    border: 1px solid black;\n",
       "    border-collapse: collapse;\n",
       "  }\n",
       "  th, td {\n",
       "    padding: 5px;\n",
       "  }\n",
       "  th {\n",
       "    text-align: left;\n",
       "  }\n",
       "</style><div class='table-result-container'><table class='table-result'><thead style='background-color: white'><tr><th>path</th><th>name</th><th>size</th><th>modificationTime</th></tr></thead><tbody><tr><td>dbfs:/FileStore/tables/sinkdata/my_delta_table_2/_delta_log/</td><td>_delta_log/</td><td>0</td><td>0</td></tr><tr><td>dbfs:/FileStore/tables/sinkdata/my_delta_table_2/part-00000-56cbda33-075d-49fd-b37d-275f34f540c9-c000.snappy.parquet</td><td>part-00000-56cbda33-075d-49fd-b37d-275f34f540c9-c000.snappy.parquet</td><td>1062</td><td>1742777016000</td></tr><tr><td>dbfs:/FileStore/tables/sinkdata/my_delta_table_2/part-00000-c8bb0cde-e9a9-4c9b-ab19-96b23cf1d199-c000.snappy.parquet</td><td>part-00000-c8bb0cde-e9a9-4c9b-ab19-96b23cf1d199-c000.snappy.parquet</td><td>1062</td><td>1742777010000</td></tr></tbody></table></div>"
      ]
     },
     "metadata": {
      "application/vnd.databricks.v1+output": {
       "addedWidgets": {},
       "aggData": [],
       "aggError": "",
       "aggOverflow": false,
       "aggSchema": [],
       "aggSeriesLimitReached": false,
       "aggType": "",
       "arguments": {},
       "columnCustomDisplayInfos": {},
       "data": [
        [
         "dbfs:/FileStore/tables/sinkdata/my_delta_table_2/_delta_log/",
         "_delta_log/",
         0,
         0
        ],
        [
         "dbfs:/FileStore/tables/sinkdata/my_delta_table_2/part-00000-56cbda33-075d-49fd-b37d-275f34f540c9-c000.snappy.parquet",
         "part-00000-56cbda33-075d-49fd-b37d-275f34f540c9-c000.snappy.parquet",
         1062,
         1742777016000
        ],
        [
         "dbfs:/FileStore/tables/sinkdata/my_delta_table_2/part-00000-c8bb0cde-e9a9-4c9b-ab19-96b23cf1d199-c000.snappy.parquet",
         "part-00000-c8bb0cde-e9a9-4c9b-ab19-96b23cf1d199-c000.snappy.parquet",
         1062,
         1742777010000
        ]
       ],
       "datasetInfos": [],
       "dbfsResultPath": null,
       "isJsonSchema": true,
       "metadata": {},
       "overflow": false,
       "plotOptions": {
        "customPlotOptions": {},
        "displayType": "table",
        "pivotAggregation": null,
        "pivotColumns": null,
        "xColumns": null,
        "yColumns": null
       },
       "removedWidgets": [],
       "schema": [
        {
         "metadata": "{}",
         "name": "path",
         "type": "\"string\""
        },
        {
         "metadata": "{}",
         "name": "name",
         "type": "\"string\""
        },
        {
         "metadata": "{}",
         "name": "size",
         "type": "\"long\""
        },
        {
         "metadata": "{}",
         "name": "modificationTime",
         "type": "\"long\""
        }
       ],
       "type": "table"
      }
     },
     "output_type": "display_data"
    }
   ],
   "source": [
    "%python\n",
    "display(dbutils.fs.ls(\"/FileStore/tables/sinkdata/my_delta_table_2\"))"
   ]
  },
  {
   "cell_type": "code",
   "execution_count": 0,
   "metadata": {
    "application/vnd.databricks.v1+cell": {
     "cellMetadata": {
      "byteLimit": 2048000,
      "rowLimit": 10000
     },
     "inputWidgets": {},
     "nuid": "a77e148a-f81e-4c66-b079-c3d68d76698d",
     "showTitle": false,
     "tableResultSettingsMap": {},
     "title": ""
    }
   },
   "outputs": [
    {
     "output_type": "display_data",
     "data": {
      "text/html": [
       "<style scoped>\n",
       "  .table-result-container {\n",
       "    max-height: 300px;\n",
       "    overflow: auto;\n",
       "  }\n",
       "  table, th, td {\n",
       "    border: 1px solid black;\n",
       "    border-collapse: collapse;\n",
       "  }\n",
       "  th, td {\n",
       "    padding: 5px;\n",
       "  }\n",
       "  th {\n",
       "    text-align: left;\n",
       "  }\n",
       "</style><div class='table-result-container'><table class='table-result'><thead style='background-color: white'><tr><th>path</th><th>name</th><th>size</th><th>modificationTime</th></tr></thead><tbody><tr><td>dbfs:/FileStore/tables/sinkdata/my_delta_table_2/_delta_log/.s3-optimization-0</td><td>.s3-optimization-0</td><td>0</td><td>1742776778000</td></tr><tr><td>dbfs:/FileStore/tables/sinkdata/my_delta_table_2/_delta_log/.s3-optimization-1</td><td>.s3-optimization-1</td><td>0</td><td>1742776778000</td></tr><tr><td>dbfs:/FileStore/tables/sinkdata/my_delta_table_2/_delta_log/.s3-optimization-2</td><td>.s3-optimization-2</td><td>0</td><td>1742776778000</td></tr><tr><td>dbfs:/FileStore/tables/sinkdata/my_delta_table_2/_delta_log/00000000000000000000.crc</td><td>00000000000000000000.crc</td><td>2028</td><td>1742776781000</td></tr><tr><td>dbfs:/FileStore/tables/sinkdata/my_delta_table_2/_delta_log/00000000000000000000.json</td><td>00000000000000000000.json</td><td>999</td><td>1742776778000</td></tr><tr><td>dbfs:/FileStore/tables/sinkdata/my_delta_table_2/_delta_log/00000000000000000001.crc</td><td>00000000000000000001.crc</td><td>2065</td><td>1742776905000</td></tr><tr><td>dbfs:/FileStore/tables/sinkdata/my_delta_table_2/_delta_log/00000000000000000001.json</td><td>00000000000000000001.json</td><td>983</td><td>1742776902000</td></tr><tr><td>dbfs:/FileStore/tables/sinkdata/my_delta_table_2/_delta_log/00000000000000000002.crc</td><td>00000000000000000002.crc</td><td>2588</td><td>1742777013000</td></tr><tr><td>dbfs:/FileStore/tables/sinkdata/my_delta_table_2/_delta_log/00000000000000000002.json</td><td>00000000000000000002.json</td><td>1045</td><td>1742777010000</td></tr><tr><td>dbfs:/FileStore/tables/sinkdata/my_delta_table_2/_delta_log/00000000000000000003.crc</td><td>00000000000000000003.crc</td><td>3106</td><td>1742777018000</td></tr><tr><td>dbfs:/FileStore/tables/sinkdata/my_delta_table_2/_delta_log/00000000000000000003.json</td><td>00000000000000000003.json</td><td>1045</td><td>1742777016000</td></tr></tbody></table></div>"
      ]
     },
     "metadata": {
      "application/vnd.databricks.v1+output": {
       "addedWidgets": {},
       "aggData": [],
       "aggError": "",
       "aggOverflow": false,
       "aggSchema": [],
       "aggSeriesLimitReached": false,
       "aggType": "",
       "arguments": {},
       "columnCustomDisplayInfos": {},
       "data": [
        [
         "dbfs:/FileStore/tables/sinkdata/my_delta_table_2/_delta_log/.s3-optimization-0",
         ".s3-optimization-0",
         0,
         1742776778000
        ],
        [
         "dbfs:/FileStore/tables/sinkdata/my_delta_table_2/_delta_log/.s3-optimization-1",
         ".s3-optimization-1",
         0,
         1742776778000
        ],
        [
         "dbfs:/FileStore/tables/sinkdata/my_delta_table_2/_delta_log/.s3-optimization-2",
         ".s3-optimization-2",
         0,
         1742776778000
        ],
        [
         "dbfs:/FileStore/tables/sinkdata/my_delta_table_2/_delta_log/00000000000000000000.crc",
         "00000000000000000000.crc",
         2028,
         1742776781000
        ],
        [
         "dbfs:/FileStore/tables/sinkdata/my_delta_table_2/_delta_log/00000000000000000000.json",
         "00000000000000000000.json",
         999,
         1742776778000
        ],
        [
         "dbfs:/FileStore/tables/sinkdata/my_delta_table_2/_delta_log/00000000000000000001.crc",
         "00000000000000000001.crc",
         2065,
         1742776905000
        ],
        [
         "dbfs:/FileStore/tables/sinkdata/my_delta_table_2/_delta_log/00000000000000000001.json",
         "00000000000000000001.json",
         983,
         1742776902000
        ],
        [
         "dbfs:/FileStore/tables/sinkdata/my_delta_table_2/_delta_log/00000000000000000002.crc",
         "00000000000000000002.crc",
         2588,
         1742777013000
        ],
        [
         "dbfs:/FileStore/tables/sinkdata/my_delta_table_2/_delta_log/00000000000000000002.json",
         "00000000000000000002.json",
         1045,
         1742777010000
        ],
        [
         "dbfs:/FileStore/tables/sinkdata/my_delta_table_2/_delta_log/00000000000000000003.crc",
         "00000000000000000003.crc",
         3106,
         1742777018000
        ],
        [
         "dbfs:/FileStore/tables/sinkdata/my_delta_table_2/_delta_log/00000000000000000003.json",
         "00000000000000000003.json",
         1045,
         1742777016000
        ]
       ],
       "datasetInfos": [],
       "dbfsResultPath": null,
       "isJsonSchema": true,
       "metadata": {},
       "overflow": false,
       "plotOptions": {
        "customPlotOptions": {},
        "displayType": "table",
        "pivotAggregation": null,
        "pivotColumns": null,
        "xColumns": null,
        "yColumns": null
       },
       "removedWidgets": [],
       "schema": [
        {
         "metadata": "{}",
         "name": "path",
         "type": "\"string\""
        },
        {
         "metadata": "{}",
         "name": "name",
         "type": "\"string\""
        },
        {
         "metadata": "{}",
         "name": "size",
         "type": "\"long\""
        },
        {
         "metadata": "{}",
         "name": "modificationTime",
         "type": "\"long\""
        }
       ],
       "type": "table"
      }
     },
     "output_type": "display_data"
    }
   ],
   "source": [
    "%python\n",
    "display(dbutils.fs.ls(\"/FileStore/tables/sinkdata/my_delta_table_2/_delta_log/\"))"
   ]
  },
  {
   "cell_type": "code",
   "execution_count": 0,
   "metadata": {
    "application/vnd.databricks.v1+cell": {
     "cellMetadata": {
      "byteLimit": 2048000,
      "implicitDf": true,
      "rowLimit": 10000
     },
     "inputWidgets": {},
     "nuid": "3352fe9a-e8d6-4a5b-a9d8-12283444eb43",
     "showTitle": false,
     "tableResultSettingsMap": {},
     "title": ""
    }
   },
   "outputs": [
    {
     "output_type": "display_data",
     "data": {
      "text/html": [
       "<style scoped>\n",
       "  .table-result-container {\n",
       "    max-height: 300px;\n",
       "    overflow: auto;\n",
       "  }\n",
       "  table, th, td {\n",
       "    border: 1px solid black;\n",
       "    border-collapse: collapse;\n",
       "  }\n",
       "  th, td {\n",
       "    padding: 5px;\n",
       "  }\n",
       "  th {\n",
       "    text-align: left;\n",
       "  }\n",
       "</style><div class='table-result-container'><table class='table-result'><thead style='background-color: white'><tr><th>num_affected_rows</th></tr></thead><tbody><tr><td>1</td></tr></tbody></table></div>"
      ]
     },
     "metadata": {
      "application/vnd.databricks.v1+output": {
       "addedWidgets": {},
       "aggData": [],
       "aggError": "",
       "aggOverflow": false,
       "aggSchema": [],
       "aggSeriesLimitReached": false,
       "aggType": "",
       "arguments": {},
       "columnCustomDisplayInfos": {},
       "data": [
        [
         1
        ]
       ],
       "datasetInfos": [],
       "dbfsResultPath": null,
       "isJsonSchema": true,
       "metadata": {},
       "overflow": false,
       "plotOptions": {
        "customPlotOptions": {},
        "displayType": "table",
        "pivotAggregation": null,
        "pivotColumns": null,
        "xColumns": null,
        "yColumns": null
       },
       "removedWidgets": [],
       "schema": [
        {
         "metadata": "{}",
         "name": "num_affected_rows",
         "type": "\"long\""
        }
       ],
       "type": "table"
      }
     },
     "output_type": "display_data"
    }
   ],
   "source": [
    "%sql\n",
    "UPDATE bronze.my_delta_table_2\n",
    "set name='zz' where id=4"
   ]
  },
  {
   "cell_type": "code",
   "execution_count": 0,
   "metadata": {
    "application/vnd.databricks.v1+cell": {
     "cellMetadata": {
      "byteLimit": 2048000,
      "rowLimit": 10000
     },
     "inputWidgets": {},
     "nuid": "7cd106de-74a5-4d38-91c4-85b3efe2f6ed",
     "showTitle": false,
     "tableResultSettingsMap": {},
     "title": ""
    }
   },
   "outputs": [
    {
     "output_type": "display_data",
     "data": {
      "text/html": [
       "<style scoped>\n",
       "  .table-result-container {\n",
       "    max-height: 300px;\n",
       "    overflow: auto;\n",
       "  }\n",
       "  table, th, td {\n",
       "    border: 1px solid black;\n",
       "    border-collapse: collapse;\n",
       "  }\n",
       "  th, td {\n",
       "    padding: 5px;\n",
       "  }\n",
       "  th {\n",
       "    text-align: left;\n",
       "  }\n",
       "</style><div class='table-result-container'><table class='table-result'><thead style='background-color: white'><tr><th>path</th><th>name</th><th>size</th><th>modificationTime</th></tr></thead><tbody><tr><td>dbfs:/FileStore/tables/sinkdata/my_delta_table_2/_delta_log/</td><td>_delta_log/</td><td>0</td><td>0</td></tr><tr><td>dbfs:/FileStore/tables/sinkdata/my_delta_table_2/part-00000-56cbda33-075d-49fd-b37d-275f34f540c9-c000.snappy.parquet</td><td>part-00000-56cbda33-075d-49fd-b37d-275f34f540c9-c000.snappy.parquet</td><td>1062</td><td>1742777016000</td></tr><tr><td>dbfs:/FileStore/tables/sinkdata/my_delta_table_2/part-00000-c8bb0cde-e9a9-4c9b-ab19-96b23cf1d199-c000.snappy.parquet</td><td>part-00000-c8bb0cde-e9a9-4c9b-ab19-96b23cf1d199-c000.snappy.parquet</td><td>1062</td><td>1742777010000</td></tr><tr><td>dbfs:/FileStore/tables/sinkdata/my_delta_table_2/part-00000-e7c11153-0f2f-483c-9740-80df6db5c330-c000.snappy.parquet</td><td>part-00000-e7c11153-0f2f-483c-9740-80df6db5c330-c000.snappy.parquet</td><td>1062</td><td>1742777173000</td></tr></tbody></table></div>"
      ]
     },
     "metadata": {
      "application/vnd.databricks.v1+output": {
       "addedWidgets": {},
       "aggData": [],
       "aggError": "",
       "aggOverflow": false,
       "aggSchema": [],
       "aggSeriesLimitReached": false,
       "aggType": "",
       "arguments": {},
       "columnCustomDisplayInfos": {},
       "data": [
        [
         "dbfs:/FileStore/tables/sinkdata/my_delta_table_2/_delta_log/",
         "_delta_log/",
         0,
         0
        ],
        [
         "dbfs:/FileStore/tables/sinkdata/my_delta_table_2/part-00000-56cbda33-075d-49fd-b37d-275f34f540c9-c000.snappy.parquet",
         "part-00000-56cbda33-075d-49fd-b37d-275f34f540c9-c000.snappy.parquet",
         1062,
         1742777016000
        ],
        [
         "dbfs:/FileStore/tables/sinkdata/my_delta_table_2/part-00000-c8bb0cde-e9a9-4c9b-ab19-96b23cf1d199-c000.snappy.parquet",
         "part-00000-c8bb0cde-e9a9-4c9b-ab19-96b23cf1d199-c000.snappy.parquet",
         1062,
         1742777010000
        ],
        [
         "dbfs:/FileStore/tables/sinkdata/my_delta_table_2/part-00000-e7c11153-0f2f-483c-9740-80df6db5c330-c000.snappy.parquet",
         "part-00000-e7c11153-0f2f-483c-9740-80df6db5c330-c000.snappy.parquet",
         1062,
         1742777173000
        ]
       ],
       "datasetInfos": [],
       "dbfsResultPath": null,
       "isJsonSchema": true,
       "metadata": {},
       "overflow": false,
       "plotOptions": {
        "customPlotOptions": {},
        "displayType": "table",
        "pivotAggregation": null,
        "pivotColumns": null,
        "xColumns": null,
        "yColumns": null
       },
       "removedWidgets": [],
       "schema": [
        {
         "metadata": "{}",
         "name": "path",
         "type": "\"string\""
        },
        {
         "metadata": "{}",
         "name": "name",
         "type": "\"string\""
        },
        {
         "metadata": "{}",
         "name": "size",
         "type": "\"long\""
        },
        {
         "metadata": "{}",
         "name": "modificationTime",
         "type": "\"long\""
        }
       ],
       "type": "table"
      }
     },
     "output_type": "display_data"
    }
   ],
   "source": [
    "%python\n",
    "display(dbutils.fs.ls(\"/FileStore/tables/sinkdata/my_delta_table_2/\"))"
   ]
  },
  {
   "cell_type": "code",
   "execution_count": 0,
   "metadata": {
    "application/vnd.databricks.v1+cell": {
     "cellMetadata": {
      "byteLimit": 2048000,
      "rowLimit": 10000
     },
     "inputWidgets": {},
     "nuid": "0077f088-e9dd-42a0-89ab-f1aaa3b4887f",
     "showTitle": false,
     "tableResultSettingsMap": {},
     "title": ""
    }
   },
   "outputs": [
    {
     "output_type": "display_data",
     "data": {
      "text/html": [
       "<style scoped>\n",
       "  .table-result-container {\n",
       "    max-height: 300px;\n",
       "    overflow: auto;\n",
       "  }\n",
       "  table, th, td {\n",
       "    border: 1px solid black;\n",
       "    border-collapse: collapse;\n",
       "  }\n",
       "  th, td {\n",
       "    padding: 5px;\n",
       "  }\n",
       "  th {\n",
       "    text-align: left;\n",
       "  }\n",
       "</style><div class='table-result-container'><table class='table-result'><thead style='background-color: white'><tr><th>path</th><th>name</th><th>size</th><th>modificationTime</th></tr></thead><tbody><tr><td>dbfs:/FileStore/tables/sinkdata/my_delta_table_2/_delta_log/00000000000000000004.json</td><td>00000000000000000004.json</td><td>1638</td><td>1742777173000</td></tr></tbody></table></div>"
      ]
     },
     "metadata": {
      "application/vnd.databricks.v1+output": {
       "addedWidgets": {},
       "aggData": [],
       "aggError": "",
       "aggOverflow": false,
       "aggSchema": [],
       "aggSeriesLimitReached": false,
       "aggType": "",
       "arguments": {},
       "columnCustomDisplayInfos": {},
       "data": [
        [
         "dbfs:/FileStore/tables/sinkdata/my_delta_table_2/_delta_log/00000000000000000004.json",
         "00000000000000000004.json",
         1638,
         1742777173000
        ]
       ],
       "datasetInfos": [],
       "dbfsResultPath": null,
       "isJsonSchema": true,
       "metadata": {},
       "overflow": false,
       "plotOptions": {
        "customPlotOptions": {},
        "displayType": "table",
        "pivotAggregation": null,
        "pivotColumns": null,
        "xColumns": null,
        "yColumns": null
       },
       "removedWidgets": [],
       "schema": [
        {
         "metadata": "{}",
         "name": "path",
         "type": "\"string\""
        },
        {
         "metadata": "{}",
         "name": "name",
         "type": "\"string\""
        },
        {
         "metadata": "{}",
         "name": "size",
         "type": "\"long\""
        },
        {
         "metadata": "{}",
         "name": "modificationTime",
         "type": "\"long\""
        }
       ],
       "type": "table"
      }
     },
     "output_type": "display_data"
    },
    {
     "output_type": "display_data",
     "data": {
      "text/html": [
       "<style scoped>\n",
       "  .table-result-container {\n",
       "    max-height: 300px;\n",
       "    overflow: auto;\n",
       "  }\n",
       "  table, th, td {\n",
       "    border: 1px solid black;\n",
       "    border-collapse: collapse;\n",
       "  }\n",
       "  th, td {\n",
       "    padding: 5px;\n",
       "  }\n",
       "  th {\n",
       "    text-align: left;\n",
       "  }\n",
       "</style><div class='table-result-container'><table class='table-result'><thead style='background-color: white'><tr><th>add</th><th>commitInfo</th><th>remove</th></tr></thead><tbody><tr><td>null</td><td>List(0323-234530-3hiw1vs3, Databricks-Runtime/12.2.x-scala2.12, false, WriteSerializable, List(3081999854191859), UPDATE, List(3693, 1062, 0, 1, 1, 0, 0, 1062, 1, 1, 1160, 2508), List([\"(id#11140 = 4)\"]), 3, 1742777172424, 050bc946-c3fd-4b1a-a427-530f833821a8, 3992139588989231, bvandanareddy8@gmail.com)</td><td>null</td></tr><tr><td>null</td><td>null</td><td>List(true, 1742777172405, true, part-00000-56cbda33-075d-49fd-b37d-275f34f540c9-c000.snappy.parquet, 1062, List(1742777016000000, 1742777016000000, 1742777016000000, 268435456))</td></tr><tr><td>List(true, 1742777173000, part-00000-e7c11153-0f2f-483c-9740-80df6db5c330-c000.snappy.parquet, 1062, {\"numRecords\":2,\"minValues\":{\"id\":3,\"NAME\":\"XX\",\"salary\":100.0},\"maxValues\":{\"id\":4,\"NAME\":\"zz\",\"salary\":200.0},\"nullCount\":{\"id\":0,\"NAME\":0,\"salary\":0}}, List(1742777016000000, 1742777016000000, 1742777016000000, 268435456))</td><td>null</td><td>null</td></tr></tbody></table></div>"
      ]
     },
     "metadata": {
      "application/vnd.databricks.v1+output": {
       "addedWidgets": {},
       "aggData": [],
       "aggError": "",
       "aggOverflow": false,
       "aggSchema": [],
       "aggSeriesLimitReached": false,
       "aggType": "",
       "arguments": {},
       "columnCustomDisplayInfos": {},
       "data": [
        [
         null,
         [
          "0323-234530-3hiw1vs3",
          "Databricks-Runtime/12.2.x-scala2.12",
          false,
          "WriteSerializable",
          [
           "3081999854191859"
          ],
          "UPDATE",
          [
           "3693",
           "1062",
           "0",
           "1",
           "1",
           "0",
           "0",
           "1062",
           "1",
           "1",
           "1160",
           "2508"
          ],
          [
           "[\"(id#11140 = 4)\"]"
          ],
          3,
          1742777172424,
          "050bc946-c3fd-4b1a-a427-530f833821a8",
          "3992139588989231",
          "bvandanareddy8@gmail.com"
         ],
         null
        ],
        [
         null,
         null,
         [
          true,
          1742777172405,
          true,
          "part-00000-56cbda33-075d-49fd-b37d-275f34f540c9-c000.snappy.parquet",
          1062,
          [
           "1742777016000000",
           "1742777016000000",
           "1742777016000000",
           "268435456"
          ]
         ]
        ],
        [
         [
          true,
          1742777173000,
          "part-00000-e7c11153-0f2f-483c-9740-80df6db5c330-c000.snappy.parquet",
          1062,
          "{\"numRecords\":2,\"minValues\":{\"id\":3,\"NAME\":\"XX\",\"salary\":100.0},\"maxValues\":{\"id\":4,\"NAME\":\"zz\",\"salary\":200.0},\"nullCount\":{\"id\":0,\"NAME\":0,\"salary\":0}}",
          [
           "1742777016000000",
           "1742777016000000",
           "1742777016000000",
           "268435456"
          ]
         ],
         null,
         null
        ]
       ],
       "datasetInfos": [],
       "dbfsResultPath": null,
       "isJsonSchema": true,
       "metadata": {},
       "overflow": false,
       "plotOptions": {
        "customPlotOptions": {},
        "displayType": "table",
        "pivotAggregation": null,
        "pivotColumns": null,
        "xColumns": null,
        "yColumns": null
       },
       "removedWidgets": [],
       "schema": [
        {
         "metadata": "{}",
         "name": "add",
         "type": "{\"type\":\"struct\",\"fields\":[{\"name\":\"dataChange\",\"type\":\"boolean\",\"nullable\":true,\"metadata\":{}},{\"name\":\"modificationTime\",\"type\":\"long\",\"nullable\":true,\"metadata\":{}},{\"name\":\"path\",\"type\":\"string\",\"nullable\":true,\"metadata\":{}},{\"name\":\"size\",\"type\":\"long\",\"nullable\":true,\"metadata\":{}},{\"name\":\"stats\",\"type\":\"string\",\"nullable\":true,\"metadata\":{}},{\"name\":\"tags\",\"type\":{\"type\":\"struct\",\"fields\":[{\"name\":\"INSERTION_TIME\",\"type\":\"string\",\"nullable\":true,\"metadata\":{}},{\"name\":\"MAX_INSERTION_TIME\",\"type\":\"string\",\"nullable\":true,\"metadata\":{}},{\"name\":\"MIN_INSERTION_TIME\",\"type\":\"string\",\"nullable\":true,\"metadata\":{}},{\"name\":\"OPTIMIZE_TARGET_SIZE\",\"type\":\"string\",\"nullable\":true,\"metadata\":{}}]},\"nullable\":true,\"metadata\":{}}]}"
        },
        {
         "metadata": "{}",
         "name": "commitInfo",
         "type": "{\"type\":\"struct\",\"fields\":[{\"name\":\"clusterId\",\"type\":\"string\",\"nullable\":true,\"metadata\":{}},{\"name\":\"engineInfo\",\"type\":\"string\",\"nullable\":true,\"metadata\":{}},{\"name\":\"isBlindAppend\",\"type\":\"boolean\",\"nullable\":true,\"metadata\":{}},{\"name\":\"isolationLevel\",\"type\":\"string\",\"nullable\":true,\"metadata\":{}},{\"name\":\"notebook\",\"type\":{\"type\":\"struct\",\"fields\":[{\"name\":\"notebookId\",\"type\":\"string\",\"nullable\":true,\"metadata\":{}}]},\"nullable\":true,\"metadata\":{}},{\"name\":\"operation\",\"type\":\"string\",\"nullable\":true,\"metadata\":{}},{\"name\":\"operationMetrics\",\"type\":{\"type\":\"struct\",\"fields\":[{\"name\":\"executionTimeMs\",\"type\":\"string\",\"nullable\":true,\"metadata\":{}},{\"name\":\"numAddedBytes\",\"type\":\"string\",\"nullable\":true,\"metadata\":{}},{\"name\":\"numAddedChangeFiles\",\"type\":\"string\",\"nullable\":true,\"metadata\":{}},{\"name\":\"numAddedFiles\",\"type\":\"string\",\"nullable\":true,\"metadata\":{}},{\"name\":\"numCopiedRows\",\"type\":\"string\",\"nullable\":true,\"metadata\":{}},{\"name\":\"numDeletionVectorsAdded\",\"type\":\"string\",\"nullable\":true,\"metadata\":{}},{\"name\":\"numDeletionVectorsRemoved\",\"type\":\"string\",\"nullable\":true,\"metadata\":{}},{\"name\":\"numRemovedBytes\",\"type\":\"string\",\"nullable\":true,\"metadata\":{}},{\"name\":\"numRemovedFiles\",\"type\":\"string\",\"nullable\":true,\"metadata\":{}},{\"name\":\"numUpdatedRows\",\"type\":\"string\",\"nullable\":true,\"metadata\":{}},{\"name\":\"rewriteTimeMs\",\"type\":\"string\",\"nullable\":true,\"metadata\":{}},{\"name\":\"scanTimeMs\",\"type\":\"string\",\"nullable\":true,\"metadata\":{}}]},\"nullable\":true,\"metadata\":{}},{\"name\":\"operationParameters\",\"type\":{\"type\":\"struct\",\"fields\":[{\"name\":\"predicate\",\"type\":\"string\",\"nullable\":true,\"metadata\":{}}]},\"nullable\":true,\"metadata\":{}},{\"name\":\"readVersion\",\"type\":\"long\",\"nullable\":true,\"metadata\":{}},{\"name\":\"timestamp\",\"type\":\"long\",\"nullable\":true,\"metadata\":{}},{\"name\":\"txnId\",\"type\":\"string\",\"nullable\":true,\"metadata\":{}},{\"name\":\"userId\",\"type\":\"string\",\"nullable\":true,\"metadata\":{}},{\"name\":\"userName\",\"type\":\"string\",\"nullable\":true,\"metadata\":{}}]}"
        },
        {
         "metadata": "{}",
         "name": "remove",
         "type": "{\"type\":\"struct\",\"fields\":[{\"name\":\"dataChange\",\"type\":\"boolean\",\"nullable\":true,\"metadata\":{}},{\"name\":\"deletionTimestamp\",\"type\":\"long\",\"nullable\":true,\"metadata\":{}},{\"name\":\"extendedFileMetadata\",\"type\":\"boolean\",\"nullable\":true,\"metadata\":{}},{\"name\":\"path\",\"type\":\"string\",\"nullable\":true,\"metadata\":{}},{\"name\":\"size\",\"type\":\"long\",\"nullable\":true,\"metadata\":{}},{\"name\":\"tags\",\"type\":{\"type\":\"struct\",\"fields\":[{\"name\":\"INSERTION_TIME\",\"type\":\"string\",\"nullable\":true,\"metadata\":{}},{\"name\":\"MAX_INSERTION_TIME\",\"type\":\"string\",\"nullable\":true,\"metadata\":{}},{\"name\":\"MIN_INSERTION_TIME\",\"type\":\"string\",\"nullable\":true,\"metadata\":{}},{\"name\":\"OPTIMIZE_TARGET_SIZE\",\"type\":\"string\",\"nullable\":true,\"metadata\":{}}]},\"nullable\":true,\"metadata\":{}}]}"
        }
       ],
       "type": "table"
      }
     },
     "output_type": "display_data"
    }
   ],
   "source": [
    "%python\n",
    "display(dbutils.fs.ls(\"/FileStore/tables/sinkdata/my_delta_table_2/_delta_log/00000000000000000004.json\"))\n",
    "df=spark.read.json(\"dbfs:/FileStore/tables/sinkdata/my_delta_table_2/_delta_log/00000000000000000004.json\")\n",
    "display(df)"
   ]
  },
  {
   "cell_type": "code",
   "execution_count": 0,
   "metadata": {
    "application/vnd.databricks.v1+cell": {
     "cellMetadata": {
      "byteLimit": 2048000,
      "implicitDf": true,
      "rowLimit": 10000
     },
     "inputWidgets": {},
     "nuid": "ae4dcf54-6cd6-49ba-98c1-d5a0f7ce952d",
     "showTitle": false,
     "tableResultSettingsMap": {},
     "title": ""
    }
   },
   "outputs": [
    {
     "output_type": "display_data",
     "data": {
      "text/html": [
       "<style scoped>\n",
       "  .table-result-container {\n",
       "    max-height: 300px;\n",
       "    overflow: auto;\n",
       "  }\n",
       "  table, th, td {\n",
       "    border: 1px solid black;\n",
       "    border-collapse: collapse;\n",
       "  }\n",
       "  th, td {\n",
       "    padding: 5px;\n",
       "  }\n",
       "  th {\n",
       "    text-align: left;\n",
       "  }\n",
       "</style><div class='table-result-container'><table class='table-result'><thead style='background-color: white'><tr><th>id</th><th>NAME</th><th>salary</th></tr></thead><tbody><tr><td>1</td><td>AA</td><td>100.0</td></tr><tr><td>2</td><td>BB</td><td>200.0</td></tr><tr><td>3</td><td>XX</td><td>100.0</td></tr><tr><td>4</td><td>zz</td><td>200.0</td></tr></tbody></table></div>"
      ]
     },
     "metadata": {
      "application/vnd.databricks.v1+output": {
       "addedWidgets": {},
       "aggData": [],
       "aggError": "",
       "aggOverflow": false,
       "aggSchema": [],
       "aggSeriesLimitReached": false,
       "aggType": "",
       "arguments": {},
       "columnCustomDisplayInfos": {},
       "data": [
        [
         1,
         "AA",
         100.0
        ],
        [
         2,
         "BB",
         200.0
        ],
        [
         3,
         "XX",
         100.0
        ],
        [
         4,
         "zz",
         200.0
        ]
       ],
       "datasetInfos": [],
       "dbfsResultPath": null,
       "isJsonSchema": true,
       "metadata": {},
       "overflow": false,
       "plotOptions": {
        "customPlotOptions": {},
        "displayType": "table",
        "pivotAggregation": null,
        "pivotColumns": null,
        "xColumns": null,
        "yColumns": null
       },
       "removedWidgets": [],
       "schema": [
        {
         "metadata": "{}",
         "name": "id",
         "type": "\"integer\""
        },
        {
         "metadata": "{}",
         "name": "NAME",
         "type": "\"string\""
        },
        {
         "metadata": "{}",
         "name": "salary",
         "type": "\"double\""
        }
       ],
       "type": "table"
      }
     },
     "output_type": "display_data"
    }
   ],
   "source": [
    "%sql\n",
    "select * from bronze.my_delta_table_2"
   ]
  },
  {
   "cell_type": "code",
   "execution_count": 0,
   "metadata": {
    "application/vnd.databricks.v1+cell": {
     "cellMetadata": {
      "byteLimit": 2048000,
      "implicitDf": true,
      "rowLimit": 10000
     },
     "inputWidgets": {},
     "nuid": "9575bce5-98ff-4f9b-a155-e0297cb0689f",
     "showTitle": false,
     "tableResultSettingsMap": {},
     "title": ""
    }
   },
   "outputs": [
    {
     "output_type": "display_data",
     "data": {
      "text/html": [
       "<style scoped>\n",
       "  .table-result-container {\n",
       "    max-height: 300px;\n",
       "    overflow: auto;\n",
       "  }\n",
       "  table, th, td {\n",
       "    border: 1px solid black;\n",
       "    border-collapse: collapse;\n",
       "  }\n",
       "  th, td {\n",
       "    padding: 5px;\n",
       "  }\n",
       "  th {\n",
       "    text-align: left;\n",
       "  }\n",
       "</style><div class='table-result-container'><table class='table-result'><thead style='background-color: white'><tr><th>num_affected_rows</th></tr></thead><tbody><tr><td>1</td></tr></tbody></table></div>"
      ]
     },
     "metadata": {
      "application/vnd.databricks.v1+output": {
       "addedWidgets": {},
       "aggData": [],
       "aggError": "",
       "aggOverflow": false,
       "aggSchema": [],
       "aggSeriesLimitReached": false,
       "aggType": "",
       "arguments": {},
       "columnCustomDisplayInfos": {},
       "data": [
        [
         1
        ]
       ],
       "datasetInfos": [],
       "dbfsResultPath": null,
       "isJsonSchema": true,
       "metadata": {},
       "overflow": false,
       "plotOptions": {
        "customPlotOptions": {},
        "displayType": "table",
        "pivotAggregation": null,
        "pivotColumns": null,
        "xColumns": null,
        "yColumns": null
       },
       "removedWidgets": [],
       "schema": [
        {
         "metadata": "{}",
         "name": "num_affected_rows",
         "type": "\"long\""
        }
       ],
       "type": "table"
      }
     },
     "output_type": "display_data"
    }
   ],
   "source": [
    "%sql\n",
    "delete from bronze.my_delta_table_2\n",
    "where id=3"
   ]
  },
  {
   "cell_type": "code",
   "execution_count": 0,
   "metadata": {
    "application/vnd.databricks.v1+cell": {
     "cellMetadata": {
      "byteLimit": 2048000,
      "rowLimit": 10000
     },
     "inputWidgets": {},
     "nuid": "31083f29-c315-46c8-bfbb-c557e807b84d",
     "showTitle": false,
     "tableResultSettingsMap": {},
     "title": ""
    }
   },
   "outputs": [
    {
     "output_type": "display_data",
     "data": {
      "text/html": [
       "<style scoped>\n",
       "  .table-result-container {\n",
       "    max-height: 300px;\n",
       "    overflow: auto;\n",
       "  }\n",
       "  table, th, td {\n",
       "    border: 1px solid black;\n",
       "    border-collapse: collapse;\n",
       "  }\n",
       "  th, td {\n",
       "    padding: 5px;\n",
       "  }\n",
       "  th {\n",
       "    text-align: left;\n",
       "  }\n",
       "</style><div class='table-result-container'><table class='table-result'><thead style='background-color: white'><tr><th>add</th><th>commitInfo</th><th>remove</th></tr></thead><tbody><tr><td>null</td><td>List(0323-234530-3hiw1vs3, Databricks-Runtime/12.2.x-scala2.12, false, WriteSerializable, List(3081999854191859), DELETE, List(1675, 1052, 0, 1, 1, 1, 0, 0, 1062, 1, 788, 886), List([\"(id#12115 = 3)\"]), 4, 1742777888554, 081bad1d-2d60-4524-a04b-711ad854bb0e, 3992139588989231, bvandanareddy8@gmail.com)</td><td>null</td></tr><tr><td>null</td><td>null</td><td>List(true, 1742777888553, true, part-00000-e7c11153-0f2f-483c-9740-80df6db5c330-c000.snappy.parquet, 1062, List(1742777016000000, 1742777016000000, 1742777016000000, 268435456))</td></tr><tr><td>List(true, 1742777889000, part-00000-9218defd-3d31-4d41-ae77-8b7747c5d8ff-c000.snappy.parquet, 1052, {\"numRecords\":1,\"minValues\":{\"id\":4,\"NAME\":\"zz\",\"salary\":200.0},\"maxValues\":{\"id\":4,\"NAME\":\"zz\",\"salary\":200.0},\"nullCount\":{\"id\":0,\"NAME\":0,\"salary\":0}}, List(1742777016000000, 1742777016000000, 1742777016000000, 268435456))</td><td>null</td><td>null</td></tr></tbody></table></div>"
      ]
     },
     "metadata": {
      "application/vnd.databricks.v1+output": {
       "addedWidgets": {},
       "aggData": [],
       "aggError": "",
       "aggOverflow": false,
       "aggSchema": [],
       "aggSeriesLimitReached": false,
       "aggType": "",
       "arguments": {},
       "columnCustomDisplayInfos": {},
       "data": [
        [
         null,
         [
          "0323-234530-3hiw1vs3",
          "Databricks-Runtime/12.2.x-scala2.12",
          false,
          "WriteSerializable",
          [
           "3081999854191859"
          ],
          "DELETE",
          [
           "1675",
           "1052",
           "0",
           "1",
           "1",
           "1",
           "0",
           "0",
           "1062",
           "1",
           "788",
           "886"
          ],
          [
           "[\"(id#12115 = 3)\"]"
          ],
          4,
          1742777888554,
          "081bad1d-2d60-4524-a04b-711ad854bb0e",
          "3992139588989231",
          "bvandanareddy8@gmail.com"
         ],
         null
        ],
        [
         null,
         null,
         [
          true,
          1742777888553,
          true,
          "part-00000-e7c11153-0f2f-483c-9740-80df6db5c330-c000.snappy.parquet",
          1062,
          [
           "1742777016000000",
           "1742777016000000",
           "1742777016000000",
           "268435456"
          ]
         ]
        ],
        [
         [
          true,
          1742777889000,
          "part-00000-9218defd-3d31-4d41-ae77-8b7747c5d8ff-c000.snappy.parquet",
          1052,
          "{\"numRecords\":1,\"minValues\":{\"id\":4,\"NAME\":\"zz\",\"salary\":200.0},\"maxValues\":{\"id\":4,\"NAME\":\"zz\",\"salary\":200.0},\"nullCount\":{\"id\":0,\"NAME\":0,\"salary\":0}}",
          [
           "1742777016000000",
           "1742777016000000",
           "1742777016000000",
           "268435456"
          ]
         ],
         null,
         null
        ]
       ],
       "datasetInfos": [],
       "dbfsResultPath": null,
       "isJsonSchema": true,
       "metadata": {},
       "overflow": false,
       "plotOptions": {
        "customPlotOptions": {},
        "displayType": "table",
        "pivotAggregation": null,
        "pivotColumns": null,
        "xColumns": null,
        "yColumns": null
       },
       "removedWidgets": [],
       "schema": [
        {
         "metadata": "{}",
         "name": "add",
         "type": "{\"type\":\"struct\",\"fields\":[{\"name\":\"dataChange\",\"type\":\"boolean\",\"nullable\":true,\"metadata\":{}},{\"name\":\"modificationTime\",\"type\":\"long\",\"nullable\":true,\"metadata\":{}},{\"name\":\"path\",\"type\":\"string\",\"nullable\":true,\"metadata\":{}},{\"name\":\"size\",\"type\":\"long\",\"nullable\":true,\"metadata\":{}},{\"name\":\"stats\",\"type\":\"string\",\"nullable\":true,\"metadata\":{}},{\"name\":\"tags\",\"type\":{\"type\":\"struct\",\"fields\":[{\"name\":\"INSERTION_TIME\",\"type\":\"string\",\"nullable\":true,\"metadata\":{}},{\"name\":\"MAX_INSERTION_TIME\",\"type\":\"string\",\"nullable\":true,\"metadata\":{}},{\"name\":\"MIN_INSERTION_TIME\",\"type\":\"string\",\"nullable\":true,\"metadata\":{}},{\"name\":\"OPTIMIZE_TARGET_SIZE\",\"type\":\"string\",\"nullable\":true,\"metadata\":{}}]},\"nullable\":true,\"metadata\":{}}]}"
        },
        {
         "metadata": "{}",
         "name": "commitInfo",
         "type": "{\"type\":\"struct\",\"fields\":[{\"name\":\"clusterId\",\"type\":\"string\",\"nullable\":true,\"metadata\":{}},{\"name\":\"engineInfo\",\"type\":\"string\",\"nullable\":true,\"metadata\":{}},{\"name\":\"isBlindAppend\",\"type\":\"boolean\",\"nullable\":true,\"metadata\":{}},{\"name\":\"isolationLevel\",\"type\":\"string\",\"nullable\":true,\"metadata\":{}},{\"name\":\"notebook\",\"type\":{\"type\":\"struct\",\"fields\":[{\"name\":\"notebookId\",\"type\":\"string\",\"nullable\":true,\"metadata\":{}}]},\"nullable\":true,\"metadata\":{}},{\"name\":\"operation\",\"type\":\"string\",\"nullable\":true,\"metadata\":{}},{\"name\":\"operationMetrics\",\"type\":{\"type\":\"struct\",\"fields\":[{\"name\":\"executionTimeMs\",\"type\":\"string\",\"nullable\":true,\"metadata\":{}},{\"name\":\"numAddedBytes\",\"type\":\"string\",\"nullable\":true,\"metadata\":{}},{\"name\":\"numAddedChangeFiles\",\"type\":\"string\",\"nullable\":true,\"metadata\":{}},{\"name\":\"numAddedFiles\",\"type\":\"string\",\"nullable\":true,\"metadata\":{}},{\"name\":\"numCopiedRows\",\"type\":\"string\",\"nullable\":true,\"metadata\":{}},{\"name\":\"numDeletedRows\",\"type\":\"string\",\"nullable\":true,\"metadata\":{}},{\"name\":\"numDeletionVectorsAdded\",\"type\":\"string\",\"nullable\":true,\"metadata\":{}},{\"name\":\"numDeletionVectorsRemoved\",\"type\":\"string\",\"nullable\":true,\"metadata\":{}},{\"name\":\"numRemovedBytes\",\"type\":\"string\",\"nullable\":true,\"metadata\":{}},{\"name\":\"numRemovedFiles\",\"type\":\"string\",\"nullable\":true,\"metadata\":{}},{\"name\":\"rewriteTimeMs\",\"type\":\"string\",\"nullable\":true,\"metadata\":{}},{\"name\":\"scanTimeMs\",\"type\":\"string\",\"nullable\":true,\"metadata\":{}}]},\"nullable\":true,\"metadata\":{}},{\"name\":\"operationParameters\",\"type\":{\"type\":\"struct\",\"fields\":[{\"name\":\"predicate\",\"type\":\"string\",\"nullable\":true,\"metadata\":{}}]},\"nullable\":true,\"metadata\":{}},{\"name\":\"readVersion\",\"type\":\"long\",\"nullable\":true,\"metadata\":{}},{\"name\":\"timestamp\",\"type\":\"long\",\"nullable\":true,\"metadata\":{}},{\"name\":\"txnId\",\"type\":\"string\",\"nullable\":true,\"metadata\":{}},{\"name\":\"userId\",\"type\":\"string\",\"nullable\":true,\"metadata\":{}},{\"name\":\"userName\",\"type\":\"string\",\"nullable\":true,\"metadata\":{}}]}"
        },
        {
         "metadata": "{}",
         "name": "remove",
         "type": "{\"type\":\"struct\",\"fields\":[{\"name\":\"dataChange\",\"type\":\"boolean\",\"nullable\":true,\"metadata\":{}},{\"name\":\"deletionTimestamp\",\"type\":\"long\",\"nullable\":true,\"metadata\":{}},{\"name\":\"extendedFileMetadata\",\"type\":\"boolean\",\"nullable\":true,\"metadata\":{}},{\"name\":\"path\",\"type\":\"string\",\"nullable\":true,\"metadata\":{}},{\"name\":\"size\",\"type\":\"long\",\"nullable\":true,\"metadata\":{}},{\"name\":\"tags\",\"type\":{\"type\":\"struct\",\"fields\":[{\"name\":\"INSERTION_TIME\",\"type\":\"string\",\"nullable\":true,\"metadata\":{}},{\"name\":\"MAX_INSERTION_TIME\",\"type\":\"string\",\"nullable\":true,\"metadata\":{}},{\"name\":\"MIN_INSERTION_TIME\",\"type\":\"string\",\"nullable\":true,\"metadata\":{}},{\"name\":\"OPTIMIZE_TARGET_SIZE\",\"type\":\"string\",\"nullable\":true,\"metadata\":{}}]},\"nullable\":true,\"metadata\":{}}]}"
        }
       ],
       "type": "table"
      }
     },
     "output_type": "display_data"
    }
   ],
   "source": [
    "%python\n",
    "df=spark.read.json(\"dbfs:/FileStore/tables/sinkdata/my_delta_table_2/_delta_log/00000000000000000005.json\")\n",
    "display(df)"
   ]
  },
  {
   "cell_type": "code",
   "execution_count": 0,
   "metadata": {
    "application/vnd.databricks.v1+cell": {
     "cellMetadata": {
      "byteLimit": 2048000,
      "implicitDf": true,
      "rowLimit": 10000
     },
     "inputWidgets": {},
     "nuid": "f0d5f93c-2d51-4357-b006-b2b08293031d",
     "showTitle": false,
     "tableResultSettingsMap": {},
     "title": ""
    }
   },
   "outputs": [
    {
     "output_type": "display_data",
     "data": {
      "text/html": [
       "<style scoped>\n",
       "  .table-result-container {\n",
       "    max-height: 300px;\n",
       "    overflow: auto;\n",
       "  }\n",
       "  table, th, td {\n",
       "    border: 1px solid black;\n",
       "    border-collapse: collapse;\n",
       "  }\n",
       "  th, td {\n",
       "    padding: 5px;\n",
       "  }\n",
       "  th {\n",
       "    text-align: left;\n",
       "  }\n",
       "</style><div class='table-result-container'><table class='table-result'><thead style='background-color: white'><tr><th>version</th><th>timestamp</th><th>userId</th><th>userName</th><th>operation</th><th>operationParameters</th><th>job</th><th>notebook</th><th>clusterId</th><th>readVersion</th><th>isolationLevel</th><th>isBlindAppend</th><th>operationMetrics</th><th>userMetadata</th><th>engineInfo</th></tr></thead><tbody><tr><td>5</td><td>2025-03-24T00:58:09.000+0000</td><td>3992139588989231</td><td>bvandanareddy8@gmail.com</td><td>DELETE</td><td>Map(predicate -> [\"(id#12115 = 3)\"])</td><td>null</td><td>List(3081999854191859)</td><td>0323-234530-3hiw1vs3</td><td>4</td><td>WriteSerializable</td><td>false</td><td>Map(numRemovedFiles -> 1, numRemovedBytes -> 1062, numCopiedRows -> 1, numDeletionVectorsAdded -> 0, numDeletionVectorsRemoved -> 0, numAddedChangeFiles -> 0, executionTimeMs -> 1675, numDeletedRows -> 1, scanTimeMs -> 886, numAddedFiles -> 1, numAddedBytes -> 1052, rewriteTimeMs -> 788)</td><td>null</td><td>Databricks-Runtime/12.2.x-scala2.12</td></tr><tr><td>4</td><td>2025-03-24T00:46:13.000+0000</td><td>3992139588989231</td><td>bvandanareddy8@gmail.com</td><td>UPDATE</td><td>Map(predicate -> [\"(id#11140 = 4)\"])</td><td>null</td><td>List(3081999854191859)</td><td>0323-234530-3hiw1vs3</td><td>3</td><td>WriteSerializable</td><td>false</td><td>Map(numRemovedFiles -> 1, numRemovedBytes -> 1062, numCopiedRows -> 1, numDeletionVectorsAdded -> 0, numDeletionVectorsRemoved -> 0, numAddedChangeFiles -> 0, executionTimeMs -> 3693, scanTimeMs -> 2508, numAddedFiles -> 1, numUpdatedRows -> 1, numAddedBytes -> 1062, rewriteTimeMs -> 1160)</td><td>null</td><td>Databricks-Runtime/12.2.x-scala2.12</td></tr><tr><td>3</td><td>2025-03-24T00:43:36.000+0000</td><td>3992139588989231</td><td>bvandanareddy8@gmail.com</td><td>WRITE</td><td>Map(mode -> Append, partitionBy -> [])</td><td>null</td><td>List(3081999854191859)</td><td>0323-234530-3hiw1vs3</td><td>2</td><td>WriteSerializable</td><td>true</td><td>Map(numFiles -> 1, numOutputRows -> 2, numOutputBytes -> 1062)</td><td>null</td><td>Databricks-Runtime/12.2.x-scala2.12</td></tr><tr><td>2</td><td>2025-03-24T00:43:30.000+0000</td><td>3992139588989231</td><td>bvandanareddy8@gmail.com</td><td>WRITE</td><td>Map(mode -> Append, partitionBy -> [])</td><td>null</td><td>List(3081999854191859)</td><td>0323-234530-3hiw1vs3</td><td>1</td><td>WriteSerializable</td><td>true</td><td>Map(numFiles -> 1, numOutputRows -> 2, numOutputBytes -> 1062)</td><td>null</td><td>Databricks-Runtime/12.2.x-scala2.12</td></tr><tr><td>1</td><td>2025-03-24T00:41:42.000+0000</td><td>3992139588989231</td><td>bvandanareddy8@gmail.com</td><td>SET TBLPROPERTIES</td><td>Map(properties -> {\"delta.enableDeletionVectors\":\"false\"})</td><td>null</td><td>List(3081999854191859)</td><td>0323-234530-3hiw1vs3</td><td>0</td><td>WriteSerializable</td><td>true</td><td>Map()</td><td>null</td><td>Databricks-Runtime/12.2.x-scala2.12</td></tr><tr><td>0</td><td>2025-03-24T00:39:38.000+0000</td><td>3992139588989231</td><td>bvandanareddy8@gmail.com</td><td>CREATE TABLE</td><td>Map(isManaged -> false, description -> null, partitionBy -> [], properties -> {})</td><td>null</td><td>List(3081999854191859)</td><td>0323-234530-3hiw1vs3</td><td>null</td><td>WriteSerializable</td><td>true</td><td>Map()</td><td>null</td><td>Databricks-Runtime/12.2.x-scala2.12</td></tr></tbody></table></div>"
      ]
     },
     "metadata": {
      "application/vnd.databricks.v1+output": {
       "addedWidgets": {},
       "aggData": [],
       "aggError": "",
       "aggOverflow": false,
       "aggSchema": [],
       "aggSeriesLimitReached": false,
       "aggType": "",
       "arguments": {},
       "columnCustomDisplayInfos": {},
       "data": [
        [
         5,
         "2025-03-24T00:58:09.000+0000",
         "3992139588989231",
         "bvandanareddy8@gmail.com",
         "DELETE",
         {
          "predicate": "[\"(id#12115 = 3)\"]"
         },
         null,
         [
          "3081999854191859"
         ],
         "0323-234530-3hiw1vs3",
         4,
         "WriteSerializable",
         false,
         {
          "executionTimeMs": "1675",
          "numAddedBytes": "1052",
          "numAddedChangeFiles": "0",
          "numAddedFiles": "1",
          "numCopiedRows": "1",
          "numDeletedRows": "1",
          "numDeletionVectorsAdded": "0",
          "numDeletionVectorsRemoved": "0",
          "numRemovedBytes": "1062",
          "numRemovedFiles": "1",
          "rewriteTimeMs": "788",
          "scanTimeMs": "886"
         },
         null,
         "Databricks-Runtime/12.2.x-scala2.12"
        ],
        [
         4,
         "2025-03-24T00:46:13.000+0000",
         "3992139588989231",
         "bvandanareddy8@gmail.com",
         "UPDATE",
         {
          "predicate": "[\"(id#11140 = 4)\"]"
         },
         null,
         [
          "3081999854191859"
         ],
         "0323-234530-3hiw1vs3",
         3,
         "WriteSerializable",
         false,
         {
          "executionTimeMs": "3693",
          "numAddedBytes": "1062",
          "numAddedChangeFiles": "0",
          "numAddedFiles": "1",
          "numCopiedRows": "1",
          "numDeletionVectorsAdded": "0",
          "numDeletionVectorsRemoved": "0",
          "numRemovedBytes": "1062",
          "numRemovedFiles": "1",
          "numUpdatedRows": "1",
          "rewriteTimeMs": "1160",
          "scanTimeMs": "2508"
         },
         null,
         "Databricks-Runtime/12.2.x-scala2.12"
        ],
        [
         3,
         "2025-03-24T00:43:36.000+0000",
         "3992139588989231",
         "bvandanareddy8@gmail.com",
         "WRITE",
         {
          "mode": "Append",
          "partitionBy": "[]"
         },
         null,
         [
          "3081999854191859"
         ],
         "0323-234530-3hiw1vs3",
         2,
         "WriteSerializable",
         true,
         {
          "numFiles": "1",
          "numOutputBytes": "1062",
          "numOutputRows": "2"
         },
         null,
         "Databricks-Runtime/12.2.x-scala2.12"
        ],
        [
         2,
         "2025-03-24T00:43:30.000+0000",
         "3992139588989231",
         "bvandanareddy8@gmail.com",
         "WRITE",
         {
          "mode": "Append",
          "partitionBy": "[]"
         },
         null,
         [
          "3081999854191859"
         ],
         "0323-234530-3hiw1vs3",
         1,
         "WriteSerializable",
         true,
         {
          "numFiles": "1",
          "numOutputBytes": "1062",
          "numOutputRows": "2"
         },
         null,
         "Databricks-Runtime/12.2.x-scala2.12"
        ],
        [
         1,
         "2025-03-24T00:41:42.000+0000",
         "3992139588989231",
         "bvandanareddy8@gmail.com",
         "SET TBLPROPERTIES",
         {
          "properties": "{\"delta.enableDeletionVectors\":\"false\"}"
         },
         null,
         [
          "3081999854191859"
         ],
         "0323-234530-3hiw1vs3",
         0,
         "WriteSerializable",
         true,
         {},
         null,
         "Databricks-Runtime/12.2.x-scala2.12"
        ],
        [
         0,
         "2025-03-24T00:39:38.000+0000",
         "3992139588989231",
         "bvandanareddy8@gmail.com",
         "CREATE TABLE",
         {
          "description": null,
          "isManaged": "false",
          "partitionBy": "[]",
          "properties": "{}"
         },
         null,
         [
          "3081999854191859"
         ],
         "0323-234530-3hiw1vs3",
         null,
         "WriteSerializable",
         true,
         {},
         null,
         "Databricks-Runtime/12.2.x-scala2.12"
        ]
       ],
       "datasetInfos": [],
       "dbfsResultPath": null,
       "isJsonSchema": true,
       "metadata": {},
       "overflow": false,
       "plotOptions": {
        "customPlotOptions": {},
        "displayType": "table",
        "pivotAggregation": null,
        "pivotColumns": null,
        "xColumns": null,
        "yColumns": null
       },
       "removedWidgets": [],
       "schema": [
        {
         "metadata": "{}",
         "name": "version",
         "type": "\"long\""
        },
        {
         "metadata": "{}",
         "name": "timestamp",
         "type": "\"timestamp\""
        },
        {
         "metadata": "{}",
         "name": "userId",
         "type": "\"string\""
        },
        {
         "metadata": "{}",
         "name": "userName",
         "type": "\"string\""
        },
        {
         "metadata": "{}",
         "name": "operation",
         "type": "\"string\""
        },
        {
         "metadata": "{}",
         "name": "operationParameters",
         "type": "{\"type\":\"map\",\"keyType\":\"string\",\"valueType\":\"string\",\"valueContainsNull\":true}"
        },
        {
         "metadata": "{}",
         "name": "job",
         "type": "{\"type\":\"struct\",\"fields\":[{\"name\":\"jobId\",\"type\":\"string\",\"nullable\":true,\"metadata\":{}},{\"name\":\"jobName\",\"type\":\"string\",\"nullable\":true,\"metadata\":{}},{\"name\":\"jobRunId\",\"type\":\"string\",\"nullable\":true,\"metadata\":{}},{\"name\":\"runId\",\"type\":\"string\",\"nullable\":true,\"metadata\":{}},{\"name\":\"jobOwnerId\",\"type\":\"string\",\"nullable\":true,\"metadata\":{}},{\"name\":\"triggerType\",\"type\":\"string\",\"nullable\":true,\"metadata\":{}}]}"
        },
        {
         "metadata": "{}",
         "name": "notebook",
         "type": "{\"type\":\"struct\",\"fields\":[{\"name\":\"notebookId\",\"type\":\"string\",\"nullable\":true,\"metadata\":{}}]}"
        },
        {
         "metadata": "{}",
         "name": "clusterId",
         "type": "\"string\""
        },
        {
         "metadata": "{}",
         "name": "readVersion",
         "type": "\"long\""
        },
        {
         "metadata": "{}",
         "name": "isolationLevel",
         "type": "\"string\""
        },
        {
         "metadata": "{}",
         "name": "isBlindAppend",
         "type": "\"boolean\""
        },
        {
         "metadata": "{}",
         "name": "operationMetrics",
         "type": "{\"type\":\"map\",\"keyType\":\"string\",\"valueType\":\"string\",\"valueContainsNull\":true}"
        },
        {
         "metadata": "{}",
         "name": "userMetadata",
         "type": "\"string\""
        },
        {
         "metadata": "{}",
         "name": "engineInfo",
         "type": "\"string\""
        }
       ],
       "type": "table"
      }
     },
     "output_type": "display_data"
    }
   ],
   "source": [
    "%sql\n",
    "describe HISTORY bronze.my_delta_table_2"
   ]
  },
  {
   "cell_type": "code",
   "execution_count": 0,
   "metadata": {
    "application/vnd.databricks.v1+cell": {
     "cellMetadata": {
      "byteLimit": 2048000,
      "implicitDf": true,
      "rowLimit": 10000
     },
     "inputWidgets": {},
     "nuid": "39d77379-304a-403c-9c27-e3ae1795f59a",
     "showTitle": false,
     "tableResultSettingsMap": {},
     "title": ""
    }
   },
   "outputs": [
    {
     "output_type": "display_data",
     "data": {
      "text/html": [
       "<style scoped>\n",
       "  .table-result-container {\n",
       "    max-height: 300px;\n",
       "    overflow: auto;\n",
       "  }\n",
       "  table, th, td {\n",
       "    border: 1px solid black;\n",
       "    border-collapse: collapse;\n",
       "  }\n",
       "  th, td {\n",
       "    padding: 5px;\n",
       "  }\n",
       "  th {\n",
       "    text-align: left;\n",
       "  }\n",
       "</style><div class='table-result-container'><table class='table-result'><thead style='background-color: white'><tr><th>id</th><th>NAME</th><th>salary</th></tr></thead><tbody><tr><td>1</td><td>AA</td><td>100.0</td></tr><tr><td>2</td><td>BB</td><td>200.0</td></tr><tr><td>3</td><td>XX</td><td>100.0</td></tr><tr><td>4</td><td>zz</td><td>200.0</td></tr></tbody></table></div>"
      ]
     },
     "metadata": {
      "application/vnd.databricks.v1+output": {
       "addedWidgets": {},
       "aggData": [],
       "aggError": "",
       "aggOverflow": false,
       "aggSchema": [],
       "aggSeriesLimitReached": false,
       "aggType": "",
       "arguments": {},
       "columnCustomDisplayInfos": {},
       "data": [
        [
         1,
         "AA",
         100.0
        ],
        [
         2,
         "BB",
         200.0
        ],
        [
         3,
         "XX",
         100.0
        ],
        [
         4,
         "zz",
         200.0
        ]
       ],
       "datasetInfos": [],
       "dbfsResultPath": null,
       "isJsonSchema": true,
       "metadata": {},
       "overflow": false,
       "plotOptions": {
        "customPlotOptions": {},
        "displayType": "table",
        "pivotAggregation": null,
        "pivotColumns": null,
        "xColumns": null,
        "yColumns": null
       },
       "removedWidgets": [],
       "schema": [
        {
         "metadata": "{}",
         "name": "id",
         "type": "\"integer\""
        },
        {
         "metadata": "{}",
         "name": "NAME",
         "type": "\"string\""
        },
        {
         "metadata": "{}",
         "name": "salary",
         "type": "\"double\""
        }
       ],
       "type": "table"
      }
     },
     "output_type": "display_data"
    }
   ],
   "source": [
    "%sql\n",
    "select * from bronze.my_delta_table_2 version as of 4"
   ]
  },
  {
   "cell_type": "code",
   "execution_count": 0,
   "metadata": {
    "application/vnd.databricks.v1+cell": {
     "cellMetadata": {
      "byteLimit": 2048000,
      "implicitDf": true,
      "rowLimit": 10000
     },
     "inputWidgets": {},
     "nuid": "7293420c-8f66-4e58-ad23-9980cb9cf845",
     "showTitle": false,
     "tableResultSettingsMap": {},
     "title": ""
    }
   },
   "outputs": [
    {
     "output_type": "display_data",
     "data": {
      "text/html": [
       "<style scoped>\n",
       "  .table-result-container {\n",
       "    max-height: 300px;\n",
       "    overflow: auto;\n",
       "  }\n",
       "  table, th, td {\n",
       "    border: 1px solid black;\n",
       "    border-collapse: collapse;\n",
       "  }\n",
       "  th, td {\n",
       "    padding: 5px;\n",
       "  }\n",
       "  th {\n",
       "    text-align: left;\n",
       "  }\n",
       "</style><div class='table-result-container'><table class='table-result'><thead style='background-color: white'><tr><th>id</th><th>NAME</th><th>salary</th></tr></thead><tbody><tr><td>1</td><td>AA</td><td>100.0</td></tr><tr><td>2</td><td>BB</td><td>200.0</td></tr><tr><td>4</td><td>zz</td><td>200.0</td></tr></tbody></table></div>"
      ]
     },
     "metadata": {
      "application/vnd.databricks.v1+output": {
       "addedWidgets": {},
       "aggData": [],
       "aggError": "",
       "aggOverflow": false,
       "aggSchema": [],
       "aggSeriesLimitReached": false,
       "aggType": "",
       "arguments": {},
       "columnCustomDisplayInfos": {},
       "data": [
        [
         1,
         "AA",
         100.0
        ],
        [
         2,
         "BB",
         200.0
        ],
        [
         4,
         "zz",
         200.0
        ]
       ],
       "datasetInfos": [],
       "dbfsResultPath": null,
       "isJsonSchema": true,
       "metadata": {},
       "overflow": false,
       "plotOptions": {
        "customPlotOptions": {},
        "displayType": "table",
        "pivotAggregation": null,
        "pivotColumns": null,
        "xColumns": null,
        "yColumns": null
       },
       "removedWidgets": [],
       "schema": [
        {
         "metadata": "{}",
         "name": "id",
         "type": "\"integer\""
        },
        {
         "metadata": "{}",
         "name": "NAME",
         "type": "\"string\""
        },
        {
         "metadata": "{}",
         "name": "salary",
         "type": "\"double\""
        }
       ],
       "type": "table"
      }
     },
     "output_type": "display_data"
    }
   ],
   "source": [
    "%sql\n",
    "select * from bronze.my_delta_table_2"
   ]
  },
  {
   "cell_type": "code",
   "execution_count": 0,
   "metadata": {
    "application/vnd.databricks.v1+cell": {
     "cellMetadata": {
      "byteLimit": 2048000,
      "rowLimit": 10000
     },
     "inputWidgets": {},
     "nuid": "a8c3021a-dcfe-4da0-9070-8b53e68a5eb3",
     "showTitle": false,
     "tableResultSettingsMap": {},
     "title": ""
    }
   },
   "outputs": [
    {
     "output_type": "display_data",
     "data": {
      "text/html": [
       "<style scoped>\n",
       "  .table-result-container {\n",
       "    max-height: 300px;\n",
       "    overflow: auto;\n",
       "  }\n",
       "  table, th, td {\n",
       "    border: 1px solid black;\n",
       "    border-collapse: collapse;\n",
       "  }\n",
       "  th, td {\n",
       "    padding: 5px;\n",
       "  }\n",
       "  th {\n",
       "    text-align: left;\n",
       "  }\n",
       "</style><div class='table-result-container'><table class='table-result'><thead style='background-color: white'><tr><th>path</th></tr></thead><tbody><tr><td>dbfs:/FileStore/tables/sinkdata/my_delta_table_2</td></tr></tbody></table></div>"
      ]
     },
     "metadata": {
      "application/vnd.databricks.v1+output": {
       "addedWidgets": {},
       "aggData": [],
       "aggError": "",
       "aggOverflow": false,
       "aggSchema": [],
       "aggSeriesLimitReached": false,
       "aggType": "",
       "arguments": {},
       "columnCustomDisplayInfos": {},
       "data": [
        [
         "dbfs:/FileStore/tables/sinkdata/my_delta_table_2"
        ]
       ],
       "datasetInfos": [],
       "dbfsResultPath": null,
       "isJsonSchema": true,
       "metadata": {
        "isDbfsCommandResult": false
       },
       "overflow": false,
       "plotOptions": {
        "customPlotOptions": {},
        "displayType": "table",
        "pivotAggregation": null,
        "pivotColumns": null,
        "xColumns": null,
        "yColumns": null
       },
       "removedWidgets": [],
       "schema": [
        {
         "metadata": "{}",
         "name": "path",
         "type": "\"string\""
        }
       ],
       "type": "table"
      }
     },
     "output_type": "display_data"
    }
   ],
   "source": [
    "%sql\n",
    "VACuUM bronze.my_delta_table_2;\n"
   ]
  },
  {
   "cell_type": "code",
   "execution_count": 0,
   "metadata": {
    "application/vnd.databricks.v1+cell": {
     "cellMetadata": {
      "byteLimit": 2048000,
      "rowLimit": 10000
     },
     "inputWidgets": {},
     "nuid": "023023f8-c5c5-4b69-a967-4c7dfadf2dd1",
     "showTitle": false,
     "tableResultSettingsMap": {},
     "title": ""
    }
   },
   "outputs": [
    {
     "output_type": "display_data",
     "data": {
      "text/html": [
       "<style scoped>\n",
       "  .table-result-container {\n",
       "    max-height: 300px;\n",
       "    overflow: auto;\n",
       "  }\n",
       "  table, th, td {\n",
       "    border: 1px solid black;\n",
       "    border-collapse: collapse;\n",
       "  }\n",
       "  th, td {\n",
       "    padding: 5px;\n",
       "  }\n",
       "  th {\n",
       "    text-align: left;\n",
       "  }\n",
       "</style><div class='table-result-container'><table class='table-result'><thead style='background-color: white'><tr><th>path</th></tr></thead><tbody></tbody></table></div>"
      ]
     },
     "metadata": {
      "application/vnd.databricks.v1+output": {
       "addedWidgets": {},
       "aggData": [],
       "aggError": "",
       "aggOverflow": false,
       "aggSchema": [],
       "aggSeriesLimitReached": false,
       "aggType": "",
       "arguments": {},
       "columnCustomDisplayInfos": {},
       "data": [],
       "datasetInfos": [],
       "dbfsResultPath": null,
       "isJsonSchema": true,
       "metadata": {
        "isDbfsCommandResult": false
       },
       "overflow": false,
       "plotOptions": {
        "customPlotOptions": {},
        "displayType": "table",
        "pivotAggregation": null,
        "pivotColumns": null,
        "xColumns": null,
        "yColumns": null
       },
       "removedWidgets": [],
       "schema": [
        {
         "metadata": "{}",
         "name": "path",
         "type": "\"string\""
        }
       ],
       "type": "table"
      }
     },
     "output_type": "display_data"
    }
   ],
   "source": [
    "%sql\n",
    "VACuUM bronze.my_delta_table_2 DRY RUN;"
   ]
  },
  {
   "cell_type": "code",
   "execution_count": 0,
   "metadata": {
    "application/vnd.databricks.v1+cell": {
     "cellMetadata": {
      "byteLimit": 2048000,
      "rowLimit": 10000
     },
     "inputWidgets": {},
     "nuid": "f59f5648-204d-4cff-aef6-412834651705",
     "showTitle": false,
     "tableResultSettingsMap": {},
     "title": ""
    }
   },
   "outputs": [
    {
     "output_type": "display_data",
     "data": {
      "text/html": [
       "<style scoped>\n",
       "  .table-result-container {\n",
       "    max-height: 300px;\n",
       "    overflow: auto;\n",
       "  }\n",
       "  table, th, td {\n",
       "    border: 1px solid black;\n",
       "    border-collapse: collapse;\n",
       "  }\n",
       "  th, td {\n",
       "    padding: 5px;\n",
       "  }\n",
       "  th {\n",
       "    text-align: left;\n",
       "  }\n",
       "</style><div class='table-result-container'><table class='table-result'><thead style='background-color: white'><tr><th>key</th><th>value</th></tr></thead><tbody><tr><td>spark.databricks.delta.retentionDurationCheck.enabled</td><td>false</td></tr></tbody></table></div>"
      ]
     },
     "metadata": {
      "application/vnd.databricks.v1+output": {
       "addedWidgets": {},
       "aggData": [],
       "aggError": "",
       "aggOverflow": false,
       "aggSchema": [],
       "aggSeriesLimitReached": false,
       "aggType": "",
       "arguments": {},
       "columnCustomDisplayInfos": {},
       "data": [
        [
         "spark.databricks.delta.retentionDurationCheck.enabled",
         "false"
        ]
       ],
       "datasetInfos": [],
       "dbfsResultPath": null,
       "isJsonSchema": true,
       "metadata": {
        "isDbfsCommandResult": false
       },
       "overflow": false,
       "plotOptions": {
        "customPlotOptions": {},
        "displayType": "table",
        "pivotAggregation": null,
        "pivotColumns": null,
        "xColumns": null,
        "yColumns": null
       },
       "removedWidgets": [],
       "schema": [
        {
         "metadata": "{}",
         "name": "key",
         "type": "\"string\""
        },
        {
         "metadata": "{}",
         "name": "value",
         "type": "\"string\""
        }
       ],
       "type": "table"
      }
     },
     "output_type": "display_data"
    }
   ],
   "source": [
    "%sql\n",
    "SET spark.databricks.delta.retentionDurationCheck.enabled = false"
   ]
  },
  {
   "cell_type": "code",
   "execution_count": 0,
   "metadata": {
    "application/vnd.databricks.v1+cell": {
     "cellMetadata": {
      "byteLimit": 2048000,
      "rowLimit": 10000
     },
     "inputWidgets": {},
     "nuid": "d446273d-029e-4e39-a40c-4414e4699e67",
     "showTitle": false,
     "tableResultSettingsMap": {},
     "title": ""
    }
   },
   "outputs": [
    {
     "output_type": "display_data",
     "data": {
      "text/html": [
       "<style scoped>\n",
       "  .table-result-container {\n",
       "    max-height: 300px;\n",
       "    overflow: auto;\n",
       "  }\n",
       "  table, th, td {\n",
       "    border: 1px solid black;\n",
       "    border-collapse: collapse;\n",
       "  }\n",
       "  th, td {\n",
       "    padding: 5px;\n",
       "  }\n",
       "  th {\n",
       "    text-align: left;\n",
       "  }\n",
       "</style><div class='table-result-container'><table class='table-result'><thead style='background-color: white'><tr><th>path</th></tr></thead><tbody><tr><td>dbfs:/FileStore/tables/sinkdata/my_delta_table_2/part-00000-e7c11153-0f2f-483c-9740-80df6db5c330-c000.snappy.parquet</td></tr><tr><td>dbfs:/FileStore/tables/sinkdata/my_delta_table_2/part-00000-56cbda33-075d-49fd-b37d-275f34f540c9-c000.snappy.parquet</td></tr></tbody></table></div>"
      ]
     },
     "metadata": {
      "application/vnd.databricks.v1+output": {
       "addedWidgets": {},
       "aggData": [],
       "aggError": "",
       "aggOverflow": false,
       "aggSchema": [],
       "aggSeriesLimitReached": false,
       "aggType": "",
       "arguments": {},
       "columnCustomDisplayInfos": {},
       "data": [
        [
         "dbfs:/FileStore/tables/sinkdata/my_delta_table_2/part-00000-e7c11153-0f2f-483c-9740-80df6db5c330-c000.snappy.parquet"
        ],
        [
         "dbfs:/FileStore/tables/sinkdata/my_delta_table_2/part-00000-56cbda33-075d-49fd-b37d-275f34f540c9-c000.snappy.parquet"
        ]
       ],
       "datasetInfos": [],
       "dbfsResultPath": null,
       "isJsonSchema": true,
       "metadata": {
        "isDbfsCommandResult": false
       },
       "overflow": false,
       "plotOptions": {
        "customPlotOptions": {},
        "displayType": "table",
        "pivotAggregation": null,
        "pivotColumns": null,
        "xColumns": null,
        "yColumns": null
       },
       "removedWidgets": [],
       "schema": [
        {
         "metadata": "{}",
         "name": "path",
         "type": "\"string\""
        }
       ],
       "type": "table"
      }
     },
     "output_type": "display_data"
    }
   ],
   "source": [
    "%sql\n",
    "VACuUM bronze.my_delta_table_2 RETAIN 0 HOURS DRY RUN;"
   ]
  },
  {
   "cell_type": "code",
   "execution_count": 0,
   "metadata": {
    "application/vnd.databricks.v1+cell": {
     "cellMetadata": {
      "byteLimit": 2048000,
      "rowLimit": 10000
     },
     "inputWidgets": {},
     "nuid": "f1bd87cd-8ca7-481a-b849-7db929698c5e",
     "showTitle": false,
     "tableResultSettingsMap": {},
     "title": ""
    }
   },
   "outputs": [
    {
     "output_type": "display_data",
     "data": {
      "text/html": [
       "<style scoped>\n",
       "  .table-result-container {\n",
       "    max-height: 300px;\n",
       "    overflow: auto;\n",
       "  }\n",
       "  table, th, td {\n",
       "    border: 1px solid black;\n",
       "    border-collapse: collapse;\n",
       "  }\n",
       "  th, td {\n",
       "    padding: 5px;\n",
       "  }\n",
       "  th {\n",
       "    text-align: left;\n",
       "  }\n",
       "</style><div class='table-result-container'><table class='table-result'><thead style='background-color: white'><tr><th>path</th></tr></thead><tbody><tr><td>dbfs:/FileStore/tables/sinkdata/my_delta_table_2</td></tr></tbody></table></div>"
      ]
     },
     "metadata": {
      "application/vnd.databricks.v1+output": {
       "addedWidgets": {},
       "aggData": [],
       "aggError": "",
       "aggOverflow": false,
       "aggSchema": [],
       "aggSeriesLimitReached": false,
       "aggType": "",
       "arguments": {},
       "columnCustomDisplayInfos": {},
       "data": [
        [
         "dbfs:/FileStore/tables/sinkdata/my_delta_table_2"
        ]
       ],
       "datasetInfos": [],
       "dbfsResultPath": null,
       "isJsonSchema": true,
       "metadata": {
        "isDbfsCommandResult": false
       },
       "overflow": false,
       "plotOptions": {
        "customPlotOptions": {},
        "displayType": "table",
        "pivotAggregation": null,
        "pivotColumns": null,
        "xColumns": null,
        "yColumns": null
       },
       "removedWidgets": [],
       "schema": [
        {
         "metadata": "{}",
         "name": "path",
         "type": "\"string\""
        }
       ],
       "type": "table"
      }
     },
     "output_type": "display_data"
    }
   ],
   "source": [
    "%sql\n",
    "VACuUM bronze.my_delta_table_2 RETAIN 0 HOURS ;"
   ]
  },
  {
   "cell_type": "code",
   "execution_count": 0,
   "metadata": {
    "application/vnd.databricks.v1+cell": {
     "cellMetadata": {
      "byteLimit": 2048000,
      "rowLimit": 10000
     },
     "inputWidgets": {},
     "nuid": "aba5d42b-9bd1-4542-aeb3-d44b5b724681",
     "showTitle": false,
     "tableResultSettingsMap": {},
     "title": ""
    }
   },
   "outputs": [
    {
     "output_type": "display_data",
     "data": {
      "text/html": [
       "<style scoped>\n",
       "  .table-result-container {\n",
       "    max-height: 300px;\n",
       "    overflow: auto;\n",
       "  }\n",
       "  table, th, td {\n",
       "    border: 1px solid black;\n",
       "    border-collapse: collapse;\n",
       "  }\n",
       "  th, td {\n",
       "    padding: 5px;\n",
       "  }\n",
       "  th {\n",
       "    text-align: left;\n",
       "  }\n",
       "</style><div class='table-result-container'><table class='table-result'><thead style='background-color: white'><tr><th>path</th><th>name</th><th>size</th><th>modificationTime</th></tr></thead><tbody><tr><td>dbfs:/FileStore/tables/sinkdata/my_delta_table_2/_delta_log/</td><td>_delta_log/</td><td>0</td><td>0</td></tr><tr><td>dbfs:/FileStore/tables/sinkdata/my_delta_table_2/part-00000-9218defd-3d31-4d41-ae77-8b7747c5d8ff-c000.snappy.parquet</td><td>part-00000-9218defd-3d31-4d41-ae77-8b7747c5d8ff-c000.snappy.parquet</td><td>1052</td><td>1742777889000</td></tr><tr><td>dbfs:/FileStore/tables/sinkdata/my_delta_table_2/part-00000-c8bb0cde-e9a9-4c9b-ab19-96b23cf1d199-c000.snappy.parquet</td><td>part-00000-c8bb0cde-e9a9-4c9b-ab19-96b23cf1d199-c000.snappy.parquet</td><td>1062</td><td>1742777010000</td></tr></tbody></table></div>"
      ]
     },
     "metadata": {
      "application/vnd.databricks.v1+output": {
       "addedWidgets": {},
       "aggData": [],
       "aggError": "",
       "aggOverflow": false,
       "aggSchema": [],
       "aggSeriesLimitReached": false,
       "aggType": "",
       "arguments": {},
       "columnCustomDisplayInfos": {},
       "data": [
        [
         "dbfs:/FileStore/tables/sinkdata/my_delta_table_2/_delta_log/",
         "_delta_log/",
         0,
         0
        ],
        [
         "dbfs:/FileStore/tables/sinkdata/my_delta_table_2/part-00000-9218defd-3d31-4d41-ae77-8b7747c5d8ff-c000.snappy.parquet",
         "part-00000-9218defd-3d31-4d41-ae77-8b7747c5d8ff-c000.snappy.parquet",
         1052,
         1742777889000
        ],
        [
         "dbfs:/FileStore/tables/sinkdata/my_delta_table_2/part-00000-c8bb0cde-e9a9-4c9b-ab19-96b23cf1d199-c000.snappy.parquet",
         "part-00000-c8bb0cde-e9a9-4c9b-ab19-96b23cf1d199-c000.snappy.parquet",
         1062,
         1742777010000
        ]
       ],
       "datasetInfos": [],
       "dbfsResultPath": null,
       "isJsonSchema": true,
       "metadata": {},
       "overflow": false,
       "plotOptions": {
        "customPlotOptions": {},
        "displayType": "table",
        "pivotAggregation": null,
        "pivotColumns": null,
        "xColumns": null,
        "yColumns": null
       },
       "removedWidgets": [],
       "schema": [
        {
         "metadata": "{}",
         "name": "path",
         "type": "\"string\""
        },
        {
         "metadata": "{}",
         "name": "name",
         "type": "\"string\""
        },
        {
         "metadata": "{}",
         "name": "size",
         "type": "\"long\""
        },
        {
         "metadata": "{}",
         "name": "modificationTime",
         "type": "\"long\""
        }
       ],
       "type": "table"
      }
     },
     "output_type": "display_data"
    }
   ],
   "source": [
    "%python\n",
    "display(dbutils.fs.ls(\"/FileStore/tables/sinkdata/my_delta_table_2\"))"
   ]
  },
  {
   "cell_type": "code",
   "execution_count": 0,
   "metadata": {
    "application/vnd.databricks.v1+cell": {
     "cellMetadata": {
      "byteLimit": 2048000,
      "rowLimit": 10000
     },
     "inputWidgets": {},
     "nuid": "536581d8-d17d-4505-9705-7d2741a6e83a",
     "showTitle": false,
     "tableResultSettingsMap": {},
     "title": ""
    }
   },
   "outputs": [
    {
     "output_type": "display_data",
     "data": {
      "text/html": [
       "<style scoped>\n",
       "  .table-result-container {\n",
       "    max-height: 300px;\n",
       "    overflow: auto;\n",
       "  }\n",
       "  table, th, td {\n",
       "    border: 1px solid black;\n",
       "    border-collapse: collapse;\n",
       "  }\n",
       "  th, td {\n",
       "    padding: 5px;\n",
       "  }\n",
       "  th {\n",
       "    text-align: left;\n",
       "  }\n",
       "</style><div class='table-result-container'><table class='table-result'><thead style='background-color: white'><tr><th>path</th><th>name</th><th>size</th><th>modificationTime</th></tr></thead><tbody><tr><td>dbfs:/FileStore/tables/OpenTableFormat/</td><td>OpenTableFormat/</td><td>0</td><td>0</td></tr><tr><td>dbfs:/FileStore/tables/sales_data_first.csv</td><td>sales_data_first.csv</td><td>10300</td><td>1742774594000</td></tr><tr><td>dbfs:/FileStore/tables/sales_data_second.csv</td><td>sales_data_second.csv</td><td>3584</td><td>1742773946000</td></tr><tr><td>dbfs:/FileStore/tables/sales_data_third.csv</td><td>sales_data_third.csv</td><td>10603</td><td>1742773989000</td></tr><tr><td>dbfs:/FileStore/tables/sinkdata/</td><td>sinkdata/</td><td>0</td><td>0</td></tr></tbody></table></div>"
      ]
     },
     "metadata": {
      "application/vnd.databricks.v1+output": {
       "addedWidgets": {},
       "aggData": [],
       "aggError": "",
       "aggOverflow": false,
       "aggSchema": [],
       "aggSeriesLimitReached": false,
       "aggType": "",
       "arguments": {},
       "columnCustomDisplayInfos": {},
       "data": [
        [
         "dbfs:/FileStore/tables/OpenTableFormat/",
         "OpenTableFormat/",
         0,
         0
        ],
        [
         "dbfs:/FileStore/tables/sales_data_first.csv",
         "sales_data_first.csv",
         10300,
         1742774594000
        ],
        [
         "dbfs:/FileStore/tables/sales_data_second.csv",
         "sales_data_second.csv",
         3584,
         1742773946000
        ],
        [
         "dbfs:/FileStore/tables/sales_data_third.csv",
         "sales_data_third.csv",
         10603,
         1742773989000
        ],
        [
         "dbfs:/FileStore/tables/sinkdata/",
         "sinkdata/",
         0,
         0
        ]
       ],
       "datasetInfos": [],
       "dbfsResultPath": null,
       "isJsonSchema": true,
       "metadata": {},
       "overflow": false,
       "plotOptions": {
        "customPlotOptions": {},
        "displayType": "table",
        "pivotAggregation": null,
        "pivotColumns": null,
        "xColumns": null,
        "yColumns": null
       },
       "removedWidgets": [],
       "schema": [
        {
         "metadata": "{}",
         "name": "path",
         "type": "\"string\""
        },
        {
         "metadata": "{}",
         "name": "name",
         "type": "\"string\""
        },
        {
         "metadata": "{}",
         "name": "size",
         "type": "\"long\""
        },
        {
         "metadata": "{}",
         "name": "modificationTime",
         "type": "\"long\""
        }
       ],
       "type": "table"
      }
     },
     "output_type": "display_data"
    }
   ],
   "source": [
    "%python\n",
    "display(dbutils.fs.ls(\"/FileStore/tables/\"))"
   ]
  },
  {
   "cell_type": "code",
   "execution_count": 0,
   "metadata": {
    "application/vnd.databricks.v1+cell": {
     "cellMetadata": {
      "byteLimit": 2048000,
      "rowLimit": 10000
     },
     "inputWidgets": {},
     "nuid": "72216d8e-5c0a-4e03-8b04-4b93edf12d1e",
     "showTitle": false,
     "tableResultSettingsMap": {},
     "title": ""
    }
   },
   "outputs": [
    {
     "output_type": "display_data",
     "data": {
      "text/html": [
       "<style scoped>\n",
       "  .table-result-container {\n",
       "    max-height: 300px;\n",
       "    overflow: auto;\n",
       "  }\n",
       "  table, th, td {\n",
       "    border: 1px solid black;\n",
       "    border-collapse: collapse;\n",
       "  }\n",
       "  th, td {\n",
       "    padding: 5px;\n",
       "  }\n",
       "  th {\n",
       "    text-align: left;\n",
       "  }\n",
       "</style><div class='table-result-container'><table class='table-result'><thead style='background-color: white'><tr><th>Branch_ID</th><th>Dealer_ID</th><th>Model_ID</th><th>Revenue</th><th>Units_Sold</th><th>Date_ID</th><th>Month</th><th>Year</th><th>BranchName</th><th>DealerName</th><th>Product_Name</th><th>Date</th><th>ReturnFlag</th></tr></thead><tbody><tr><td>BR1625</td><td>DLR0083</td><td>Che-M43</td><td>5608623</td><td>3</td><td>DT01151</td><td>2</td><td>2020</td><td>Ranger Motors</td><td>Honda India Motors</td><td>Chevrolet</td><td>2/25/2020 0:00</td><td>1</td></tr><tr><td>BR1630</td><td>DLR0250</td><td>Mah-M170</td><td>4796736</td><td>1</td><td>DT01139</td><td>2</td><td>2020</td><td>Ranger Motors</td><td>Aixam-Mega (including Arola) Motors</td><td>Mahindra</td><td>2/13/2020 0:00</td><td>1</td></tr><tr><td>BR1635</td><td>DLR0084</td><td>Che-M44</td><td>7473819</td><td>3</td><td>DT01152</td><td>2</td><td>2020</td><td>Reliant Motors</td><td>Hudson Motors</td><td>Chevrolet</td><td>2/26/2020 0:00</td><td>1</td></tr><tr><td>BR1640</td><td>DLR0251</td><td>Mah-M171</td><td>19794014</td><td>2</td><td>DT01140</td><td>2</td><td>2020</td><td>Reliant Motors</td><td>Alfa Romeo Motors</td><td>Mahindra</td><td>2/14/2020 0:00</td><td>1</td></tr><tr><td>BR1655</td><td>DLR0086</td><td>Che-M46</td><td>15077118</td><td>2</td><td>DT01154</td><td>2</td><td>2020</td><td>Rivian Motors</td><td>Hummer Motors</td><td>Chevrolet</td><td>2/28/2020 0:00</td><td>1</td></tr><tr><td>BR1660</td><td>DLR0253</td><td>Mah-M173</td><td>1134198</td><td>2</td><td>DT01142</td><td>2</td><td>2020</td><td>Rivian Motors</td><td>Alvis Motors</td><td>Mahindra</td><td>2/16/2020 0:00</td><td>1</td></tr><tr><td>BR1665</td><td>DLR0087</td><td>Che-M47</td><td>7622398</td><td>1</td><td>DT01155</td><td>2</td><td>2020</td><td>Rolls-Royce Motors</td><td>Hyundai Motors</td><td>Chevrolet</td><td>2/29/2020 0:00</td><td>1</td></tr><tr><td>BR1670</td><td>DLR0254</td><td>Mah-M174</td><td>6473726</td><td>1</td><td>DT01143</td><td>2</td><td>2020</td><td>Rolls-Royce Motors</td><td>AMC, Eagle Motors</td><td>Mahindra</td><td>2/17/2020 0:00</td><td>1</td></tr><tr><td>BR1680</td><td>DLR0255</td><td>Mah-M175</td><td>10287849</td><td>3</td><td>DT01144</td><td>2</td><td>2020</td><td>Saab Motors</td><td>Anadol Motors</td><td>Mahindra</td><td>2/18/2020 0:00</td><td>1</td></tr><tr><td>BR1685</td><td>DLR0089</td><td>Che-M49</td><td>2232010</td><td>1</td><td>DT01157</td><td>3</td><td>2020</td><td>SAIC Motor Motors</td><td>Infiniti Motors</td><td>Chevrolet</td><td>3/2/2020 0:00</td><td>1</td></tr><tr><td>BR1690</td><td>DLR0256</td><td>Mah-M176</td><td>9633912</td><td>2</td><td>DT01145</td><td>2</td><td>2020</td><td>SAIC Motor Motors</td><td>Ariel Motors</td><td>Mahindra</td><td>2/19/2020 0:00</td><td>1</td></tr><tr><td>BR1700</td><td>DLR0257</td><td>Mah-M177</td><td>3198540</td><td>3</td><td>DT01146</td><td>2</td><td>2020</td><td>Saleen Motors</td><td>ARO Motors</td><td>Mahindra</td><td>2/20/2020 0:00</td><td>1</td></tr><tr><td>BR1710</td><td>DLR0258</td><td>Mah-M178</td><td>8638572</td><td>2</td><td>DT01147</td><td>2</td><td>2020</td><td>Samsung Motors</td><td>null</td><td>Mahindra</td><td>2/21/2020 0:00</td><td>1</td></tr><tr><td>BR1715</td><td>DLR0092</td><td>GMC-M52</td><td>10283534</td><td>2</td><td>DT01160</td><td>3</td><td>2020</td><td>San Motors</td><td>Isdera Motors</td><td>GMC</td><td>3/5/2020 0:00</td><td>1</td></tr><tr><td>BR1720</td><td>DLR0259</td><td>Tat-M179</td><td>2656204</td><td>2</td><td>DT01148</td><td>2</td><td>2020</td><td>San Motors</td><td>Asia Motors Motors</td><td>Tata</td><td>2/22/2020 0:00</td><td>1</td></tr><tr><td>BR1725</td><td>DLR0093</td><td>GMC-M53</td><td>3508984</td><td>1</td><td>DT01161</td><td>3</td><td>2020</td><td>Santa Matilde Motors</td><td>Iso Motors</td><td>GMC</td><td>3/6/2020 0:00</td><td>1</td></tr><tr><td>BR1735</td><td>DLR0094</td><td>GMC-M54</td><td>8238429</td><td>3</td><td>DT01162</td><td>3</td><td>2020</td><td>Santana Motors</td><td>Isotta Fraschini Motors</td><td>GMC</td><td>3/7/2020 0:00</td><td>1</td></tr><tr><td>BR1745</td><td>DLR0095</td><td>GMC-M55</td><td>19930602</td><td>2</td><td>DT01163</td><td>3</td><td>2020</td><td>Saturn Motors</td><td>Isuzu Motors</td><td>GMC</td><td>3/8/2020 0:00</td><td>1</td></tr><tr><td>BR1750</td><td>DLR0262</td><td>Tat-M182</td><td>10592974</td><td>2</td><td>DT01151</td><td>2</td><td>2020</td><td>Saturn Motors</td><td>Autobianchi Motors</td><td>Tata</td><td>2/25/2020 0:00</td><td>1</td></tr><tr><td>BR1755</td><td>DLR0096</td><td>GMC-M56</td><td>19774090</td><td>2</td><td>DT01164</td><td>3</td><td>2020</td><td>Scion Motors</td><td>Iveco Motors</td><td>GMC</td><td>3/9/2020 0:00</td><td>1</td></tr><tr><td>BR1765</td><td>DLR0097</td><td>GMC-M57</td><td>16250655</td><td>3</td><td>DT01165</td><td>3</td><td>2020</td><td>Seat Motors</td><td>Jaguar Motors</td><td>GMC</td><td>3/10/2020 0:00</td><td>1</td></tr><tr><td>BR1770</td><td>DLR0264</td><td>Tat-M184</td><td>8789076</td><td>2</td><td>DT01153</td><td>2</td><td>2020</td><td>Seat Motors</td><td>Auverland Motors</td><td>Tata</td><td>2/27/2020 0:00</td><td>1</td></tr><tr><td>BR1780</td><td>DLR0265</td><td>Tat-M185</td><td>5907291</td><td>1</td><td>DT01154</td><td>2</td><td>2020</td><td>Shelby SuperCars Motors</td><td>Bentley Motors</td><td>Tata</td><td>2/28/2020 0:00</td><td>1</td></tr><tr><td>BR1785</td><td>DLR0099</td><td>Acu-M59</td><td>8656704</td><td>3</td><td>DT01167</td><td>3</td><td>2020</td><td>Simca Motors</td><td>Jensen Motors</td><td>Acura</td><td>3/12/2020 0:00</td><td>1</td></tr><tr><td>BR1795</td><td>DLR0100</td><td>Acu-M60</td><td>3338625</td><td>3</td><td>DT01168</td><td>3</td><td>2020</td><td>Simca do Brasil Motors</td><td>JPX Motors</td><td>Acura</td><td>3/13/2020 0:00</td><td>1</td></tr><tr><td>BR1800</td><td>DLR0267</td><td>Tat-M187</td><td>6558027</td><td>3</td><td>DT01156</td><td>3</td><td>2020</td><td>Simca do Brasil Motors</td><td>BMW Motors</td><td>Tata</td><td>3/1/2020 0:00</td><td>1</td></tr><tr><td>BR1805</td><td>DLR0101</td><td>Acu-M61</td><td>6868940</td><td>1</td><td>DT01169</td><td>3</td><td>2020</td><td>Singer Motors</td><td>Kia Motors</td><td>Acura</td><td>3/14/2020 0:00</td><td>1</td></tr><tr><td>BR1815</td><td>DLR0102</td><td>Acu-M62</td><td>9592556</td><td>1</td><td>DT01170</td><td>3</td><td>2020</td><td>Skoda Motors</td><td>Koenigsegg Motors</td><td>Acura</td><td>3/15/2020 0:00</td><td>1</td></tr><tr><td>BR1820</td><td>DLR0002</td><td>Tat-M189</td><td>2847247</td><td>1</td><td>DT01158</td><td>3</td><td>2020</td><td>Skoda Motors</td><td>Acura Motors</td><td>Tata</td><td>3/3/2020 0:00</td><td>1</td></tr><tr><td>BR1830</td><td>DLR0003</td><td>Tat-M190</td><td>8462551</td><td>1</td><td>DT01159</td><td>3</td><td>2020</td><td>Smart Motors</td><td>Aixam-Mega (including Arola) Motors</td><td>Tata</td><td>3/4/2020 0:00</td><td>1</td></tr><tr><td>BR1835</td><td>DLR0104</td><td>Hon-M64</td><td>18031704</td><td>2</td><td>DT01172</td><td>3</td><td>2020</td><td>Spyker Motors</td><td>Lada Motors</td><td>Honda</td><td>3/17/2020 0:00</td><td>1</td></tr><tr><td>BR1840</td><td>DLR0004</td><td>Tat-M191</td><td>14824880</td><td>2</td><td>DT01160</td><td>3</td><td>2020</td><td>Spyker Motors</td><td>Alfa Romeo Motors</td><td>Tata</td><td>3/5/2020 0:00</td><td>1</td></tr><tr><td>BR1845</td><td>DLR0105</td><td>Hon-M65</td><td>19645278</td><td>3</td><td>DT01173</td><td>3</td><td>2020</td><td>SsangYong Motors</td><td>Lamborghini Motors</td><td>Honda</td><td>3/18/2020 0:00</td><td>1</td></tr><tr><td>BR1855</td><td>DLR0106</td><td>Hon-M66</td><td>12924729</td><td>3</td><td>DT01174</td><td>3</td><td>2020</td><td>Standard-Triumph Motors</td><td>Lancia Motors</td><td>Honda</td><td>3/19/2020 0:00</td><td>1</td></tr><tr><td>BR1860</td><td>DLR0006</td><td>Tat-M193</td><td>19782228</td><td>3</td><td>DT01162</td><td>3</td><td>2020</td><td>Standard-Triumph Motors</td><td>Alvis Motors</td><td>Tata</td><td>3/7/2020 0:00</td><td>1</td></tr><tr><td>BR1865</td><td>DLR0107</td><td>Hon-M67</td><td>17791749</td><td>3</td><td>DT01175</td><td>3</td><td>2020</td><td>Studebaker Motors</td><td>Land Rover Motors</td><td>Honda</td><td>3/20/2020 0:00</td><td>1</td></tr><tr><td>BR1875</td><td>DLR0108</td><td>Hon-M68</td><td>2569118</td><td>2</td><td>DT01176</td><td>3</td><td>2020</td><td>Subaru Motors</td><td>Lexus Motors</td><td>Honda</td><td>3/21/2020 0:00</td><td>1</td></tr><tr><td>BR1880</td><td>DLR0008</td><td>Toy-M195</td><td>9541679</td><td>1</td><td>DT01164</td><td>3</td><td>2020</td><td>Subaru Motors</td><td>Anadol Motors</td><td>Toyota</td><td>3/9/2020 0:00</td><td>1</td></tr><tr><td>BR1895</td><td>DLR0110</td><td>Hon-M70</td><td>13877574</td><td>2</td><td>DT01178</td><td>3</td><td>2020</td><td>Suzuki Motors</td><td>Lincoln Motors</td><td>Honda</td><td>3/23/2020 0:00</td><td>1</td></tr><tr><td>BR1905</td><td>DLR0111</td><td>Hon-M71</td><td>26277687</td><td>3</td><td>DT01179</td><td>3</td><td>2020</td><td>Tata Motors</td><td>Lotus Motors</td><td>Honda</td><td>3/24/2020 0:00</td><td>1</td></tr><tr><td>BR1910</td><td>DLR0011</td><td>Toy-M198</td><td>9387408</td><td>2</td><td>DT01167</td><td>3</td><td>2020</td><td>Tata Motors</td><td>Artega Motors</td><td>Toyota</td><td>3/12/2020 0:00</td><td>1</td></tr><tr><td>BR1915</td><td>DLR0112</td><td>Hyu-M72</td><td>2145815</td><td>1</td><td>DT01180</td><td>3</td><td>2020</td><td>Tatra Motors</td><td>LTI Motors</td><td>Hyundai</td><td>3/25/2020 0:00</td><td>1</td></tr><tr><td>BR1920</td><td>DLR0012</td><td>Toy-M199</td><td>8137212</td><td>2</td><td>DT01168</td><td>3</td><td>2020</td><td>Tatra Motors</td><td>Asia Motors Motors</td><td>Toyota</td><td>3/13/2020 0:00</td><td>1</td></tr><tr><td>BR1925</td><td>DLR0113</td><td>Hyu-M73</td><td>7259016</td><td>2</td><td>DT01181</td><td>3</td><td>2020</td><td>Tazzari Motors</td><td>LuAZ Motors</td><td>Hyundai</td><td>3/26/2020 0:00</td><td>1</td></tr><tr><td>BR1930</td><td>DLR0013</td><td>Toy-M200</td><td>27872751</td><td>3</td><td>DT01169</td><td>3</td><td>2020</td><td>Tazzari Motors</td><td>Aston Martin Motors</td><td>Toyota</td><td>3/14/2020 0:00</td><td>1</td></tr><tr><td>BR1935</td><td>DLR0114</td><td>Hyu-M74</td><td>1988116</td><td>2</td><td>DT01182</td><td>3</td><td>2020</td><td>Tesla Motors</td><td>Lynx Motors</td><td>Hyundai</td><td>3/27/2020 0:00</td><td>1</td></tr><tr><td>BR1940</td><td>DLR0014</td><td>Toy-M201</td><td>8464536</td><td>2</td><td>DT01170</td><td>3</td><td>2020</td><td>Tesla Motors</td><td>Audi Motors</td><td>Toyota</td><td>3/15/2020 0:00</td><td>1</td></tr><tr><td>BR1945</td><td>DLR0115</td><td>Hyu-M75</td><td>15778162</td><td>2</td><td>DT01183</td><td>3</td><td>2020</td><td>Tornado Motors</td><td>Mahindra Motors</td><td>Hyundai</td><td>3/28/2020 0:00</td><td>1</td></tr><tr><td>BR1955</td><td>DLR0116</td><td>Kia-M76</td><td>2167212</td><td>3</td><td>DT01184</td><td>3</td><td>2020</td><td>Toyota Motors</td><td>Marcos Motors</td><td>Kia</td><td>3/29/2020 0:00</td><td>1</td></tr><tr><td>BR1960</td><td>DLR0016</td><td>Toy-M203</td><td>4420992</td><td>1</td><td>DT01172</td><td>3</td><td>2020</td><td>Toyota Motors</td><td>Auto-Union Motors</td><td>Toyota</td><td>3/17/2020 0:00</td><td>1</td></tr><tr><td>BR1965</td><td>DLR0117</td><td>Kia-M77</td><td>9918502</td><td>2</td><td>DT01185</td><td>3</td><td>2020</td><td>Toyota India Motors</td><td>Marlin Motors</td><td>Kia</td><td>3/30/2020 0:00</td><td>1</td></tr><tr><td>BR1975</td><td>DLR0118</td><td>Kia-M78</td><td>12487035</td><td>3</td><td>DT01186</td><td>3</td><td>2020</td><td>Turner Motors</td><td>Maruti Motors</td><td>Kia</td><td>3/31/2020 0:00</td><td>1</td></tr><tr><td>BR1980</td><td>DLR0018</td><td>Toy-M205</td><td>18797763</td><td>3</td><td>DT01174</td><td>3</td><td>2020</td><td>Turner Motors</td><td>Bentley Motors</td><td>Toyota</td><td>3/19/2020 0:00</td><td>1</td></tr><tr><td>BR1985</td><td>DLR0119</td><td>Inf-M79</td><td>1185524</td><td>2</td><td>DT01187</td><td>4</td><td>2020</td><td>TVR Motors</td><td>Maserati Motors</td><td>Infiniti</td><td>4/1/2020 0:00</td><td>1</td></tr><tr><td>BR1990</td><td>DLR0019</td><td>Toy-M206</td><td>16819923</td><td>3</td><td>DT01175</td><td>3</td><td>2020</td><td>TVR Motors</td><td>Bitter Motors</td><td>Toyota</td><td>3/20/2020 0:00</td><td>1</td></tr><tr><td>BR2000</td><td>DLR0020</td><td>Ren-M207</td><td>26641407</td><td>3</td><td>DT01176</td><td>3</td><td>2020</td><td>UAZ Motors</td><td>BMW Motors</td><td>Renault</td><td>3/21/2020 0:00</td><td>1</td></tr><tr><td>BR2005</td><td>DLR0121</td><td>Nis-M81</td><td>29104182</td><td>3</td><td>DT01189</td><td>4</td><td>2020</td><td>Vauxhall Motors</td><td>Matra (including Deutsch-Bonnet, René Bonnet) Motors</td><td>Nissan</td><td>4/3/2020 0:00</td><td>1</td></tr><tr><td>BR2025</td><td>DLR0123</td><td>Nis-M83</td><td>6607616</td><td>1</td><td>DT01191</td><td>4</td><td>2020</td><td>Volkswagen Motors</td><td>Mazzanti Motors</td><td>Nissan</td><td>4/5/2020 0:00</td><td>1</td></tr><tr><td>BR2030</td><td>DLR0023</td><td>Ren-M210</td><td>29245743</td><td>3</td><td>DT01179</td><td>3</td><td>2020</td><td>Volkswagen Motors</td><td>Bristol Motors</td><td>Renault</td><td>3/24/2020 0:00</td><td>1</td></tr><tr><td>BR2035</td><td>DLR0124</td><td>Nis-M84</td><td>11136476</td><td>2</td><td>DT01192</td><td>4</td><td>2020</td><td>Volkswagen do Brasil Motors</td><td>McLaren Motors</td><td>Nissan</td><td>4/6/2020 0:00</td><td>1</td></tr><tr><td>BR2040</td><td>DLR0024</td><td>Ren-M211</td><td>1362898</td><td>1</td><td>DT01180</td><td>3</td><td>2020</td><td>Volkswagen do Brasil Motors</td><td>British Leyland Motors</td><td>Renault</td><td>3/25/2020 0:00</td><td>1</td></tr><tr><td>BR2045</td><td>DLR0125</td><td>Nis-M85</td><td>8087798</td><td>2</td><td>DT01193</td><td>4</td><td>2020</td><td>Volkswagen South Africa Motors</td><td>Mercedes-Benz (including Maybach) Motors</td><td>Nissan</td><td>4/7/2020 0:00</td><td>1</td></tr><tr><td>BR2050</td><td>DLR0025</td><td>Kia-M212</td><td>24546006</td><td>3</td><td>DT01181</td><td>3</td><td>2020</td><td>Volkswagen South Africa Motors</td><td>Austin-Healey Motors</td><td>Kia</td><td>3/26/2020 0:00</td><td>1</td></tr><tr><td>BR2060</td><td>DLR0026</td><td>Kia-M213</td><td>2493076</td><td>1</td><td>DT01182</td><td>3</td><td>2020</td><td>Volvo Motors</td><td>Austin, Rover Motors</td><td>Kia</td><td>3/27/2020 0:00</td><td>1</td></tr><tr><td>BR2065</td><td>DLR0127</td><td>Nis-M87</td><td>5761937</td><td>1</td><td>DT01195</td><td>4</td><td>2020</td><td>Westfield Motors</td><td>Merkur Motors</td><td>Nissan</td><td>4/9/2020 0:00</td><td>1</td></tr><tr><td>BR2070</td><td>DLR0027</td><td>Kia-M214</td><td>8376524</td><td>1</td><td>DT01183</td><td>3</td><td>2020</td><td>Westfield Motors</td><td>Bugatti Motors</td><td>Kia</td><td>3/28/2020 0:00</td><td>1</td></tr><tr><td>BR2075</td><td>DLR0128</td><td>Nis-M88</td><td>5248404</td><td>2</td><td>DT01196</td><td>4</td><td>2020</td><td>Wiesmann Motors</td><td>Messerschmitt Motors</td><td>Nissan</td><td>4/10/2020 0:00</td><td>1</td></tr><tr><td>BR2080</td><td>DLR0028</td><td>Hon-M215</td><td>7528299</td><td>1</td><td>DT01184</td><td>3</td><td>2020</td><td>Wiesmann Motors</td><td>Buick Motors</td><td>Honda</td><td>3/29/2020 0:00</td><td>1</td></tr><tr><td>BR2085</td><td>DLR0129</td><td>Nis-M89</td><td>8997126</td><td>3</td><td>DT01197</td><td>4</td><td>2020</td><td>Zastava Motors</td><td>Mia Motors</td><td>Nissan</td><td>4/11/2020 0:00</td><td>1</td></tr><tr><td>BR2090</td><td>DLR0029</td><td>Hon-M216</td><td>1297858</td><td>1</td><td>DT01185</td><td>3</td><td>2020</td><td>Zastava Motors</td><td>Bytom Motors</td><td>Honda</td><td>3/30/2020 0:00</td><td>1</td></tr><tr><td>BR2095</td><td>DLR0130</td><td>Riv-M90</td><td>14384055</td><td>3</td><td>DT01198</td><td>4</td><td>2020</td><td>ZAZ Motors</td><td>Micro Motors</td><td>Rivian</td><td>4/12/2020 0:00</td><td>1</td></tr><tr><td>BR2100</td><td>DLR0030</td><td>Hon-M217</td><td>1794492</td><td>1</td><td>DT01186</td><td>3</td><td>2020</td><td>ZAZ Motors</td><td>Cadillac Motors</td><td>Honda</td><td>3/31/2020 0:00</td><td>1</td></tr><tr><td>BR2105</td><td>DLR0131</td><td>Riv-M91</td><td>9851706</td><td>3</td><td>DT01199</td><td>4</td><td>2020</td><td>ZIL Motors</td><td>Mini Motors</td><td>Rivian</td><td>4/13/2020 0:00</td><td>1</td></tr><tr><td>BR2110</td><td>DLR0031</td><td>Hon-M218</td><td>7084610</td><td>1</td><td>DT01187</td><td>4</td><td>2020</td><td>ZIL Motors</td><td>Caterham Motors</td><td>Honda</td><td>4/1/2020 0:00</td><td>1</td></tr><tr><td>BR2115</td><td>DLR0132</td><td>Sub-M92</td><td>18425982</td><td>2</td><td>DT01200</td><td>4</td><td>2020</td><td>Audi Motors</td><td>Mitsubishi Motors</td><td>Subaru</td><td>4/14/2020 0:00</td><td>1</td></tr><tr><td>BR2125</td><td>DLR0133</td><td>Sub-M93</td><td>8790030</td><td>1</td><td>DT01201</td><td>4</td><td>2020</td><td>DKW Motors</td><td>Monica Motors</td><td>Subaru</td><td>4/15/2020 0:00</td><td>1</td></tr><tr><td>BR2130</td><td>DLR0033</td><td>Hon-M220</td><td>2203758</td><td>1</td><td>DT01189</td><td>4</td><td>2020</td><td>DKW Motors</td><td>Chevrolet Motors</td><td>Honda</td><td>4/3/2020 0:00</td><td>1</td></tr><tr><td>BR2135</td><td>DLR0134</td><td>Sub-M94</td><td>8253262</td><td>2</td><td>DT01202</td><td>4</td><td>2020</td><td>Horch Motors</td><td>Monteverdi Motors</td><td>Subaru</td><td>4/16/2020 0:00</td><td>1</td></tr><tr><td>BR2140</td><td>DLR0034</td><td>For-M221</td><td>18982494</td><td>3</td><td>DT01190</td><td>4</td><td>2020</td><td>Horch Motors</td><td>Chevrolet India Motors</td><td>Ford</td><td>4/4/2020 0:00</td><td>1</td></tr><tr><td>BR2150</td><td>DLR0035</td><td>For-M222</td><td>1010235</td><td>3</td><td>DT01191</td><td>4</td><td>2020</td><td>Wanderer Motors</td><td>Chrysler Motors</td><td>Ford</td><td>4/5/2020 0:00</td><td>1</td></tr><tr><td>BR2155</td><td>DLR0136</td><td>Tes-M96</td><td>11171496</td><td>3</td><td>DT01204</td><td>4</td><td>2020</td><td>Maybach  Motors</td><td>Moskwitch Motors</td><td>Tesla</td><td>4/18/2020 0:00</td><td>1</td></tr><tr><td>BR2160</td><td>DLR0036</td><td>For-M223</td><td>4417448</td><td>2</td><td>DT01192</td><td>4</td><td>2020</td><td>Maybach  Motors</td><td>Chrysler Europe Motors</td><td>Ford</td><td>4/6/2020 0:00</td><td>1</td></tr><tr><td>BR2165</td><td>DLR0137</td><td>Tes-M97</td><td>26413749</td><td>3</td><td>DT01205</td><td>4</td><td>2020</td><td>Izh  Motors</td><td>Nash Motors</td><td>Tesla</td><td>4/19/2020 0:00</td><td>1</td></tr><tr><td>BR2170</td><td>DLR0037</td><td>For-M224</td><td>1229389</td><td>1</td><td>DT01193</td><td>4</td><td>2020</td><td>Izh  Motors</td><td>Citroën Motors</td><td>Ford</td><td>4/7/2020 0:00</td><td>1</td></tr><tr><td>BR2175</td><td>DLR0138</td><td>Tes-M98</td><td>8877463</td><td>1</td><td>DT01206</td><td>4</td><td>2020</td><td>Lagonda  Motors</td><td>Naza Motors</td><td>Tesla</td><td>4/20/2020 0:00</td><td>1</td></tr><tr><td>BR2180</td><td>DLR0038</td><td>For-M225</td><td>10562268</td><td>3</td><td>DT01194</td><td>4</td><td>2020</td><td>Lagonda  Motors</td><td>Cizeta-Moroder Motors</td><td>Ford</td><td>4/8/2020 0:00</td><td>1</td></tr><tr><td>BR2185</td><td>DLR0139</td><td>Lex-M99</td><td>20577474</td><td>3</td><td>DT01207</td><td>4</td><td>2020</td><td>MG  Motors</td><td>Nissan Motors</td><td>Lexus</td><td>4/21/2020 0:00</td><td>1</td></tr><tr><td>BR2190</td><td>DLR0039</td><td>For-M226</td><td>13949298</td><td>2</td><td>DT01195</td><td>4</td><td>2020</td><td>MG  Motors</td><td>Dacia Motors</td><td>Ford</td><td>4/9/2020 0:00</td><td>1</td></tr><tr><td>BR2195</td><td>DLR0140</td><td>Toy-M100</td><td>15681306</td><td>2</td><td>DT01208</td><td>4</td><td>2020</td><td>Morris  Motors</td><td>Nissan India Motors</td><td>Toyota</td><td>4/22/2020 0:00</td><td>1</td></tr><tr><td>BR2200</td><td>DLR0040</td><td>Aud-M227</td><td>8881768</td><td>1</td><td>DT01196</td><td>4</td><td>2020</td><td>Morris  Motors</td><td>Daewoo, Saehan, Chevrolet Korea Motors</td><td>Audi</td><td>4/10/2020 0:00</td><td>1</td></tr><tr><td>BR2210</td><td>DLR0041</td><td>Aud-M228</td><td>14143962</td><td>2</td><td>DT01197</td><td>4</td><td>2020</td><td>Austin  Motors</td><td>DAF Motors</td><td>Audi</td><td>4/11/2020 0:00</td><td>1</td></tr><tr><td>BR2220</td><td>DLR0042</td><td>Aud-M229</td><td>5651109</td><td>3</td><td>DT01198</td><td>4</td><td>2020</td><td>Riley  Motors</td><td>Daihatsu Motors</td><td>Audi</td><td>4/12/2020 0:00</td><td>1</td></tr><tr><td>BR2225</td><td>DLR0143</td><td>Toy-M103</td><td>9042719</td><td>1</td><td>DT01211</td><td>4</td><td>2020</td><td>Wolseley  Motors</td><td>Oldsmobile Motors</td><td>Toyota</td><td>4/25/2020 0:00</td><td>1</td></tr><tr><td>BR2230</td><td>DLR0043</td><td>Aud-M230</td><td>18718750</td><td>2</td><td>DT01199</td><td>4</td><td>2020</td><td>Wolseley  Motors</td><td>Daimler Motors</td><td>Audi</td><td>4/13/2020 0:00</td><td>1</td></tr><tr><td>BR2240</td><td>DLR0044</td><td>Aud-M231</td><td>19955415</td><td>3</td><td>DT01200</td><td>4</td><td>2020</td><td>Standard  Motors</td><td>null</td><td>Audi</td><td>4/14/2020 0:00</td><td>1</td></tr><tr><td>BR2245</td><td>DLR0145</td><td>Toy-M105</td><td>8064714</td><td>2</td><td>DT01213</td><td>4</td><td>2020</td><td>Talbot  Motors</td><td>Opel Motors</td><td>Toyota</td><td>4/27/2020 0:00</td><td>1</td></tr><tr><td>BR2250</td><td>DLR0045</td><td>Aud-M232</td><td>1853412</td><td>2</td><td>DT01201</td><td>4</td><td>2020</td><td>Talbot  Motors</td><td>Delahaye Motors</td><td>Audi</td><td>4/15/2020 0:00</td><td>1</td></tr><tr><td>BR2260</td><td>DLR0046</td><td>Aud-M233</td><td>226386</td><td>2</td><td>DT01202</td><td>4</td><td>2020</td><td>Das Motors</td><td>DeLorean Motors</td><td>Audi</td><td>4/16/2020 0:00</td><td>1</td></tr><tr><td>BR2270</td><td>DLR0047</td><td>Aud-M234</td><td>7358930</td><td>2</td><td>DT01203</td><td>4</td><td>2020</td><td>Ramani Motors</td><td>DeSoto Motors</td><td>Audi</td><td>4/17/2020 0:00</td><td>1</td></tr><tr><td>BR2275</td><td>DLR0148</td><td>Vol-M108</td><td>17151476</td><td>2</td><td>DT01216</td><td>4</td><td>2020</td><td>Deccan Motors</td><td>Panhard Motors</td><td>Volkswagen</td><td>4/30/2020 0:00</td><td>1</td></tr></tbody></table></div>"
      ]
     },
     "metadata": {
      "application/vnd.databricks.v1+output": {
       "addedWidgets": {},
       "aggData": [],
       "aggError": "",
       "aggOverflow": false,
       "aggSchema": [],
       "aggSeriesLimitReached": false,
       "aggType": "",
       "arguments": {},
       "columnCustomDisplayInfos": {},
       "data": [
        [
         "BR1625",
         "DLR0083",
         "Che-M43",
         5608623,
         3,
         "DT01151",
         2,
         2020,
         "Ranger Motors",
         "Honda India Motors",
         "Chevrolet",
         "2/25/2020 0:00",
         1
        ],
        [
         "BR1630",
         "DLR0250",
         "Mah-M170",
         4796736,
         1,
         "DT01139",
         2,
         2020,
         "Ranger Motors",
         "Aixam-Mega (including Arola) Motors",
         "Mahindra",
         "2/13/2020 0:00",
         1
        ],
        [
         "BR1635",
         "DLR0084",
         "Che-M44",
         7473819,
         3,
         "DT01152",
         2,
         2020,
         "Reliant Motors",
         "Hudson Motors",
         "Chevrolet",
         "2/26/2020 0:00",
         1
        ],
        [
         "BR1640",
         "DLR0251",
         "Mah-M171",
         19794014,
         2,
         "DT01140",
         2,
         2020,
         "Reliant Motors",
         "Alfa Romeo Motors",
         "Mahindra",
         "2/14/2020 0:00",
         1
        ],
        [
         "BR1655",
         "DLR0086",
         "Che-M46",
         15077118,
         2,
         "DT01154",
         2,
         2020,
         "Rivian Motors",
         "Hummer Motors",
         "Chevrolet",
         "2/28/2020 0:00",
         1
        ],
        [
         "BR1660",
         "DLR0253",
         "Mah-M173",
         1134198,
         2,
         "DT01142",
         2,
         2020,
         "Rivian Motors",
         "Alvis Motors",
         "Mahindra",
         "2/16/2020 0:00",
         1
        ],
        [
         "BR1665",
         "DLR0087",
         "Che-M47",
         7622398,
         1,
         "DT01155",
         2,
         2020,
         "Rolls-Royce Motors",
         "Hyundai Motors",
         "Chevrolet",
         "2/29/2020 0:00",
         1
        ],
        [
         "BR1670",
         "DLR0254",
         "Mah-M174",
         6473726,
         1,
         "DT01143",
         2,
         2020,
         "Rolls-Royce Motors",
         "AMC, Eagle Motors",
         "Mahindra",
         "2/17/2020 0:00",
         1
        ],
        [
         "BR1680",
         "DLR0255",
         "Mah-M175",
         10287849,
         3,
         "DT01144",
         2,
         2020,
         "Saab Motors",
         "Anadol Motors",
         "Mahindra",
         "2/18/2020 0:00",
         1
        ],
        [
         "BR1685",
         "DLR0089",
         "Che-M49",
         2232010,
         1,
         "DT01157",
         3,
         2020,
         "SAIC Motor Motors",
         "Infiniti Motors",
         "Chevrolet",
         "3/2/2020 0:00",
         1
        ],
        [
         "BR1690",
         "DLR0256",
         "Mah-M176",
         9633912,
         2,
         "DT01145",
         2,
         2020,
         "SAIC Motor Motors",
         "Ariel Motors",
         "Mahindra",
         "2/19/2020 0:00",
         1
        ],
        [
         "BR1700",
         "DLR0257",
         "Mah-M177",
         3198540,
         3,
         "DT01146",
         2,
         2020,
         "Saleen Motors",
         "ARO Motors",
         "Mahindra",
         "2/20/2020 0:00",
         1
        ],
        [
         "BR1710",
         "DLR0258",
         "Mah-M178",
         8638572,
         2,
         "DT01147",
         2,
         2020,
         "Samsung Motors",
         null,
         "Mahindra",
         "2/21/2020 0:00",
         1
        ],
        [
         "BR1715",
         "DLR0092",
         "GMC-M52",
         10283534,
         2,
         "DT01160",
         3,
         2020,
         "San Motors",
         "Isdera Motors",
         "GMC",
         "3/5/2020 0:00",
         1
        ],
        [
         "BR1720",
         "DLR0259",
         "Tat-M179",
         2656204,
         2,
         "DT01148",
         2,
         2020,
         "San Motors",
         "Asia Motors Motors",
         "Tata",
         "2/22/2020 0:00",
         1
        ],
        [
         "BR1725",
         "DLR0093",
         "GMC-M53",
         3508984,
         1,
         "DT01161",
         3,
         2020,
         "Santa Matilde Motors",
         "Iso Motors",
         "GMC",
         "3/6/2020 0:00",
         1
        ],
        [
         "BR1735",
         "DLR0094",
         "GMC-M54",
         8238429,
         3,
         "DT01162",
         3,
         2020,
         "Santana Motors",
         "Isotta Fraschini Motors",
         "GMC",
         "3/7/2020 0:00",
         1
        ],
        [
         "BR1745",
         "DLR0095",
         "GMC-M55",
         19930602,
         2,
         "DT01163",
         3,
         2020,
         "Saturn Motors",
         "Isuzu Motors",
         "GMC",
         "3/8/2020 0:00",
         1
        ],
        [
         "BR1750",
         "DLR0262",
         "Tat-M182",
         10592974,
         2,
         "DT01151",
         2,
         2020,
         "Saturn Motors",
         "Autobianchi Motors",
         "Tata",
         "2/25/2020 0:00",
         1
        ],
        [
         "BR1755",
         "DLR0096",
         "GMC-M56",
         19774090,
         2,
         "DT01164",
         3,
         2020,
         "Scion Motors",
         "Iveco Motors",
         "GMC",
         "3/9/2020 0:00",
         1
        ],
        [
         "BR1765",
         "DLR0097",
         "GMC-M57",
         16250655,
         3,
         "DT01165",
         3,
         2020,
         "Seat Motors",
         "Jaguar Motors",
         "GMC",
         "3/10/2020 0:00",
         1
        ],
        [
         "BR1770",
         "DLR0264",
         "Tat-M184",
         8789076,
         2,
         "DT01153",
         2,
         2020,
         "Seat Motors",
         "Auverland Motors",
         "Tata",
         "2/27/2020 0:00",
         1
        ],
        [
         "BR1780",
         "DLR0265",
         "Tat-M185",
         5907291,
         1,
         "DT01154",
         2,
         2020,
         "Shelby SuperCars Motors",
         "Bentley Motors",
         "Tata",
         "2/28/2020 0:00",
         1
        ],
        [
         "BR1785",
         "DLR0099",
         "Acu-M59",
         8656704,
         3,
         "DT01167",
         3,
         2020,
         "Simca Motors",
         "Jensen Motors",
         "Acura",
         "3/12/2020 0:00",
         1
        ],
        [
         "BR1795",
         "DLR0100",
         "Acu-M60",
         3338625,
         3,
         "DT01168",
         3,
         2020,
         "Simca do Brasil Motors",
         "JPX Motors",
         "Acura",
         "3/13/2020 0:00",
         1
        ],
        [
         "BR1800",
         "DLR0267",
         "Tat-M187",
         6558027,
         3,
         "DT01156",
         3,
         2020,
         "Simca do Brasil Motors",
         "BMW Motors",
         "Tata",
         "3/1/2020 0:00",
         1
        ],
        [
         "BR1805",
         "DLR0101",
         "Acu-M61",
         6868940,
         1,
         "DT01169",
         3,
         2020,
         "Singer Motors",
         "Kia Motors",
         "Acura",
         "3/14/2020 0:00",
         1
        ],
        [
         "BR1815",
         "DLR0102",
         "Acu-M62",
         9592556,
         1,
         "DT01170",
         3,
         2020,
         "Skoda Motors",
         "Koenigsegg Motors",
         "Acura",
         "3/15/2020 0:00",
         1
        ],
        [
         "BR1820",
         "DLR0002",
         "Tat-M189",
         2847247,
         1,
         "DT01158",
         3,
         2020,
         "Skoda Motors",
         "Acura Motors",
         "Tata",
         "3/3/2020 0:00",
         1
        ],
        [
         "BR1830",
         "DLR0003",
         "Tat-M190",
         8462551,
         1,
         "DT01159",
         3,
         2020,
         "Smart Motors",
         "Aixam-Mega (including Arola) Motors",
         "Tata",
         "3/4/2020 0:00",
         1
        ],
        [
         "BR1835",
         "DLR0104",
         "Hon-M64",
         18031704,
         2,
         "DT01172",
         3,
         2020,
         "Spyker Motors",
         "Lada Motors",
         "Honda",
         "3/17/2020 0:00",
         1
        ],
        [
         "BR1840",
         "DLR0004",
         "Tat-M191",
         14824880,
         2,
         "DT01160",
         3,
         2020,
         "Spyker Motors",
         "Alfa Romeo Motors",
         "Tata",
         "3/5/2020 0:00",
         1
        ],
        [
         "BR1845",
         "DLR0105",
         "Hon-M65",
         19645278,
         3,
         "DT01173",
         3,
         2020,
         "SsangYong Motors",
         "Lamborghini Motors",
         "Honda",
         "3/18/2020 0:00",
         1
        ],
        [
         "BR1855",
         "DLR0106",
         "Hon-M66",
         12924729,
         3,
         "DT01174",
         3,
         2020,
         "Standard-Triumph Motors",
         "Lancia Motors",
         "Honda",
         "3/19/2020 0:00",
         1
        ],
        [
         "BR1860",
         "DLR0006",
         "Tat-M193",
         19782228,
         3,
         "DT01162",
         3,
         2020,
         "Standard-Triumph Motors",
         "Alvis Motors",
         "Tata",
         "3/7/2020 0:00",
         1
        ],
        [
         "BR1865",
         "DLR0107",
         "Hon-M67",
         17791749,
         3,
         "DT01175",
         3,
         2020,
         "Studebaker Motors",
         "Land Rover Motors",
         "Honda",
         "3/20/2020 0:00",
         1
        ],
        [
         "BR1875",
         "DLR0108",
         "Hon-M68",
         2569118,
         2,
         "DT01176",
         3,
         2020,
         "Subaru Motors",
         "Lexus Motors",
         "Honda",
         "3/21/2020 0:00",
         1
        ],
        [
         "BR1880",
         "DLR0008",
         "Toy-M195",
         9541679,
         1,
         "DT01164",
         3,
         2020,
         "Subaru Motors",
         "Anadol Motors",
         "Toyota",
         "3/9/2020 0:00",
         1
        ],
        [
         "BR1895",
         "DLR0110",
         "Hon-M70",
         13877574,
         2,
         "DT01178",
         3,
         2020,
         "Suzuki Motors",
         "Lincoln Motors",
         "Honda",
         "3/23/2020 0:00",
         1
        ],
        [
         "BR1905",
         "DLR0111",
         "Hon-M71",
         26277687,
         3,
         "DT01179",
         3,
         2020,
         "Tata Motors",
         "Lotus Motors",
         "Honda",
         "3/24/2020 0:00",
         1
        ],
        [
         "BR1910",
         "DLR0011",
         "Toy-M198",
         9387408,
         2,
         "DT01167",
         3,
         2020,
         "Tata Motors",
         "Artega Motors",
         "Toyota",
         "3/12/2020 0:00",
         1
        ],
        [
         "BR1915",
         "DLR0112",
         "Hyu-M72",
         2145815,
         1,
         "DT01180",
         3,
         2020,
         "Tatra Motors",
         "LTI Motors",
         "Hyundai",
         "3/25/2020 0:00",
         1
        ],
        [
         "BR1920",
         "DLR0012",
         "Toy-M199",
         8137212,
         2,
         "DT01168",
         3,
         2020,
         "Tatra Motors",
         "Asia Motors Motors",
         "Toyota",
         "3/13/2020 0:00",
         1
        ],
        [
         "BR1925",
         "DLR0113",
         "Hyu-M73",
         7259016,
         2,
         "DT01181",
         3,
         2020,
         "Tazzari Motors",
         "LuAZ Motors",
         "Hyundai",
         "3/26/2020 0:00",
         1
        ],
        [
         "BR1930",
         "DLR0013",
         "Toy-M200",
         27872751,
         3,
         "DT01169",
         3,
         2020,
         "Tazzari Motors",
         "Aston Martin Motors",
         "Toyota",
         "3/14/2020 0:00",
         1
        ],
        [
         "BR1935",
         "DLR0114",
         "Hyu-M74",
         1988116,
         2,
         "DT01182",
         3,
         2020,
         "Tesla Motors",
         "Lynx Motors",
         "Hyundai",
         "3/27/2020 0:00",
         1
        ],
        [
         "BR1940",
         "DLR0014",
         "Toy-M201",
         8464536,
         2,
         "DT01170",
         3,
         2020,
         "Tesla Motors",
         "Audi Motors",
         "Toyota",
         "3/15/2020 0:00",
         1
        ],
        [
         "BR1945",
         "DLR0115",
         "Hyu-M75",
         15778162,
         2,
         "DT01183",
         3,
         2020,
         "Tornado Motors",
         "Mahindra Motors",
         "Hyundai",
         "3/28/2020 0:00",
         1
        ],
        [
         "BR1955",
         "DLR0116",
         "Kia-M76",
         2167212,
         3,
         "DT01184",
         3,
         2020,
         "Toyota Motors",
         "Marcos Motors",
         "Kia",
         "3/29/2020 0:00",
         1
        ],
        [
         "BR1960",
         "DLR0016",
         "Toy-M203",
         4420992,
         1,
         "DT01172",
         3,
         2020,
         "Toyota Motors",
         "Auto-Union Motors",
         "Toyota",
         "3/17/2020 0:00",
         1
        ],
        [
         "BR1965",
         "DLR0117",
         "Kia-M77",
         9918502,
         2,
         "DT01185",
         3,
         2020,
         "Toyota India Motors",
         "Marlin Motors",
         "Kia",
         "3/30/2020 0:00",
         1
        ],
        [
         "BR1975",
         "DLR0118",
         "Kia-M78",
         12487035,
         3,
         "DT01186",
         3,
         2020,
         "Turner Motors",
         "Maruti Motors",
         "Kia",
         "3/31/2020 0:00",
         1
        ],
        [
         "BR1980",
         "DLR0018",
         "Toy-M205",
         18797763,
         3,
         "DT01174",
         3,
         2020,
         "Turner Motors",
         "Bentley Motors",
         "Toyota",
         "3/19/2020 0:00",
         1
        ],
        [
         "BR1985",
         "DLR0119",
         "Inf-M79",
         1185524,
         2,
         "DT01187",
         4,
         2020,
         "TVR Motors",
         "Maserati Motors",
         "Infiniti",
         "4/1/2020 0:00",
         1
        ],
        [
         "BR1990",
         "DLR0019",
         "Toy-M206",
         16819923,
         3,
         "DT01175",
         3,
         2020,
         "TVR Motors",
         "Bitter Motors",
         "Toyota",
         "3/20/2020 0:00",
         1
        ],
        [
         "BR2000",
         "DLR0020",
         "Ren-M207",
         26641407,
         3,
         "DT01176",
         3,
         2020,
         "UAZ Motors",
         "BMW Motors",
         "Renault",
         "3/21/2020 0:00",
         1
        ],
        [
         "BR2005",
         "DLR0121",
         "Nis-M81",
         29104182,
         3,
         "DT01189",
         4,
         2020,
         "Vauxhall Motors",
         "Matra (including Deutsch-Bonnet, René Bonnet) Motors",
         "Nissan",
         "4/3/2020 0:00",
         1
        ],
        [
         "BR2025",
         "DLR0123",
         "Nis-M83",
         6607616,
         1,
         "DT01191",
         4,
         2020,
         "Volkswagen Motors",
         "Mazzanti Motors",
         "Nissan",
         "4/5/2020 0:00",
         1
        ],
        [
         "BR2030",
         "DLR0023",
         "Ren-M210",
         29245743,
         3,
         "DT01179",
         3,
         2020,
         "Volkswagen Motors",
         "Bristol Motors",
         "Renault",
         "3/24/2020 0:00",
         1
        ],
        [
         "BR2035",
         "DLR0124",
         "Nis-M84",
         11136476,
         2,
         "DT01192",
         4,
         2020,
         "Volkswagen do Brasil Motors",
         "McLaren Motors",
         "Nissan",
         "4/6/2020 0:00",
         1
        ],
        [
         "BR2040",
         "DLR0024",
         "Ren-M211",
         1362898,
         1,
         "DT01180",
         3,
         2020,
         "Volkswagen do Brasil Motors",
         "British Leyland Motors",
         "Renault",
         "3/25/2020 0:00",
         1
        ],
        [
         "BR2045",
         "DLR0125",
         "Nis-M85",
         8087798,
         2,
         "DT01193",
         4,
         2020,
         "Volkswagen South Africa Motors",
         "Mercedes-Benz (including Maybach) Motors",
         "Nissan",
         "4/7/2020 0:00",
         1
        ],
        [
         "BR2050",
         "DLR0025",
         "Kia-M212",
         24546006,
         3,
         "DT01181",
         3,
         2020,
         "Volkswagen South Africa Motors",
         "Austin-Healey Motors",
         "Kia",
         "3/26/2020 0:00",
         1
        ],
        [
         "BR2060",
         "DLR0026",
         "Kia-M213",
         2493076,
         1,
         "DT01182",
         3,
         2020,
         "Volvo Motors",
         "Austin, Rover Motors",
         "Kia",
         "3/27/2020 0:00",
         1
        ],
        [
         "BR2065",
         "DLR0127",
         "Nis-M87",
         5761937,
         1,
         "DT01195",
         4,
         2020,
         "Westfield Motors",
         "Merkur Motors",
         "Nissan",
         "4/9/2020 0:00",
         1
        ],
        [
         "BR2070",
         "DLR0027",
         "Kia-M214",
         8376524,
         1,
         "DT01183",
         3,
         2020,
         "Westfield Motors",
         "Bugatti Motors",
         "Kia",
         "3/28/2020 0:00",
         1
        ],
        [
         "BR2075",
         "DLR0128",
         "Nis-M88",
         5248404,
         2,
         "DT01196",
         4,
         2020,
         "Wiesmann Motors",
         "Messerschmitt Motors",
         "Nissan",
         "4/10/2020 0:00",
         1
        ],
        [
         "BR2080",
         "DLR0028",
         "Hon-M215",
         7528299,
         1,
         "DT01184",
         3,
         2020,
         "Wiesmann Motors",
         "Buick Motors",
         "Honda",
         "3/29/2020 0:00",
         1
        ],
        [
         "BR2085",
         "DLR0129",
         "Nis-M89",
         8997126,
         3,
         "DT01197",
         4,
         2020,
         "Zastava Motors",
         "Mia Motors",
         "Nissan",
         "4/11/2020 0:00",
         1
        ],
        [
         "BR2090",
         "DLR0029",
         "Hon-M216",
         1297858,
         1,
         "DT01185",
         3,
         2020,
         "Zastava Motors",
         "Bytom Motors",
         "Honda",
         "3/30/2020 0:00",
         1
        ],
        [
         "BR2095",
         "DLR0130",
         "Riv-M90",
         14384055,
         3,
         "DT01198",
         4,
         2020,
         "ZAZ Motors",
         "Micro Motors",
         "Rivian",
         "4/12/2020 0:00",
         1
        ],
        [
         "BR2100",
         "DLR0030",
         "Hon-M217",
         1794492,
         1,
         "DT01186",
         3,
         2020,
         "ZAZ Motors",
         "Cadillac Motors",
         "Honda",
         "3/31/2020 0:00",
         1
        ],
        [
         "BR2105",
         "DLR0131",
         "Riv-M91",
         9851706,
         3,
         "DT01199",
         4,
         2020,
         "ZIL Motors",
         "Mini Motors",
         "Rivian",
         "4/13/2020 0:00",
         1
        ],
        [
         "BR2110",
         "DLR0031",
         "Hon-M218",
         7084610,
         1,
         "DT01187",
         4,
         2020,
         "ZIL Motors",
         "Caterham Motors",
         "Honda",
         "4/1/2020 0:00",
         1
        ],
        [
         "BR2115",
         "DLR0132",
         "Sub-M92",
         18425982,
         2,
         "DT01200",
         4,
         2020,
         "Audi Motors",
         "Mitsubishi Motors",
         "Subaru",
         "4/14/2020 0:00",
         1
        ],
        [
         "BR2125",
         "DLR0133",
         "Sub-M93",
         8790030,
         1,
         "DT01201",
         4,
         2020,
         "DKW Motors",
         "Monica Motors",
         "Subaru",
         "4/15/2020 0:00",
         1
        ],
        [
         "BR2130",
         "DLR0033",
         "Hon-M220",
         2203758,
         1,
         "DT01189",
         4,
         2020,
         "DKW Motors",
         "Chevrolet Motors",
         "Honda",
         "4/3/2020 0:00",
         1
        ],
        [
         "BR2135",
         "DLR0134",
         "Sub-M94",
         8253262,
         2,
         "DT01202",
         4,
         2020,
         "Horch Motors",
         "Monteverdi Motors",
         "Subaru",
         "4/16/2020 0:00",
         1
        ],
        [
         "BR2140",
         "DLR0034",
         "For-M221",
         18982494,
         3,
         "DT01190",
         4,
         2020,
         "Horch Motors",
         "Chevrolet India Motors",
         "Ford",
         "4/4/2020 0:00",
         1
        ],
        [
         "BR2150",
         "DLR0035",
         "For-M222",
         1010235,
         3,
         "DT01191",
         4,
         2020,
         "Wanderer Motors",
         "Chrysler Motors",
         "Ford",
         "4/5/2020 0:00",
         1
        ],
        [
         "BR2155",
         "DLR0136",
         "Tes-M96",
         11171496,
         3,
         "DT01204",
         4,
         2020,
         "Maybach  Motors",
         "Moskwitch Motors",
         "Tesla",
         "4/18/2020 0:00",
         1
        ],
        [
         "BR2160",
         "DLR0036",
         "For-M223",
         4417448,
         2,
         "DT01192",
         4,
         2020,
         "Maybach  Motors",
         "Chrysler Europe Motors",
         "Ford",
         "4/6/2020 0:00",
         1
        ],
        [
         "BR2165",
         "DLR0137",
         "Tes-M97",
         26413749,
         3,
         "DT01205",
         4,
         2020,
         "Izh  Motors",
         "Nash Motors",
         "Tesla",
         "4/19/2020 0:00",
         1
        ],
        [
         "BR2170",
         "DLR0037",
         "For-M224",
         1229389,
         1,
         "DT01193",
         4,
         2020,
         "Izh  Motors",
         "Citroën Motors",
         "Ford",
         "4/7/2020 0:00",
         1
        ],
        [
         "BR2175",
         "DLR0138",
         "Tes-M98",
         8877463,
         1,
         "DT01206",
         4,
         2020,
         "Lagonda  Motors",
         "Naza Motors",
         "Tesla",
         "4/20/2020 0:00",
         1
        ],
        [
         "BR2180",
         "DLR0038",
         "For-M225",
         10562268,
         3,
         "DT01194",
         4,
         2020,
         "Lagonda  Motors",
         "Cizeta-Moroder Motors",
         "Ford",
         "4/8/2020 0:00",
         1
        ],
        [
         "BR2185",
         "DLR0139",
         "Lex-M99",
         20577474,
         3,
         "DT01207",
         4,
         2020,
         "MG  Motors",
         "Nissan Motors",
         "Lexus",
         "4/21/2020 0:00",
         1
        ],
        [
         "BR2190",
         "DLR0039",
         "For-M226",
         13949298,
         2,
         "DT01195",
         4,
         2020,
         "MG  Motors",
         "Dacia Motors",
         "Ford",
         "4/9/2020 0:00",
         1
        ],
        [
         "BR2195",
         "DLR0140",
         "Toy-M100",
         15681306,
         2,
         "DT01208",
         4,
         2020,
         "Morris  Motors",
         "Nissan India Motors",
         "Toyota",
         "4/22/2020 0:00",
         1
        ],
        [
         "BR2200",
         "DLR0040",
         "Aud-M227",
         8881768,
         1,
         "DT01196",
         4,
         2020,
         "Morris  Motors",
         "Daewoo, Saehan, Chevrolet Korea Motors",
         "Audi",
         "4/10/2020 0:00",
         1
        ],
        [
         "BR2210",
         "DLR0041",
         "Aud-M228",
         14143962,
         2,
         "DT01197",
         4,
         2020,
         "Austin  Motors",
         "DAF Motors",
         "Audi",
         "4/11/2020 0:00",
         1
        ],
        [
         "BR2220",
         "DLR0042",
         "Aud-M229",
         5651109,
         3,
         "DT01198",
         4,
         2020,
         "Riley  Motors",
         "Daihatsu Motors",
         "Audi",
         "4/12/2020 0:00",
         1
        ],
        [
         "BR2225",
         "DLR0143",
         "Toy-M103",
         9042719,
         1,
         "DT01211",
         4,
         2020,
         "Wolseley  Motors",
         "Oldsmobile Motors",
         "Toyota",
         "4/25/2020 0:00",
         1
        ],
        [
         "BR2230",
         "DLR0043",
         "Aud-M230",
         18718750,
         2,
         "DT01199",
         4,
         2020,
         "Wolseley  Motors",
         "Daimler Motors",
         "Audi",
         "4/13/2020 0:00",
         1
        ],
        [
         "BR2240",
         "DLR0044",
         "Aud-M231",
         19955415,
         3,
         "DT01200",
         4,
         2020,
         "Standard  Motors",
         null,
         "Audi",
         "4/14/2020 0:00",
         1
        ],
        [
         "BR2245",
         "DLR0145",
         "Toy-M105",
         8064714,
         2,
         "DT01213",
         4,
         2020,
         "Talbot  Motors",
         "Opel Motors",
         "Toyota",
         "4/27/2020 0:00",
         1
        ],
        [
         "BR2250",
         "DLR0045",
         "Aud-M232",
         1853412,
         2,
         "DT01201",
         4,
         2020,
         "Talbot  Motors",
         "Delahaye Motors",
         "Audi",
         "4/15/2020 0:00",
         1
        ],
        [
         "BR2260",
         "DLR0046",
         "Aud-M233",
         226386,
         2,
         "DT01202",
         4,
         2020,
         "Das Motors",
         "DeLorean Motors",
         "Audi",
         "4/16/2020 0:00",
         1
        ],
        [
         "BR2270",
         "DLR0047",
         "Aud-M234",
         7358930,
         2,
         "DT01203",
         4,
         2020,
         "Ramani Motors",
         "DeSoto Motors",
         "Audi",
         "4/17/2020 0:00",
         1
        ],
        [
         "BR2275",
         "DLR0148",
         "Vol-M108",
         17151476,
         2,
         "DT01216",
         4,
         2020,
         "Deccan Motors",
         "Panhard Motors",
         "Volkswagen",
         "4/30/2020 0:00",
         1
        ]
       ],
       "datasetInfos": [],
       "dbfsResultPath": null,
       "isJsonSchema": true,
       "metadata": {},
       "overflow": false,
       "plotOptions": {
        "customPlotOptions": {},
        "displayType": "table",
        "pivotAggregation": null,
        "pivotColumns": null,
        "xColumns": null,
        "yColumns": null
       },
       "removedWidgets": [],
       "schema": [
        {
         "metadata": "{}",
         "name": "Branch_ID",
         "type": "\"string\""
        },
        {
         "metadata": "{}",
         "name": "Dealer_ID",
         "type": "\"string\""
        },
        {
         "metadata": "{}",
         "name": "Model_ID",
         "type": "\"string\""
        },
        {
         "metadata": "{}",
         "name": "Revenue",
         "type": "\"integer\""
        },
        {
         "metadata": "{}",
         "name": "Units_Sold",
         "type": "\"integer\""
        },
        {
         "metadata": "{}",
         "name": "Date_ID",
         "type": "\"string\""
        },
        {
         "metadata": "{}",
         "name": "Month",
         "type": "\"integer\""
        },
        {
         "metadata": "{}",
         "name": "Year",
         "type": "\"integer\""
        },
        {
         "metadata": "{}",
         "name": "BranchName",
         "type": "\"string\""
        },
        {
         "metadata": "{}",
         "name": "DealerName",
         "type": "\"string\""
        },
        {
         "metadata": "{}",
         "name": "Product_Name",
         "type": "\"string\""
        },
        {
         "metadata": "{}",
         "name": "Date",
         "type": "\"string\""
        },
        {
         "metadata": "{}",
         "name": "ReturnFlag",
         "type": "\"integer\""
        }
       ],
       "type": "table"
      }
     },
     "output_type": "display_data"
    }
   ],
   "source": [
    "%python\n",
    "# Load the CSV file correctly\n",
    "df = spark.read.format(\"csv\") \\\n",
    "    .option(\"header\", True) \\\n",
    "    .option(\"inferSchema\", True) \\\n",
    "    .load(\"/FileStore/tables/sales_data_third.csv\")\n",
    "\n",
    "# Check the DataFrame to ensure it loaded properly\n",
    "display(df)\n",
    "\n",
    "\n"
   ]
  },
  {
   "cell_type": "code",
   "execution_count": 0,
   "metadata": {
    "application/vnd.databricks.v1+cell": {
     "cellMetadata": {
      "byteLimit": 2048000,
      "rowLimit": 10000
     },
     "inputWidgets": {},
     "nuid": "6c2b8ef7-8236-45f1-93c2-47c048947e6b",
     "showTitle": false,
     "tableResultSettingsMap": {},
     "title": ""
    }
   },
   "outputs": [
    {
     "output_type": "display_data",
     "data": {
      "text/plain": [
       "\u001B[0;31m---------------------------------------------------------------------------\u001B[0m\n",
       "\u001B[0;31mAnalysisException\u001B[0m                         Traceback (most recent call last)\n",
       "File \u001B[0;32m<command-3990817746912713>:1\u001B[0m\n",
       "\u001B[0;32m----> 1\u001B[0m \u001B[43mdf\u001B[49m\u001B[38;5;241;43m.\u001B[39;49m\u001B[43mwrite\u001B[49m\u001B[38;5;241;43m.\u001B[39;49m\u001B[43mformat\u001B[49m\u001B[43m(\u001B[49m\u001B[38;5;124;43m\"\u001B[39;49m\u001B[38;5;124;43mdelta\u001B[39;49m\u001B[38;5;124;43m\"\u001B[39;49m\u001B[43m)\u001B[49m\u001B[43m \u001B[49m\u001B[43m\\\u001B[49m\n",
       "\u001B[1;32m      2\u001B[0m \u001B[43m    \u001B[49m\u001B[38;5;241;43m.\u001B[39;49m\u001B[43mmode\u001B[49m\u001B[43m(\u001B[49m\u001B[38;5;124;43m\"\u001B[39;49m\u001B[38;5;124;43moverwrite\u001B[39;49m\u001B[38;5;124;43m\"\u001B[39;49m\u001B[43m)\u001B[49m\u001B[43m \u001B[49m\u001B[43m\\\u001B[49m\n",
       "\u001B[1;32m      3\u001B[0m \u001B[43m    \u001B[49m\u001B[38;5;241;43m.\u001B[39;49m\u001B[43moption\u001B[49m\u001B[43m(\u001B[49m\u001B[38;5;124;43m\"\u001B[39;49m\u001B[38;5;124;43mpath\u001B[39;49m\u001B[38;5;124;43m\"\u001B[39;49m\u001B[43m,\u001B[49m\u001B[43m \u001B[49m\u001B[38;5;124;43m\"\u001B[39;49m\u001B[38;5;124;43m/FileStore/tables/sinkdata/sales_data_first_delta\u001B[39;49m\u001B[38;5;124;43m\"\u001B[39;49m\u001B[43m)\u001B[49m\u001B[43m \u001B[49m\u001B[43m\\\u001B[49m\n",
       "\u001B[1;32m      4\u001B[0m \u001B[43m    \u001B[49m\u001B[38;5;241;43m.\u001B[39;49m\u001B[43msave\u001B[49m\u001B[43m(\u001B[49m\u001B[43m)\u001B[49m\n",
       "\n",
       "File \u001B[0;32m/databricks/spark/python/pyspark/instrumentation_utils.py:48\u001B[0m, in \u001B[0;36m_wrap_function.<locals>.wrapper\u001B[0;34m(*args, **kwargs)\u001B[0m\n",
       "\u001B[1;32m     46\u001B[0m start \u001B[38;5;241m=\u001B[39m time\u001B[38;5;241m.\u001B[39mperf_counter()\n",
       "\u001B[1;32m     47\u001B[0m \u001B[38;5;28;01mtry\u001B[39;00m:\n",
       "\u001B[0;32m---> 48\u001B[0m     res \u001B[38;5;241m=\u001B[39m \u001B[43mfunc\u001B[49m\u001B[43m(\u001B[49m\u001B[38;5;241;43m*\u001B[39;49m\u001B[43margs\u001B[49m\u001B[43m,\u001B[49m\u001B[43m \u001B[49m\u001B[38;5;241;43m*\u001B[39;49m\u001B[38;5;241;43m*\u001B[39;49m\u001B[43mkwargs\u001B[49m\u001B[43m)\u001B[49m\n",
       "\u001B[1;32m     49\u001B[0m     logger\u001B[38;5;241m.\u001B[39mlog_success(\n",
       "\u001B[1;32m     50\u001B[0m         module_name, class_name, function_name, time\u001B[38;5;241m.\u001B[39mperf_counter() \u001B[38;5;241m-\u001B[39m start, signature\n",
       "\u001B[1;32m     51\u001B[0m     )\n",
       "\u001B[1;32m     52\u001B[0m     \u001B[38;5;28;01mreturn\u001B[39;00m res\n",
       "\n",
       "File \u001B[0;32m/databricks/spark/python/pyspark/sql/readwriter.py:1395\u001B[0m, in \u001B[0;36mDataFrameWriter.save\u001B[0;34m(self, path, format, mode, partitionBy, **options)\u001B[0m\n",
       "\u001B[1;32m   1393\u001B[0m     \u001B[38;5;28mself\u001B[39m\u001B[38;5;241m.\u001B[39mformat(\u001B[38;5;28mformat\u001B[39m)\n",
       "\u001B[1;32m   1394\u001B[0m \u001B[38;5;28;01mif\u001B[39;00m path \u001B[38;5;129;01mis\u001B[39;00m \u001B[38;5;28;01mNone\u001B[39;00m:\n",
       "\u001B[0;32m-> 1395\u001B[0m     \u001B[38;5;28;43mself\u001B[39;49m\u001B[38;5;241;43m.\u001B[39;49m\u001B[43m_jwrite\u001B[49m\u001B[38;5;241;43m.\u001B[39;49m\u001B[43msave\u001B[49m\u001B[43m(\u001B[49m\u001B[43m)\u001B[49m\n",
       "\u001B[1;32m   1396\u001B[0m \u001B[38;5;28;01melse\u001B[39;00m:\n",
       "\u001B[1;32m   1397\u001B[0m     \u001B[38;5;28mself\u001B[39m\u001B[38;5;241m.\u001B[39m_jwrite\u001B[38;5;241m.\u001B[39msave(path)\n",
       "\n",
       "File \u001B[0;32m/databricks/spark/python/lib/py4j-0.10.9.5-src.zip/py4j/java_gateway.py:1321\u001B[0m, in \u001B[0;36mJavaMember.__call__\u001B[0;34m(self, *args)\u001B[0m\n",
       "\u001B[1;32m   1315\u001B[0m command \u001B[38;5;241m=\u001B[39m proto\u001B[38;5;241m.\u001B[39mCALL_COMMAND_NAME \u001B[38;5;241m+\u001B[39m\\\n",
       "\u001B[1;32m   1316\u001B[0m     \u001B[38;5;28mself\u001B[39m\u001B[38;5;241m.\u001B[39mcommand_header \u001B[38;5;241m+\u001B[39m\\\n",
       "\u001B[1;32m   1317\u001B[0m     args_command \u001B[38;5;241m+\u001B[39m\\\n",
       "\u001B[1;32m   1318\u001B[0m     proto\u001B[38;5;241m.\u001B[39mEND_COMMAND_PART\n",
       "\u001B[1;32m   1320\u001B[0m answer \u001B[38;5;241m=\u001B[39m \u001B[38;5;28mself\u001B[39m\u001B[38;5;241m.\u001B[39mgateway_client\u001B[38;5;241m.\u001B[39msend_command(command)\n",
       "\u001B[0;32m-> 1321\u001B[0m return_value \u001B[38;5;241m=\u001B[39m \u001B[43mget_return_value\u001B[49m\u001B[43m(\u001B[49m\n",
       "\u001B[1;32m   1322\u001B[0m \u001B[43m    \u001B[49m\u001B[43manswer\u001B[49m\u001B[43m,\u001B[49m\u001B[43m \u001B[49m\u001B[38;5;28;43mself\u001B[39;49m\u001B[38;5;241;43m.\u001B[39;49m\u001B[43mgateway_client\u001B[49m\u001B[43m,\u001B[49m\u001B[43m \u001B[49m\u001B[38;5;28;43mself\u001B[39;49m\u001B[38;5;241;43m.\u001B[39;49m\u001B[43mtarget_id\u001B[49m\u001B[43m,\u001B[49m\u001B[43m \u001B[49m\u001B[38;5;28;43mself\u001B[39;49m\u001B[38;5;241;43m.\u001B[39;49m\u001B[43mname\u001B[49m\u001B[43m)\u001B[49m\n",
       "\u001B[1;32m   1324\u001B[0m \u001B[38;5;28;01mfor\u001B[39;00m temp_arg \u001B[38;5;129;01min\u001B[39;00m temp_args:\n",
       "\u001B[1;32m   1325\u001B[0m     temp_arg\u001B[38;5;241m.\u001B[39m_detach()\n",
       "\n",
       "File \u001B[0;32m/databricks/spark/python/pyspark/errors/exceptions.py:234\u001B[0m, in \u001B[0;36mcapture_sql_exception.<locals>.deco\u001B[0;34m(*a, **kw)\u001B[0m\n",
       "\u001B[1;32m    230\u001B[0m converted \u001B[38;5;241m=\u001B[39m convert_exception(e\u001B[38;5;241m.\u001B[39mjava_exception)\n",
       "\u001B[1;32m    231\u001B[0m \u001B[38;5;28;01mif\u001B[39;00m \u001B[38;5;129;01mnot\u001B[39;00m \u001B[38;5;28misinstance\u001B[39m(converted, UnknownException):\n",
       "\u001B[1;32m    232\u001B[0m     \u001B[38;5;66;03m# Hide where the exception came from that shows a non-Pythonic\u001B[39;00m\n",
       "\u001B[1;32m    233\u001B[0m     \u001B[38;5;66;03m# JVM exception message.\u001B[39;00m\n",
       "\u001B[0;32m--> 234\u001B[0m     \u001B[38;5;28;01mraise\u001B[39;00m converted \u001B[38;5;28;01mfrom\u001B[39;00m \u001B[38;5;28mNone\u001B[39m\n",
       "\u001B[1;32m    235\u001B[0m \u001B[38;5;28;01melse\u001B[39;00m:\n",
       "\u001B[1;32m    236\u001B[0m     \u001B[38;5;28;01mraise\u001B[39;00m\n",
       "\n",
       "\u001B[0;31mAnalysisException\u001B[0m: A schema mismatch detected when writing to the Delta table (Table ID: abd1b896-3cb7-49c4-a321-1ac02c4f67f6).\n",
       "To enable schema migration using DataFrameWriter or DataStreamWriter, please set:\n",
       "'.option(\"mergeSchema\", \"true\")'.\n",
       "For other operations, set the session configuration\n",
       "spark.databricks.delta.schema.autoMerge.enabled to \"true\". See the documentation\n",
       "specific to the operation for details.\n",
       "\n",
       "Table schema:\n",
       "root\n",
       "-- Branch_ID: string (nullable = true)\n",
       "-- Dealer_ID: string (nullable = true)\n",
       "-- Model_ID: string (nullable = true)\n",
       "-- Revenue: integer (nullable = true)\n",
       "-- Units_Sold: integer (nullable = true)\n",
       "-- Date_ID: string (nullable = true)\n",
       "-- Month: integer (nullable = true)\n",
       "-- Year: integer (nullable = true)\n",
       "-- BranchName: string (nullable = true)\n",
       "-- DealerName: string (nullable = true)\n",
       "-- Product_Name: string (nullable = true)\n",
       "-- Date: string (nullable = true)\n",
       "\n",
       "\n",
       "Data schema:\n",
       "root\n",
       "-- Branch_ID: string (nullable = true)\n",
       "-- Dealer_ID: string (nullable = true)\n",
       "-- Model_ID: string (nullable = true)\n",
       "-- Revenue: integer (nullable = true)\n",
       "-- Units_Sold: integer (nullable = true)\n",
       "-- Date_ID: string (nullable = true)\n",
       "-- Month: integer (nullable = true)\n",
       "-- Year: integer (nullable = true)\n",
       "-- BranchName: string (nullable = true)\n",
       "-- DealerName: string (nullable = true)\n",
       "-- Product_Name: string (nullable = true)\n",
       "-- Date: string (nullable = true)\n",
       "-- ReturnFlag: integer (nullable = true)\n",
       "\n",
       "         \n",
       "To overwrite your schema or change partitioning, please set:\n",
       "'.option(\"overwriteSchema\", \"true\")'.\n",
       "\n",
       "Note that the schema can't be overwritten when using\n",
       "'replaceWhere'.\n",
       "         "
      ]
     },
     "metadata": {
      "application/vnd.databricks.v1+output": {
       "arguments": {},
       "data": "\u001B[0;31m---------------------------------------------------------------------------\u001B[0m\n\u001B[0;31mAnalysisException\u001B[0m                         Traceback (most recent call last)\nFile \u001B[0;32m<command-3990817746912713>:1\u001B[0m\n\u001B[0;32m----> 1\u001B[0m \u001B[43mdf\u001B[49m\u001B[38;5;241;43m.\u001B[39;49m\u001B[43mwrite\u001B[49m\u001B[38;5;241;43m.\u001B[39;49m\u001B[43mformat\u001B[49m\u001B[43m(\u001B[49m\u001B[38;5;124;43m\"\u001B[39;49m\u001B[38;5;124;43mdelta\u001B[39;49m\u001B[38;5;124;43m\"\u001B[39;49m\u001B[43m)\u001B[49m\u001B[43m \u001B[49m\u001B[43m\\\u001B[49m\n\u001B[1;32m      2\u001B[0m \u001B[43m    \u001B[49m\u001B[38;5;241;43m.\u001B[39;49m\u001B[43mmode\u001B[49m\u001B[43m(\u001B[49m\u001B[38;5;124;43m\"\u001B[39;49m\u001B[38;5;124;43moverwrite\u001B[39;49m\u001B[38;5;124;43m\"\u001B[39;49m\u001B[43m)\u001B[49m\u001B[43m \u001B[49m\u001B[43m\\\u001B[49m\n\u001B[1;32m      3\u001B[0m \u001B[43m    \u001B[49m\u001B[38;5;241;43m.\u001B[39;49m\u001B[43moption\u001B[49m\u001B[43m(\u001B[49m\u001B[38;5;124;43m\"\u001B[39;49m\u001B[38;5;124;43mpath\u001B[39;49m\u001B[38;5;124;43m\"\u001B[39;49m\u001B[43m,\u001B[49m\u001B[43m \u001B[49m\u001B[38;5;124;43m\"\u001B[39;49m\u001B[38;5;124;43m/FileStore/tables/sinkdata/sales_data_first_delta\u001B[39;49m\u001B[38;5;124;43m\"\u001B[39;49m\u001B[43m)\u001B[49m\u001B[43m \u001B[49m\u001B[43m\\\u001B[49m\n\u001B[1;32m      4\u001B[0m \u001B[43m    \u001B[49m\u001B[38;5;241;43m.\u001B[39;49m\u001B[43msave\u001B[49m\u001B[43m(\u001B[49m\u001B[43m)\u001B[49m\n\nFile \u001B[0;32m/databricks/spark/python/pyspark/instrumentation_utils.py:48\u001B[0m, in \u001B[0;36m_wrap_function.<locals>.wrapper\u001B[0;34m(*args, **kwargs)\u001B[0m\n\u001B[1;32m     46\u001B[0m start \u001B[38;5;241m=\u001B[39m time\u001B[38;5;241m.\u001B[39mperf_counter()\n\u001B[1;32m     47\u001B[0m \u001B[38;5;28;01mtry\u001B[39;00m:\n\u001B[0;32m---> 48\u001B[0m     res \u001B[38;5;241m=\u001B[39m \u001B[43mfunc\u001B[49m\u001B[43m(\u001B[49m\u001B[38;5;241;43m*\u001B[39;49m\u001B[43margs\u001B[49m\u001B[43m,\u001B[49m\u001B[43m \u001B[49m\u001B[38;5;241;43m*\u001B[39;49m\u001B[38;5;241;43m*\u001B[39;49m\u001B[43mkwargs\u001B[49m\u001B[43m)\u001B[49m\n\u001B[1;32m     49\u001B[0m     logger\u001B[38;5;241m.\u001B[39mlog_success(\n\u001B[1;32m     50\u001B[0m         module_name, class_name, function_name, time\u001B[38;5;241m.\u001B[39mperf_counter() \u001B[38;5;241m-\u001B[39m start, signature\n\u001B[1;32m     51\u001B[0m     )\n\u001B[1;32m     52\u001B[0m     \u001B[38;5;28;01mreturn\u001B[39;00m res\n\nFile \u001B[0;32m/databricks/spark/python/pyspark/sql/readwriter.py:1395\u001B[0m, in \u001B[0;36mDataFrameWriter.save\u001B[0;34m(self, path, format, mode, partitionBy, **options)\u001B[0m\n\u001B[1;32m   1393\u001B[0m     \u001B[38;5;28mself\u001B[39m\u001B[38;5;241m.\u001B[39mformat(\u001B[38;5;28mformat\u001B[39m)\n\u001B[1;32m   1394\u001B[0m \u001B[38;5;28;01mif\u001B[39;00m path \u001B[38;5;129;01mis\u001B[39;00m \u001B[38;5;28;01mNone\u001B[39;00m:\n\u001B[0;32m-> 1395\u001B[0m     \u001B[38;5;28;43mself\u001B[39;49m\u001B[38;5;241;43m.\u001B[39;49m\u001B[43m_jwrite\u001B[49m\u001B[38;5;241;43m.\u001B[39;49m\u001B[43msave\u001B[49m\u001B[43m(\u001B[49m\u001B[43m)\u001B[49m\n\u001B[1;32m   1396\u001B[0m \u001B[38;5;28;01melse\u001B[39;00m:\n\u001B[1;32m   1397\u001B[0m     \u001B[38;5;28mself\u001B[39m\u001B[38;5;241m.\u001B[39m_jwrite\u001B[38;5;241m.\u001B[39msave(path)\n\nFile \u001B[0;32m/databricks/spark/python/lib/py4j-0.10.9.5-src.zip/py4j/java_gateway.py:1321\u001B[0m, in \u001B[0;36mJavaMember.__call__\u001B[0;34m(self, *args)\u001B[0m\n\u001B[1;32m   1315\u001B[0m command \u001B[38;5;241m=\u001B[39m proto\u001B[38;5;241m.\u001B[39mCALL_COMMAND_NAME \u001B[38;5;241m+\u001B[39m\\\n\u001B[1;32m   1316\u001B[0m     \u001B[38;5;28mself\u001B[39m\u001B[38;5;241m.\u001B[39mcommand_header \u001B[38;5;241m+\u001B[39m\\\n\u001B[1;32m   1317\u001B[0m     args_command \u001B[38;5;241m+\u001B[39m\\\n\u001B[1;32m   1318\u001B[0m     proto\u001B[38;5;241m.\u001B[39mEND_COMMAND_PART\n\u001B[1;32m   1320\u001B[0m answer \u001B[38;5;241m=\u001B[39m \u001B[38;5;28mself\u001B[39m\u001B[38;5;241m.\u001B[39mgateway_client\u001B[38;5;241m.\u001B[39msend_command(command)\n\u001B[0;32m-> 1321\u001B[0m return_value \u001B[38;5;241m=\u001B[39m \u001B[43mget_return_value\u001B[49m\u001B[43m(\u001B[49m\n\u001B[1;32m   1322\u001B[0m \u001B[43m    \u001B[49m\u001B[43manswer\u001B[49m\u001B[43m,\u001B[49m\u001B[43m \u001B[49m\u001B[38;5;28;43mself\u001B[39;49m\u001B[38;5;241;43m.\u001B[39;49m\u001B[43mgateway_client\u001B[49m\u001B[43m,\u001B[49m\u001B[43m \u001B[49m\u001B[38;5;28;43mself\u001B[39;49m\u001B[38;5;241;43m.\u001B[39;49m\u001B[43mtarget_id\u001B[49m\u001B[43m,\u001B[49m\u001B[43m \u001B[49m\u001B[38;5;28;43mself\u001B[39;49m\u001B[38;5;241;43m.\u001B[39;49m\u001B[43mname\u001B[49m\u001B[43m)\u001B[49m\n\u001B[1;32m   1324\u001B[0m \u001B[38;5;28;01mfor\u001B[39;00m temp_arg \u001B[38;5;129;01min\u001B[39;00m temp_args:\n\u001B[1;32m   1325\u001B[0m     temp_arg\u001B[38;5;241m.\u001B[39m_detach()\n\nFile \u001B[0;32m/databricks/spark/python/pyspark/errors/exceptions.py:234\u001B[0m, in \u001B[0;36mcapture_sql_exception.<locals>.deco\u001B[0;34m(*a, **kw)\u001B[0m\n\u001B[1;32m    230\u001B[0m converted \u001B[38;5;241m=\u001B[39m convert_exception(e\u001B[38;5;241m.\u001B[39mjava_exception)\n\u001B[1;32m    231\u001B[0m \u001B[38;5;28;01mif\u001B[39;00m \u001B[38;5;129;01mnot\u001B[39;00m \u001B[38;5;28misinstance\u001B[39m(converted, UnknownException):\n\u001B[1;32m    232\u001B[0m     \u001B[38;5;66;03m# Hide where the exception came from that shows a non-Pythonic\u001B[39;00m\n\u001B[1;32m    233\u001B[0m     \u001B[38;5;66;03m# JVM exception message.\u001B[39;00m\n\u001B[0;32m--> 234\u001B[0m     \u001B[38;5;28;01mraise\u001B[39;00m converted \u001B[38;5;28;01mfrom\u001B[39;00m \u001B[38;5;28mNone\u001B[39m\n\u001B[1;32m    235\u001B[0m \u001B[38;5;28;01melse\u001B[39;00m:\n\u001B[1;32m    236\u001B[0m     \u001B[38;5;28;01mraise\u001B[39;00m\n\n\u001B[0;31mAnalysisException\u001B[0m: A schema mismatch detected when writing to the Delta table (Table ID: abd1b896-3cb7-49c4-a321-1ac02c4f67f6).\nTo enable schema migration using DataFrameWriter or DataStreamWriter, please set:\n'.option(\"mergeSchema\", \"true\")'.\nFor other operations, set the session configuration\nspark.databricks.delta.schema.autoMerge.enabled to \"true\". See the documentation\nspecific to the operation for details.\n\nTable schema:\nroot\n-- Branch_ID: string (nullable = true)\n-- Dealer_ID: string (nullable = true)\n-- Model_ID: string (nullable = true)\n-- Revenue: integer (nullable = true)\n-- Units_Sold: integer (nullable = true)\n-- Date_ID: string (nullable = true)\n-- Month: integer (nullable = true)\n-- Year: integer (nullable = true)\n-- BranchName: string (nullable = true)\n-- DealerName: string (nullable = true)\n-- Product_Name: string (nullable = true)\n-- Date: string (nullable = true)\n\n\nData schema:\nroot\n-- Branch_ID: string (nullable = true)\n-- Dealer_ID: string (nullable = true)\n-- Model_ID: string (nullable = true)\n-- Revenue: integer (nullable = true)\n-- Units_Sold: integer (nullable = true)\n-- Date_ID: string (nullable = true)\n-- Month: integer (nullable = true)\n-- Year: integer (nullable = true)\n-- BranchName: string (nullable = true)\n-- DealerName: string (nullable = true)\n-- Product_Name: string (nullable = true)\n-- Date: string (nullable = true)\n-- ReturnFlag: integer (nullable = true)\n\n         \nTo overwrite your schema or change partitioning, please set:\n'.option(\"overwriteSchema\", \"true\")'.\n\nNote that the schema can't be overwritten when using\n'replaceWhere'.\n         ",
       "errorSummary": "<span class='ansi-red-fg'>AnalysisException</span>: A schema mismatch detected when writing to the Delta table (Table ID: abd1b896-3cb7-49c4-a321-1ac02c4f67f6).\nTo enable schema migration using DataFrameWriter or DataStreamWriter, please set:\n'.option(\"mergeSchema\", \"true\")'.\nFor other operations, set the session configuration\nspark.databricks.delta.schema.autoMerge.enabled to \"true\". See the documentation\nspecific to the operation for details.\n\nTable schema:\nroot\n-- Branch_ID: string (nullable = true)\n-- Dealer_ID: string (nullable = true)\n-- Model_ID: string (nullable = true)\n-- Revenue: integer (nullable = true)\n-- Units_Sold: integer (nullable = true)\n-- Date_ID: string (nullable = true)\n-- Month: integer (nullable = true)\n-- Year: integer (nullable = true)\n-- BranchName: string (nullable = true)\n-- DealerName: string (nullable = true)\n-- Product_Name: string (nullable = true)\n-- Date: string (nullable = true)\n\n\nData schema:\nroot\n-- Branch_ID: string (nullable = true)\n-- Dealer_ID: string (nullable = true)\n-- Model_ID: string (nullable = true)\n-- Revenue: integer (nullable = true)\n-- Units_Sold: integer (nullable = true)\n-- Date_ID: string (nullable = true)\n-- Month: integer (nullable = true)\n-- Year: integer (nullable = true)\n-- BranchName: string (nullable = true)\n-- DealerName: string (nullable = true)\n-- Product_Name: string (nullable = true)\n-- Date: string (nullable = true)\n-- ReturnFlag: integer (nullable = true)\n\n         \nTo overwrite your schema or change partitioning, please set:\n'.option(\"overwriteSchema\", \"true\")'.\n\nNote that the schema can't be overwritten when using\n'replaceWhere'.\n         ",
       "errorTraceType": "ansi",
       "metadata": {},
       "type": "ipynbError"
      }
     },
     "output_type": "display_data"
    }
   ],
   "source": [
    "%python\n",
    "df.write.format(\"delta\") \\\n",
    "    .mode(\"overwrite\") \\\n",
    "    .option(\"path\", \"/FileStore/tables/sinkdata/sales_data_first_delta\") \\\n",
    "    .save()"
   ]
  },
  {
   "cell_type": "code",
   "execution_count": 0,
   "metadata": {
    "application/vnd.databricks.v1+cell": {
     "cellMetadata": {
      "byteLimit": 2048000,
      "rowLimit": 10000
     },
     "inputWidgets": {},
     "nuid": "3e224f4d-f310-4199-92f8-2b492f63a17c",
     "showTitle": false,
     "tableResultSettingsMap": {},
     "title": ""
    }
   },
   "outputs": [],
   "source": [
    "%python\n",
    "df.write.format(\"delta\") \\\n",
    "    .mode(\"overwrite\") \\\n",
    "    .option(\"path\", \"/FileStore/tables/sinkdata/sales_data_first_delta\") \\\n",
    "    .option(\"mergeSchema\",True)\\\n",
    "    .save()"
   ]
  },
  {
   "cell_type": "code",
   "execution_count": 0,
   "metadata": {
    "application/vnd.databricks.v1+cell": {
     "cellMetadata": {
      "byteLimit": 2048000,
      "rowLimit": 10000
     },
     "inputWidgets": {},
     "nuid": "f34da3db-e007-48a7-bc9f-a7c2ed4664cd",
     "showTitle": false,
     "tableResultSettingsMap": {},
     "title": ""
    }
   },
   "outputs": [
    {
     "output_type": "display_data",
     "data": {
      "text/html": [
       "<style scoped>\n",
       "  .table-result-container {\n",
       "    max-height: 300px;\n",
       "    overflow: auto;\n",
       "  }\n",
       "  table, th, td {\n",
       "    border: 1px solid black;\n",
       "    border-collapse: collapse;\n",
       "  }\n",
       "  th, td {\n",
       "    padding: 5px;\n",
       "  }\n",
       "  th {\n",
       "    text-align: left;\n",
       "  }\n",
       "</style><div class='table-result-container'><table class='table-result'><thead style='background-color: white'><tr><th>Branch_ID</th><th>Dealer_ID</th><th>Model_ID</th><th>Revenue</th><th>Units_Sold</th><th>Date_ID</th><th>Month</th><th>Year</th><th>BranchName</th><th>DealerName</th><th>Product_Name</th><th>Date</th><th>ReturnFlag</th></tr></thead><tbody><tr><td>BR1625</td><td>DLR0083</td><td>Che-M43</td><td>5608623</td><td>3</td><td>DT01151</td><td>2</td><td>2020</td><td>Ranger Motors</td><td>Honda India Motors</td><td>Chevrolet</td><td>2/25/2020 0:00</td><td>1</td></tr><tr><td>BR1630</td><td>DLR0250</td><td>Mah-M170</td><td>4796736</td><td>1</td><td>DT01139</td><td>2</td><td>2020</td><td>Ranger Motors</td><td>Aixam-Mega (including Arola) Motors</td><td>Mahindra</td><td>2/13/2020 0:00</td><td>1</td></tr><tr><td>BR1635</td><td>DLR0084</td><td>Che-M44</td><td>7473819</td><td>3</td><td>DT01152</td><td>2</td><td>2020</td><td>Reliant Motors</td><td>Hudson Motors</td><td>Chevrolet</td><td>2/26/2020 0:00</td><td>1</td></tr><tr><td>BR1640</td><td>DLR0251</td><td>Mah-M171</td><td>19794014</td><td>2</td><td>DT01140</td><td>2</td><td>2020</td><td>Reliant Motors</td><td>Alfa Romeo Motors</td><td>Mahindra</td><td>2/14/2020 0:00</td><td>1</td></tr><tr><td>BR1655</td><td>DLR0086</td><td>Che-M46</td><td>15077118</td><td>2</td><td>DT01154</td><td>2</td><td>2020</td><td>Rivian Motors</td><td>Hummer Motors</td><td>Chevrolet</td><td>2/28/2020 0:00</td><td>1</td></tr><tr><td>BR1660</td><td>DLR0253</td><td>Mah-M173</td><td>1134198</td><td>2</td><td>DT01142</td><td>2</td><td>2020</td><td>Rivian Motors</td><td>Alvis Motors</td><td>Mahindra</td><td>2/16/2020 0:00</td><td>1</td></tr><tr><td>BR1665</td><td>DLR0087</td><td>Che-M47</td><td>7622398</td><td>1</td><td>DT01155</td><td>2</td><td>2020</td><td>Rolls-Royce Motors</td><td>Hyundai Motors</td><td>Chevrolet</td><td>2/29/2020 0:00</td><td>1</td></tr><tr><td>BR1670</td><td>DLR0254</td><td>Mah-M174</td><td>6473726</td><td>1</td><td>DT01143</td><td>2</td><td>2020</td><td>Rolls-Royce Motors</td><td>AMC, Eagle Motors</td><td>Mahindra</td><td>2/17/2020 0:00</td><td>1</td></tr><tr><td>BR1680</td><td>DLR0255</td><td>Mah-M175</td><td>10287849</td><td>3</td><td>DT01144</td><td>2</td><td>2020</td><td>Saab Motors</td><td>Anadol Motors</td><td>Mahindra</td><td>2/18/2020 0:00</td><td>1</td></tr><tr><td>BR1685</td><td>DLR0089</td><td>Che-M49</td><td>2232010</td><td>1</td><td>DT01157</td><td>3</td><td>2020</td><td>SAIC Motor Motors</td><td>Infiniti Motors</td><td>Chevrolet</td><td>3/2/2020 0:00</td><td>1</td></tr><tr><td>BR1690</td><td>DLR0256</td><td>Mah-M176</td><td>9633912</td><td>2</td><td>DT01145</td><td>2</td><td>2020</td><td>SAIC Motor Motors</td><td>Ariel Motors</td><td>Mahindra</td><td>2/19/2020 0:00</td><td>1</td></tr><tr><td>BR1700</td><td>DLR0257</td><td>Mah-M177</td><td>3198540</td><td>3</td><td>DT01146</td><td>2</td><td>2020</td><td>Saleen Motors</td><td>ARO Motors</td><td>Mahindra</td><td>2/20/2020 0:00</td><td>1</td></tr><tr><td>BR1710</td><td>DLR0258</td><td>Mah-M178</td><td>8638572</td><td>2</td><td>DT01147</td><td>2</td><td>2020</td><td>Samsung Motors</td><td>null</td><td>Mahindra</td><td>2/21/2020 0:00</td><td>1</td></tr><tr><td>BR1715</td><td>DLR0092</td><td>GMC-M52</td><td>10283534</td><td>2</td><td>DT01160</td><td>3</td><td>2020</td><td>San Motors</td><td>Isdera Motors</td><td>GMC</td><td>3/5/2020 0:00</td><td>1</td></tr><tr><td>BR1720</td><td>DLR0259</td><td>Tat-M179</td><td>2656204</td><td>2</td><td>DT01148</td><td>2</td><td>2020</td><td>San Motors</td><td>Asia Motors Motors</td><td>Tata</td><td>2/22/2020 0:00</td><td>1</td></tr><tr><td>BR1725</td><td>DLR0093</td><td>GMC-M53</td><td>3508984</td><td>1</td><td>DT01161</td><td>3</td><td>2020</td><td>Santa Matilde Motors</td><td>Iso Motors</td><td>GMC</td><td>3/6/2020 0:00</td><td>1</td></tr><tr><td>BR1735</td><td>DLR0094</td><td>GMC-M54</td><td>8238429</td><td>3</td><td>DT01162</td><td>3</td><td>2020</td><td>Santana Motors</td><td>Isotta Fraschini Motors</td><td>GMC</td><td>3/7/2020 0:00</td><td>1</td></tr><tr><td>BR1745</td><td>DLR0095</td><td>GMC-M55</td><td>19930602</td><td>2</td><td>DT01163</td><td>3</td><td>2020</td><td>Saturn Motors</td><td>Isuzu Motors</td><td>GMC</td><td>3/8/2020 0:00</td><td>1</td></tr><tr><td>BR1750</td><td>DLR0262</td><td>Tat-M182</td><td>10592974</td><td>2</td><td>DT01151</td><td>2</td><td>2020</td><td>Saturn Motors</td><td>Autobianchi Motors</td><td>Tata</td><td>2/25/2020 0:00</td><td>1</td></tr><tr><td>BR1755</td><td>DLR0096</td><td>GMC-M56</td><td>19774090</td><td>2</td><td>DT01164</td><td>3</td><td>2020</td><td>Scion Motors</td><td>Iveco Motors</td><td>GMC</td><td>3/9/2020 0:00</td><td>1</td></tr><tr><td>BR1765</td><td>DLR0097</td><td>GMC-M57</td><td>16250655</td><td>3</td><td>DT01165</td><td>3</td><td>2020</td><td>Seat Motors</td><td>Jaguar Motors</td><td>GMC</td><td>3/10/2020 0:00</td><td>1</td></tr><tr><td>BR1770</td><td>DLR0264</td><td>Tat-M184</td><td>8789076</td><td>2</td><td>DT01153</td><td>2</td><td>2020</td><td>Seat Motors</td><td>Auverland Motors</td><td>Tata</td><td>2/27/2020 0:00</td><td>1</td></tr><tr><td>BR1780</td><td>DLR0265</td><td>Tat-M185</td><td>5907291</td><td>1</td><td>DT01154</td><td>2</td><td>2020</td><td>Shelby SuperCars Motors</td><td>Bentley Motors</td><td>Tata</td><td>2/28/2020 0:00</td><td>1</td></tr><tr><td>BR1785</td><td>DLR0099</td><td>Acu-M59</td><td>8656704</td><td>3</td><td>DT01167</td><td>3</td><td>2020</td><td>Simca Motors</td><td>Jensen Motors</td><td>Acura</td><td>3/12/2020 0:00</td><td>1</td></tr><tr><td>BR1795</td><td>DLR0100</td><td>Acu-M60</td><td>3338625</td><td>3</td><td>DT01168</td><td>3</td><td>2020</td><td>Simca do Brasil Motors</td><td>JPX Motors</td><td>Acura</td><td>3/13/2020 0:00</td><td>1</td></tr><tr><td>BR1800</td><td>DLR0267</td><td>Tat-M187</td><td>6558027</td><td>3</td><td>DT01156</td><td>3</td><td>2020</td><td>Simca do Brasil Motors</td><td>BMW Motors</td><td>Tata</td><td>3/1/2020 0:00</td><td>1</td></tr><tr><td>BR1805</td><td>DLR0101</td><td>Acu-M61</td><td>6868940</td><td>1</td><td>DT01169</td><td>3</td><td>2020</td><td>Singer Motors</td><td>Kia Motors</td><td>Acura</td><td>3/14/2020 0:00</td><td>1</td></tr><tr><td>BR1815</td><td>DLR0102</td><td>Acu-M62</td><td>9592556</td><td>1</td><td>DT01170</td><td>3</td><td>2020</td><td>Skoda Motors</td><td>Koenigsegg Motors</td><td>Acura</td><td>3/15/2020 0:00</td><td>1</td></tr><tr><td>BR1820</td><td>DLR0002</td><td>Tat-M189</td><td>2847247</td><td>1</td><td>DT01158</td><td>3</td><td>2020</td><td>Skoda Motors</td><td>Acura Motors</td><td>Tata</td><td>3/3/2020 0:00</td><td>1</td></tr><tr><td>BR1830</td><td>DLR0003</td><td>Tat-M190</td><td>8462551</td><td>1</td><td>DT01159</td><td>3</td><td>2020</td><td>Smart Motors</td><td>Aixam-Mega (including Arola) Motors</td><td>Tata</td><td>3/4/2020 0:00</td><td>1</td></tr><tr><td>BR1835</td><td>DLR0104</td><td>Hon-M64</td><td>18031704</td><td>2</td><td>DT01172</td><td>3</td><td>2020</td><td>Spyker Motors</td><td>Lada Motors</td><td>Honda</td><td>3/17/2020 0:00</td><td>1</td></tr><tr><td>BR1840</td><td>DLR0004</td><td>Tat-M191</td><td>14824880</td><td>2</td><td>DT01160</td><td>3</td><td>2020</td><td>Spyker Motors</td><td>Alfa Romeo Motors</td><td>Tata</td><td>3/5/2020 0:00</td><td>1</td></tr><tr><td>BR1845</td><td>DLR0105</td><td>Hon-M65</td><td>19645278</td><td>3</td><td>DT01173</td><td>3</td><td>2020</td><td>SsangYong Motors</td><td>Lamborghini Motors</td><td>Honda</td><td>3/18/2020 0:00</td><td>1</td></tr><tr><td>BR1855</td><td>DLR0106</td><td>Hon-M66</td><td>12924729</td><td>3</td><td>DT01174</td><td>3</td><td>2020</td><td>Standard-Triumph Motors</td><td>Lancia Motors</td><td>Honda</td><td>3/19/2020 0:00</td><td>1</td></tr><tr><td>BR1860</td><td>DLR0006</td><td>Tat-M193</td><td>19782228</td><td>3</td><td>DT01162</td><td>3</td><td>2020</td><td>Standard-Triumph Motors</td><td>Alvis Motors</td><td>Tata</td><td>3/7/2020 0:00</td><td>1</td></tr><tr><td>BR1865</td><td>DLR0107</td><td>Hon-M67</td><td>17791749</td><td>3</td><td>DT01175</td><td>3</td><td>2020</td><td>Studebaker Motors</td><td>Land Rover Motors</td><td>Honda</td><td>3/20/2020 0:00</td><td>1</td></tr><tr><td>BR1875</td><td>DLR0108</td><td>Hon-M68</td><td>2569118</td><td>2</td><td>DT01176</td><td>3</td><td>2020</td><td>Subaru Motors</td><td>Lexus Motors</td><td>Honda</td><td>3/21/2020 0:00</td><td>1</td></tr><tr><td>BR1880</td><td>DLR0008</td><td>Toy-M195</td><td>9541679</td><td>1</td><td>DT01164</td><td>3</td><td>2020</td><td>Subaru Motors</td><td>Anadol Motors</td><td>Toyota</td><td>3/9/2020 0:00</td><td>1</td></tr><tr><td>BR1895</td><td>DLR0110</td><td>Hon-M70</td><td>13877574</td><td>2</td><td>DT01178</td><td>3</td><td>2020</td><td>Suzuki Motors</td><td>Lincoln Motors</td><td>Honda</td><td>3/23/2020 0:00</td><td>1</td></tr><tr><td>BR1905</td><td>DLR0111</td><td>Hon-M71</td><td>26277687</td><td>3</td><td>DT01179</td><td>3</td><td>2020</td><td>Tata Motors</td><td>Lotus Motors</td><td>Honda</td><td>3/24/2020 0:00</td><td>1</td></tr><tr><td>BR1910</td><td>DLR0011</td><td>Toy-M198</td><td>9387408</td><td>2</td><td>DT01167</td><td>3</td><td>2020</td><td>Tata Motors</td><td>Artega Motors</td><td>Toyota</td><td>3/12/2020 0:00</td><td>1</td></tr><tr><td>BR1915</td><td>DLR0112</td><td>Hyu-M72</td><td>2145815</td><td>1</td><td>DT01180</td><td>3</td><td>2020</td><td>Tatra Motors</td><td>LTI Motors</td><td>Hyundai</td><td>3/25/2020 0:00</td><td>1</td></tr><tr><td>BR1920</td><td>DLR0012</td><td>Toy-M199</td><td>8137212</td><td>2</td><td>DT01168</td><td>3</td><td>2020</td><td>Tatra Motors</td><td>Asia Motors Motors</td><td>Toyota</td><td>3/13/2020 0:00</td><td>1</td></tr><tr><td>BR1925</td><td>DLR0113</td><td>Hyu-M73</td><td>7259016</td><td>2</td><td>DT01181</td><td>3</td><td>2020</td><td>Tazzari Motors</td><td>LuAZ Motors</td><td>Hyundai</td><td>3/26/2020 0:00</td><td>1</td></tr><tr><td>BR1930</td><td>DLR0013</td><td>Toy-M200</td><td>27872751</td><td>3</td><td>DT01169</td><td>3</td><td>2020</td><td>Tazzari Motors</td><td>Aston Martin Motors</td><td>Toyota</td><td>3/14/2020 0:00</td><td>1</td></tr><tr><td>BR1935</td><td>DLR0114</td><td>Hyu-M74</td><td>1988116</td><td>2</td><td>DT01182</td><td>3</td><td>2020</td><td>Tesla Motors</td><td>Lynx Motors</td><td>Hyundai</td><td>3/27/2020 0:00</td><td>1</td></tr><tr><td>BR1940</td><td>DLR0014</td><td>Toy-M201</td><td>8464536</td><td>2</td><td>DT01170</td><td>3</td><td>2020</td><td>Tesla Motors</td><td>Audi Motors</td><td>Toyota</td><td>3/15/2020 0:00</td><td>1</td></tr><tr><td>BR1945</td><td>DLR0115</td><td>Hyu-M75</td><td>15778162</td><td>2</td><td>DT01183</td><td>3</td><td>2020</td><td>Tornado Motors</td><td>Mahindra Motors</td><td>Hyundai</td><td>3/28/2020 0:00</td><td>1</td></tr><tr><td>BR1955</td><td>DLR0116</td><td>Kia-M76</td><td>2167212</td><td>3</td><td>DT01184</td><td>3</td><td>2020</td><td>Toyota Motors</td><td>Marcos Motors</td><td>Kia</td><td>3/29/2020 0:00</td><td>1</td></tr><tr><td>BR1960</td><td>DLR0016</td><td>Toy-M203</td><td>4420992</td><td>1</td><td>DT01172</td><td>3</td><td>2020</td><td>Toyota Motors</td><td>Auto-Union Motors</td><td>Toyota</td><td>3/17/2020 0:00</td><td>1</td></tr><tr><td>BR1965</td><td>DLR0117</td><td>Kia-M77</td><td>9918502</td><td>2</td><td>DT01185</td><td>3</td><td>2020</td><td>Toyota India Motors</td><td>Marlin Motors</td><td>Kia</td><td>3/30/2020 0:00</td><td>1</td></tr><tr><td>BR1975</td><td>DLR0118</td><td>Kia-M78</td><td>12487035</td><td>3</td><td>DT01186</td><td>3</td><td>2020</td><td>Turner Motors</td><td>Maruti Motors</td><td>Kia</td><td>3/31/2020 0:00</td><td>1</td></tr><tr><td>BR1980</td><td>DLR0018</td><td>Toy-M205</td><td>18797763</td><td>3</td><td>DT01174</td><td>3</td><td>2020</td><td>Turner Motors</td><td>Bentley Motors</td><td>Toyota</td><td>3/19/2020 0:00</td><td>1</td></tr><tr><td>BR1985</td><td>DLR0119</td><td>Inf-M79</td><td>1185524</td><td>2</td><td>DT01187</td><td>4</td><td>2020</td><td>TVR Motors</td><td>Maserati Motors</td><td>Infiniti</td><td>4/1/2020 0:00</td><td>1</td></tr><tr><td>BR1990</td><td>DLR0019</td><td>Toy-M206</td><td>16819923</td><td>3</td><td>DT01175</td><td>3</td><td>2020</td><td>TVR Motors</td><td>Bitter Motors</td><td>Toyota</td><td>3/20/2020 0:00</td><td>1</td></tr><tr><td>BR2000</td><td>DLR0020</td><td>Ren-M207</td><td>26641407</td><td>3</td><td>DT01176</td><td>3</td><td>2020</td><td>UAZ Motors</td><td>BMW Motors</td><td>Renault</td><td>3/21/2020 0:00</td><td>1</td></tr><tr><td>BR2005</td><td>DLR0121</td><td>Nis-M81</td><td>29104182</td><td>3</td><td>DT01189</td><td>4</td><td>2020</td><td>Vauxhall Motors</td><td>Matra (including Deutsch-Bonnet, René Bonnet) Motors</td><td>Nissan</td><td>4/3/2020 0:00</td><td>1</td></tr><tr><td>BR2025</td><td>DLR0123</td><td>Nis-M83</td><td>6607616</td><td>1</td><td>DT01191</td><td>4</td><td>2020</td><td>Volkswagen Motors</td><td>Mazzanti Motors</td><td>Nissan</td><td>4/5/2020 0:00</td><td>1</td></tr><tr><td>BR2030</td><td>DLR0023</td><td>Ren-M210</td><td>29245743</td><td>3</td><td>DT01179</td><td>3</td><td>2020</td><td>Volkswagen Motors</td><td>Bristol Motors</td><td>Renault</td><td>3/24/2020 0:00</td><td>1</td></tr><tr><td>BR2035</td><td>DLR0124</td><td>Nis-M84</td><td>11136476</td><td>2</td><td>DT01192</td><td>4</td><td>2020</td><td>Volkswagen do Brasil Motors</td><td>McLaren Motors</td><td>Nissan</td><td>4/6/2020 0:00</td><td>1</td></tr><tr><td>BR2040</td><td>DLR0024</td><td>Ren-M211</td><td>1362898</td><td>1</td><td>DT01180</td><td>3</td><td>2020</td><td>Volkswagen do Brasil Motors</td><td>British Leyland Motors</td><td>Renault</td><td>3/25/2020 0:00</td><td>1</td></tr><tr><td>BR2045</td><td>DLR0125</td><td>Nis-M85</td><td>8087798</td><td>2</td><td>DT01193</td><td>4</td><td>2020</td><td>Volkswagen South Africa Motors</td><td>Mercedes-Benz (including Maybach) Motors</td><td>Nissan</td><td>4/7/2020 0:00</td><td>1</td></tr><tr><td>BR2050</td><td>DLR0025</td><td>Kia-M212</td><td>24546006</td><td>3</td><td>DT01181</td><td>3</td><td>2020</td><td>Volkswagen South Africa Motors</td><td>Austin-Healey Motors</td><td>Kia</td><td>3/26/2020 0:00</td><td>1</td></tr><tr><td>BR2060</td><td>DLR0026</td><td>Kia-M213</td><td>2493076</td><td>1</td><td>DT01182</td><td>3</td><td>2020</td><td>Volvo Motors</td><td>Austin, Rover Motors</td><td>Kia</td><td>3/27/2020 0:00</td><td>1</td></tr><tr><td>BR2065</td><td>DLR0127</td><td>Nis-M87</td><td>5761937</td><td>1</td><td>DT01195</td><td>4</td><td>2020</td><td>Westfield Motors</td><td>Merkur Motors</td><td>Nissan</td><td>4/9/2020 0:00</td><td>1</td></tr><tr><td>BR2070</td><td>DLR0027</td><td>Kia-M214</td><td>8376524</td><td>1</td><td>DT01183</td><td>3</td><td>2020</td><td>Westfield Motors</td><td>Bugatti Motors</td><td>Kia</td><td>3/28/2020 0:00</td><td>1</td></tr><tr><td>BR2075</td><td>DLR0128</td><td>Nis-M88</td><td>5248404</td><td>2</td><td>DT01196</td><td>4</td><td>2020</td><td>Wiesmann Motors</td><td>Messerschmitt Motors</td><td>Nissan</td><td>4/10/2020 0:00</td><td>1</td></tr><tr><td>BR2080</td><td>DLR0028</td><td>Hon-M215</td><td>7528299</td><td>1</td><td>DT01184</td><td>3</td><td>2020</td><td>Wiesmann Motors</td><td>Buick Motors</td><td>Honda</td><td>3/29/2020 0:00</td><td>1</td></tr><tr><td>BR2085</td><td>DLR0129</td><td>Nis-M89</td><td>8997126</td><td>3</td><td>DT01197</td><td>4</td><td>2020</td><td>Zastava Motors</td><td>Mia Motors</td><td>Nissan</td><td>4/11/2020 0:00</td><td>1</td></tr><tr><td>BR2090</td><td>DLR0029</td><td>Hon-M216</td><td>1297858</td><td>1</td><td>DT01185</td><td>3</td><td>2020</td><td>Zastava Motors</td><td>Bytom Motors</td><td>Honda</td><td>3/30/2020 0:00</td><td>1</td></tr><tr><td>BR2095</td><td>DLR0130</td><td>Riv-M90</td><td>14384055</td><td>3</td><td>DT01198</td><td>4</td><td>2020</td><td>ZAZ Motors</td><td>Micro Motors</td><td>Rivian</td><td>4/12/2020 0:00</td><td>1</td></tr><tr><td>BR2100</td><td>DLR0030</td><td>Hon-M217</td><td>1794492</td><td>1</td><td>DT01186</td><td>3</td><td>2020</td><td>ZAZ Motors</td><td>Cadillac Motors</td><td>Honda</td><td>3/31/2020 0:00</td><td>1</td></tr><tr><td>BR2105</td><td>DLR0131</td><td>Riv-M91</td><td>9851706</td><td>3</td><td>DT01199</td><td>4</td><td>2020</td><td>ZIL Motors</td><td>Mini Motors</td><td>Rivian</td><td>4/13/2020 0:00</td><td>1</td></tr><tr><td>BR2110</td><td>DLR0031</td><td>Hon-M218</td><td>7084610</td><td>1</td><td>DT01187</td><td>4</td><td>2020</td><td>ZIL Motors</td><td>Caterham Motors</td><td>Honda</td><td>4/1/2020 0:00</td><td>1</td></tr><tr><td>BR2115</td><td>DLR0132</td><td>Sub-M92</td><td>18425982</td><td>2</td><td>DT01200</td><td>4</td><td>2020</td><td>Audi Motors</td><td>Mitsubishi Motors</td><td>Subaru</td><td>4/14/2020 0:00</td><td>1</td></tr><tr><td>BR2125</td><td>DLR0133</td><td>Sub-M93</td><td>8790030</td><td>1</td><td>DT01201</td><td>4</td><td>2020</td><td>DKW Motors</td><td>Monica Motors</td><td>Subaru</td><td>4/15/2020 0:00</td><td>1</td></tr><tr><td>BR2130</td><td>DLR0033</td><td>Hon-M220</td><td>2203758</td><td>1</td><td>DT01189</td><td>4</td><td>2020</td><td>DKW Motors</td><td>Chevrolet Motors</td><td>Honda</td><td>4/3/2020 0:00</td><td>1</td></tr><tr><td>BR2135</td><td>DLR0134</td><td>Sub-M94</td><td>8253262</td><td>2</td><td>DT01202</td><td>4</td><td>2020</td><td>Horch Motors</td><td>Monteverdi Motors</td><td>Subaru</td><td>4/16/2020 0:00</td><td>1</td></tr><tr><td>BR2140</td><td>DLR0034</td><td>For-M221</td><td>18982494</td><td>3</td><td>DT01190</td><td>4</td><td>2020</td><td>Horch Motors</td><td>Chevrolet India Motors</td><td>Ford</td><td>4/4/2020 0:00</td><td>1</td></tr><tr><td>BR2150</td><td>DLR0035</td><td>For-M222</td><td>1010235</td><td>3</td><td>DT01191</td><td>4</td><td>2020</td><td>Wanderer Motors</td><td>Chrysler Motors</td><td>Ford</td><td>4/5/2020 0:00</td><td>1</td></tr><tr><td>BR2155</td><td>DLR0136</td><td>Tes-M96</td><td>11171496</td><td>3</td><td>DT01204</td><td>4</td><td>2020</td><td>Maybach  Motors</td><td>Moskwitch Motors</td><td>Tesla</td><td>4/18/2020 0:00</td><td>1</td></tr><tr><td>BR2160</td><td>DLR0036</td><td>For-M223</td><td>4417448</td><td>2</td><td>DT01192</td><td>4</td><td>2020</td><td>Maybach  Motors</td><td>Chrysler Europe Motors</td><td>Ford</td><td>4/6/2020 0:00</td><td>1</td></tr><tr><td>BR2165</td><td>DLR0137</td><td>Tes-M97</td><td>26413749</td><td>3</td><td>DT01205</td><td>4</td><td>2020</td><td>Izh  Motors</td><td>Nash Motors</td><td>Tesla</td><td>4/19/2020 0:00</td><td>1</td></tr><tr><td>BR2170</td><td>DLR0037</td><td>For-M224</td><td>1229389</td><td>1</td><td>DT01193</td><td>4</td><td>2020</td><td>Izh  Motors</td><td>Citroën Motors</td><td>Ford</td><td>4/7/2020 0:00</td><td>1</td></tr><tr><td>BR2175</td><td>DLR0138</td><td>Tes-M98</td><td>8877463</td><td>1</td><td>DT01206</td><td>4</td><td>2020</td><td>Lagonda  Motors</td><td>Naza Motors</td><td>Tesla</td><td>4/20/2020 0:00</td><td>1</td></tr><tr><td>BR2180</td><td>DLR0038</td><td>For-M225</td><td>10562268</td><td>3</td><td>DT01194</td><td>4</td><td>2020</td><td>Lagonda  Motors</td><td>Cizeta-Moroder Motors</td><td>Ford</td><td>4/8/2020 0:00</td><td>1</td></tr><tr><td>BR2185</td><td>DLR0139</td><td>Lex-M99</td><td>20577474</td><td>3</td><td>DT01207</td><td>4</td><td>2020</td><td>MG  Motors</td><td>Nissan Motors</td><td>Lexus</td><td>4/21/2020 0:00</td><td>1</td></tr><tr><td>BR2190</td><td>DLR0039</td><td>For-M226</td><td>13949298</td><td>2</td><td>DT01195</td><td>4</td><td>2020</td><td>MG  Motors</td><td>Dacia Motors</td><td>Ford</td><td>4/9/2020 0:00</td><td>1</td></tr><tr><td>BR2195</td><td>DLR0140</td><td>Toy-M100</td><td>15681306</td><td>2</td><td>DT01208</td><td>4</td><td>2020</td><td>Morris  Motors</td><td>Nissan India Motors</td><td>Toyota</td><td>4/22/2020 0:00</td><td>1</td></tr><tr><td>BR2200</td><td>DLR0040</td><td>Aud-M227</td><td>8881768</td><td>1</td><td>DT01196</td><td>4</td><td>2020</td><td>Morris  Motors</td><td>Daewoo, Saehan, Chevrolet Korea Motors</td><td>Audi</td><td>4/10/2020 0:00</td><td>1</td></tr><tr><td>BR2210</td><td>DLR0041</td><td>Aud-M228</td><td>14143962</td><td>2</td><td>DT01197</td><td>4</td><td>2020</td><td>Austin  Motors</td><td>DAF Motors</td><td>Audi</td><td>4/11/2020 0:00</td><td>1</td></tr><tr><td>BR2220</td><td>DLR0042</td><td>Aud-M229</td><td>5651109</td><td>3</td><td>DT01198</td><td>4</td><td>2020</td><td>Riley  Motors</td><td>Daihatsu Motors</td><td>Audi</td><td>4/12/2020 0:00</td><td>1</td></tr><tr><td>BR2225</td><td>DLR0143</td><td>Toy-M103</td><td>9042719</td><td>1</td><td>DT01211</td><td>4</td><td>2020</td><td>Wolseley  Motors</td><td>Oldsmobile Motors</td><td>Toyota</td><td>4/25/2020 0:00</td><td>1</td></tr><tr><td>BR2230</td><td>DLR0043</td><td>Aud-M230</td><td>18718750</td><td>2</td><td>DT01199</td><td>4</td><td>2020</td><td>Wolseley  Motors</td><td>Daimler Motors</td><td>Audi</td><td>4/13/2020 0:00</td><td>1</td></tr><tr><td>BR2240</td><td>DLR0044</td><td>Aud-M231</td><td>19955415</td><td>3</td><td>DT01200</td><td>4</td><td>2020</td><td>Standard  Motors</td><td>null</td><td>Audi</td><td>4/14/2020 0:00</td><td>1</td></tr><tr><td>BR2245</td><td>DLR0145</td><td>Toy-M105</td><td>8064714</td><td>2</td><td>DT01213</td><td>4</td><td>2020</td><td>Talbot  Motors</td><td>Opel Motors</td><td>Toyota</td><td>4/27/2020 0:00</td><td>1</td></tr><tr><td>BR2250</td><td>DLR0045</td><td>Aud-M232</td><td>1853412</td><td>2</td><td>DT01201</td><td>4</td><td>2020</td><td>Talbot  Motors</td><td>Delahaye Motors</td><td>Audi</td><td>4/15/2020 0:00</td><td>1</td></tr><tr><td>BR2260</td><td>DLR0046</td><td>Aud-M233</td><td>226386</td><td>2</td><td>DT01202</td><td>4</td><td>2020</td><td>Das Motors</td><td>DeLorean Motors</td><td>Audi</td><td>4/16/2020 0:00</td><td>1</td></tr><tr><td>BR2270</td><td>DLR0047</td><td>Aud-M234</td><td>7358930</td><td>2</td><td>DT01203</td><td>4</td><td>2020</td><td>Ramani Motors</td><td>DeSoto Motors</td><td>Audi</td><td>4/17/2020 0:00</td><td>1</td></tr><tr><td>BR2275</td><td>DLR0148</td><td>Vol-M108</td><td>17151476</td><td>2</td><td>DT01216</td><td>4</td><td>2020</td><td>Deccan Motors</td><td>Panhard Motors</td><td>Volkswagen</td><td>4/30/2020 0:00</td><td>1</td></tr></tbody></table></div>"
      ]
     },
     "metadata": {
      "application/vnd.databricks.v1+output": {
       "addedWidgets": {},
       "aggData": [],
       "aggError": "",
       "aggOverflow": false,
       "aggSchema": [],
       "aggSeriesLimitReached": false,
       "aggType": "",
       "arguments": {},
       "columnCustomDisplayInfos": {},
       "data": [
        [
         "BR1625",
         "DLR0083",
         "Che-M43",
         5608623,
         3,
         "DT01151",
         2,
         2020,
         "Ranger Motors",
         "Honda India Motors",
         "Chevrolet",
         "2/25/2020 0:00",
         1
        ],
        [
         "BR1630",
         "DLR0250",
         "Mah-M170",
         4796736,
         1,
         "DT01139",
         2,
         2020,
         "Ranger Motors",
         "Aixam-Mega (including Arola) Motors",
         "Mahindra",
         "2/13/2020 0:00",
         1
        ],
        [
         "BR1635",
         "DLR0084",
         "Che-M44",
         7473819,
         3,
         "DT01152",
         2,
         2020,
         "Reliant Motors",
         "Hudson Motors",
         "Chevrolet",
         "2/26/2020 0:00",
         1
        ],
        [
         "BR1640",
         "DLR0251",
         "Mah-M171",
         19794014,
         2,
         "DT01140",
         2,
         2020,
         "Reliant Motors",
         "Alfa Romeo Motors",
         "Mahindra",
         "2/14/2020 0:00",
         1
        ],
        [
         "BR1655",
         "DLR0086",
         "Che-M46",
         15077118,
         2,
         "DT01154",
         2,
         2020,
         "Rivian Motors",
         "Hummer Motors",
         "Chevrolet",
         "2/28/2020 0:00",
         1
        ],
        [
         "BR1660",
         "DLR0253",
         "Mah-M173",
         1134198,
         2,
         "DT01142",
         2,
         2020,
         "Rivian Motors",
         "Alvis Motors",
         "Mahindra",
         "2/16/2020 0:00",
         1
        ],
        [
         "BR1665",
         "DLR0087",
         "Che-M47",
         7622398,
         1,
         "DT01155",
         2,
         2020,
         "Rolls-Royce Motors",
         "Hyundai Motors",
         "Chevrolet",
         "2/29/2020 0:00",
         1
        ],
        [
         "BR1670",
         "DLR0254",
         "Mah-M174",
         6473726,
         1,
         "DT01143",
         2,
         2020,
         "Rolls-Royce Motors",
         "AMC, Eagle Motors",
         "Mahindra",
         "2/17/2020 0:00",
         1
        ],
        [
         "BR1680",
         "DLR0255",
         "Mah-M175",
         10287849,
         3,
         "DT01144",
         2,
         2020,
         "Saab Motors",
         "Anadol Motors",
         "Mahindra",
         "2/18/2020 0:00",
         1
        ],
        [
         "BR1685",
         "DLR0089",
         "Che-M49",
         2232010,
         1,
         "DT01157",
         3,
         2020,
         "SAIC Motor Motors",
         "Infiniti Motors",
         "Chevrolet",
         "3/2/2020 0:00",
         1
        ],
        [
         "BR1690",
         "DLR0256",
         "Mah-M176",
         9633912,
         2,
         "DT01145",
         2,
         2020,
         "SAIC Motor Motors",
         "Ariel Motors",
         "Mahindra",
         "2/19/2020 0:00",
         1
        ],
        [
         "BR1700",
         "DLR0257",
         "Mah-M177",
         3198540,
         3,
         "DT01146",
         2,
         2020,
         "Saleen Motors",
         "ARO Motors",
         "Mahindra",
         "2/20/2020 0:00",
         1
        ],
        [
         "BR1710",
         "DLR0258",
         "Mah-M178",
         8638572,
         2,
         "DT01147",
         2,
         2020,
         "Samsung Motors",
         null,
         "Mahindra",
         "2/21/2020 0:00",
         1
        ],
        [
         "BR1715",
         "DLR0092",
         "GMC-M52",
         10283534,
         2,
         "DT01160",
         3,
         2020,
         "San Motors",
         "Isdera Motors",
         "GMC",
         "3/5/2020 0:00",
         1
        ],
        [
         "BR1720",
         "DLR0259",
         "Tat-M179",
         2656204,
         2,
         "DT01148",
         2,
         2020,
         "San Motors",
         "Asia Motors Motors",
         "Tata",
         "2/22/2020 0:00",
         1
        ],
        [
         "BR1725",
         "DLR0093",
         "GMC-M53",
         3508984,
         1,
         "DT01161",
         3,
         2020,
         "Santa Matilde Motors",
         "Iso Motors",
         "GMC",
         "3/6/2020 0:00",
         1
        ],
        [
         "BR1735",
         "DLR0094",
         "GMC-M54",
         8238429,
         3,
         "DT01162",
         3,
         2020,
         "Santana Motors",
         "Isotta Fraschini Motors",
         "GMC",
         "3/7/2020 0:00",
         1
        ],
        [
         "BR1745",
         "DLR0095",
         "GMC-M55",
         19930602,
         2,
         "DT01163",
         3,
         2020,
         "Saturn Motors",
         "Isuzu Motors",
         "GMC",
         "3/8/2020 0:00",
         1
        ],
        [
         "BR1750",
         "DLR0262",
         "Tat-M182",
         10592974,
         2,
         "DT01151",
         2,
         2020,
         "Saturn Motors",
         "Autobianchi Motors",
         "Tata",
         "2/25/2020 0:00",
         1
        ],
        [
         "BR1755",
         "DLR0096",
         "GMC-M56",
         19774090,
         2,
         "DT01164",
         3,
         2020,
         "Scion Motors",
         "Iveco Motors",
         "GMC",
         "3/9/2020 0:00",
         1
        ],
        [
         "BR1765",
         "DLR0097",
         "GMC-M57",
         16250655,
         3,
         "DT01165",
         3,
         2020,
         "Seat Motors",
         "Jaguar Motors",
         "GMC",
         "3/10/2020 0:00",
         1
        ],
        [
         "BR1770",
         "DLR0264",
         "Tat-M184",
         8789076,
         2,
         "DT01153",
         2,
         2020,
         "Seat Motors",
         "Auverland Motors",
         "Tata",
         "2/27/2020 0:00",
         1
        ],
        [
         "BR1780",
         "DLR0265",
         "Tat-M185",
         5907291,
         1,
         "DT01154",
         2,
         2020,
         "Shelby SuperCars Motors",
         "Bentley Motors",
         "Tata",
         "2/28/2020 0:00",
         1
        ],
        [
         "BR1785",
         "DLR0099",
         "Acu-M59",
         8656704,
         3,
         "DT01167",
         3,
         2020,
         "Simca Motors",
         "Jensen Motors",
         "Acura",
         "3/12/2020 0:00",
         1
        ],
        [
         "BR1795",
         "DLR0100",
         "Acu-M60",
         3338625,
         3,
         "DT01168",
         3,
         2020,
         "Simca do Brasil Motors",
         "JPX Motors",
         "Acura",
         "3/13/2020 0:00",
         1
        ],
        [
         "BR1800",
         "DLR0267",
         "Tat-M187",
         6558027,
         3,
         "DT01156",
         3,
         2020,
         "Simca do Brasil Motors",
         "BMW Motors",
         "Tata",
         "3/1/2020 0:00",
         1
        ],
        [
         "BR1805",
         "DLR0101",
         "Acu-M61",
         6868940,
         1,
         "DT01169",
         3,
         2020,
         "Singer Motors",
         "Kia Motors",
         "Acura",
         "3/14/2020 0:00",
         1
        ],
        [
         "BR1815",
         "DLR0102",
         "Acu-M62",
         9592556,
         1,
         "DT01170",
         3,
         2020,
         "Skoda Motors",
         "Koenigsegg Motors",
         "Acura",
         "3/15/2020 0:00",
         1
        ],
        [
         "BR1820",
         "DLR0002",
         "Tat-M189",
         2847247,
         1,
         "DT01158",
         3,
         2020,
         "Skoda Motors",
         "Acura Motors",
         "Tata",
         "3/3/2020 0:00",
         1
        ],
        [
         "BR1830",
         "DLR0003",
         "Tat-M190",
         8462551,
         1,
         "DT01159",
         3,
         2020,
         "Smart Motors",
         "Aixam-Mega (including Arola) Motors",
         "Tata",
         "3/4/2020 0:00",
         1
        ],
        [
         "BR1835",
         "DLR0104",
         "Hon-M64",
         18031704,
         2,
         "DT01172",
         3,
         2020,
         "Spyker Motors",
         "Lada Motors",
         "Honda",
         "3/17/2020 0:00",
         1
        ],
        [
         "BR1840",
         "DLR0004",
         "Tat-M191",
         14824880,
         2,
         "DT01160",
         3,
         2020,
         "Spyker Motors",
         "Alfa Romeo Motors",
         "Tata",
         "3/5/2020 0:00",
         1
        ],
        [
         "BR1845",
         "DLR0105",
         "Hon-M65",
         19645278,
         3,
         "DT01173",
         3,
         2020,
         "SsangYong Motors",
         "Lamborghini Motors",
         "Honda",
         "3/18/2020 0:00",
         1
        ],
        [
         "BR1855",
         "DLR0106",
         "Hon-M66",
         12924729,
         3,
         "DT01174",
         3,
         2020,
         "Standard-Triumph Motors",
         "Lancia Motors",
         "Honda",
         "3/19/2020 0:00",
         1
        ],
        [
         "BR1860",
         "DLR0006",
         "Tat-M193",
         19782228,
         3,
         "DT01162",
         3,
         2020,
         "Standard-Triumph Motors",
         "Alvis Motors",
         "Tata",
         "3/7/2020 0:00",
         1
        ],
        [
         "BR1865",
         "DLR0107",
         "Hon-M67",
         17791749,
         3,
         "DT01175",
         3,
         2020,
         "Studebaker Motors",
         "Land Rover Motors",
         "Honda",
         "3/20/2020 0:00",
         1
        ],
        [
         "BR1875",
         "DLR0108",
         "Hon-M68",
         2569118,
         2,
         "DT01176",
         3,
         2020,
         "Subaru Motors",
         "Lexus Motors",
         "Honda",
         "3/21/2020 0:00",
         1
        ],
        [
         "BR1880",
         "DLR0008",
         "Toy-M195",
         9541679,
         1,
         "DT01164",
         3,
         2020,
         "Subaru Motors",
         "Anadol Motors",
         "Toyota",
         "3/9/2020 0:00",
         1
        ],
        [
         "BR1895",
         "DLR0110",
         "Hon-M70",
         13877574,
         2,
         "DT01178",
         3,
         2020,
         "Suzuki Motors",
         "Lincoln Motors",
         "Honda",
         "3/23/2020 0:00",
         1
        ],
        [
         "BR1905",
         "DLR0111",
         "Hon-M71",
         26277687,
         3,
         "DT01179",
         3,
         2020,
         "Tata Motors",
         "Lotus Motors",
         "Honda",
         "3/24/2020 0:00",
         1
        ],
        [
         "BR1910",
         "DLR0011",
         "Toy-M198",
         9387408,
         2,
         "DT01167",
         3,
         2020,
         "Tata Motors",
         "Artega Motors",
         "Toyota",
         "3/12/2020 0:00",
         1
        ],
        [
         "BR1915",
         "DLR0112",
         "Hyu-M72",
         2145815,
         1,
         "DT01180",
         3,
         2020,
         "Tatra Motors",
         "LTI Motors",
         "Hyundai",
         "3/25/2020 0:00",
         1
        ],
        [
         "BR1920",
         "DLR0012",
         "Toy-M199",
         8137212,
         2,
         "DT01168",
         3,
         2020,
         "Tatra Motors",
         "Asia Motors Motors",
         "Toyota",
         "3/13/2020 0:00",
         1
        ],
        [
         "BR1925",
         "DLR0113",
         "Hyu-M73",
         7259016,
         2,
         "DT01181",
         3,
         2020,
         "Tazzari Motors",
         "LuAZ Motors",
         "Hyundai",
         "3/26/2020 0:00",
         1
        ],
        [
         "BR1930",
         "DLR0013",
         "Toy-M200",
         27872751,
         3,
         "DT01169",
         3,
         2020,
         "Tazzari Motors",
         "Aston Martin Motors",
         "Toyota",
         "3/14/2020 0:00",
         1
        ],
        [
         "BR1935",
         "DLR0114",
         "Hyu-M74",
         1988116,
         2,
         "DT01182",
         3,
         2020,
         "Tesla Motors",
         "Lynx Motors",
         "Hyundai",
         "3/27/2020 0:00",
         1
        ],
        [
         "BR1940",
         "DLR0014",
         "Toy-M201",
         8464536,
         2,
         "DT01170",
         3,
         2020,
         "Tesla Motors",
         "Audi Motors",
         "Toyota",
         "3/15/2020 0:00",
         1
        ],
        [
         "BR1945",
         "DLR0115",
         "Hyu-M75",
         15778162,
         2,
         "DT01183",
         3,
         2020,
         "Tornado Motors",
         "Mahindra Motors",
         "Hyundai",
         "3/28/2020 0:00",
         1
        ],
        [
         "BR1955",
         "DLR0116",
         "Kia-M76",
         2167212,
         3,
         "DT01184",
         3,
         2020,
         "Toyota Motors",
         "Marcos Motors",
         "Kia",
         "3/29/2020 0:00",
         1
        ],
        [
         "BR1960",
         "DLR0016",
         "Toy-M203",
         4420992,
         1,
         "DT01172",
         3,
         2020,
         "Toyota Motors",
         "Auto-Union Motors",
         "Toyota",
         "3/17/2020 0:00",
         1
        ],
        [
         "BR1965",
         "DLR0117",
         "Kia-M77",
         9918502,
         2,
         "DT01185",
         3,
         2020,
         "Toyota India Motors",
         "Marlin Motors",
         "Kia",
         "3/30/2020 0:00",
         1
        ],
        [
         "BR1975",
         "DLR0118",
         "Kia-M78",
         12487035,
         3,
         "DT01186",
         3,
         2020,
         "Turner Motors",
         "Maruti Motors",
         "Kia",
         "3/31/2020 0:00",
         1
        ],
        [
         "BR1980",
         "DLR0018",
         "Toy-M205",
         18797763,
         3,
         "DT01174",
         3,
         2020,
         "Turner Motors",
         "Bentley Motors",
         "Toyota",
         "3/19/2020 0:00",
         1
        ],
        [
         "BR1985",
         "DLR0119",
         "Inf-M79",
         1185524,
         2,
         "DT01187",
         4,
         2020,
         "TVR Motors",
         "Maserati Motors",
         "Infiniti",
         "4/1/2020 0:00",
         1
        ],
        [
         "BR1990",
         "DLR0019",
         "Toy-M206",
         16819923,
         3,
         "DT01175",
         3,
         2020,
         "TVR Motors",
         "Bitter Motors",
         "Toyota",
         "3/20/2020 0:00",
         1
        ],
        [
         "BR2000",
         "DLR0020",
         "Ren-M207",
         26641407,
         3,
         "DT01176",
         3,
         2020,
         "UAZ Motors",
         "BMW Motors",
         "Renault",
         "3/21/2020 0:00",
         1
        ],
        [
         "BR2005",
         "DLR0121",
         "Nis-M81",
         29104182,
         3,
         "DT01189",
         4,
         2020,
         "Vauxhall Motors",
         "Matra (including Deutsch-Bonnet, René Bonnet) Motors",
         "Nissan",
         "4/3/2020 0:00",
         1
        ],
        [
         "BR2025",
         "DLR0123",
         "Nis-M83",
         6607616,
         1,
         "DT01191",
         4,
         2020,
         "Volkswagen Motors",
         "Mazzanti Motors",
         "Nissan",
         "4/5/2020 0:00",
         1
        ],
        [
         "BR2030",
         "DLR0023",
         "Ren-M210",
         29245743,
         3,
         "DT01179",
         3,
         2020,
         "Volkswagen Motors",
         "Bristol Motors",
         "Renault",
         "3/24/2020 0:00",
         1
        ],
        [
         "BR2035",
         "DLR0124",
         "Nis-M84",
         11136476,
         2,
         "DT01192",
         4,
         2020,
         "Volkswagen do Brasil Motors",
         "McLaren Motors",
         "Nissan",
         "4/6/2020 0:00",
         1
        ],
        [
         "BR2040",
         "DLR0024",
         "Ren-M211",
         1362898,
         1,
         "DT01180",
         3,
         2020,
         "Volkswagen do Brasil Motors",
         "British Leyland Motors",
         "Renault",
         "3/25/2020 0:00",
         1
        ],
        [
         "BR2045",
         "DLR0125",
         "Nis-M85",
         8087798,
         2,
         "DT01193",
         4,
         2020,
         "Volkswagen South Africa Motors",
         "Mercedes-Benz (including Maybach) Motors",
         "Nissan",
         "4/7/2020 0:00",
         1
        ],
        [
         "BR2050",
         "DLR0025",
         "Kia-M212",
         24546006,
         3,
         "DT01181",
         3,
         2020,
         "Volkswagen South Africa Motors",
         "Austin-Healey Motors",
         "Kia",
         "3/26/2020 0:00",
         1
        ],
        [
         "BR2060",
         "DLR0026",
         "Kia-M213",
         2493076,
         1,
         "DT01182",
         3,
         2020,
         "Volvo Motors",
         "Austin, Rover Motors",
         "Kia",
         "3/27/2020 0:00",
         1
        ],
        [
         "BR2065",
         "DLR0127",
         "Nis-M87",
         5761937,
         1,
         "DT01195",
         4,
         2020,
         "Westfield Motors",
         "Merkur Motors",
         "Nissan",
         "4/9/2020 0:00",
         1
        ],
        [
         "BR2070",
         "DLR0027",
         "Kia-M214",
         8376524,
         1,
         "DT01183",
         3,
         2020,
         "Westfield Motors",
         "Bugatti Motors",
         "Kia",
         "3/28/2020 0:00",
         1
        ],
        [
         "BR2075",
         "DLR0128",
         "Nis-M88",
         5248404,
         2,
         "DT01196",
         4,
         2020,
         "Wiesmann Motors",
         "Messerschmitt Motors",
         "Nissan",
         "4/10/2020 0:00",
         1
        ],
        [
         "BR2080",
         "DLR0028",
         "Hon-M215",
         7528299,
         1,
         "DT01184",
         3,
         2020,
         "Wiesmann Motors",
         "Buick Motors",
         "Honda",
         "3/29/2020 0:00",
         1
        ],
        [
         "BR2085",
         "DLR0129",
         "Nis-M89",
         8997126,
         3,
         "DT01197",
         4,
         2020,
         "Zastava Motors",
         "Mia Motors",
         "Nissan",
         "4/11/2020 0:00",
         1
        ],
        [
         "BR2090",
         "DLR0029",
         "Hon-M216",
         1297858,
         1,
         "DT01185",
         3,
         2020,
         "Zastava Motors",
         "Bytom Motors",
         "Honda",
         "3/30/2020 0:00",
         1
        ],
        [
         "BR2095",
         "DLR0130",
         "Riv-M90",
         14384055,
         3,
         "DT01198",
         4,
         2020,
         "ZAZ Motors",
         "Micro Motors",
         "Rivian",
         "4/12/2020 0:00",
         1
        ],
        [
         "BR2100",
         "DLR0030",
         "Hon-M217",
         1794492,
         1,
         "DT01186",
         3,
         2020,
         "ZAZ Motors",
         "Cadillac Motors",
         "Honda",
         "3/31/2020 0:00",
         1
        ],
        [
         "BR2105",
         "DLR0131",
         "Riv-M91",
         9851706,
         3,
         "DT01199",
         4,
         2020,
         "ZIL Motors",
         "Mini Motors",
         "Rivian",
         "4/13/2020 0:00",
         1
        ],
        [
         "BR2110",
         "DLR0031",
         "Hon-M218",
         7084610,
         1,
         "DT01187",
         4,
         2020,
         "ZIL Motors",
         "Caterham Motors",
         "Honda",
         "4/1/2020 0:00",
         1
        ],
        [
         "BR2115",
         "DLR0132",
         "Sub-M92",
         18425982,
         2,
         "DT01200",
         4,
         2020,
         "Audi Motors",
         "Mitsubishi Motors",
         "Subaru",
         "4/14/2020 0:00",
         1
        ],
        [
         "BR2125",
         "DLR0133",
         "Sub-M93",
         8790030,
         1,
         "DT01201",
         4,
         2020,
         "DKW Motors",
         "Monica Motors",
         "Subaru",
         "4/15/2020 0:00",
         1
        ],
        [
         "BR2130",
         "DLR0033",
         "Hon-M220",
         2203758,
         1,
         "DT01189",
         4,
         2020,
         "DKW Motors",
         "Chevrolet Motors",
         "Honda",
         "4/3/2020 0:00",
         1
        ],
        [
         "BR2135",
         "DLR0134",
         "Sub-M94",
         8253262,
         2,
         "DT01202",
         4,
         2020,
         "Horch Motors",
         "Monteverdi Motors",
         "Subaru",
         "4/16/2020 0:00",
         1
        ],
        [
         "BR2140",
         "DLR0034",
         "For-M221",
         18982494,
         3,
         "DT01190",
         4,
         2020,
         "Horch Motors",
         "Chevrolet India Motors",
         "Ford",
         "4/4/2020 0:00",
         1
        ],
        [
         "BR2150",
         "DLR0035",
         "For-M222",
         1010235,
         3,
         "DT01191",
         4,
         2020,
         "Wanderer Motors",
         "Chrysler Motors",
         "Ford",
         "4/5/2020 0:00",
         1
        ],
        [
         "BR2155",
         "DLR0136",
         "Tes-M96",
         11171496,
         3,
         "DT01204",
         4,
         2020,
         "Maybach  Motors",
         "Moskwitch Motors",
         "Tesla",
         "4/18/2020 0:00",
         1
        ],
        [
         "BR2160",
         "DLR0036",
         "For-M223",
         4417448,
         2,
         "DT01192",
         4,
         2020,
         "Maybach  Motors",
         "Chrysler Europe Motors",
         "Ford",
         "4/6/2020 0:00",
         1
        ],
        [
         "BR2165",
         "DLR0137",
         "Tes-M97",
         26413749,
         3,
         "DT01205",
         4,
         2020,
         "Izh  Motors",
         "Nash Motors",
         "Tesla",
         "4/19/2020 0:00",
         1
        ],
        [
         "BR2170",
         "DLR0037",
         "For-M224",
         1229389,
         1,
         "DT01193",
         4,
         2020,
         "Izh  Motors",
         "Citroën Motors",
         "Ford",
         "4/7/2020 0:00",
         1
        ],
        [
         "BR2175",
         "DLR0138",
         "Tes-M98",
         8877463,
         1,
         "DT01206",
         4,
         2020,
         "Lagonda  Motors",
         "Naza Motors",
         "Tesla",
         "4/20/2020 0:00",
         1
        ],
        [
         "BR2180",
         "DLR0038",
         "For-M225",
         10562268,
         3,
         "DT01194",
         4,
         2020,
         "Lagonda  Motors",
         "Cizeta-Moroder Motors",
         "Ford",
         "4/8/2020 0:00",
         1
        ],
        [
         "BR2185",
         "DLR0139",
         "Lex-M99",
         20577474,
         3,
         "DT01207",
         4,
         2020,
         "MG  Motors",
         "Nissan Motors",
         "Lexus",
         "4/21/2020 0:00",
         1
        ],
        [
         "BR2190",
         "DLR0039",
         "For-M226",
         13949298,
         2,
         "DT01195",
         4,
         2020,
         "MG  Motors",
         "Dacia Motors",
         "Ford",
         "4/9/2020 0:00",
         1
        ],
        [
         "BR2195",
         "DLR0140",
         "Toy-M100",
         15681306,
         2,
         "DT01208",
         4,
         2020,
         "Morris  Motors",
         "Nissan India Motors",
         "Toyota",
         "4/22/2020 0:00",
         1
        ],
        [
         "BR2200",
         "DLR0040",
         "Aud-M227",
         8881768,
         1,
         "DT01196",
         4,
         2020,
         "Morris  Motors",
         "Daewoo, Saehan, Chevrolet Korea Motors",
         "Audi",
         "4/10/2020 0:00",
         1
        ],
        [
         "BR2210",
         "DLR0041",
         "Aud-M228",
         14143962,
         2,
         "DT01197",
         4,
         2020,
         "Austin  Motors",
         "DAF Motors",
         "Audi",
         "4/11/2020 0:00",
         1
        ],
        [
         "BR2220",
         "DLR0042",
         "Aud-M229",
         5651109,
         3,
         "DT01198",
         4,
         2020,
         "Riley  Motors",
         "Daihatsu Motors",
         "Audi",
         "4/12/2020 0:00",
         1
        ],
        [
         "BR2225",
         "DLR0143",
         "Toy-M103",
         9042719,
         1,
         "DT01211",
         4,
         2020,
         "Wolseley  Motors",
         "Oldsmobile Motors",
         "Toyota",
         "4/25/2020 0:00",
         1
        ],
        [
         "BR2230",
         "DLR0043",
         "Aud-M230",
         18718750,
         2,
         "DT01199",
         4,
         2020,
         "Wolseley  Motors",
         "Daimler Motors",
         "Audi",
         "4/13/2020 0:00",
         1
        ],
        [
         "BR2240",
         "DLR0044",
         "Aud-M231",
         19955415,
         3,
         "DT01200",
         4,
         2020,
         "Standard  Motors",
         null,
         "Audi",
         "4/14/2020 0:00",
         1
        ],
        [
         "BR2245",
         "DLR0145",
         "Toy-M105",
         8064714,
         2,
         "DT01213",
         4,
         2020,
         "Talbot  Motors",
         "Opel Motors",
         "Toyota",
         "4/27/2020 0:00",
         1
        ],
        [
         "BR2250",
         "DLR0045",
         "Aud-M232",
         1853412,
         2,
         "DT01201",
         4,
         2020,
         "Talbot  Motors",
         "Delahaye Motors",
         "Audi",
         "4/15/2020 0:00",
         1
        ],
        [
         "BR2260",
         "DLR0046",
         "Aud-M233",
         226386,
         2,
         "DT01202",
         4,
         2020,
         "Das Motors",
         "DeLorean Motors",
         "Audi",
         "4/16/2020 0:00",
         1
        ],
        [
         "BR2270",
         "DLR0047",
         "Aud-M234",
         7358930,
         2,
         "DT01203",
         4,
         2020,
         "Ramani Motors",
         "DeSoto Motors",
         "Audi",
         "4/17/2020 0:00",
         1
        ],
        [
         "BR2275",
         "DLR0148",
         "Vol-M108",
         17151476,
         2,
         "DT01216",
         4,
         2020,
         "Deccan Motors",
         "Panhard Motors",
         "Volkswagen",
         "4/30/2020 0:00",
         1
        ]
       ],
       "datasetInfos": [],
       "dbfsResultPath": null,
       "isJsonSchema": true,
       "metadata": {},
       "overflow": false,
       "plotOptions": {
        "customPlotOptions": {},
        "displayType": "table",
        "pivotAggregation": null,
        "pivotColumns": null,
        "xColumns": null,
        "yColumns": null
       },
       "removedWidgets": [],
       "schema": [
        {
         "metadata": "{}",
         "name": "Branch_ID",
         "type": "\"string\""
        },
        {
         "metadata": "{}",
         "name": "Dealer_ID",
         "type": "\"string\""
        },
        {
         "metadata": "{}",
         "name": "Model_ID",
         "type": "\"string\""
        },
        {
         "metadata": "{}",
         "name": "Revenue",
         "type": "\"integer\""
        },
        {
         "metadata": "{}",
         "name": "Units_Sold",
         "type": "\"integer\""
        },
        {
         "metadata": "{}",
         "name": "Date_ID",
         "type": "\"string\""
        },
        {
         "metadata": "{}",
         "name": "Month",
         "type": "\"integer\""
        },
        {
         "metadata": "{}",
         "name": "Year",
         "type": "\"integer\""
        },
        {
         "metadata": "{}",
         "name": "BranchName",
         "type": "\"string\""
        },
        {
         "metadata": "{}",
         "name": "DealerName",
         "type": "\"string\""
        },
        {
         "metadata": "{}",
         "name": "Product_Name",
         "type": "\"string\""
        },
        {
         "metadata": "{}",
         "name": "Date",
         "type": "\"string\""
        },
        {
         "metadata": "{}",
         "name": "ReturnFlag",
         "type": "\"integer\""
        }
       ],
       "type": "table"
      }
     },
     "output_type": "display_data"
    }
   ],
   "source": [
    "%sql\n",
    "SELECT * FROM delta.`/FileStore/tables/sinkdata/sales_data_first_delta`"
   ]
  },
  {
   "cell_type": "code",
   "execution_count": 0,
   "metadata": {
    "application/vnd.databricks.v1+cell": {
     "cellMetadata": {
      "byteLimit": 2048000,
      "rowLimit": 10000
     },
     "inputWidgets": {},
     "nuid": "d48070c0-cc30-4d98-a296-0c85849b8fbd",
     "showTitle": false,
     "tableResultSettingsMap": {},
     "title": ""
    }
   },
   "outputs": [
    {
     "output_type": "display_data",
     "data": {
      "text/html": [
       "<style scoped>\n",
       "  .table-result-container {\n",
       "    max-height: 300px;\n",
       "    overflow: auto;\n",
       "  }\n",
       "  table, th, td {\n",
       "    border: 1px solid black;\n",
       "    border-collapse: collapse;\n",
       "  }\n",
       "  th, td {\n",
       "    padding: 5px;\n",
       "  }\n",
       "  th {\n",
       "    text-align: left;\n",
       "  }\n",
       "</style><div class='table-result-container'><table class='table-result'><thead style='background-color: white'><tr><th>path</th><th>metrics</th></tr></thead><tbody><tr><td>dbfs:/FileStore/tables/sinkdata/my_delta_table_2</td><td>List(1, 2, List(1107, 1107, 1107.0, 1, 1107), List(1052, 1062, 1057.0, 2, 2114), 0, List(minCubeSize(107374182400), List(0, 0), List(2, 2114), 0, List(2, 2114), 1, null), 1, 2, 0, false, 0, 0, 1742781509413, 1742781515241, 8, 1, null, List(0, 0), 3, 3, 226)</td></tr></tbody></table></div>"
      ]
     },
     "metadata": {
      "application/vnd.databricks.v1+output": {
       "addedWidgets": {},
       "aggData": [],
       "aggError": "",
       "aggOverflow": false,
       "aggSchema": [],
       "aggSeriesLimitReached": false,
       "aggType": "",
       "arguments": {},
       "columnCustomDisplayInfos": {},
       "data": [
        [
         "dbfs:/FileStore/tables/sinkdata/my_delta_table_2",
         [
          1,
          2,
          [
           1107,
           1107,
           1107.0,
           1,
           1107
          ],
          [
           1052,
           1062,
           1057.0,
           2,
           2114
          ],
          0,
          [
           "minCubeSize(107374182400)",
           [
            0,
            0
           ],
           [
            2,
            2114
           ],
           0,
           [
            2,
            2114
           ],
           1,
           null
          ],
          1,
          2,
          0,
          false,
          0,
          0,
          1742781509413,
          1742781515241,
          8,
          1,
          null,
          [
           0,
           0
          ],
          3,
          3,
          226
         ]
        ]
       ],
       "datasetInfos": [],
       "dbfsResultPath": null,
       "isJsonSchema": true,
       "metadata": {
        "isDbfsCommandResult": false
       },
       "overflow": false,
       "plotOptions": {
        "customPlotOptions": {},
        "displayType": "table",
        "pivotAggregation": null,
        "pivotColumns": null,
        "xColumns": null,
        "yColumns": null
       },
       "removedWidgets": [],
       "schema": [
        {
         "metadata": "{}",
         "name": "path",
         "type": "\"string\""
        },
        {
         "metadata": "{}",
         "name": "metrics",
         "type": "{\"type\":\"struct\",\"fields\":[{\"name\":\"numFilesAdded\",\"type\":\"long\",\"nullable\":false,\"metadata\":{}},{\"name\":\"numFilesRemoved\",\"type\":\"long\",\"nullable\":false,\"metadata\":{}},{\"name\":\"filesAdded\",\"type\":{\"type\":\"struct\",\"fields\":[{\"name\":\"min\",\"type\":\"long\",\"nullable\":true,\"metadata\":{}},{\"name\":\"max\",\"type\":\"long\",\"nullable\":true,\"metadata\":{}},{\"name\":\"avg\",\"type\":\"double\",\"nullable\":false,\"metadata\":{}},{\"name\":\"totalFiles\",\"type\":\"long\",\"nullable\":false,\"metadata\":{}},{\"name\":\"totalSize\",\"type\":\"long\",\"nullable\":false,\"metadata\":{}}]},\"nullable\":true,\"metadata\":{}},{\"name\":\"filesRemoved\",\"type\":{\"type\":\"struct\",\"fields\":[{\"name\":\"min\",\"type\":\"long\",\"nullable\":true,\"metadata\":{}},{\"name\":\"max\",\"type\":\"long\",\"nullable\":true,\"metadata\":{}},{\"name\":\"avg\",\"type\":\"double\",\"nullable\":false,\"metadata\":{}},{\"name\":\"totalFiles\",\"type\":\"long\",\"nullable\":false,\"metadata\":{}},{\"name\":\"totalSize\",\"type\":\"long\",\"nullable\":false,\"metadata\":{}}]},\"nullable\":true,\"metadata\":{}},{\"name\":\"partitionsOptimized\",\"type\":\"long\",\"nullable\":false,\"metadata\":{}},{\"name\":\"zOrderStats\",\"type\":{\"type\":\"struct\",\"fields\":[{\"name\":\"strategyName\",\"type\":\"string\",\"nullable\":true,\"metadata\":{}},{\"name\":\"inputCubeFiles\",\"type\":{\"type\":\"struct\",\"fields\":[{\"name\":\"num\",\"type\":\"long\",\"nullable\":false,\"metadata\":{}},{\"name\":\"size\",\"type\":\"long\",\"nullable\":false,\"metadata\":{}}]},\"nullable\":true,\"metadata\":{}},{\"name\":\"inputOtherFiles\",\"type\":{\"type\":\"struct\",\"fields\":[{\"name\":\"num\",\"type\":\"long\",\"nullable\":false,\"metadata\":{}},{\"name\":\"size\",\"type\":\"long\",\"nullable\":false,\"metadata\":{}}]},\"nullable\":true,\"metadata\":{}},{\"name\":\"inputNumCubes\",\"type\":\"long\",\"nullable\":false,\"metadata\":{}},{\"name\":\"mergedFiles\",\"type\":{\"type\":\"struct\",\"fields\":[{\"name\":\"num\",\"type\":\"long\",\"nullable\":false,\"metadata\":{}},{\"name\":\"size\",\"type\":\"long\",\"nullable\":false,\"metadata\":{}}]},\"nullable\":true,\"metadata\":{}},{\"name\":\"numOutputCubes\",\"type\":\"long\",\"nullable\":false,\"metadata\":{}},{\"name\":\"mergedNumCubes\",\"type\":\"long\",\"nullable\":true,\"metadata\":{}}]},\"nullable\":true,\"metadata\":{}},{\"name\":\"numBatches\",\"type\":\"long\",\"nullable\":false,\"metadata\":{}},{\"name\":\"totalConsideredFiles\",\"type\":\"long\",\"nullable\":false,\"metadata\":{}},{\"name\":\"totalFilesSkipped\",\"type\":\"long\",\"nullable\":false,\"metadata\":{}},{\"name\":\"preserveInsertionOrder\",\"type\":\"boolean\",\"nullable\":false,\"metadata\":{}},{\"name\":\"numFilesSkippedToReduceWriteAmplification\",\"type\":\"long\",\"nullable\":false,\"metadata\":{}},{\"name\":\"numBytesSkippedToReduceWriteAmplification\",\"type\":\"long\",\"nullable\":false,\"metadata\":{}},{\"name\":\"startTimeMs\",\"type\":\"long\",\"nullable\":false,\"metadata\":{}},{\"name\":\"endTimeMs\",\"type\":\"long\",\"nullable\":false,\"metadata\":{}},{\"name\":\"totalClusterParallelism\",\"type\":\"long\",\"nullable\":false,\"metadata\":{}},{\"name\":\"totalScheduledTasks\",\"type\":\"long\",\"nullable\":false,\"metadata\":{}},{\"name\":\"autoCompactParallelismStats\",\"type\":{\"type\":\"struct\",\"fields\":[{\"name\":\"maxClusterActiveParallelism\",\"type\":\"long\",\"nullable\":true,\"metadata\":{}},{\"name\":\"minClusterActiveParallelism\",\"type\":\"long\",\"nullable\":true,\"metadata\":{}},{\"name\":\"maxSessionActiveParallelism\",\"type\":\"long\",\"nullable\":true,\"metadata\":{}},{\"name\":\"minSessionActiveParallelism\",\"type\":\"long\",\"nullable\":true,\"metadata\":{}}]},\"nullable\":true,\"metadata\":{}},{\"name\":\"deletionVectorStats\",\"type\":{\"type\":\"struct\",\"fields\":[{\"name\":\"numDeletionVectorsRemoved\",\"type\":\"long\",\"nullable\":false,\"metadata\":{}},{\"name\":\"numDeletionVectorRowsRemoved\",\"type\":\"long\",\"nullable\":false,\"metadata\":{}}]},\"nullable\":true,\"metadata\":{}},{\"name\":\"numTableColumns\",\"type\":\"long\",\"nullable\":false,\"metadata\":{}},{\"name\":\"numTableColumnsWithStats\",\"type\":\"long\",\"nullable\":false,\"metadata\":{}},{\"name\":\"totalTaskExecutionTimeMs\",\"type\":\"long\",\"nullable\":false,\"metadata\":{}}]}"
        }
       ],
       "type": "table"
      }
     },
     "output_type": "display_data"
    }
   ],
   "source": [
    "%sql\n",
    "optimize bronze.my_delta_table_2 zorder by (id)"
   ]
  },
  {
   "cell_type": "code",
   "execution_count": 0,
   "metadata": {
    "application/vnd.databricks.v1+cell": {
     "cellMetadata": {
      "byteLimit": 2048000,
      "rowLimit": 10000
     },
     "inputWidgets": {},
     "nuid": "f594d8a8-ce87-4ccc-b3e0-142f21b817c9",
     "showTitle": false,
     "tableResultSettingsMap": {},
     "title": ""
    }
   },
   "outputs": [
    {
     "output_type": "display_data",
     "data": {
      "text/plain": [
       "\u001B[0;31m---------------------------------------------------------------------------\u001B[0m\n",
       "\u001B[0;31mAnalysisException\u001B[0m                         Traceback (most recent call last)\n",
       "File \u001B[0;32m<command-3990817746912719>:1\u001B[0m\n",
       "\u001B[0;32m----> 1\u001B[0m df \u001B[38;5;241m=\u001B[39m spark\u001B[38;5;241m.\u001B[39mread\u001B[38;5;241m.\u001B[39mjson(\u001B[38;5;124m\"\u001B[39m\u001B[38;5;124m/FileStore/tables/sinkdata/my_delta_table_2\u001B[39m\u001B[38;5;124m\"\u001B[39m)\n",
       "\u001B[1;32m      2\u001B[0m display(df)\n",
       "\n",
       "File \u001B[0;32m/databricks/spark/python/pyspark/instrumentation_utils.py:48\u001B[0m, in \u001B[0;36m_wrap_function.<locals>.wrapper\u001B[0;34m(*args, **kwargs)\u001B[0m\n",
       "\u001B[1;32m     46\u001B[0m start \u001B[38;5;241m=\u001B[39m time\u001B[38;5;241m.\u001B[39mperf_counter()\n",
       "\u001B[1;32m     47\u001B[0m \u001B[38;5;28;01mtry\u001B[39;00m:\n",
       "\u001B[0;32m---> 48\u001B[0m     res \u001B[38;5;241m=\u001B[39m \u001B[43mfunc\u001B[49m\u001B[43m(\u001B[49m\u001B[38;5;241;43m*\u001B[39;49m\u001B[43margs\u001B[49m\u001B[43m,\u001B[49m\u001B[43m \u001B[49m\u001B[38;5;241;43m*\u001B[39;49m\u001B[38;5;241;43m*\u001B[39;49m\u001B[43mkwargs\u001B[49m\u001B[43m)\u001B[49m\n",
       "\u001B[1;32m     49\u001B[0m     logger\u001B[38;5;241m.\u001B[39mlog_success(\n",
       "\u001B[1;32m     50\u001B[0m         module_name, class_name, function_name, time\u001B[38;5;241m.\u001B[39mperf_counter() \u001B[38;5;241m-\u001B[39m start, signature\n",
       "\u001B[1;32m     51\u001B[0m     )\n",
       "\u001B[1;32m     52\u001B[0m     \u001B[38;5;28;01mreturn\u001B[39;00m res\n",
       "\n",
       "File \u001B[0;32m/databricks/spark/python/pyspark/sql/readwriter.py:420\u001B[0m, in \u001B[0;36mDataFrameReader.json\u001B[0;34m(self, path, schema, primitivesAsString, prefersDecimal, allowComments, allowUnquotedFieldNames, allowSingleQuotes, allowNumericLeadingZero, allowBackslashEscapingAnyCharacter, mode, columnNameOfCorruptRecord, dateFormat, timestampFormat, multiLine, allowUnquotedControlChars, lineSep, samplingRatio, dropFieldIfAllNull, encoding, locale, pathGlobFilter, recursiveFileLookup, modifiedBefore, modifiedAfter, allowNonNumericNumbers)\u001B[0m\n",
       "\u001B[1;32m    418\u001B[0m \u001B[38;5;28;01mif\u001B[39;00m \u001B[38;5;28mtype\u001B[39m(path) \u001B[38;5;241m==\u001B[39m \u001B[38;5;28mlist\u001B[39m:\n",
       "\u001B[1;32m    419\u001B[0m     \u001B[38;5;28;01massert\u001B[39;00m \u001B[38;5;28mself\u001B[39m\u001B[38;5;241m.\u001B[39m_spark\u001B[38;5;241m.\u001B[39m_sc\u001B[38;5;241m.\u001B[39m_jvm \u001B[38;5;129;01mis\u001B[39;00m \u001B[38;5;129;01mnot\u001B[39;00m \u001B[38;5;28;01mNone\u001B[39;00m\n",
       "\u001B[0;32m--> 420\u001B[0m     \u001B[38;5;28;01mreturn\u001B[39;00m \u001B[38;5;28mself\u001B[39m\u001B[38;5;241m.\u001B[39m_df(\u001B[38;5;28;43mself\u001B[39;49m\u001B[38;5;241;43m.\u001B[39;49m\u001B[43m_jreader\u001B[49m\u001B[38;5;241;43m.\u001B[39;49m\u001B[43mjson\u001B[49m\u001B[43m(\u001B[49m\u001B[38;5;28;43mself\u001B[39;49m\u001B[38;5;241;43m.\u001B[39;49m\u001B[43m_spark\u001B[49m\u001B[38;5;241;43m.\u001B[39;49m\u001B[43m_sc\u001B[49m\u001B[38;5;241;43m.\u001B[39;49m\u001B[43m_jvm\u001B[49m\u001B[38;5;241;43m.\u001B[39;49m\u001B[43mPythonUtils\u001B[49m\u001B[38;5;241;43m.\u001B[39;49m\u001B[43mtoSeq\u001B[49m\u001B[43m(\u001B[49m\u001B[43mpath\u001B[49m\u001B[43m)\u001B[49m\u001B[43m)\u001B[49m)\n",
       "\u001B[1;32m    421\u001B[0m \u001B[38;5;28;01melif\u001B[39;00m \u001B[38;5;28misinstance\u001B[39m(path, RDD):\n",
       "\u001B[1;32m    423\u001B[0m     \u001B[38;5;28;01mdef\u001B[39;00m \u001B[38;5;21mfunc\u001B[39m(iterator: Iterable) \u001B[38;5;241m-\u001B[39m\u001B[38;5;241m>\u001B[39m Iterable:\n",
       "\n",
       "File \u001B[0;32m/databricks/spark/python/lib/py4j-0.10.9.5-src.zip/py4j/java_gateway.py:1321\u001B[0m, in \u001B[0;36mJavaMember.__call__\u001B[0;34m(self, *args)\u001B[0m\n",
       "\u001B[1;32m   1315\u001B[0m command \u001B[38;5;241m=\u001B[39m proto\u001B[38;5;241m.\u001B[39mCALL_COMMAND_NAME \u001B[38;5;241m+\u001B[39m\\\n",
       "\u001B[1;32m   1316\u001B[0m     \u001B[38;5;28mself\u001B[39m\u001B[38;5;241m.\u001B[39mcommand_header \u001B[38;5;241m+\u001B[39m\\\n",
       "\u001B[1;32m   1317\u001B[0m     args_command \u001B[38;5;241m+\u001B[39m\\\n",
       "\u001B[1;32m   1318\u001B[0m     proto\u001B[38;5;241m.\u001B[39mEND_COMMAND_PART\n",
       "\u001B[1;32m   1320\u001B[0m answer \u001B[38;5;241m=\u001B[39m \u001B[38;5;28mself\u001B[39m\u001B[38;5;241m.\u001B[39mgateway_client\u001B[38;5;241m.\u001B[39msend_command(command)\n",
       "\u001B[0;32m-> 1321\u001B[0m return_value \u001B[38;5;241m=\u001B[39m \u001B[43mget_return_value\u001B[49m\u001B[43m(\u001B[49m\n",
       "\u001B[1;32m   1322\u001B[0m \u001B[43m    \u001B[49m\u001B[43manswer\u001B[49m\u001B[43m,\u001B[49m\u001B[43m \u001B[49m\u001B[38;5;28;43mself\u001B[39;49m\u001B[38;5;241;43m.\u001B[39;49m\u001B[43mgateway_client\u001B[49m\u001B[43m,\u001B[49m\u001B[43m \u001B[49m\u001B[38;5;28;43mself\u001B[39;49m\u001B[38;5;241;43m.\u001B[39;49m\u001B[43mtarget_id\u001B[49m\u001B[43m,\u001B[49m\u001B[43m \u001B[49m\u001B[38;5;28;43mself\u001B[39;49m\u001B[38;5;241;43m.\u001B[39;49m\u001B[43mname\u001B[49m\u001B[43m)\u001B[49m\n",
       "\u001B[1;32m   1324\u001B[0m \u001B[38;5;28;01mfor\u001B[39;00m temp_arg \u001B[38;5;129;01min\u001B[39;00m temp_args:\n",
       "\u001B[1;32m   1325\u001B[0m     temp_arg\u001B[38;5;241m.\u001B[39m_detach()\n",
       "\n",
       "File \u001B[0;32m/databricks/spark/python/pyspark/errors/exceptions.py:234\u001B[0m, in \u001B[0;36mcapture_sql_exception.<locals>.deco\u001B[0;34m(*a, **kw)\u001B[0m\n",
       "\u001B[1;32m    230\u001B[0m converted \u001B[38;5;241m=\u001B[39m convert_exception(e\u001B[38;5;241m.\u001B[39mjava_exception)\n",
       "\u001B[1;32m    231\u001B[0m \u001B[38;5;28;01mif\u001B[39;00m \u001B[38;5;129;01mnot\u001B[39;00m \u001B[38;5;28misinstance\u001B[39m(converted, UnknownException):\n",
       "\u001B[1;32m    232\u001B[0m     \u001B[38;5;66;03m# Hide where the exception came from that shows a non-Pythonic\u001B[39;00m\n",
       "\u001B[1;32m    233\u001B[0m     \u001B[38;5;66;03m# JVM exception message.\u001B[39;00m\n",
       "\u001B[0;32m--> 234\u001B[0m     \u001B[38;5;28;01mraise\u001B[39;00m converted \u001B[38;5;28;01mfrom\u001B[39;00m \u001B[38;5;28mNone\u001B[39m\n",
       "\u001B[1;32m    235\u001B[0m \u001B[38;5;28;01melse\u001B[39;00m:\n",
       "\u001B[1;32m    236\u001B[0m     \u001B[38;5;28;01mraise\u001B[39;00m\n",
       "\n",
       "\u001B[0;31mAnalysisException\u001B[0m: Incompatible format detected.\n",
       "\n",
       "A transaction log for Delta was found at `/FileStore/tables/sinkdata/my_delta_table_2/_delta_log`,\n",
       "but you are trying to read from `/FileStore/tables/sinkdata/my_delta_table_2` using format(\"json\"). You must use\n",
       "'format(\"delta\")' when reading and writing to a delta table.\n",
       "\n",
       "To disable this check, SET spark.databricks.delta.formatCheck.enabled=false\n",
       "To learn more about Delta, see https://docs.databricks.com/delta/index.html"
      ]
     },
     "metadata": {
      "application/vnd.databricks.v1+output": {
       "arguments": {},
       "data": "\u001B[0;31m---------------------------------------------------------------------------\u001B[0m\n\u001B[0;31mAnalysisException\u001B[0m                         Traceback (most recent call last)\nFile \u001B[0;32m<command-3990817746912719>:1\u001B[0m\n\u001B[0;32m----> 1\u001B[0m df \u001B[38;5;241m=\u001B[39m spark\u001B[38;5;241m.\u001B[39mread\u001B[38;5;241m.\u001B[39mjson(\u001B[38;5;124m\"\u001B[39m\u001B[38;5;124m/FileStore/tables/sinkdata/my_delta_table_2\u001B[39m\u001B[38;5;124m\"\u001B[39m)\n\u001B[1;32m      2\u001B[0m display(df)\n\nFile \u001B[0;32m/databricks/spark/python/pyspark/instrumentation_utils.py:48\u001B[0m, in \u001B[0;36m_wrap_function.<locals>.wrapper\u001B[0;34m(*args, **kwargs)\u001B[0m\n\u001B[1;32m     46\u001B[0m start \u001B[38;5;241m=\u001B[39m time\u001B[38;5;241m.\u001B[39mperf_counter()\n\u001B[1;32m     47\u001B[0m \u001B[38;5;28;01mtry\u001B[39;00m:\n\u001B[0;32m---> 48\u001B[0m     res \u001B[38;5;241m=\u001B[39m \u001B[43mfunc\u001B[49m\u001B[43m(\u001B[49m\u001B[38;5;241;43m*\u001B[39;49m\u001B[43margs\u001B[49m\u001B[43m,\u001B[49m\u001B[43m \u001B[49m\u001B[38;5;241;43m*\u001B[39;49m\u001B[38;5;241;43m*\u001B[39;49m\u001B[43mkwargs\u001B[49m\u001B[43m)\u001B[49m\n\u001B[1;32m     49\u001B[0m     logger\u001B[38;5;241m.\u001B[39mlog_success(\n\u001B[1;32m     50\u001B[0m         module_name, class_name, function_name, time\u001B[38;5;241m.\u001B[39mperf_counter() \u001B[38;5;241m-\u001B[39m start, signature\n\u001B[1;32m     51\u001B[0m     )\n\u001B[1;32m     52\u001B[0m     \u001B[38;5;28;01mreturn\u001B[39;00m res\n\nFile \u001B[0;32m/databricks/spark/python/pyspark/sql/readwriter.py:420\u001B[0m, in \u001B[0;36mDataFrameReader.json\u001B[0;34m(self, path, schema, primitivesAsString, prefersDecimal, allowComments, allowUnquotedFieldNames, allowSingleQuotes, allowNumericLeadingZero, allowBackslashEscapingAnyCharacter, mode, columnNameOfCorruptRecord, dateFormat, timestampFormat, multiLine, allowUnquotedControlChars, lineSep, samplingRatio, dropFieldIfAllNull, encoding, locale, pathGlobFilter, recursiveFileLookup, modifiedBefore, modifiedAfter, allowNonNumericNumbers)\u001B[0m\n\u001B[1;32m    418\u001B[0m \u001B[38;5;28;01mif\u001B[39;00m \u001B[38;5;28mtype\u001B[39m(path) \u001B[38;5;241m==\u001B[39m \u001B[38;5;28mlist\u001B[39m:\n\u001B[1;32m    419\u001B[0m     \u001B[38;5;28;01massert\u001B[39;00m \u001B[38;5;28mself\u001B[39m\u001B[38;5;241m.\u001B[39m_spark\u001B[38;5;241m.\u001B[39m_sc\u001B[38;5;241m.\u001B[39m_jvm \u001B[38;5;129;01mis\u001B[39;00m \u001B[38;5;129;01mnot\u001B[39;00m \u001B[38;5;28;01mNone\u001B[39;00m\n\u001B[0;32m--> 420\u001B[0m     \u001B[38;5;28;01mreturn\u001B[39;00m \u001B[38;5;28mself\u001B[39m\u001B[38;5;241m.\u001B[39m_df(\u001B[38;5;28;43mself\u001B[39;49m\u001B[38;5;241;43m.\u001B[39;49m\u001B[43m_jreader\u001B[49m\u001B[38;5;241;43m.\u001B[39;49m\u001B[43mjson\u001B[49m\u001B[43m(\u001B[49m\u001B[38;5;28;43mself\u001B[39;49m\u001B[38;5;241;43m.\u001B[39;49m\u001B[43m_spark\u001B[49m\u001B[38;5;241;43m.\u001B[39;49m\u001B[43m_sc\u001B[49m\u001B[38;5;241;43m.\u001B[39;49m\u001B[43m_jvm\u001B[49m\u001B[38;5;241;43m.\u001B[39;49m\u001B[43mPythonUtils\u001B[49m\u001B[38;5;241;43m.\u001B[39;49m\u001B[43mtoSeq\u001B[49m\u001B[43m(\u001B[49m\u001B[43mpath\u001B[49m\u001B[43m)\u001B[49m\u001B[43m)\u001B[49m)\n\u001B[1;32m    421\u001B[0m \u001B[38;5;28;01melif\u001B[39;00m \u001B[38;5;28misinstance\u001B[39m(path, RDD):\n\u001B[1;32m    423\u001B[0m     \u001B[38;5;28;01mdef\u001B[39;00m \u001B[38;5;21mfunc\u001B[39m(iterator: Iterable) \u001B[38;5;241m-\u001B[39m\u001B[38;5;241m>\u001B[39m Iterable:\n\nFile \u001B[0;32m/databricks/spark/python/lib/py4j-0.10.9.5-src.zip/py4j/java_gateway.py:1321\u001B[0m, in \u001B[0;36mJavaMember.__call__\u001B[0;34m(self, *args)\u001B[0m\n\u001B[1;32m   1315\u001B[0m command \u001B[38;5;241m=\u001B[39m proto\u001B[38;5;241m.\u001B[39mCALL_COMMAND_NAME \u001B[38;5;241m+\u001B[39m\\\n\u001B[1;32m   1316\u001B[0m     \u001B[38;5;28mself\u001B[39m\u001B[38;5;241m.\u001B[39mcommand_header \u001B[38;5;241m+\u001B[39m\\\n\u001B[1;32m   1317\u001B[0m     args_command \u001B[38;5;241m+\u001B[39m\\\n\u001B[1;32m   1318\u001B[0m     proto\u001B[38;5;241m.\u001B[39mEND_COMMAND_PART\n\u001B[1;32m   1320\u001B[0m answer \u001B[38;5;241m=\u001B[39m \u001B[38;5;28mself\u001B[39m\u001B[38;5;241m.\u001B[39mgateway_client\u001B[38;5;241m.\u001B[39msend_command(command)\n\u001B[0;32m-> 1321\u001B[0m return_value \u001B[38;5;241m=\u001B[39m \u001B[43mget_return_value\u001B[49m\u001B[43m(\u001B[49m\n\u001B[1;32m   1322\u001B[0m \u001B[43m    \u001B[49m\u001B[43manswer\u001B[49m\u001B[43m,\u001B[49m\u001B[43m \u001B[49m\u001B[38;5;28;43mself\u001B[39;49m\u001B[38;5;241;43m.\u001B[39;49m\u001B[43mgateway_client\u001B[49m\u001B[43m,\u001B[49m\u001B[43m \u001B[49m\u001B[38;5;28;43mself\u001B[39;49m\u001B[38;5;241;43m.\u001B[39;49m\u001B[43mtarget_id\u001B[49m\u001B[43m,\u001B[49m\u001B[43m \u001B[49m\u001B[38;5;28;43mself\u001B[39;49m\u001B[38;5;241;43m.\u001B[39;49m\u001B[43mname\u001B[49m\u001B[43m)\u001B[49m\n\u001B[1;32m   1324\u001B[0m \u001B[38;5;28;01mfor\u001B[39;00m temp_arg \u001B[38;5;129;01min\u001B[39;00m temp_args:\n\u001B[1;32m   1325\u001B[0m     temp_arg\u001B[38;5;241m.\u001B[39m_detach()\n\nFile \u001B[0;32m/databricks/spark/python/pyspark/errors/exceptions.py:234\u001B[0m, in \u001B[0;36mcapture_sql_exception.<locals>.deco\u001B[0;34m(*a, **kw)\u001B[0m\n\u001B[1;32m    230\u001B[0m converted \u001B[38;5;241m=\u001B[39m convert_exception(e\u001B[38;5;241m.\u001B[39mjava_exception)\n\u001B[1;32m    231\u001B[0m \u001B[38;5;28;01mif\u001B[39;00m \u001B[38;5;129;01mnot\u001B[39;00m \u001B[38;5;28misinstance\u001B[39m(converted, UnknownException):\n\u001B[1;32m    232\u001B[0m     \u001B[38;5;66;03m# Hide where the exception came from that shows a non-Pythonic\u001B[39;00m\n\u001B[1;32m    233\u001B[0m     \u001B[38;5;66;03m# JVM exception message.\u001B[39;00m\n\u001B[0;32m--> 234\u001B[0m     \u001B[38;5;28;01mraise\u001B[39;00m converted \u001B[38;5;28;01mfrom\u001B[39;00m \u001B[38;5;28mNone\u001B[39m\n\u001B[1;32m    235\u001B[0m \u001B[38;5;28;01melse\u001B[39;00m:\n\u001B[1;32m    236\u001B[0m     \u001B[38;5;28;01mraise\u001B[39;00m\n\n\u001B[0;31mAnalysisException\u001B[0m: Incompatible format detected.\n\nA transaction log for Delta was found at `/FileStore/tables/sinkdata/my_delta_table_2/_delta_log`,\nbut you are trying to read from `/FileStore/tables/sinkdata/my_delta_table_2` using format(\"json\"). You must use\n'format(\"delta\")' when reading and writing to a delta table.\n\nTo disable this check, SET spark.databricks.delta.formatCheck.enabled=false\nTo learn more about Delta, see https://docs.databricks.com/delta/index.html",
       "errorSummary": "<span class='ansi-red-fg'>AnalysisException</span>: Incompatible format detected.\n\nA transaction log for Delta was found at `/FileStore/tables/sinkdata/my_delta_table_2/_delta_log`,\nbut you are trying to read from `/FileStore/tables/sinkdata/my_delta_table_2` using format(\"json\"). You must use\n'format(\"delta\")' when reading and writing to a delta table.\n\nTo disable this check, SET spark.databricks.delta.formatCheck.enabled=false\nTo learn more about Delta, see https://docs.databricks.com/delta/index.html",
       "errorTraceType": "ansi",
       "metadata": {},
       "type": "ipynbError"
      }
     },
     "output_type": "display_data"
    }
   ],
   "source": [
    "%python\n",
    "df = spark.read.json(\"/FileStore/tables/sinkdata/my_delta_table_2\")\n",
    "display(df)"
   ]
  }
 ],
 "metadata": {
  "application/vnd.databricks.v1+notebook": {
   "computePreferences": null,
   "dashboards": [],
   "environmentMetadata": {
    "base_environment": "",
    "client": "1"
   },
   "language": "python",
   "notebookMetadata": {
    "mostRecentlyExecutedCommandWithImplicitDF": {
     "commandId": 3081999854191894,
     "dataframes": [
      "_sqldf"
     ]
    },
    "pythonIndentUnit": 4
   },
   "notebookName": "Open Table format",
   "widgets": {}
  }
 },
 "nbformat": 4,
 "nbformat_minor": 0
}
